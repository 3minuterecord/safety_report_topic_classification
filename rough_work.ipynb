{
 "cells": [
  {
   "cell_type": "code",
   "execution_count": 5,
   "id": "1b294c81",
   "metadata": {},
   "outputs": [],
   "source": [
    "import numpy as np\n",
    "import pandas as pd\n",
    "import re\n",
    "import nltk\n",
    "from nltk.tokenize import word_tokenize\n",
    "from nltk.tokenize import sent_tokenize\n",
    "from nltk.stem import PorterStemmer as stemmer\n",
    "from tqdm.notebook import tqdm\n",
    "import rule_book_functs as rbfuncts"
   ]
  },
  {
   "cell_type": "code",
   "execution_count": 2,
   "id": "97b5e4d8",
   "metadata": {},
   "outputs": [],
   "source": [
    "incidents_fn = \"data/source/20220413_D1_Incidents.csv\"\n",
    "rule_book_fn = \"data/rule_book.csv\""
   ]
  },
  {
   "cell_type": "code",
   "execution_count": 3,
   "id": "b753baa1",
   "metadata": {},
   "outputs": [],
   "source": [
    "rules = pd.read_csv(rule_book_fn)\n",
    "incidents = pd.read_csv(incidents_fn, dtype=str)"
   ]
  },
  {
   "cell_type": "code",
   "execution_count": 4,
   "id": "a9ecaa96",
   "metadata": {},
   "outputs": [],
   "source": [
    "incidents.rename(columns={'IncidentNumber': 'incident_id'}, inplace=True)\n",
    "incidents['text'] = (\n",
    "        incidents['ShortDescription'].astype(str).fillna('') + ' ' + \n",
    "        incidents['FullDescription'].astype(str).fillna('') + ' ' + \n",
    "        incidents['ImmediateAction'].astype(str).fillna('')\n",
    ").str.lower()\n",
    "\n",
    "incidents = incidents[['incident_id', 'text']]"
   ]
  },
  {
   "cell_type": "code",
   "execution_count": 5,
   "id": "6e08a3a4",
   "metadata": {},
   "outputs": [],
   "source": [
    "#sample100 = incidents.sample(n=100)\n",
    "#sample100.index = range(100)\n",
    "#sample100.to_csv('sample100.csv', index=False)\n",
    "sample100 = pd.read_csv('sample100.csv', dtype=str)"
   ]
  },
  {
   "cell_type": "code",
   "execution_count": 6,
   "id": "dfb9fe6c",
   "metadata": {},
   "outputs": [],
   "source": [
    "#incidents.text[0]"
   ]
  },
  {
   "cell_type": "code",
   "execution_count": 7,
   "id": "00d7bc9c",
   "metadata": {},
   "outputs": [],
   "source": [
    "#test = incidents.text.head(1).apply(rbfuncts.lemmatize_text)\n",
    "#print(list(test))"
   ]
  },
  {
   "cell_type": "code",
   "execution_count": 8,
   "id": "699ef026",
   "metadata": {},
   "outputs": [],
   "source": [
    "#test = incidents.text.head(1).apply(rbfuncts.stem_text)\n",
    "#print(list(test))"
   ]
  },
  {
   "cell_type": "code",
   "execution_count": 9,
   "id": "f26a61c8",
   "metadata": {},
   "outputs": [],
   "source": [
    "#test_tokens = rbfuncts.tokenize(incidents.text[0])"
   ]
  },
  {
   "cell_type": "code",
   "execution_count": 10,
   "id": "1fd5470e",
   "metadata": {},
   "outputs": [],
   "source": [
    "#chk_text = 'employee was grinding with a four-inch grinder on an iron support in the compressor building when he felt discomfort to his left eye.'\n",
    "#pattern = '(\\\\bemployee (.*) discomfort (.*) eye\\\\b)'\n",
    "#rbfuncts.check_presence(pattern, chk_text)"
   ]
  },
  {
   "cell_type": "code",
   "execution_count": 11,
   "id": "880d8ad0",
   "metadata": {},
   "outputs": [],
   "source": [
    "#sents = sent_tokenize(incidents.text[0])\n",
    "#for sent in sents:\n",
    "#    if rbfuncts.check_presence(pattern, sent):\n",
    "#        print(f'{rbfuncts.check_presence(pattern, sent)}: {sent}')"
   ]
  },
  {
   "cell_type": "markdown",
   "id": "44d6b6e9",
   "metadata": {},
   "source": [
    "## Load Synonyms & Rules"
   ]
  },
  {
   "cell_type": "code",
   "execution_count": 12,
   "id": "cd2ac4c1",
   "metadata": {},
   "outputs": [],
   "source": [
    "syn_csv = pd.read_csv('synonyms.csv')\n",
    "\n",
    "# Load the dictionary of synonyms\n",
    "syn_dict = {}\n",
    "for r in range(len(syn_csv)):\n",
    "    syn_toks = syn_csv.keywords[r].split(',')\n",
    "    syn_dict.update({syn_csv.syn[r]:syn_toks})\n",
    "    \n",
    "rul_csv = pd.read_csv('rules.csv')"
   ]
  },
  {
   "cell_type": "code",
   "execution_count": 13,
   "id": "2b6a6267",
   "metadata": {},
   "outputs": [
    {
     "name": "stdout",
     "output_type": "stream",
     "text": [
      "Checking rule 1 of 24 (eye injury or irritation)\n",
      "================================================\n",
      "14/100 [0] 0.0 hrs 0.0% classified (14.0% through)..."
     ]
    },
    {
     "ename": "TypeError",
     "evalue": "slice indices must be integers or None or have an __index__ method",
     "output_type": "error",
     "traceback": [
      "\u001b[0;31m---------------------------------------------------------------------------\u001b[0m",
      "\u001b[0;31mTypeError\u001b[0m                                 Traceback (most recent call last)",
      "Input \u001b[0;32mIn [13]\u001b[0m, in \u001b[0;36m<module>\u001b[0;34m\u001b[0m\n\u001b[0;32m----> 1\u001b[0m finds_df \u001b[38;5;241m=\u001b[39m \u001b[43mrbfuncts\u001b[49m\u001b[38;5;241;43m.\u001b[39;49m\u001b[43mrule_book_scan\u001b[49m\u001b[43m(\u001b[49m\u001b[43msample100\u001b[49m\u001b[43m,\u001b[49m\u001b[43m \u001b[49m\u001b[43msyn_dict\u001b[49m\u001b[43m,\u001b[49m\u001b[43m \u001b[49m\u001b[43mrul_csv\u001b[49m\u001b[43m)\u001b[49m\n",
      "File \u001b[0;32m~/Documents/my_repos/safety_report_tc/rule_book_functs.py:235\u001b[0m, in \u001b[0;36mrule_book_scan\u001b[0;34m(incidents, syn_dict, rules, run_rules, verbose)\u001b[0m\n\u001b[1;32m    233\u001b[0m \u001b[38;5;28;01melse\u001b[39;00m:\n\u001b[1;32m    234\u001b[0m     test_tokens \u001b[38;5;241m=\u001b[39m tokenize(chk_text)\n\u001b[0;32m--> 235\u001b[0m     kwics \u001b[38;5;241m=\u001b[39m \u001b[43mget_matches\u001b[49m\u001b[43m(\u001b[49m\u001b[43msearch_keyword\u001b[49m\u001b[43m,\u001b[49m\u001b[43m \u001b[49m\u001b[43mtest_tokens\u001b[49m\u001b[43m,\u001b[49m\u001b[43m \u001b[49m\u001b[43mspan\u001b[49m\u001b[43m)\u001b[49m\n\u001b[1;32m    237\u001b[0m     \u001b[38;5;28;01mfor\u001b[39;00m kwic \u001b[38;5;129;01min\u001b[39;00m kwics:\n\u001b[1;32m    238\u001b[0m         \u001b[38;5;28;01mif\u001b[39;00m syn_count \u001b[38;5;241m==\u001b[39m \u001b[38;5;241m3\u001b[39m:\n",
      "File \u001b[0;32m~/Documents/my_repos/safety_report_tc/rule_book_functs.py:43\u001b[0m, in \u001b[0;36mget_matches\u001b[0;34m(keyword, tokens, span)\u001b[0m\n\u001b[1;32m     40\u001b[0m \u001b[38;5;28;01mdef\u001b[39;00m \u001b[38;5;21mget_matches\u001b[39m(keyword, tokens, span):\n\u001b[1;32m     41\u001b[0m     \u001b[38;5;66;03m# If the keyword matches a token, i will be where it occurs in the token string\u001b[39;00m\n\u001b[1;32m     42\u001b[0m     \u001b[38;5;66;03m# You then apply the span before and after to create a keyword in context snipet\u001b[39;00m\n\u001b[0;32m---> 43\u001b[0m     matches \u001b[38;5;241m=\u001b[39m [(\u001b[38;5;124m'\u001b[39m\u001b[38;5;124m \u001b[39m\u001b[38;5;124m'\u001b[39m\u001b[38;5;241m.\u001b[39mjoin(tokens[\u001b[38;5;28mmax\u001b[39m(\u001b[38;5;241m0\u001b[39m, i \u001b[38;5;241m-\u001b[39m span \u001b[38;5;241m-\u001b[39m \u001b[38;5;241m1\u001b[39m):i \u001b[38;5;241m+\u001b[39m span \u001b[38;5;241m+\u001b[39m \u001b[38;5;241m1\u001b[39m])) \u001b[38;5;28;01mfor\u001b[39;00m i, tok \u001b[38;5;129;01min\u001b[39;00m \u001b[38;5;28menumerate\u001b[39m(tokens) \u001b[38;5;28;01mif\u001b[39;00m re\u001b[38;5;241m.\u001b[39mmatch(keyword, tok)]\n\u001b[1;32m     44\u001b[0m     \u001b[38;5;28;01mreturn\u001b[39;00m(matches)\n",
      "File \u001b[0;32m~/Documents/my_repos/safety_report_tc/rule_book_functs.py:43\u001b[0m, in \u001b[0;36m<listcomp>\u001b[0;34m(.0)\u001b[0m\n\u001b[1;32m     40\u001b[0m \u001b[38;5;28;01mdef\u001b[39;00m \u001b[38;5;21mget_matches\u001b[39m(keyword, tokens, span):\n\u001b[1;32m     41\u001b[0m     \u001b[38;5;66;03m# If the keyword matches a token, i will be where it occurs in the token string\u001b[39;00m\n\u001b[1;32m     42\u001b[0m     \u001b[38;5;66;03m# You then apply the span before and after to create a keyword in context snipet\u001b[39;00m\n\u001b[0;32m---> 43\u001b[0m     matches \u001b[38;5;241m=\u001b[39m [(\u001b[38;5;124m'\u001b[39m\u001b[38;5;124m \u001b[39m\u001b[38;5;124m'\u001b[39m\u001b[38;5;241m.\u001b[39mjoin(\u001b[43mtokens\u001b[49m\u001b[43m[\u001b[49m\u001b[38;5;28;43mmax\u001b[39;49m\u001b[43m(\u001b[49m\u001b[38;5;241;43m0\u001b[39;49m\u001b[43m,\u001b[49m\u001b[43m \u001b[49m\u001b[43mi\u001b[49m\u001b[43m \u001b[49m\u001b[38;5;241;43m-\u001b[39;49m\u001b[43m \u001b[49m\u001b[43mspan\u001b[49m\u001b[43m \u001b[49m\u001b[38;5;241;43m-\u001b[39;49m\u001b[43m \u001b[49m\u001b[38;5;241;43m1\u001b[39;49m\u001b[43m)\u001b[49m\u001b[43m:\u001b[49m\u001b[43mi\u001b[49m\u001b[43m \u001b[49m\u001b[38;5;241;43m+\u001b[39;49m\u001b[43m \u001b[49m\u001b[43mspan\u001b[49m\u001b[43m \u001b[49m\u001b[38;5;241;43m+\u001b[39;49m\u001b[43m \u001b[49m\u001b[38;5;241;43m1\u001b[39;49m\u001b[43m]\u001b[49m)) \u001b[38;5;28;01mfor\u001b[39;00m i, tok \u001b[38;5;129;01min\u001b[39;00m \u001b[38;5;28menumerate\u001b[39m(tokens) \u001b[38;5;28;01mif\u001b[39;00m re\u001b[38;5;241m.\u001b[39mmatch(keyword, tok)]\n\u001b[1;32m     44\u001b[0m     \u001b[38;5;28;01mreturn\u001b[39;00m(matches)\n",
      "\u001b[0;31mTypeError\u001b[0m: slice indices must be integers or None or have an __index__ method"
     ]
    }
   ],
   "source": [
    "finds_df = rbfuncts.rule_book_scan(sample100, syn_dict, rul_csv)"
   ]
  },
  {
   "cell_type": "code",
   "execution_count": null,
   "id": "4ae123a5",
   "metadata": {},
   "outputs": [],
   "source": []
  },
  {
   "cell_type": "code",
   "execution_count": null,
   "id": "2c48301e",
   "metadata": {},
   "outputs": [],
   "source": []
  },
  {
   "cell_type": "code",
   "execution_count": 14,
   "id": "3e13978f",
   "metadata": {},
   "outputs": [],
   "source": [
    "#finds_df"
   ]
  },
  {
   "cell_type": "code",
   "execution_count": 15,
   "id": "fa64a57e",
   "metadata": {},
   "outputs": [
    {
     "name": "stdout",
     "output_type": "stream",
     "text": [
      "Checking rule 1 of 24 (eye injury or irritation)\n",
      "================================================\n",
      "1/1 [0] 0.0 hrs 0.0% classified (100.0% through)...\n",
      "\n",
      "Checking rule 2 of 24 (eye injury or irritation)\n",
      "================================================\n",
      "1/1 [0] 0.0 hrs 0.0% classified (100.0% through)...\n",
      "\n",
      "Checking rule 3 of 24 (back injury)\n",
      "===================================\n",
      "1/1 [0] 0.0 hrs 0.0% classified (100.0% through)...\n",
      "\n",
      "Checking rule 4 of 24 (covid)\n",
      "=============================\n",
      "1/1 [0] 0.0 hrs 0.0% classified (100.0% through)...\n",
      "\n",
      "Checking rule 5 of 24 (fall from or working at height issue)\n",
      "============================================================\n",
      "1/1 [0] 0.0 hrs 0.0% classified (100.0% through)...\n",
      "\n",
      "Checking rule 6 of 24 (fall from or working at height issue)\n",
      "============================================================\n",
      "1/1 [0] 0.0 hrs 0.0% classified (100.0% through)...\n",
      "\n",
      "Checking rule 7 of 24 (fall from or working at height issue)\n",
      "============================================================\n",
      "1/1 [0] 0.0 hrs 0.0% classified (100.0% through)...\n",
      "\n",
      "Checking rule 8 of 24 (foot or leg injury)\n",
      "==========================================\n",
      "1/1 [1] 0.0 hrs 100.0% classified (100.0% through)...\n",
      "\n",
      "Checking rule 9 of 24 (general injury)\n",
      "======================================\n",
      "1/1 [1] 0.0 hrs 100.0% classified (100.0% through)...\n",
      "\n",
      "Checking rule 10 of 24 (hand or arm injury)\n",
      "===========================================\n",
      "1/1 [1] 0.0 hrs 100.0% classified (100.0% through)...\n",
      "\n",
      "Checking rule 11 of 24 (hydraulic fluid or oil leak)\n",
      "====================================================\n",
      "1/1 [1] 0.0 hrs 100.0% classified (100.0% through)...\n",
      "\n",
      "Checking rule 12 of 24 (hydraulic fluid or oil leak)\n",
      "====================================================\n",
      "1/1 [1] 0.0 hrs 100.0% classified (100.0% through)...\n",
      "\n",
      "Checking rule 13 of 24 (bites (animals or insects))\n",
      "===================================================\n",
      "1/1 [1] 0.0 hrs 100.0% classified (100.0% through)...\n",
      "\n",
      "Checking rule 14 of 24 (lack of competency)\n",
      "===========================================\n",
      "1/1 [1] 0.0 hrs 100.0% classified (100.0% through)...\n",
      "\n"
     ]
    },
    {
     "ename": "TypeError",
     "evalue": "expected string or bytes-like object",
     "output_type": "error",
     "traceback": [
      "\u001b[0;31m---------------------------------------------------------------------------\u001b[0m",
      "\u001b[0;31mTypeError\u001b[0m                                 Traceback (most recent call last)",
      "Input \u001b[0;32mIn [15]\u001b[0m, in \u001b[0;36m<module>\u001b[0;34m\u001b[0m\n\u001b[1;32m      2\u001b[0m \u001b[38;5;66;03m#strs = 'during the scaffolding elements transporting for the assembly of scaffolding scaffolder slipped and fell due to the slippery floor'\u001b[39;00m\n\u001b[1;32m      3\u001b[0m test \u001b[38;5;241m=\u001b[39m pd\u001b[38;5;241m.\u001b[39mDataFrame({\u001b[38;5;124m'\u001b[39m\u001b[38;5;124mincident_id\u001b[39m\u001b[38;5;124m'\u001b[39m:[\u001b[38;5;241m1052\u001b[39m], \u001b[38;5;124m'\u001b[39m\u001b[38;5;124mtext\u001b[39m\u001b[38;5;124m'\u001b[39m:[strs]})\n\u001b[0;32m----> 4\u001b[0m \u001b[43mrbfuncts\u001b[49m\u001b[38;5;241;43m.\u001b[39;49m\u001b[43mrule_book_scan\u001b[49m\u001b[43m(\u001b[49m\u001b[43mtest\u001b[49m\u001b[43m,\u001b[49m\u001b[43m \u001b[49m\u001b[43msyn_dict\u001b[49m\u001b[43m,\u001b[49m\u001b[43m \u001b[49m\u001b[43mrul_csv\u001b[49m\u001b[43m)\u001b[49m\n",
      "File \u001b[0;32m~/Documents/my_repos/safety_report_tc/rule_book_functs.py:118\u001b[0m, in \u001b[0;36mrule_book_scan\u001b[0;34m(incidents, syn_dict, rules, run_rules, verbose)\u001b[0m\n\u001b[1;32m    114\u001b[0m finds_count \u001b[38;5;241m=\u001b[39m \u001b[38;5;241m0\u001b[39m\n\u001b[1;32m    116\u001b[0m \u001b[38;5;28;01mfor\u001b[39;00m r \u001b[38;5;129;01min\u001b[39;00m run_rules_list:\n\u001b[0;32m--> 118\u001b[0m     rul_syns \u001b[38;5;241m=\u001b[39m tokenize(\u001b[43mre\u001b[49m\u001b[38;5;241;43m.\u001b[39;49m\u001b[43msub\u001b[49m\u001b[43m(\u001b[49m\u001b[38;5;124;43mr\u001b[39;49m\u001b[38;5;124;43m\"\u001b[39;49m\u001b[38;5;124;43m, \u001b[39;49m\u001b[38;5;124;43m\"\u001b[39;49m\u001b[43m,\u001b[49m\u001b[43m \u001b[49m\u001b[38;5;124;43m\"\u001b[39;49m\u001b[38;5;124;43m \u001b[39;49m\u001b[38;5;124;43m\"\u001b[39;49m\u001b[43m,\u001b[49m\u001b[43m \u001b[49m\u001b[43mrules\u001b[49m\u001b[38;5;241;43m.\u001b[39;49m\u001b[43msyns\u001b[49m\u001b[43m[\u001b[49m\u001b[43mr\u001b[49m\u001b[43m]\u001b[49m\u001b[43m)\u001b[49m)\n\u001b[1;32m    120\u001b[0m     pos_1st \u001b[38;5;241m=\u001b[39m syn_dict\u001b[38;5;241m.\u001b[39mget(rul_syns[\u001b[38;5;241m0\u001b[39m])\n\u001b[1;32m    121\u001b[0m     pos_2nd \u001b[38;5;241m=\u001b[39m syn_dict\u001b[38;5;241m.\u001b[39mget(rul_syns[\u001b[38;5;241m1\u001b[39m])\n",
      "File \u001b[0;32m~/miniforge3/envs/work/lib/python3.8/re.py:210\u001b[0m, in \u001b[0;36msub\u001b[0;34m(pattern, repl, string, count, flags)\u001b[0m\n\u001b[1;32m    203\u001b[0m \u001b[38;5;28;01mdef\u001b[39;00m \u001b[38;5;21msub\u001b[39m(pattern, repl, string, count\u001b[38;5;241m=\u001b[39m\u001b[38;5;241m0\u001b[39m, flags\u001b[38;5;241m=\u001b[39m\u001b[38;5;241m0\u001b[39m):\n\u001b[1;32m    204\u001b[0m     \u001b[38;5;124;03m\"\"\"Return the string obtained by replacing the leftmost\u001b[39;00m\n\u001b[1;32m    205\u001b[0m \u001b[38;5;124;03m    non-overlapping occurrences of the pattern in string by the\u001b[39;00m\n\u001b[1;32m    206\u001b[0m \u001b[38;5;124;03m    replacement repl.  repl can be either a string or a callable;\u001b[39;00m\n\u001b[1;32m    207\u001b[0m \u001b[38;5;124;03m    if a string, backslash escapes in it are processed.  If it is\u001b[39;00m\n\u001b[1;32m    208\u001b[0m \u001b[38;5;124;03m    a callable, it's passed the Match object and must return\u001b[39;00m\n\u001b[1;32m    209\u001b[0m \u001b[38;5;124;03m    a replacement string to be used.\"\"\"\u001b[39;00m\n\u001b[0;32m--> 210\u001b[0m     \u001b[38;5;28;01mreturn\u001b[39;00m \u001b[43m_compile\u001b[49m\u001b[43m(\u001b[49m\u001b[43mpattern\u001b[49m\u001b[43m,\u001b[49m\u001b[43m \u001b[49m\u001b[43mflags\u001b[49m\u001b[43m)\u001b[49m\u001b[38;5;241;43m.\u001b[39;49m\u001b[43msub\u001b[49m\u001b[43m(\u001b[49m\u001b[43mrepl\u001b[49m\u001b[43m,\u001b[49m\u001b[43m \u001b[49m\u001b[43mstring\u001b[49m\u001b[43m,\u001b[49m\u001b[43m \u001b[49m\u001b[43mcount\u001b[49m\u001b[43m)\u001b[49m\n",
      "\u001b[0;31mTypeError\u001b[0m: expected string or bytes-like object"
     ]
    }
   ],
   "source": [
    "strs = 'This is me. He tripped and fell from the ladder.'\n",
    "#strs = 'during the scaffolding elements transporting for the assembly of scaffolding scaffolder slipped and fell due to the slippery floor'\n",
    "test = pd.DataFrame({'incident_id':[1052], 'text':[strs]})\n",
    "rbfuncts.rule_book_scan(test, syn_dict, rul_csv)"
   ]
  },
  {
   "cell_type": "code",
   "execution_count": null,
   "id": "5e8f8d61",
   "metadata": {},
   "outputs": [],
   "source": [
    "print(not False)"
   ]
  },
  {
   "cell_type": "code",
   "execution_count": null,
   "id": "3739d3a6",
   "metadata": {},
   "outputs": [],
   "source": [
    "# How many incidents were classified\n",
    "len(list(dict.fromkeys(finds_df[finds_df.finds_list == True].incid_nums)))"
   ]
  },
  {
   "cell_type": "code",
   "execution_count": null,
   "id": "dc4e4d61",
   "metadata": {},
   "outputs": [],
   "source": [
    "rbfuncts.deepdive_results(sample100, incidents, finds_df, focus='finds')"
   ]
  },
  {
   "cell_type": "code",
   "execution_count": null,
   "id": "130bb973",
   "metadata": {},
   "outputs": [],
   "source": [
    "rbfuncts.deepdive_results(sample100, incidents, finds_df, focus='misses')"
   ]
  },
  {
   "cell_type": "code",
   "execution_count": null,
   "id": "0006b0ed",
   "metadata": {},
   "outputs": [],
   "source": [
    "chk = 'the country gm and regional gm were on their way to their apartment when they were involved in a motor vehicle collision.'\n",
    "#check_presence('hello(.*)vehicle(.*)collision', chk)\n",
    "#check_presence('\\bregional (.*) were (.*) way\\b', chk)\n",
    "#bool(re.search('\\bregional (.*) were (.*) way\\b', chk))\n",
    "bool(re.search('involved(.*)motor(.*)collision', chk))"
   ]
  },
  {
   "cell_type": "code",
   "execution_count": null,
   "id": "32c02807",
   "metadata": {},
   "outputs": [],
   "source": [
    " "
   ]
  },
  {
   "cell_type": "code",
   "execution_count": null,
   "id": "d0db66b1",
   "metadata": {},
   "outputs": [],
   "source": [
    "org_string = \"This is employee's hand\"\n",
    "pattern = r\"'s\"\n",
    "\n",
    "# Replace all occurrences of character 's with an empty string\n",
    "org_string = re.sub(pattern, '', org_string )\n",
    "print(org_string)"
   ]
  },
  {
   "cell_type": "code",
   "execution_count": 27,
   "id": "9316ea57",
   "metadata": {},
   "outputs": [],
   "source": [
    "def check_presence(pattern, string):\n",
    "    if pattern:\n",
    "        return bool(re.search(pattern, string))\n",
    "    else:\n",
    "        return False"
   ]
  },
  {
   "cell_type": "code",
   "execution_count": null,
   "id": "e39db40d",
   "metadata": {},
   "outputs": [],
   "source": [
    "rul_csv"
   ]
  },
  {
   "cell_type": "code",
   "execution_count": null,
   "id": "918cb8c0",
   "metadata": {},
   "outputs": [],
   "source": [
    "x = 'car(.*)hit(.*)\\\\bcat'\n",
    "pattern = x\n",
    "check_presence(pattern, \"the car hit the cat\")"
   ]
  },
  {
   "cell_type": "code",
   "execution_count": null,
   "id": "4d37d199",
   "metadata": {},
   "outputs": [],
   "source": [
    "re.sub(r\"\\\\\\\\b\", \"\\\\b\", 'no\\\\\\\\b')"
   ]
  },
  {
   "cell_type": "code",
   "execution_count": null,
   "id": "ad5941b6",
   "metadata": {},
   "outputs": [],
   "source": [
    "test = pd.DataFrame({'id':[1, 2, 2, 2, 3], 'cats':['apple', 'apple', 'apple', 'orange', 'kiwi']})\n",
    "test"
   ]
  },
  {
   "cell_type": "code",
   "execution_count": null,
   "id": "5be6b69a",
   "metadata": {},
   "outputs": [],
   "source": [
    "test.groupby(['id'])['cats'].apply(', '.join).reset_index()"
   ]
  },
  {
   "cell_type": "code",
   "execution_count": null,
   "id": "9af811b0",
   "metadata": {},
   "outputs": [],
   "source": [
    "'apple, apple, orange'.split(', ')"
   ]
  },
  {
   "cell_type": "code",
   "execution_count": null,
   "id": "47fbeb69",
   "metadata": {},
   "outputs": [],
   "source": [
    "list(dict.fromkeys('apple, apple, orange'.split(', ')))"
   ]
  },
  {
   "cell_type": "code",
   "execution_count": null,
   "id": "49b6b386",
   "metadata": {},
   "outputs": [],
   "source": [
    "\", \".join(list(dict.fromkeys('apple, apple, orange'.split(', '))))"
   ]
  },
  {
   "cell_type": "code",
   "execution_count": null,
   "id": "c7fa9c9d",
   "metadata": {},
   "outputs": [],
   "source": [
    "def remove_dups(ent):\n",
    "    split_ent = ent.split(', ')\n",
    "    uniqe_ent = list(dict.fromkeys(split_ent))\n",
    "    rjoin_ent = \", \".join(uniqe_ent)\n",
    "    return(rjoin_ent)"
   ]
  },
  {
   "cell_type": "code",
   "execution_count": null,
   "id": "10b05cd3",
   "metadata": {},
   "outputs": [],
   "source": [
    "remove_dups('apple, apple, orange')"
   ]
  },
  {
   "cell_type": "code",
   "execution_count": null,
   "id": "64629339",
   "metadata": {},
   "outputs": [],
   "source": [
    "test = test.groupby(['id'])['cats'].apply(', '.join).reset_index()\n",
    "test['cats'] = test['cats'].apply(lambda x: remove_dups(x))"
   ]
  },
  {
   "cell_type": "code",
   "execution_count": null,
   "id": "d99340c9",
   "metadata": {},
   "outputs": [],
   "source": [
    "test"
   ]
  },
  {
   "cell_type": "code",
   "execution_count": null,
   "id": "e40d55e5",
   "metadata": {},
   "outputs": [],
   "source": [
    "for r in [1, 2, 3]:\n",
    "    print(r)"
   ]
  },
  {
   "cell_type": "code",
   "execution_count": null,
   "id": "c01d2c32",
   "metadata": {},
   "outputs": [],
   "source": [
    "finds_count = 0\n",
    "finds_count+=1\n",
    "finds_count"
   ]
  },
  {
   "cell_type": "code",
   "execution_count": null,
   "id": "d43f2cb1",
   "metadata": {},
   "outputs": [],
   "source": [
    "from time import sleep\n",
    "import sys\n",
    "\n",
    "for i in range(200):\n",
    "    sys.stdout.write('\\r')\n",
    "    # the exact output you're looking for:\n",
    "    sys.stdout.write(str(i))\n",
    "    sys.stdout.flush()\n",
    "    sleep(0.05)"
   ]
  },
  {
   "cell_type": "code",
   "execution_count": null,
   "id": "490af6a3",
   "metadata": {},
   "outputs": [],
   "source": [
    "from datetime import datetime\n",
    "\n",
    "now = datetime.now()\n"
   ]
  },
  {
   "cell_type": "code",
   "execution_count": null,
   "id": "5286e1be",
   "metadata": {},
   "outputs": [],
   "source": [
    "then = datetime.now()"
   ]
  },
  {
   "cell_type": "code",
   "execution_count": null,
   "id": "0b6705ae",
   "metadata": {},
   "outputs": [],
   "source": [
    "diff = then - now"
   ]
  },
  {
   "cell_type": "code",
   "execution_count": null,
   "id": "f68eb18b",
   "metadata": {},
   "outputs": [],
   "source": [
    "round(diff.seconds/(60*60), 2)"
   ]
  },
  {
   "cell_type": "code",
   "execution_count": null,
   "id": "1310cc66",
   "metadata": {},
   "outputs": [],
   "source": [
    "round(60*60/(60*60), 2)"
   ]
  },
  {
   "cell_type": "code",
   "execution_count": null,
   "id": "48b4845f",
   "metadata": {},
   "outputs": [],
   "source": [
    "value = 10000\n",
    "f'{value:,}'"
   ]
  },
  {
   "cell_type": "code",
   "execution_count": null,
   "id": "7358e475",
   "metadata": {},
   "outputs": [],
   "source": [
    "test = pd.DataFrame({'rule':['employee(.*)hurt(.*)hand', 'ip(.*)hurt(.*)hand']})"
   ]
  },
  {
   "cell_type": "code",
   "execution_count": null,
   "id": "cb282727",
   "metadata": {},
   "outputs": [],
   "source": [
    "test"
   ]
  },
  {
   "cell_type": "code",
   "execution_count": null,
   "id": "143c67fa",
   "metadata": {},
   "outputs": [],
   "source": [
    "test['status'] = test['rule'].apply(lambda x: check_presence(x, 'the ip hurt his right hand'))\n",
    "test"
   ]
  },
  {
   "cell_type": "code",
   "execution_count": 17,
   "id": "7c36c03a",
   "metadata": {},
   "outputs": [],
   "source": [
    "# Load raw incident data\n",
    "incidents = pd.read_csv(\"data/source/20220413_D1_Incidents.csv\", dtype=str)  \n",
    "\n",
    "# Load the synonym dictionary in its raw csv format\n",
    "syn_csv = pd.read_csv('synonyms.csv')\n",
    "\n",
    "# Load the rule definitions\n",
    "rul_csv = pd.read_csv('rules.csv')\n",
    "\n",
    "# Concatenate some of the fields to make the 'text' field for searching\n",
    "incidents.rename(columns={'IncidentNumber': 'incident_id'}, inplace=True)\n",
    "incidents['text'] = (\n",
    "        incidents['ShortDescription'].astype(str).fillna('') + ' ' + \n",
    "        incidents['FullDescription'].astype(str).fillna('') + ' ' + \n",
    "        incidents['ImmediateAction'].astype(str).fillna('')\n",
    ").str.lower()\n",
    "\n",
    "# We only need the incident ID and the text for now\n",
    "incidents = incidents[['incident_id', 'text']]\n",
    "\n",
    "# Now convert the csv format into a dictionary of synonyms\n",
    "syn_dict = {}\n",
    "for r in range(len(syn_csv)):\n",
    "    syn_toks = syn_csv.keywords[r].split(',')\n",
    "    syn_dict.update({syn_csv.syn[r]:syn_toks})"
   ]
  },
  {
   "cell_type": "code",
   "execution_count": 18,
   "id": "2357713d",
   "metadata": {
    "scrolled": true
   },
   "outputs": [
    {
     "data": {
      "text/html": [
       "<div>\n",
       "<style scoped>\n",
       "    .dataframe tbody tr th:only-of-type {\n",
       "        vertical-align: middle;\n",
       "    }\n",
       "\n",
       "    .dataframe tbody tr th {\n",
       "        vertical-align: top;\n",
       "    }\n",
       "\n",
       "    .dataframe thead th {\n",
       "        text-align: right;\n",
       "    }\n",
       "</style>\n",
       "<table border=\"1\" class=\"dataframe\">\n",
       "  <thead>\n",
       "    <tr style=\"text-align: right;\">\n",
       "      <th></th>\n",
       "      <th>rule</th>\n",
       "      <th>keyword</th>\n",
       "      <th>syns</th>\n",
       "      <th>voids</th>\n",
       "      <th>span</th>\n",
       "      <th>shuffle</th>\n",
       "    </tr>\n",
       "  </thead>\n",
       "  <tbody>\n",
       "    <tr>\n",
       "      <th>0</th>\n",
       "      <td>eye injury or irritation</td>\n",
       "      <td>eye</td>\n",
       "      <td>worker_syns, pain_syns, eye_syns</td>\n",
       "      <td>NaN</td>\n",
       "      <td>8.0</td>\n",
       "      <td>True</td>\n",
       "    </tr>\n",
       "    <tr>\n",
       "      <th>1</th>\n",
       "      <td>eye injury or irritation</td>\n",
       "      <td>eye</td>\n",
       "      <td>gen1_syns, pain_syns, eye_syns</td>\n",
       "      <td>NaN</td>\n",
       "      <td>8.0</td>\n",
       "      <td>True</td>\n",
       "    </tr>\n",
       "    <tr>\n",
       "      <th>2</th>\n",
       "      <td>back injury</td>\n",
       "      <td>back</td>\n",
       "      <td>worker_syns, back_pain_syns, back_syns</td>\n",
       "      <td>NaN</td>\n",
       "      <td>8.0</td>\n",
       "      <td>True</td>\n",
       "    </tr>\n",
       "    <tr>\n",
       "      <th>3</th>\n",
       "      <td>covid</td>\n",
       "      <td>-</td>\n",
       "      <td>worker_syns, tested_syns, covid_syns</td>\n",
       "      <td>NaN</td>\n",
       "      <td>8.0</td>\n",
       "      <td>True</td>\n",
       "    </tr>\n",
       "    <tr>\n",
       "      <th>4</th>\n",
       "      <td>fall from or working at height issue</td>\n",
       "      <td>height</td>\n",
       "      <td>height_equipment_syns, falling_object_syns</td>\n",
       "      <td>same level, slippery floor, wet floor, slipper...</td>\n",
       "      <td>8.0</td>\n",
       "      <td>False</td>\n",
       "    </tr>\n",
       "    <tr>\n",
       "      <th>5</th>\n",
       "      <td>fall from or working at height issue</td>\n",
       "      <td>fall</td>\n",
       "      <td>height_equipment_syns, falling_object_syns</td>\n",
       "      <td>same level, slippery floor, wet floor, slipper...</td>\n",
       "      <td>8.0</td>\n",
       "      <td>False</td>\n",
       "    </tr>\n",
       "    <tr>\n",
       "      <th>6</th>\n",
       "      <td>fall from or working at height issue</td>\n",
       "      <td>-</td>\n",
       "      <td>worker_syns, height_equipment_syns, falling_ob...</td>\n",
       "      <td>same level, slippery floor, wet floor, slipper...</td>\n",
       "      <td>8.0</td>\n",
       "      <td>True</td>\n",
       "    </tr>\n",
       "    <tr>\n",
       "      <th>7</th>\n",
       "      <td>foot or leg injury</td>\n",
       "      <td>-</td>\n",
       "      <td>worker_syns, hurt_syns, leg_syns</td>\n",
       "      <td>NaN</td>\n",
       "      <td>8.0</td>\n",
       "      <td>True</td>\n",
       "    </tr>\n",
       "    <tr>\n",
       "      <th>8</th>\n",
       "      <td>general injury</td>\n",
       "      <td>-</td>\n",
       "      <td>worker_syns, hurt_syns, gen_body_syns</td>\n",
       "      <td>NaN</td>\n",
       "      <td>8.0</td>\n",
       "      <td>True</td>\n",
       "    </tr>\n",
       "    <tr>\n",
       "      <th>9</th>\n",
       "      <td>hand or arm injury</td>\n",
       "      <td>-</td>\n",
       "      <td>worker_syns, hurt_syns, arm_syns</td>\n",
       "      <td>NaN</td>\n",
       "      <td>8.0</td>\n",
       "      <td>True</td>\n",
       "    </tr>\n",
       "    <tr>\n",
       "      <th>10</th>\n",
       "      <td>hydraulic fluid or oil leak</td>\n",
       "      <td>-</td>\n",
       "      <td>mech_component_syns, failure_syns, release_syns</td>\n",
       "      <td>NaN</td>\n",
       "      <td>8.0</td>\n",
       "      <td>True</td>\n",
       "    </tr>\n",
       "    <tr>\n",
       "      <th>11</th>\n",
       "      <td>hydraulic fluid or oil leak</td>\n",
       "      <td>-</td>\n",
       "      <td>mech_component_syns, failure_syns</td>\n",
       "      <td>NaN</td>\n",
       "      <td>8.0</td>\n",
       "      <td>False</td>\n",
       "    </tr>\n",
       "    <tr>\n",
       "      <th>12</th>\n",
       "      <td>bites (animals or insects)</td>\n",
       "      <td>-</td>\n",
       "      <td>worker_syns, suffered_syns, insect_animal_syns</td>\n",
       "      <td>NaN</td>\n",
       "      <td>8.0</td>\n",
       "      <td>True</td>\n",
       "    </tr>\n",
       "    <tr>\n",
       "      <th>13</th>\n",
       "      <td>lack of competency</td>\n",
       "      <td>-</td>\n",
       "      <td>worker_syns, lacking_syns, competency_syns</td>\n",
       "      <td>NaN</td>\n",
       "      <td>8.0</td>\n",
       "      <td>False</td>\n",
       "    </tr>\n",
       "    <tr>\n",
       "      <th>14</th>\n",
       "      <td>mechanical or equipment issue</td>\n",
       "      <td>-</td>\n",
       "      <td>NaN</td>\n",
       "      <td>NaN</td>\n",
       "      <td>NaN</td>\n",
       "      <td>NaN</td>\n",
       "    </tr>\n",
       "    <tr>\n",
       "      <th>15</th>\n",
       "      <td>non-work related injury or illness</td>\n",
       "      <td>-</td>\n",
       "      <td>worker_syns, non_work_syns, illness_syns</td>\n",
       "      <td>NaN</td>\n",
       "      <td>8.0</td>\n",
       "      <td>True</td>\n",
       "    </tr>\n",
       "    <tr>\n",
       "      <th>16</th>\n",
       "      <td>ppe non-compliance</td>\n",
       "      <td>ppe</td>\n",
       "      <td>observed_syns, without_syns, ppe_syns</td>\n",
       "      <td>NaN</td>\n",
       "      <td>8.0</td>\n",
       "      <td>False</td>\n",
       "    </tr>\n",
       "    <tr>\n",
       "      <th>17</th>\n",
       "      <td>slips and trips</td>\n",
       "      <td>-</td>\n",
       "      <td>worker_syns, slip_syns, fall_syns</td>\n",
       "      <td>ladder, step-ladder</td>\n",
       "      <td>8.0</td>\n",
       "      <td>True</td>\n",
       "    </tr>\n",
       "    <tr>\n",
       "      <th>18</th>\n",
       "      <td>slips and trips</td>\n",
       "      <td>slip</td>\n",
       "      <td>slip_syns, fall_syns</td>\n",
       "      <td>ladder, step-ladder</td>\n",
       "      <td>8.0</td>\n",
       "      <td>False</td>\n",
       "    </tr>\n",
       "    <tr>\n",
       "      <th>19</th>\n",
       "      <td>theft</td>\n",
       "      <td>-</td>\n",
       "      <td>worker_syns, theft_syns, theft_object_syns</td>\n",
       "      <td>NaN</td>\n",
       "      <td>8.0</td>\n",
       "      <td>True</td>\n",
       "    </tr>\n",
       "    <tr>\n",
       "      <th>20</th>\n",
       "      <td>vehicle incident</td>\n",
       "      <td>-</td>\n",
       "      <td>vehicle_syns, vehicle_move_syns, vehicle_syns</td>\n",
       "      <td>NaN</td>\n",
       "      <td>8.0</td>\n",
       "      <td>False</td>\n",
       "    </tr>\n",
       "    <tr>\n",
       "      <th>21</th>\n",
       "      <td>vehicle incident</td>\n",
       "      <td>-</td>\n",
       "      <td>vehicle_syns, vehicle_move_syns, object_syns</td>\n",
       "      <td>NaN</td>\n",
       "      <td>8.0</td>\n",
       "      <td>True</td>\n",
       "    </tr>\n",
       "    <tr>\n",
       "      <th>22</th>\n",
       "      <td>vehicle incident</td>\n",
       "      <td>-</td>\n",
       "      <td>involve_syns, vehicle_syns, collision_syns</td>\n",
       "      <td>NaN</td>\n",
       "      <td>8.0</td>\n",
       "      <td>False</td>\n",
       "    </tr>\n",
       "    <tr>\n",
       "      <th>23</th>\n",
       "      <td>vehicle Incident involving animal</td>\n",
       "      <td>-</td>\n",
       "      <td>vehicle_syns, vehicle_move_syns, insect_animal...</td>\n",
       "      <td>NaN</td>\n",
       "      <td>8.0</td>\n",
       "      <td>True</td>\n",
       "    </tr>\n",
       "  </tbody>\n",
       "</table>\n",
       "</div>"
      ],
      "text/plain": [
       "                                    rule keyword  \\\n",
       "0               eye injury or irritation     eye   \n",
       "1               eye injury or irritation     eye   \n",
       "2                            back injury    back   \n",
       "3                                  covid       -   \n",
       "4   fall from or working at height issue  height   \n",
       "5   fall from or working at height issue    fall   \n",
       "6   fall from or working at height issue       -   \n",
       "7                     foot or leg injury       -   \n",
       "8                         general injury       -   \n",
       "9                     hand or arm injury       -   \n",
       "10           hydraulic fluid or oil leak       -   \n",
       "11           hydraulic fluid or oil leak       -   \n",
       "12            bites (animals or insects)       -   \n",
       "13                    lack of competency       -   \n",
       "14         mechanical or equipment issue       -   \n",
       "15    non-work related injury or illness       -   \n",
       "16                    ppe non-compliance     ppe   \n",
       "17                       slips and trips       -   \n",
       "18                       slips and trips    slip   \n",
       "19                                 theft       -   \n",
       "20                      vehicle incident       -   \n",
       "21                      vehicle incident       -   \n",
       "22                      vehicle incident       -   \n",
       "23     vehicle Incident involving animal       -   \n",
       "\n",
       "                                                 syns  \\\n",
       "0                    worker_syns, pain_syns, eye_syns   \n",
       "1                      gen1_syns, pain_syns, eye_syns   \n",
       "2              worker_syns, back_pain_syns, back_syns   \n",
       "3                worker_syns, tested_syns, covid_syns   \n",
       "4          height_equipment_syns, falling_object_syns   \n",
       "5          height_equipment_syns, falling_object_syns   \n",
       "6   worker_syns, height_equipment_syns, falling_ob...   \n",
       "7                    worker_syns, hurt_syns, leg_syns   \n",
       "8               worker_syns, hurt_syns, gen_body_syns   \n",
       "9                    worker_syns, hurt_syns, arm_syns   \n",
       "10    mech_component_syns, failure_syns, release_syns   \n",
       "11                  mech_component_syns, failure_syns   \n",
       "12     worker_syns, suffered_syns, insect_animal_syns   \n",
       "13         worker_syns, lacking_syns, competency_syns   \n",
       "14                                                NaN   \n",
       "15           worker_syns, non_work_syns, illness_syns   \n",
       "16              observed_syns, without_syns, ppe_syns   \n",
       "17                  worker_syns, slip_syns, fall_syns   \n",
       "18                               slip_syns, fall_syns   \n",
       "19         worker_syns, theft_syns, theft_object_syns   \n",
       "20      vehicle_syns, vehicle_move_syns, vehicle_syns   \n",
       "21       vehicle_syns, vehicle_move_syns, object_syns   \n",
       "22         involve_syns, vehicle_syns, collision_syns   \n",
       "23  vehicle_syns, vehicle_move_syns, insect_animal...   \n",
       "\n",
       "                                                voids  span shuffle  \n",
       "0                                                 NaN   8.0    True  \n",
       "1                                                 NaN   8.0    True  \n",
       "2                                                 NaN   8.0    True  \n",
       "3                                                 NaN   8.0    True  \n",
       "4   same level, slippery floor, wet floor, slipper...   8.0   False  \n",
       "5   same level, slippery floor, wet floor, slipper...   8.0   False  \n",
       "6   same level, slippery floor, wet floor, slipper...   8.0    True  \n",
       "7                                                 NaN   8.0    True  \n",
       "8                                                 NaN   8.0    True  \n",
       "9                                                 NaN   8.0    True  \n",
       "10                                                NaN   8.0    True  \n",
       "11                                                NaN   8.0   False  \n",
       "12                                                NaN   8.0    True  \n",
       "13                                                NaN   8.0   False  \n",
       "14                                                NaN   NaN     NaN  \n",
       "15                                                NaN   8.0    True  \n",
       "16                                                NaN   8.0   False  \n",
       "17                                ladder, step-ladder   8.0    True  \n",
       "18                                ladder, step-ladder   8.0   False  \n",
       "19                                                NaN   8.0    True  \n",
       "20                                                NaN   8.0   False  \n",
       "21                                                NaN   8.0    True  \n",
       "22                                                NaN   8.0   False  \n",
       "23                                                NaN   8.0    True  "
      ]
     },
     "execution_count": 18,
     "metadata": {},
     "output_type": "execute_result"
    }
   ],
   "source": [
    "rul_csv"
   ]
  },
  {
   "cell_type": "code",
   "execution_count": 19,
   "id": "2a8f3764",
   "metadata": {},
   "outputs": [],
   "source": [
    "# worker_syns, pain_syns, eye_syns\n",
    "worker_syns = ['employee', 'ip', 'worker', 'man', 'woman', 'he', 'she', 'his']\n",
    "pain_syns = ['pain', 'discomfort', 'soreness', 'hurt', 'something in', 'grit', 'swelling']\n",
    "eye_syns = ['eye', 'pupil', 'iris']"
   ]
  },
  {
   "cell_type": "code",
   "execution_count": 20,
   "id": "85863d38",
   "metadata": {},
   "outputs": [],
   "source": [
    "def tokenize(text):\n",
    "    tokens = word_tokenize(text)\n",
    "    tokens = [tok for tok in tokens if tok!='-']\n",
    "    return tokens"
   ]
  },
  {
   "cell_type": "code",
   "execution_count": 21,
   "id": "8a6bbd0d",
   "metadata": {},
   "outputs": [
    {
     "data": {
      "text/plain": [
       "['worker_syns', 'pain_syns', 'eye_syns']"
      ]
     },
     "execution_count": 21,
     "metadata": {},
     "output_type": "execute_result"
    }
   ],
   "source": [
    "rul_syns = tokenize(re.sub(r\", \", \" \", rul_csv.syns[0]))\n",
    "rul_syns"
   ]
  },
  {
   "cell_type": "code",
   "execution_count": 22,
   "id": "0647da3a",
   "metadata": {},
   "outputs": [
    {
     "data": {
      "text/plain": [
       "['employee',\n",
       " ' ip',\n",
       " ' worker',\n",
       " ' man',\n",
       " ' woman',\n",
       " ' he',\n",
       " ' she',\n",
       " ' his',\n",
       " ' her',\n",
       " ' left',\n",
       " ' right',\n",
       " ' operator',\n",
       " ' operative',\n",
       " ' technician',\n",
       " ' scaffolder',\n",
       " ' team member',\n",
       " ' person']"
      ]
     },
     "execution_count": 22,
     "metadata": {},
     "output_type": "execute_result"
    }
   ],
   "source": [
    "syn_dict.get(rul_syns[0])"
   ]
  },
  {
   "cell_type": "code",
   "execution_count": 125,
   "id": "5d3d9556",
   "metadata": {},
   "outputs": [],
   "source": [
    "import itertools\n",
    "\n",
    "c = 1\n",
    "\n",
    "patterns = []\n",
    "lhs = []\n",
    "rhs = []\n",
    "syn_count = len(rul_syns)\n",
    "\n",
    "for i in range(syn_count):\n",
    "    locals()[f'l{i+1}'] = syn_dict.get(rul_syns[i])\n",
    "\n",
    "iter_prod = itertools.product(l1, l2, l3)\n",
    "\n",
    "for r in iter_prod: \n",
    "    if syn_count == 2:\n",
    "        pt = f'{r[0].strip()}(.*){r[1].strip()}'\n",
    "    elif syn_count == 3:\n",
    "        pt = f'{r[0].strip()}(.*){r[1].strip()}(.*){r[2].strip()}'\n",
    "    else:\n",
    "        pt = f'{r[0].strip()}(.*){r[1].strip()}(.*){r[2].strip()}(.*){r[3].strip()}'\n",
    "    patterns.append(pt)\n",
    "    lhs.append(r[0].strip())\n",
    "    rhs.append(r[2].strip())\n",
    "    c += 1\n",
    "    \n",
    "test = pd.DataFrame({'pattern':patterns})    \n",
    "test['lhs'] = lhs\n",
    "test['rhs'] = rhs"
   ]
  },
  {
   "cell_type": "code",
   "execution_count": 126,
   "id": "d75ce32d",
   "metadata": {},
   "outputs": [
    {
     "data": {
      "text/html": [
       "<div>\n",
       "<style scoped>\n",
       "    .dataframe tbody tr th:only-of-type {\n",
       "        vertical-align: middle;\n",
       "    }\n",
       "\n",
       "    .dataframe tbody tr th {\n",
       "        vertical-align: top;\n",
       "    }\n",
       "\n",
       "    .dataframe thead th {\n",
       "        text-align: right;\n",
       "    }\n",
       "</style>\n",
       "<table border=\"1\" class=\"dataframe\">\n",
       "  <thead>\n",
       "    <tr style=\"text-align: right;\">\n",
       "      <th></th>\n",
       "      <th>pattern</th>\n",
       "      <th>lhs</th>\n",
       "      <th>rhs</th>\n",
       "    </tr>\n",
       "  </thead>\n",
       "  <tbody>\n",
       "    <tr>\n",
       "      <th>0</th>\n",
       "      <td>employee(.*)pain(.*)eye</td>\n",
       "      <td>employee</td>\n",
       "      <td>eye</td>\n",
       "    </tr>\n",
       "    <tr>\n",
       "      <th>1</th>\n",
       "      <td>employee(.*)pain(.*)pupil</td>\n",
       "      <td>employee</td>\n",
       "      <td>pupil</td>\n",
       "    </tr>\n",
       "    <tr>\n",
       "      <th>2</th>\n",
       "      <td>employee(.*)pain(.*)iris</td>\n",
       "      <td>employee</td>\n",
       "      <td>iris</td>\n",
       "    </tr>\n",
       "    <tr>\n",
       "      <th>3</th>\n",
       "      <td>employee(.*)discomfort(.*)eye</td>\n",
       "      <td>employee</td>\n",
       "      <td>eye</td>\n",
       "    </tr>\n",
       "    <tr>\n",
       "      <th>4</th>\n",
       "      <td>employee(.*)discomfort(.*)pupil</td>\n",
       "      <td>employee</td>\n",
       "      <td>pupil</td>\n",
       "    </tr>\n",
       "    <tr>\n",
       "      <th>...</th>\n",
       "      <td>...</td>\n",
       "      <td>...</td>\n",
       "      <td>...</td>\n",
       "    </tr>\n",
       "    <tr>\n",
       "      <th>1321</th>\n",
       "      <td>person(.*)swelling(.*)pupil</td>\n",
       "      <td>person</td>\n",
       "      <td>pupil</td>\n",
       "    </tr>\n",
       "    <tr>\n",
       "      <th>1322</th>\n",
       "      <td>person(.*)swelling(.*)iris</td>\n",
       "      <td>person</td>\n",
       "      <td>iris</td>\n",
       "    </tr>\n",
       "    <tr>\n",
       "      <th>1323</th>\n",
       "      <td>person(.*)swollen(.*)eye</td>\n",
       "      <td>person</td>\n",
       "      <td>eye</td>\n",
       "    </tr>\n",
       "    <tr>\n",
       "      <th>1324</th>\n",
       "      <td>person(.*)swollen(.*)pupil</td>\n",
       "      <td>person</td>\n",
       "      <td>pupil</td>\n",
       "    </tr>\n",
       "    <tr>\n",
       "      <th>1325</th>\n",
       "      <td>person(.*)swollen(.*)iris</td>\n",
       "      <td>person</td>\n",
       "      <td>iris</td>\n",
       "    </tr>\n",
       "  </tbody>\n",
       "</table>\n",
       "<p>1326 rows × 3 columns</p>\n",
       "</div>"
      ],
      "text/plain": [
       "                              pattern       lhs    rhs\n",
       "0             employee(.*)pain(.*)eye  employee    eye\n",
       "1           employee(.*)pain(.*)pupil  employee  pupil\n",
       "2            employee(.*)pain(.*)iris  employee   iris\n",
       "3       employee(.*)discomfort(.*)eye  employee    eye\n",
       "4     employee(.*)discomfort(.*)pupil  employee  pupil\n",
       "...                               ...       ...    ...\n",
       "1321      person(.*)swelling(.*)pupil    person  pupil\n",
       "1322       person(.*)swelling(.*)iris    person   iris\n",
       "1323         person(.*)swollen(.*)eye    person    eye\n",
       "1324       person(.*)swollen(.*)pupil    person  pupil\n",
       "1325        person(.*)swollen(.*)iris    person   iris\n",
       "\n",
       "[1326 rows x 3 columns]"
      ]
     },
     "execution_count": 126,
     "metadata": {},
     "output_type": "execute_result"
    }
   ],
   "source": [
    "test"
   ]
  },
  {
   "cell_type": "code",
   "execution_count": 127,
   "id": "521f48c9",
   "metadata": {},
   "outputs": [
    {
     "data": {
      "text/plain": [
       "936"
      ]
     },
     "execution_count": 127,
     "metadata": {},
     "output_type": "execute_result"
    }
   ],
   "source": [
    "chk_sent = 'the person hurt his right eye'\n",
    "sum(test['lhs'].apply(lambda x: find_index(chk_sent, x, pos='left')))"
   ]
  },
  {
   "cell_type": "code",
   "execution_count": 129,
   "id": "38200a65",
   "metadata": {},
   "outputs": [
    {
     "name": "stdout",
     "output_type": "stream",
     "text": [
      "['the', 'person', 'hurt', 'his', 'right', 'eye']\n"
     ]
    },
    {
     "data": {
      "text/html": [
       "<div>\n",
       "<style scoped>\n",
       "    .dataframe tbody tr th:only-of-type {\n",
       "        vertical-align: middle;\n",
       "    }\n",
       "\n",
       "    .dataframe tbody tr th {\n",
       "        vertical-align: top;\n",
       "    }\n",
       "\n",
       "    .dataframe thead th {\n",
       "        text-align: right;\n",
       "    }\n",
       "</style>\n",
       "<table border=\"1\" class=\"dataframe\">\n",
       "  <thead>\n",
       "    <tr style=\"text-align: right;\">\n",
       "      <th></th>\n",
       "      <th>pattern</th>\n",
       "      <th>lhs</th>\n",
       "      <th>rhs</th>\n",
       "      <th>found</th>\n",
       "      <th>lhs_index</th>\n",
       "      <th>rhs_index</th>\n",
       "      <th>span</th>\n",
       "    </tr>\n",
       "  </thead>\n",
       "  <tbody>\n",
       "    <tr>\n",
       "      <th>0</th>\n",
       "      <td>employee(.*)pain(.*)eye</td>\n",
       "      <td>employee</td>\n",
       "      <td>eye</td>\n",
       "      <td>False</td>\n",
       "      <td>0</td>\n",
       "      <td>6</td>\n",
       "      <td>6</td>\n",
       "    </tr>\n",
       "    <tr>\n",
       "      <th>1</th>\n",
       "      <td>employee(.*)pain(.*)pupil</td>\n",
       "      <td>employee</td>\n",
       "      <td>pupil</td>\n",
       "      <td>False</td>\n",
       "      <td>0</td>\n",
       "      <td>0</td>\n",
       "      <td>0</td>\n",
       "    </tr>\n",
       "    <tr>\n",
       "      <th>2</th>\n",
       "      <td>employee(.*)pain(.*)iris</td>\n",
       "      <td>employee</td>\n",
       "      <td>iris</td>\n",
       "      <td>False</td>\n",
       "      <td>0</td>\n",
       "      <td>0</td>\n",
       "      <td>0</td>\n",
       "    </tr>\n",
       "    <tr>\n",
       "      <th>3</th>\n",
       "      <td>employee(.*)discomfort(.*)eye</td>\n",
       "      <td>employee</td>\n",
       "      <td>eye</td>\n",
       "      <td>False</td>\n",
       "      <td>0</td>\n",
       "      <td>6</td>\n",
       "      <td>6</td>\n",
       "    </tr>\n",
       "    <tr>\n",
       "      <th>4</th>\n",
       "      <td>employee(.*)discomfort(.*)pupil</td>\n",
       "      <td>employee</td>\n",
       "      <td>pupil</td>\n",
       "      <td>False</td>\n",
       "      <td>0</td>\n",
       "      <td>0</td>\n",
       "      <td>0</td>\n",
       "    </tr>\n",
       "    <tr>\n",
       "      <th>...</th>\n",
       "      <td>...</td>\n",
       "      <td>...</td>\n",
       "      <td>...</td>\n",
       "      <td>...</td>\n",
       "      <td>...</td>\n",
       "      <td>...</td>\n",
       "      <td>...</td>\n",
       "    </tr>\n",
       "    <tr>\n",
       "      <th>1321</th>\n",
       "      <td>person(.*)swelling(.*)pupil</td>\n",
       "      <td>person</td>\n",
       "      <td>pupil</td>\n",
       "      <td>False</td>\n",
       "      <td>2</td>\n",
       "      <td>0</td>\n",
       "      <td>-2</td>\n",
       "    </tr>\n",
       "    <tr>\n",
       "      <th>1322</th>\n",
       "      <td>person(.*)swelling(.*)iris</td>\n",
       "      <td>person</td>\n",
       "      <td>iris</td>\n",
       "      <td>False</td>\n",
       "      <td>2</td>\n",
       "      <td>0</td>\n",
       "      <td>-2</td>\n",
       "    </tr>\n",
       "    <tr>\n",
       "      <th>1323</th>\n",
       "      <td>person(.*)swollen(.*)eye</td>\n",
       "      <td>person</td>\n",
       "      <td>eye</td>\n",
       "      <td>False</td>\n",
       "      <td>2</td>\n",
       "      <td>6</td>\n",
       "      <td>4</td>\n",
       "    </tr>\n",
       "    <tr>\n",
       "      <th>1324</th>\n",
       "      <td>person(.*)swollen(.*)pupil</td>\n",
       "      <td>person</td>\n",
       "      <td>pupil</td>\n",
       "      <td>False</td>\n",
       "      <td>2</td>\n",
       "      <td>0</td>\n",
       "      <td>-2</td>\n",
       "    </tr>\n",
       "    <tr>\n",
       "      <th>1325</th>\n",
       "      <td>person(.*)swollen(.*)iris</td>\n",
       "      <td>person</td>\n",
       "      <td>iris</td>\n",
       "      <td>False</td>\n",
       "      <td>2</td>\n",
       "      <td>0</td>\n",
       "      <td>-2</td>\n",
       "    </tr>\n",
       "  </tbody>\n",
       "</table>\n",
       "<p>1326 rows × 7 columns</p>\n",
       "</div>"
      ],
      "text/plain": [
       "                              pattern       lhs    rhs  found  lhs_index  \\\n",
       "0             employee(.*)pain(.*)eye  employee    eye  False          0   \n",
       "1           employee(.*)pain(.*)pupil  employee  pupil  False          0   \n",
       "2            employee(.*)pain(.*)iris  employee   iris  False          0   \n",
       "3       employee(.*)discomfort(.*)eye  employee    eye  False          0   \n",
       "4     employee(.*)discomfort(.*)pupil  employee  pupil  False          0   \n",
       "...                               ...       ...    ...    ...        ...   \n",
       "1321      person(.*)swelling(.*)pupil    person  pupil  False          2   \n",
       "1322       person(.*)swelling(.*)iris    person   iris  False          2   \n",
       "1323         person(.*)swollen(.*)eye    person    eye  False          2   \n",
       "1324       person(.*)swollen(.*)pupil    person  pupil  False          2   \n",
       "1325        person(.*)swollen(.*)iris    person   iris  False          2   \n",
       "\n",
       "      rhs_index  span  \n",
       "0             6     6  \n",
       "1             0     0  \n",
       "2             0     0  \n",
       "3             6     6  \n",
       "4             0     0  \n",
       "...         ...   ...  \n",
       "1321          0    -2  \n",
       "1322          0    -2  \n",
       "1323          6     4  \n",
       "1324          0    -2  \n",
       "1325          0    -2  \n",
       "\n",
       "[1326 rows x 7 columns]"
      ]
     },
     "execution_count": 129,
     "metadata": {},
     "output_type": "execute_result"
    }
   ],
   "source": [
    "chk_sent = 'the person hurt his right eye'\n",
    "split_chk_sent = chk_sent.split()\n",
    "print(split_chk_sent)\n",
    "test['found'] = test['pattern'].apply(lambda x: check_presence(x, chk_sent))\n",
    "test['lhs_index'] = test['lhs'].apply(lambda x: find_index(chk_sent, x, pos='left'))\n",
    "test['rhs_index'] = test['rhs'].apply(lambda x: find_index(chk_sent, x, pos='right'))\n",
    "test['span'] = test['rhs_index'] - test['lhs_index']\n",
    "test"
   ]
  },
  {
   "cell_type": "code",
   "execution_count": 132,
   "id": "acb31476",
   "metadata": {},
   "outputs": [
    {
     "data": {
      "text/html": [
       "<div>\n",
       "<style scoped>\n",
       "    .dataframe tbody tr th:only-of-type {\n",
       "        vertical-align: middle;\n",
       "    }\n",
       "\n",
       "    .dataframe tbody tr th {\n",
       "        vertical-align: top;\n",
       "    }\n",
       "\n",
       "    .dataframe thead th {\n",
       "        text-align: right;\n",
       "    }\n",
       "</style>\n",
       "<table border=\"1\" class=\"dataframe\">\n",
       "  <thead>\n",
       "    <tr style=\"text-align: right;\">\n",
       "      <th></th>\n",
       "      <th>pattern</th>\n",
       "      <th>lhs</th>\n",
       "      <th>rhs</th>\n",
       "      <th>found</th>\n",
       "      <th>lhs_index</th>\n",
       "      <th>rhs_index</th>\n",
       "      <th>span</th>\n",
       "    </tr>\n",
       "  </thead>\n",
       "  <tbody>\n",
       "    <tr>\n",
       "      <th>399</th>\n",
       "      <td>he(.*)hurt(.*)eye</td>\n",
       "      <td>he</td>\n",
       "      <td>eye</td>\n",
       "      <td>True</td>\n",
       "      <td>1</td>\n",
       "      <td>6</td>\n",
       "      <td>5</td>\n",
       "    </tr>\n",
       "    <tr>\n",
       "      <th>1257</th>\n",
       "      <td>person(.*)hurt(.*)eye</td>\n",
       "      <td>person</td>\n",
       "      <td>eye</td>\n",
       "      <td>True</td>\n",
       "      <td>2</td>\n",
       "      <td>6</td>\n",
       "      <td>4</td>\n",
       "    </tr>\n",
       "  </tbody>\n",
       "</table>\n",
       "</div>"
      ],
      "text/plain": [
       "                    pattern     lhs  rhs  found  lhs_index  rhs_index  span\n",
       "399       he(.*)hurt(.*)eye      he  eye   True          1          6     5\n",
       "1257  person(.*)hurt(.*)eye  person  eye   True          2          6     4"
      ]
     },
     "execution_count": 132,
     "metadata": {},
     "output_type": "execute_result"
    }
   ],
   "source": [
    "test[test['found'] == True]"
   ]
  },
  {
   "cell_type": "code",
   "execution_count": 133,
   "id": "92736a65",
   "metadata": {},
   "outputs": [
    {
     "data": {
      "text/html": [
       "<div>\n",
       "<style scoped>\n",
       "    .dataframe tbody tr th:only-of-type {\n",
       "        vertical-align: middle;\n",
       "    }\n",
       "\n",
       "    .dataframe tbody tr th {\n",
       "        vertical-align: top;\n",
       "    }\n",
       "\n",
       "    .dataframe thead th {\n",
       "        text-align: right;\n",
       "    }\n",
       "</style>\n",
       "<table border=\"1\" class=\"dataframe\">\n",
       "  <thead>\n",
       "    <tr style=\"text-align: right;\">\n",
       "      <th></th>\n",
       "      <th>pattern</th>\n",
       "      <th>lhs</th>\n",
       "      <th>rhs</th>\n",
       "      <th>found</th>\n",
       "      <th>lhs_index</th>\n",
       "      <th>rhs_index</th>\n",
       "      <th>span</th>\n",
       "    </tr>\n",
       "  </thead>\n",
       "  <tbody>\n",
       "    <tr>\n",
       "      <th>390</th>\n",
       "      <td>he(.*)pain(.*)eye</td>\n",
       "      <td>he</td>\n",
       "      <td>eye</td>\n",
       "      <td>False</td>\n",
       "      <td>1</td>\n",
       "      <td>6</td>\n",
       "      <td>5</td>\n",
       "    </tr>\n",
       "    <tr>\n",
       "      <th>391</th>\n",
       "      <td>he(.*)pain(.*)pupil</td>\n",
       "      <td>he</td>\n",
       "      <td>pupil</td>\n",
       "      <td>False</td>\n",
       "      <td>1</td>\n",
       "      <td>0</td>\n",
       "      <td>-1</td>\n",
       "    </tr>\n",
       "    <tr>\n",
       "      <th>392</th>\n",
       "      <td>he(.*)pain(.*)iris</td>\n",
       "      <td>he</td>\n",
       "      <td>iris</td>\n",
       "      <td>False</td>\n",
       "      <td>1</td>\n",
       "      <td>0</td>\n",
       "      <td>-1</td>\n",
       "    </tr>\n",
       "    <tr>\n",
       "      <th>393</th>\n",
       "      <td>he(.*)discomfort(.*)eye</td>\n",
       "      <td>he</td>\n",
       "      <td>eye</td>\n",
       "      <td>False</td>\n",
       "      <td>1</td>\n",
       "      <td>6</td>\n",
       "      <td>5</td>\n",
       "    </tr>\n",
       "    <tr>\n",
       "      <th>394</th>\n",
       "      <td>he(.*)discomfort(.*)pupil</td>\n",
       "      <td>he</td>\n",
       "      <td>pupil</td>\n",
       "      <td>False</td>\n",
       "      <td>1</td>\n",
       "      <td>0</td>\n",
       "      <td>-1</td>\n",
       "    </tr>\n",
       "    <tr>\n",
       "      <th>...</th>\n",
       "      <td>...</td>\n",
       "      <td>...</td>\n",
       "      <td>...</td>\n",
       "      <td>...</td>\n",
       "      <td>...</td>\n",
       "      <td>...</td>\n",
       "      <td>...</td>\n",
       "    </tr>\n",
       "    <tr>\n",
       "      <th>1321</th>\n",
       "      <td>person(.*)swelling(.*)pupil</td>\n",
       "      <td>person</td>\n",
       "      <td>pupil</td>\n",
       "      <td>False</td>\n",
       "      <td>2</td>\n",
       "      <td>0</td>\n",
       "      <td>-2</td>\n",
       "    </tr>\n",
       "    <tr>\n",
       "      <th>1322</th>\n",
       "      <td>person(.*)swelling(.*)iris</td>\n",
       "      <td>person</td>\n",
       "      <td>iris</td>\n",
       "      <td>False</td>\n",
       "      <td>2</td>\n",
       "      <td>0</td>\n",
       "      <td>-2</td>\n",
       "    </tr>\n",
       "    <tr>\n",
       "      <th>1323</th>\n",
       "      <td>person(.*)swollen(.*)eye</td>\n",
       "      <td>person</td>\n",
       "      <td>eye</td>\n",
       "      <td>False</td>\n",
       "      <td>2</td>\n",
       "      <td>6</td>\n",
       "      <td>4</td>\n",
       "    </tr>\n",
       "    <tr>\n",
       "      <th>1324</th>\n",
       "      <td>person(.*)swollen(.*)pupil</td>\n",
       "      <td>person</td>\n",
       "      <td>pupil</td>\n",
       "      <td>False</td>\n",
       "      <td>2</td>\n",
       "      <td>0</td>\n",
       "      <td>-2</td>\n",
       "    </tr>\n",
       "    <tr>\n",
       "      <th>1325</th>\n",
       "      <td>person(.*)swollen(.*)iris</td>\n",
       "      <td>person</td>\n",
       "      <td>iris</td>\n",
       "      <td>False</td>\n",
       "      <td>2</td>\n",
       "      <td>0</td>\n",
       "      <td>-2</td>\n",
       "    </tr>\n",
       "  </tbody>\n",
       "</table>\n",
       "<p>312 rows × 7 columns</p>\n",
       "</div>"
      ],
      "text/plain": [
       "                          pattern     lhs    rhs  found  lhs_index  rhs_index  \\\n",
       "390             he(.*)pain(.*)eye      he    eye  False          1          6   \n",
       "391           he(.*)pain(.*)pupil      he  pupil  False          1          0   \n",
       "392            he(.*)pain(.*)iris      he   iris  False          1          0   \n",
       "393       he(.*)discomfort(.*)eye      he    eye  False          1          6   \n",
       "394     he(.*)discomfort(.*)pupil      he  pupil  False          1          0   \n",
       "...                           ...     ...    ...    ...        ...        ...   \n",
       "1321  person(.*)swelling(.*)pupil  person  pupil  False          2          0   \n",
       "1322   person(.*)swelling(.*)iris  person   iris  False          2          0   \n",
       "1323     person(.*)swollen(.*)eye  person    eye  False          2          6   \n",
       "1324   person(.*)swollen(.*)pupil  person  pupil  False          2          0   \n",
       "1325    person(.*)swollen(.*)iris  person   iris  False          2          0   \n",
       "\n",
       "      span  \n",
       "390      5  \n",
       "391     -1  \n",
       "392     -1  \n",
       "393      5  \n",
       "394     -1  \n",
       "...    ...  \n",
       "1321    -2  \n",
       "1322    -2  \n",
       "1323     4  \n",
       "1324    -2  \n",
       "1325    -2  \n",
       "\n",
       "[312 rows x 7 columns]"
      ]
     },
     "execution_count": 133,
     "metadata": {},
     "output_type": "execute_result"
    }
   ],
   "source": [
    "test[test['lhs_index'] != 0]"
   ]
  },
  {
   "cell_type": "code",
   "execution_count": 88,
   "id": "4c2a3ba0",
   "metadata": {},
   "outputs": [
    {
     "name": "stdout",
     "output_type": "stream",
     "text": [
      "['the', 'person', 'hurt', 'his', 'right', 'hurts', 'eye']\n"
     ]
    }
   ],
   "source": [
    "chk_sent = 'the person hurt his right hurts eye'\n",
    "split_chk_sent = chk_sent.split()\n",
    "print(split_chk_sent)"
   ]
  },
  {
   "cell_type": "code",
   "execution_count": 89,
   "id": "b8d62a2e",
   "metadata": {},
   "outputs": [
    {
     "data": {
      "text/plain": [
       "2"
      ]
     },
     "execution_count": 89,
     "metadata": {},
     "output_type": "execute_result"
    }
   ],
   "source": [
    "def find_index(chk_string, keyword, pos='left'):\n",
    "    try:\n",
    "        split_chk = chk_string.split()\n",
    "        #find_index = max(loc for loc, val in enumerate(split_chk) if val == keyword) + 1\n",
    "        find_index = [loc for loc, val in enumerate(split_chk) if bool(re.search(keyword, val))]\n",
    "        if pos == 'left':\n",
    "            find_index = min(find_index)+1\n",
    "        else:\n",
    "            find_index = max(find_index)+1\n",
    "    except:\n",
    "        print\n",
    "        find_index = 0\n",
    "    return(find_index)\n",
    "\n",
    "find_index(chk_sent, 'person', pos='left')"
   ]
  },
  {
   "cell_type": "code",
   "execution_count": 14,
   "id": "e356efdb",
   "metadata": {},
   "outputs": [
    {
     "data": {
      "text/plain": [
       "\"(?:[a-zA-Z'-]+[^a-zA-Z'-]+){0,2}leg\""
      ]
     },
     "execution_count": 14,
     "metadata": {},
     "output_type": "execute_result"
    }
   ],
   "source": [
    "keyword = 'leg'\n",
    "window = 2\n",
    "pre_context = \"(?:[a-zA-Z'-]+[^a-zA-Z'-]+){0,<window>}<keyword>\".replace('<keyword>', str(keyword)).replace('<window>', str(window))\n",
    "post_context = \"<keyword>(?:[^a-zA-Z'-]+[a-zA-Z'-]+){0,<window>}\".replace('<keyword>', str(keyword)).replace('<window>', str(window))\n",
    "all_context = \"(?:[a-zA-Z'-]+[^a-zA-Z'-]+){0,<window>}<keyword>(?:[^a-zA-Z'-]+[a-zA-Z'-]+){0,<window>}\".replace('<keyword>', str(keyword)).replace('<window>', str(window))\n",
    "pre_context"
   ]
  },
  {
   "cell_type": "code",
   "execution_count": 15,
   "id": "2cf874d3",
   "metadata": {},
   "outputs": [
    {
     "data": {
      "text/plain": [
       "['big fat leg']"
      ]
     },
     "execution_count": 15,
     "metadata": {},
     "output_type": "execute_result"
    }
   ],
   "source": [
    "doc = 'My big fat leg is really broke'\n",
    "re.findall(pre_context, doc)"
   ]
  },
  {
   "cell_type": "code",
   "execution_count": 16,
   "id": "757a3aeb",
   "metadata": {},
   "outputs": [
    {
     "data": {
      "text/plain": [
       "['leg is really']"
      ]
     },
     "execution_count": 16,
     "metadata": {},
     "output_type": "execute_result"
    }
   ],
   "source": [
    "re.findall(post_context, doc)"
   ]
  },
  {
   "cell_type": "code",
   "execution_count": 23,
   "id": "c917fa17",
   "metadata": {},
   "outputs": [
    {
     "data": {
      "text/plain": [
       "'leg how you doing'"
      ]
     },
     "execution_count": 23,
     "metadata": {},
     "output_type": "execute_result"
    }
   ],
   "source": [
    "\"<keyword> how you doing\".replace('<keyword>', str(keyword))"
   ]
  },
  {
   "cell_type": "code",
   "execution_count": 53,
   "id": "4c01de5d",
   "metadata": {},
   "outputs": [],
   "source": [
    "rules = pd.read_csv('data/rule_book.csv')\n",
    "rules[\"keyword\"] = [x.replace(\"*\", \"[a-zA-Z'-]*\") + r\"\\b\" for x in rules[\"keyword\"]]\n",
    "rules[\"rules_pre\"] = [rbfuncts.translate_to_regex(x) for x in rules[\"rules_pre\"]]\n",
    "rules[\"rules_post\"] = [rbfuncts.translate_to_regex(x) for x in rules[\"rules_post\"]]\n",
    "rules[\"rules_all\"] = [rbfuncts.translate_to_regex(x) for x in rules[\"rules_all\"]]\n",
    "rules[\"voids\"] = [rbfuncts.translate_to_regex(x) for x in rules[\"voids\"]]\n",
    "categories = list(set(rules[\"group\"]))\n",
    "cat_dict = {cat: i for i, cat in enumerate(categories)}\n",
    "category_indicators = [False] * len(categories)"
   ]
  },
  {
   "cell_type": "code",
   "execution_count": 54,
   "id": "fc3b933e",
   "metadata": {},
   "outputs": [
    {
     "data": {
      "text/plain": [
       "['minor non-injury event',\n",
       " 'fuel spill or leak',\n",
       " 'non-work related injury or illness',\n",
       " 'competency',\n",
       " 'slips & trips',\n",
       " 'foot or leg injury',\n",
       " 'sharp objects',\n",
       " 'hand or arm injury',\n",
       " 'disease or infection',\n",
       " 'alarms',\n",
       " 'minor fluid spill',\n",
       " 'knife incident',\n",
       " 'aggressive behaviour',\n",
       " 'confined space non-conformance or issue',\n",
       " 'back injury',\n",
       " 'dropped object or material',\n",
       " 'eye injury or irritation',\n",
       " 'line strike',\n",
       " 'covid',\n",
       " 'bites (animals or insects)',\n",
       " 'fall from or working at height issue',\n",
       " 'general injury',\n",
       " 'lifting or moving loads',\n",
       " 'mechanical or equipment issue',\n",
       " 'site compliance or practice issue',\n",
       " 'weather related issue',\n",
       " 'security or general safety concern',\n",
       " 'vehicle Incident involving animal',\n",
       " 'fire',\n",
       " 'burns',\n",
       " 'work vehicle incident',\n",
       " 'ppe non-compliance',\n",
       " 'hydraulic fluid or oil leak',\n",
       " 'alcohol or drugs',\n",
       " 'theft',\n",
       " 'vandalism',\n",
       " 'environmental leak or issue',\n",
       " 'hazardous materials or work',\n",
       " 'line of fire',\n",
       " 'excavations',\n",
       " 'speeding',\n",
       " 'general illness or health issue',\n",
       " 'offshore transfer',\n",
       " 'head or face injury',\n",
       " 'vehicle incident general',\n",
       " 'office or facilities incident or injury',\n",
       " 'electric shock or issue']"
      ]
     },
     "execution_count": 54,
     "metadata": {},
     "output_type": "execute_result"
    }
   ],
   "source": [
    "categories"
   ]
  },
  {
   "cell_type": "code",
   "execution_count": 55,
   "id": "3a0b24ea",
   "metadata": {},
   "outputs": [
    {
     "data": {
      "text/plain": [
       "{'minor non-injury event': 0,\n",
       " 'fuel spill or leak': 1,\n",
       " 'non-work related injury or illness': 2,\n",
       " 'competency': 3,\n",
       " 'slips & trips': 4,\n",
       " 'foot or leg injury': 5,\n",
       " 'sharp objects': 6,\n",
       " 'hand or arm injury': 7,\n",
       " 'disease or infection': 8,\n",
       " 'alarms': 9,\n",
       " 'minor fluid spill': 10,\n",
       " 'knife incident': 11,\n",
       " 'aggressive behaviour': 12,\n",
       " 'confined space non-conformance or issue': 13,\n",
       " 'back injury': 14,\n",
       " 'dropped object or material': 15,\n",
       " 'eye injury or irritation': 16,\n",
       " 'line strike': 17,\n",
       " 'covid': 18,\n",
       " 'bites (animals or insects)': 19,\n",
       " 'fall from or working at height issue': 20,\n",
       " 'general injury': 21,\n",
       " 'lifting or moving loads': 22,\n",
       " 'mechanical or equipment issue': 23,\n",
       " 'site compliance or practice issue': 24,\n",
       " 'weather related issue': 25,\n",
       " 'security or general safety concern': 26,\n",
       " 'vehicle Incident involving animal': 27,\n",
       " 'fire': 28,\n",
       " 'burns': 29,\n",
       " 'work vehicle incident': 30,\n",
       " 'ppe non-compliance': 31,\n",
       " 'hydraulic fluid or oil leak': 32,\n",
       " 'alcohol or drugs': 33,\n",
       " 'theft': 34,\n",
       " 'vandalism': 35,\n",
       " 'environmental leak or issue': 36,\n",
       " 'hazardous materials or work': 37,\n",
       " 'line of fire': 38,\n",
       " 'excavations': 39,\n",
       " 'speeding': 40,\n",
       " 'general illness or health issue': 41,\n",
       " 'offshore transfer': 42,\n",
       " 'head or face injury': 43,\n",
       " 'vehicle incident general': 44,\n",
       " 'office or facilities incident or injury': 45,\n",
       " 'electric shock or issue': 46}"
      ]
     },
     "execution_count": 55,
     "metadata": {},
     "output_type": "execute_result"
    }
   ],
   "source": [
    "cat_dict"
   ]
  },
  {
   "cell_type": "code",
   "execution_count": 18,
   "id": "5d7a0b65",
   "metadata": {},
   "outputs": [],
   "source": [
    "def check_presence(pattern, string):\n",
    "    if pattern:\n",
    "        return bool(re.search(pattern, string))\n",
    "    else:\n",
    "        return False"
   ]
  },
  {
   "cell_type": "code",
   "execution_count": 19,
   "id": "9a341a8e",
   "metadata": {},
   "outputs": [],
   "source": [
    "def find_pattern(doc, keyword, check_pre, check_post, check_all, check_void, window):\n",
    "    \"\"\"\n",
    "    for a list of tokens finds specified keyword and returns True\n",
    "    if the neighbourhood of this keyword satisfies pre-, post- or all- context rules\n",
    "    and doesn't contain anything forbidden\n",
    "    :param tokens: list of tokens\n",
    "    :param keyword: pattern which a token should match\n",
    "    :param check_pre: pattern which several previous tokens (concatenated) should match\n",
    "    :param check_post: pattern which several subsequent tokens (concatenated) should match\n",
    "    :param check_all: pattern which previous tokens + keyword + subsequent tokens should match\n",
    "    :param check_void: pattern which previous tokens + keyword + subsequent tokens should NOT match\n",
    "    :param window: N of pre and post tokens to consider\n",
    "    :return: True/False - whether at least one matching part was found\n",
    "    \"\"\"\n",
    "    # extract contexts of keyword (if any found)\n",
    "    # check if keyword in sentence\n",
    "    any_match = re.search(keyword, doc)\n",
    "\n",
    "    if any_match is None:\n",
    "        return False\n",
    "    else:\n",
    "        # We want to finad and extract the context of the keyword in the sentence\n",
    "        # With a predefined window\n",
    "        pre_context = \"(?:[a-zA-Z'-]+[^a-zA-Z'-]+){0,<window>}<keyword>\".replace('<keyword>', str(keyword)).replace('<window>', str(window))\n",
    "        post_context = \"<keyword>(?:[^a-zA-Z'-]+[a-zA-Z'-]+){0,<window>}\".replace('<keyword>', str(keyword)).replace('<window>', str(window))\n",
    "        all_context = \"(?:[a-zA-Z'-]+[^a-zA-Z'-]+){0,<window>}<keyword>(?:[^a-zA-Z'-]+[a-zA-Z'-]+){0,<window>}\".replace('<keyword>', str(keyword)).replace('<window>', str(window))\n",
    "        \n",
    "        pre_match = re.findall(pre_context, doc)\n",
    "        post_match = re.findall(post_context, doc)\n",
    "        all_match = re.findall(all_context, doc)\n",
    "\n",
    "    # Check if any of the given sentences is on list of pre/post/all keywords.\n",
    "    pre_check = any([check_presence(check_pre, pre) for pre in pre_match])\n",
    "    post_check = any([check_presence(check_post, post) for post in post_match])\n",
    "    all_check = any([check_presence(check_all, all_) for all_ in all_match])\n",
    "    void_check = any([check_presence(check_void, all_) for all_ in all_match])\n",
    "\n",
    "    # Perform final tests\n",
    "    final_match = (pre_check or post_check or all_check) and not void_check\n",
    "    return final_match"
   ]
  },
  {
   "cell_type": "code",
   "execution_count": 58,
   "id": "99f88826",
   "metadata": {},
   "outputs": [],
   "source": [
    "num_rules = len(rules['group'])\n",
    "window = 12\n",
    "incidents = pd.read_csv(\"data/source/20220413_D1_Incidents.csv\", dtype=str)  \n",
    "# Concatenate some of the fields to make the 'text' field for searching\n",
    "incidents.rename(columns={'IncidentNumber': 'incident_id'}, inplace=True)\n",
    "incidents['text'] = (\n",
    "        incidents['ShortDescription'].astype(str).fillna('') + ' ' + \n",
    "        incidents['FullDescription'].astype(str).fillna('') + ' ' + \n",
    "        incidents['ImmediateAction'].astype(str).fillna('')\n",
    ").str.lower()\n",
    "\n",
    "# We only need the incident ID and the text for now\n",
    "incidents = incidents[['incident_id', 'text']]\n",
    "sample100 = incidents.sample(100)\n",
    "doc=sample100"
   ]
  },
  {
   "cell_type": "code",
   "execution_count": 59,
   "id": "4a1f709b",
   "metadata": {},
   "outputs": [
    {
     "data": {
      "text/html": [
       "<div>\n",
       "<style scoped>\n",
       "    .dataframe tbody tr th:only-of-type {\n",
       "        vertical-align: middle;\n",
       "    }\n",
       "\n",
       "    .dataframe tbody tr th {\n",
       "        vertical-align: top;\n",
       "    }\n",
       "\n",
       "    .dataframe thead th {\n",
       "        text-align: right;\n",
       "    }\n",
       "</style>\n",
       "<table border=\"1\" class=\"dataframe\">\n",
       "  <thead>\n",
       "    <tr style=\"text-align: right;\">\n",
       "      <th></th>\n",
       "      <th>incident_id</th>\n",
       "      <th>text</th>\n",
       "    </tr>\n",
       "  </thead>\n",
       "  <tbody>\n",
       "    <tr>\n",
       "      <th>5689</th>\n",
       "      <td>20164451</td>\n",
       "      <td>pen slipped from a height of 4m, however it la...</td>\n",
       "    </tr>\n",
       "    <tr>\n",
       "      <th>5854</th>\n",
       "      <td>20164286</td>\n",
       "      <td>vehicle es 130 entered in contact with the fen...</td>\n",
       "    </tr>\n",
       "    <tr>\n",
       "      <th>16030</th>\n",
       "      <td>20160147</td>\n",
       "      <td>person entered barricaded area with no authori...</td>\n",
       "    </tr>\n",
       "    <tr>\n",
       "      <th>17373</th>\n",
       "      <td>20201682</td>\n",
       "      <td>ip suffered pulled muscle in left shoulder dur...</td>\n",
       "    </tr>\n",
       "    <tr>\n",
       "      <th>5427</th>\n",
       "      <td>20164715</td>\n",
       "      <td>supervisor work instruction not followed migra...</td>\n",
       "    </tr>\n",
       "    <tr>\n",
       "      <th>...</th>\n",
       "      <td>...</td>\n",
       "      <td>...</td>\n",
       "    </tr>\n",
       "    <tr>\n",
       "      <th>8184</th>\n",
       "      <td>20192283</td>\n",
       "      <td>contained visqueen fire two turner employees w...</td>\n",
       "    </tr>\n",
       "    <tr>\n",
       "      <th>27065</th>\n",
       "      <td>20222136</td>\n",
       "      <td>a wood employee tested positive for covid-19  ...</td>\n",
       "    </tr>\n",
       "    <tr>\n",
       "      <th>2052</th>\n",
       "      <td>20182542</td>\n",
       "      <td>an employee had fuel contact his right eye whi...</td>\n",
       "    </tr>\n",
       "    <tr>\n",
       "      <th>18601</th>\n",
       "      <td>20202943</td>\n",
       "      <td>a wood heavy civils employee was involved in a...</td>\n",
       "    </tr>\n",
       "    <tr>\n",
       "      <th>4774</th>\n",
       "      <td>20172303</td>\n",
       "      <td>employee was in the process of inspecting a ca...</td>\n",
       "    </tr>\n",
       "  </tbody>\n",
       "</table>\n",
       "<p>100 rows × 2 columns</p>\n",
       "</div>"
      ],
      "text/plain": [
       "      incident_id                                               text\n",
       "5689     20164451  pen slipped from a height of 4m, however it la...\n",
       "5854     20164286  vehicle es 130 entered in contact with the fen...\n",
       "16030    20160147  person entered barricaded area with no authori...\n",
       "17373    20201682  ip suffered pulled muscle in left shoulder dur...\n",
       "5427     20164715  supervisor work instruction not followed migra...\n",
       "...           ...                                                ...\n",
       "8184     20192283  contained visqueen fire two turner employees w...\n",
       "27065    20222136  a wood employee tested positive for covid-19  ...\n",
       "2052     20182542  an employee had fuel contact his right eye whi...\n",
       "18601    20202943  a wood heavy civils employee was involved in a...\n",
       "4774     20172303  employee was in the process of inspecting a ca...\n",
       "\n",
       "[100 rows x 2 columns]"
      ]
     },
     "execution_count": 59,
     "metadata": {},
     "output_type": "execute_result"
    }
   ],
   "source": [
    "doc"
   ]
  },
  {
   "cell_type": "code",
   "execution_count": 60,
   "id": "4e120aef",
   "metadata": {},
   "outputs": [
    {
     "data": {
      "text/html": [
       "<div>\n",
       "<style scoped>\n",
       "    .dataframe tbody tr th:only-of-type {\n",
       "        vertical-align: middle;\n",
       "    }\n",
       "\n",
       "    .dataframe tbody tr th {\n",
       "        vertical-align: top;\n",
       "    }\n",
       "\n",
       "    .dataframe thead th {\n",
       "        text-align: right;\n",
       "    }\n",
       "</style>\n",
       "<table border=\"1\" class=\"dataframe\">\n",
       "  <thead>\n",
       "    <tr style=\"text-align: right;\">\n",
       "      <th></th>\n",
       "      <th>group</th>\n",
       "      <th>keyword</th>\n",
       "      <th>rules_pre</th>\n",
       "      <th>rules_post</th>\n",
       "      <th>rules_all</th>\n",
       "      <th>voids</th>\n",
       "    </tr>\n",
       "  </thead>\n",
       "  <tbody>\n",
       "    <tr>\n",
       "      <th>0</th>\n",
       "      <td>slips &amp; trips</td>\n",
       "      <td>slip[a-zA-Z'-]*\\b</td>\n",
       "      <td>(\\bwalking (.*) snow\\b)|(\\bwalking (.*) ice\\b)...</td>\n",
       "      <td>(\\bfall\\b)|(\\bfell\\b)|(\\bwent over\\b)|(\\bhurt....</td>\n",
       "      <td>(\\bfall\\b)|(\\bfell\\b)|(\\btrip\\b)|(\\btripped\\b)...</td>\n",
       "      <td>(\\bfell (.*) bike\\b)|(\\bno slip\\b)|(\\bno fall\\...</td>\n",
       "    </tr>\n",
       "    <tr>\n",
       "      <th>1</th>\n",
       "      <td>slips &amp; trips</td>\n",
       "      <td>trip[a-zA-Z'-]*\\b</td>\n",
       "      <td>(\\bwalking (.*) snow\\b)|(\\bwalking (.*) ice\\b)...</td>\n",
       "      <td>(\\bfall\\b)|(\\bfell\\b)|(\\bwent over\\b)|(\\bfraye...</td>\n",
       "      <td>(\\bfall\\b)|(\\bfell\\b)|(\\btrip\\b)|(\\btripped\\b)...</td>\n",
       "      <td>(\\bfell (.*) bike\\b)|(\\bno slip\\b)|(\\bno fall\\...</td>\n",
       "    </tr>\n",
       "    <tr>\n",
       "      <th>2</th>\n",
       "      <td>slips &amp; trips</td>\n",
       "      <td>stumble[a-zA-Z'-]*\\b</td>\n",
       "      <td>(\\bcausing.*cleaner to\\b)|(\\bcausing.*ip to\\b)...</td>\n",
       "      <td>(\\bfloor\\b)|(\\band twist.*\\b)</td>\n",
       "      <td>(\\bhurting foot\\b)</td>\n",
       "      <td></td>\n",
       "    </tr>\n",
       "    <tr>\n",
       "      <th>3</th>\n",
       "      <td>slips &amp; trips</td>\n",
       "      <td>uneven\\b</td>\n",
       "      <td>(\\bcausing.*cleaner to\\b)|(\\bcausing.*ip to\\b)...</td>\n",
       "      <td>(\\band twist.*\\b)</td>\n",
       "      <td>(\\bemployee.* uneven.* surface\\b)|(\\bip.* unev...</td>\n",
       "      <td></td>\n",
       "    </tr>\n",
       "    <tr>\n",
       "      <th>4</th>\n",
       "      <td>slips &amp; trips</td>\n",
       "      <td>fell\\b</td>\n",
       "      <td>(\\bcausing.*cleaner to\\b)|(\\bcausing.*ip to\\b)...</td>\n",
       "      <td>(\\band twist.*\\b)|(\\bon.*floor\\b)|(\\bon.*groun...</td>\n",
       "      <td>(\\bemployee fell back.*\\b)|(\\bip fell back.*\\b...</td>\n",
       "      <td>(\\bstraps\\b)|(\\bdrop.*\\b)|(\\bfell (.*) bike\\b)...</td>\n",
       "    </tr>\n",
       "    <tr>\n",
       "      <th>...</th>\n",
       "      <td>...</td>\n",
       "      <td>...</td>\n",
       "      <td>...</td>\n",
       "      <td>...</td>\n",
       "      <td>...</td>\n",
       "      <td>...</td>\n",
       "    </tr>\n",
       "    <tr>\n",
       "      <th>315</th>\n",
       "      <td>office or facilities incident or injury</td>\n",
       "      <td>toilet\\b</td>\n",
       "      <td>(\\bflood.*\\b)</td>\n",
       "      <td>(\\boverflow\\b)|(\\bflood.*\\b)|(\\bleak.*\\b)</td>\n",
       "      <td></td>\n",
       "      <td></td>\n",
       "    </tr>\n",
       "    <tr>\n",
       "      <th>316</th>\n",
       "      <td>vandalism</td>\n",
       "      <td>sever[a-zA-Z'-]*\\b</td>\n",
       "      <td></td>\n",
       "      <td></td>\n",
       "      <td>(\\bintentionally.*sever.*others\\b)</td>\n",
       "      <td></td>\n",
       "    </tr>\n",
       "    <tr>\n",
       "      <th>317</th>\n",
       "      <td>line of fire</td>\n",
       "      <td>pressure\\b</td>\n",
       "      <td></td>\n",
       "      <td></td>\n",
       "      <td>(\\btight.*under.*pressure_tight.*while.*pressu...</td>\n",
       "      <td></td>\n",
       "    </tr>\n",
       "    <tr>\n",
       "      <th>318</th>\n",
       "      <td>line of fire</td>\n",
       "      <td>line\\b</td>\n",
       "      <td></td>\n",
       "      <td></td>\n",
       "      <td>(\\bline of fire\\b)</td>\n",
       "      <td></td>\n",
       "    </tr>\n",
       "    <tr>\n",
       "      <th>319</th>\n",
       "      <td>line of fire</td>\n",
       "      <td>release\\b</td>\n",
       "      <td></td>\n",
       "      <td></td>\n",
       "      <td>(\\baccidental.*release.*pressure\\b)</td>\n",
       "      <td></td>\n",
       "    </tr>\n",
       "  </tbody>\n",
       "</table>\n",
       "<p>320 rows × 6 columns</p>\n",
       "</div>"
      ],
      "text/plain": [
       "                                       group               keyword  \\\n",
       "0                              slips & trips     slip[a-zA-Z'-]*\\b   \n",
       "1                              slips & trips     trip[a-zA-Z'-]*\\b   \n",
       "2                              slips & trips  stumble[a-zA-Z'-]*\\b   \n",
       "3                              slips & trips              uneven\\b   \n",
       "4                              slips & trips                fell\\b   \n",
       "..                                       ...                   ...   \n",
       "315  office or facilities incident or injury              toilet\\b   \n",
       "316                                vandalism    sever[a-zA-Z'-]*\\b   \n",
       "317                             line of fire            pressure\\b   \n",
       "318                             line of fire                line\\b   \n",
       "319                             line of fire             release\\b   \n",
       "\n",
       "                                             rules_pre  \\\n",
       "0    (\\bwalking (.*) snow\\b)|(\\bwalking (.*) ice\\b)...   \n",
       "1    (\\bwalking (.*) snow\\b)|(\\bwalking (.*) ice\\b)...   \n",
       "2    (\\bcausing.*cleaner to\\b)|(\\bcausing.*ip to\\b)...   \n",
       "3    (\\bcausing.*cleaner to\\b)|(\\bcausing.*ip to\\b)...   \n",
       "4    (\\bcausing.*cleaner to\\b)|(\\bcausing.*ip to\\b)...   \n",
       "..                                                 ...   \n",
       "315                                      (\\bflood.*\\b)   \n",
       "316                                                      \n",
       "317                                                      \n",
       "318                                                      \n",
       "319                                                      \n",
       "\n",
       "                                            rules_post  \\\n",
       "0    (\\bfall\\b)|(\\bfell\\b)|(\\bwent over\\b)|(\\bhurt....   \n",
       "1    (\\bfall\\b)|(\\bfell\\b)|(\\bwent over\\b)|(\\bfraye...   \n",
       "2                        (\\bfloor\\b)|(\\band twist.*\\b)   \n",
       "3                                    (\\band twist.*\\b)   \n",
       "4    (\\band twist.*\\b)|(\\bon.*floor\\b)|(\\bon.*groun...   \n",
       "..                                                 ...   \n",
       "315          (\\boverflow\\b)|(\\bflood.*\\b)|(\\bleak.*\\b)   \n",
       "316                                                      \n",
       "317                                                      \n",
       "318                                                      \n",
       "319                                                      \n",
       "\n",
       "                                             rules_all  \\\n",
       "0    (\\bfall\\b)|(\\bfell\\b)|(\\btrip\\b)|(\\btripped\\b)...   \n",
       "1    (\\bfall\\b)|(\\bfell\\b)|(\\btrip\\b)|(\\btripped\\b)...   \n",
       "2                                   (\\bhurting foot\\b)   \n",
       "3    (\\bemployee.* uneven.* surface\\b)|(\\bip.* unev...   \n",
       "4    (\\bemployee fell back.*\\b)|(\\bip fell back.*\\b...   \n",
       "..                                                 ...   \n",
       "315                                                      \n",
       "316                 (\\bintentionally.*sever.*others\\b)   \n",
       "317  (\\btight.*under.*pressure_tight.*while.*pressu...   \n",
       "318                                 (\\bline of fire\\b)   \n",
       "319                (\\baccidental.*release.*pressure\\b)   \n",
       "\n",
       "                                                 voids  \n",
       "0    (\\bfell (.*) bike\\b)|(\\bno slip\\b)|(\\bno fall\\...  \n",
       "1    (\\bfell (.*) bike\\b)|(\\bno slip\\b)|(\\bno fall\\...  \n",
       "2                                                       \n",
       "3                                                       \n",
       "4    (\\bstraps\\b)|(\\bdrop.*\\b)|(\\bfell (.*) bike\\b)...  \n",
       "..                                                 ...  \n",
       "315                                                     \n",
       "316                                                     \n",
       "317                                                     \n",
       "318                                                     \n",
       "319                                                     \n",
       "\n",
       "[320 rows x 6 columns]"
      ]
     },
     "execution_count": 60,
     "metadata": {},
     "output_type": "execute_result"
    }
   ],
   "source": [
    "rules"
   ]
  },
  {
   "cell_type": "code",
   "execution_count": 67,
   "id": "1e0333ff",
   "metadata": {},
   "outputs": [],
   "source": [
    "finds = [\n",
    "        (\n",
    "            rules['group'][j],\n",
    "            find_pattern(\n",
    "                doc='employee’s hand was caught in between a flang. He then got in the car and drove into a deer',\n",
    "                keyword=rules[\"keyword\"][j],\n",
    "                check_pre=rules[\"rules_pre\"][j],\n",
    "                check_post=rules[\"rules_post\"][j],\n",
    "                check_all=rules[\"rules_all\"][j],\n",
    "                check_void=rules[\"voids\"][j],\n",
    "                window=window,\n",
    "            )\n",
    "        ) for j in range(num_rules)\n",
    "    ]"
   ]
  },
  {
   "cell_type": "code",
   "execution_count": 68,
   "id": "b3e9a0eb",
   "metadata": {},
   "outputs": [
    {
     "data": {
      "text/plain": [
       "[('slips & trips', False),\n",
       " ('slips & trips', False),\n",
       " ('slips & trips', False),\n",
       " ('slips & trips', False),\n",
       " ('slips & trips', False),\n",
       " ('eye injury or irritation', False),\n",
       " ('eye injury or irritation', False),\n",
       " ('eye injury or irritation', False),\n",
       " ('vehicle Incident involving animal', False),\n",
       " ('vehicle Incident involving animal', False),\n",
       " ('vehicle Incident involving animal', True),\n",
       " ('vehicle Incident involving animal', False),\n",
       " ('theft', False),\n",
       " ('theft', False),\n",
       " ('theft', False),\n",
       " ('theft', False),\n",
       " ('theft', False),\n",
       " ('theft', False),\n",
       " ('theft', False),\n",
       " ('theft', False),\n",
       " ('competency', False),\n",
       " ('covid', False),\n",
       " ('covid', False),\n",
       " ('covid', False),\n",
       " ('covid', False),\n",
       " ('back injury', False),\n",
       " ('fall from or working at height issue', False),\n",
       " ('fall from or working at height issue', False),\n",
       " ('fall from or working at height issue', False),\n",
       " ('fall from or working at height issue', False),\n",
       " ('dropped object or material', False),\n",
       " ('dropped object or material', False),\n",
       " ('dropped object or material', False),\n",
       " ('dropped object or material', False),\n",
       " ('dropped object or material', False),\n",
       " ('dropped object or material', False),\n",
       " ('dropped object or material', False),\n",
       " ('dropped object or material', False),\n",
       " ('dropped object or material', False),\n",
       " ('dropped object or material', False),\n",
       " ('mechanical or equipment issue', False),\n",
       " ('mechanical or equipment issue', False),\n",
       " ('mechanical or equipment issue', False),\n",
       " ('mechanical or equipment issue', False),\n",
       " ('mechanical or equipment issue', False),\n",
       " ('mechanical or equipment issue', False),\n",
       " ('mechanical or equipment issue', False),\n",
       " ('mechanical or equipment issue', False),\n",
       " ('mechanical or equipment issue', False),\n",
       " ('mechanical or equipment issue', False),\n",
       " ('mechanical or equipment issue', False),\n",
       " ('mechanical or equipment issue', False),\n",
       " ('mechanical or equipment issue', False),\n",
       " ('mechanical or equipment issue', False),\n",
       " ('mechanical or equipment issue', False),\n",
       " ('mechanical or equipment issue', False),\n",
       " ('mechanical or equipment issue', False),\n",
       " ('mechanical or equipment issue', False),\n",
       " ('mechanical or equipment issue', False),\n",
       " ('mechanical or equipment issue', False),\n",
       " ('fuel spill or leak', False),\n",
       " ('fuel spill or leak', False),\n",
       " ('hydraulic fluid or oil leak', False),\n",
       " ('hydraulic fluid or oil leak', False),\n",
       " ('hydraulic fluid or oil leak', False),\n",
       " ('hydraulic fluid or oil leak', False),\n",
       " ('fire', False),\n",
       " ('fire', False),\n",
       " ('alarms', False),\n",
       " ('alarms', False),\n",
       " ('burns', False),\n",
       " ('burns', False),\n",
       " ('burns', False),\n",
       " ('speeding', False),\n",
       " ('speeding', False),\n",
       " ('bites (animals or insects)', False),\n",
       " ('bites (animals or insects)', False),\n",
       " ('bites (animals or insects)', False),\n",
       " ('vehicle incident general', False),\n",
       " ('vehicle incident general', False),\n",
       " ('vehicle incident general', True),\n",
       " ('vehicle incident general', False),\n",
       " ('vehicle incident general', False),\n",
       " ('vehicle incident general', False),\n",
       " ('vehicle incident general', False),\n",
       " ('vehicle incident general', False),\n",
       " ('vehicle incident general', False),\n",
       " ('vehicle incident general', False),\n",
       " ('vehicle incident general', False),\n",
       " ('vehicle incident general', False),\n",
       " ('vehicle incident general', False),\n",
       " ('vehicle incident general', False),\n",
       " ('vehicle incident general', False),\n",
       " ('vehicle incident general', False),\n",
       " ('vehicle incident general', False),\n",
       " ('vehicle incident general', False),\n",
       " ('vehicle incident general', False),\n",
       " ('vehicle incident general', False),\n",
       " ('vehicle incident general', False),\n",
       " ('vehicle incident general', False),\n",
       " ('vehicle incident general', False),\n",
       " ('vehicle incident general', False),\n",
       " ('vehicle incident general', False),\n",
       " ('hand or arm injury', False),\n",
       " ('hand or arm injury', False),\n",
       " ('hand or arm injury', False),\n",
       " ('hand or arm injury', False),\n",
       " ('hand or arm injury', True),\n",
       " ('hand or arm injury', False),\n",
       " ('hand or arm injury', False),\n",
       " ('hand or arm injury', False),\n",
       " ('foot or leg injury', False),\n",
       " ('foot or leg injury', False),\n",
       " ('foot or leg injury', False),\n",
       " ('foot or leg injury', False),\n",
       " ('foot or leg injury', False),\n",
       " ('foot or leg injury', False),\n",
       " ('foot or leg injury', False),\n",
       " ('foot or leg injury', False),\n",
       " ('general injury', False),\n",
       " ('general injury', False),\n",
       " ('general injury', False),\n",
       " ('general injury', False),\n",
       " ('general injury', False),\n",
       " ('general injury', False),\n",
       " ('general injury', False),\n",
       " ('general injury', False),\n",
       " ('general injury', False),\n",
       " ('non-work related injury or illness', False),\n",
       " ('non-work related injury or illness', False),\n",
       " ('minor fluid spill', False),\n",
       " ('minor fluid spill', False),\n",
       " ('lifting or moving loads', False),\n",
       " ('lifting or moving loads', False),\n",
       " ('lifting or moving loads', False),\n",
       " ('lifting or moving loads', False),\n",
       " ('lifting or moving loads', False),\n",
       " ('lifting or moving loads', False),\n",
       " ('lifting or moving loads', False),\n",
       " ('lifting or moving loads', False),\n",
       " ('lifting or moving loads', False),\n",
       " ('lifting or moving loads', False),\n",
       " ('lifting or moving loads', False),\n",
       " ('lifting or moving loads', False),\n",
       " ('lifting or moving loads', False),\n",
       " ('lifting or moving loads', False),\n",
       " ('lifting or moving loads', False),\n",
       " ('lifting or moving loads', False),\n",
       " ('lifting or moving loads', False),\n",
       " ('lifting or moving loads', False),\n",
       " ('lifting or moving loads', False),\n",
       " ('lifting or moving loads', False),\n",
       " ('lifting or moving loads', False),\n",
       " ('hazardous materials or work', False),\n",
       " ('hazardous materials or work', False),\n",
       " ('hazardous materials or work', False),\n",
       " ('hazardous materials or work', False),\n",
       " ('hazardous materials or work', False),\n",
       " ('hazardous materials or work', False),\n",
       " ('hazardous materials or work', False),\n",
       " ('hazardous materials or work', False),\n",
       " ('hazardous materials or work', False),\n",
       " ('hazardous materials or work', False),\n",
       " ('hazardous materials or work', False),\n",
       " ('hazardous materials or work', False),\n",
       " ('hazardous materials or work', False),\n",
       " ('hazardous materials or work', False),\n",
       " ('hazardous materials or work', False),\n",
       " ('hazardous materials or work', False),\n",
       " ('hazardous materials or work', False),\n",
       " ('hazardous materials or work', False),\n",
       " ('hazardous materials or work', False),\n",
       " ('general illness or health issue', False),\n",
       " ('general illness or health issue', False),\n",
       " ('general illness or health issue', False),\n",
       " ('general illness or health issue', False),\n",
       " ('general illness or health issue', False),\n",
       " ('general illness or health issue', False),\n",
       " ('general illness or health issue', False),\n",
       " ('general illness or health issue', False),\n",
       " ('general illness or health issue', False),\n",
       " ('general illness or health issue', False),\n",
       " ('general illness or health issue', False),\n",
       " ('general illness or health issue', False),\n",
       " ('general illness or health issue', False),\n",
       " ('general illness or health issue', False),\n",
       " ('general illness or health issue', False),\n",
       " ('general illness or health issue', False),\n",
       " ('general illness or health issue', False),\n",
       " ('general illness or health issue', False),\n",
       " ('general illness or health issue', False),\n",
       " ('general illness or health issue', False),\n",
       " ('general illness or health issue', False),\n",
       " ('general illness or health issue', False),\n",
       " ('general illness or health issue', False),\n",
       " ('general illness or health issue', False),\n",
       " ('general illness or health issue', False),\n",
       " ('general illness or health issue', False),\n",
       " ('vehicle incident general', False),\n",
       " ('general illness or health issue', False),\n",
       " ('general illness or health issue', False),\n",
       " ('sharp objects', False),\n",
       " ('environmental leak or issue', False),\n",
       " ('environmental leak or issue', False),\n",
       " ('environmental leak or issue', False),\n",
       " ('environmental leak or issue', False),\n",
       " ('environmental leak or issue', False),\n",
       " ('environmental leak or issue', False),\n",
       " ('environmental leak or issue', False),\n",
       " ('environmental leak or issue', False),\n",
       " ('environmental leak or issue', False),\n",
       " ('environmental leak or issue', False),\n",
       " ('environmental leak or issue', False),\n",
       " ('environmental leak or issue', False),\n",
       " ('line strike', False),\n",
       " ('line strike', False),\n",
       " ('line strike', False),\n",
       " ('line strike', False),\n",
       " ('line strike', False),\n",
       " ('line strike', False),\n",
       " ('line strike', False),\n",
       " ('line strike', False),\n",
       " ('electric shock or issue', False),\n",
       " ('electric shock or issue', False),\n",
       " ('electric shock or issue', False),\n",
       " ('electric shock or issue', False),\n",
       " ('electric shock or issue', False),\n",
       " ('ppe non-compliance', False),\n",
       " ('ppe non-compliance', False),\n",
       " ('ppe non-compliance', False),\n",
       " ('ppe non-compliance', False),\n",
       " ('ppe non-compliance', False),\n",
       " ('alcohol or drugs', False),\n",
       " ('alcohol or drugs', False),\n",
       " ('site compliance or practice issue', False),\n",
       " ('site compliance or practice issue', False),\n",
       " ('site compliance or practice issue', False),\n",
       " ('site compliance or practice issue', False),\n",
       " ('site compliance or practice issue', False),\n",
       " ('site compliance or practice issue', False),\n",
       " ('site compliance or practice issue', False),\n",
       " ('site compliance or practice issue', False),\n",
       " ('site compliance or practice issue', False),\n",
       " ('site compliance or practice issue', False),\n",
       " ('site compliance or practice issue', False),\n",
       " ('site compliance or practice issue', False),\n",
       " ('site compliance or practice issue', False),\n",
       " ('site compliance or practice issue', False),\n",
       " ('site compliance or practice issue', False),\n",
       " ('site compliance or practice issue', False),\n",
       " ('site compliance or practice issue', False),\n",
       " ('site compliance or practice issue', False),\n",
       " ('site compliance or practice issue', False),\n",
       " ('site compliance or practice issue', False),\n",
       " ('site compliance or practice issue', False),\n",
       " ('site compliance or practice issue', False),\n",
       " ('site compliance or practice issue', False),\n",
       " ('site compliance or practice issue', False),\n",
       " ('site compliance or practice issue', False),\n",
       " ('site compliance or practice issue', False),\n",
       " ('site compliance or practice issue', False),\n",
       " ('site compliance or practice issue', False),\n",
       " ('site compliance or practice issue', False),\n",
       " ('site compliance or practice issue', False),\n",
       " ('confined space non-conformance or issue', False),\n",
       " ('confined space non-conformance or issue', False),\n",
       " ('confined space non-conformance or issue', False),\n",
       " ('minor non-injury event', False),\n",
       " ('minor non-injury event', False),\n",
       " ('head or face injury', False),\n",
       " ('head or face injury', False),\n",
       " ('head or face injury', False),\n",
       " ('head or face injury', False),\n",
       " ('head or face injury', False),\n",
       " ('head or face injury', False),\n",
       " ('head or face injury', False),\n",
       " ('head or face injury', False),\n",
       " ('head or face injury', False),\n",
       " ('head or face injury', False),\n",
       " ('head or face injury', False),\n",
       " ('offshore transfer', False),\n",
       " ('work vehicle incident', False),\n",
       " ('work vehicle incident', False),\n",
       " ('aggressive behaviour', False),\n",
       " ('aggressive behaviour', False),\n",
       " ('aggressive behaviour', False),\n",
       " ('weather related issue', False),\n",
       " ('weather related issue', False),\n",
       " ('weather related issue', False),\n",
       " ('weather related issue', False),\n",
       " ('weather related issue', False),\n",
       " ('weather related issue', False),\n",
       " ('weather related issue', False),\n",
       " ('weather related issue', False),\n",
       " ('weather related issue', False),\n",
       " ('weather related issue', False),\n",
       " ('security or general safety concern', False),\n",
       " ('security or general safety concern', False),\n",
       " ('security or general safety concern', False),\n",
       " ('security or general safety concern', False),\n",
       " ('security or general safety concern', False),\n",
       " ('security or general safety concern', False),\n",
       " ('security or general safety concern', False),\n",
       " ('security or general safety concern', False),\n",
       " ('security or general safety concern', False),\n",
       " ('security or general safety concern', False),\n",
       " ('security or general safety concern', False),\n",
       " ('security or general safety concern', False),\n",
       " ('knife incident', False),\n",
       " ('excavations', False),\n",
       " ('disease or infection', False),\n",
       " ('disease or infection', False),\n",
       " ('office or facilities incident or injury', False),\n",
       " ('office or facilities incident or injury', False),\n",
       " ('office or facilities incident or injury', False),\n",
       " ('office or facilities incident or injury', False),\n",
       " ('vandalism', False),\n",
       " ('line of fire', False),\n",
       " ('line of fire', False),\n",
       " ('line of fire', False)]"
      ]
     },
     "execution_count": 68,
     "metadata": {},
     "output_type": "execute_result"
    }
   ],
   "source": [
    "finds"
   ]
  },
  {
   "cell_type": "code",
   "execution_count": 69,
   "id": "c5b913b7",
   "metadata": {},
   "outputs": [
    {
     "data": {
      "text/plain": [
       "[('vehicle Incident involving animal', True),\n",
       " ('vehicle incident general', True),\n",
       " ('hand or arm injury', True)]"
      ]
     },
     "execution_count": 69,
     "metadata": {},
     "output_type": "execute_result"
    }
   ],
   "source": [
    "output = list(filter(lambda x: x[1], finds))\n",
    "output"
   ]
  },
  {
   "cell_type": "code",
   "execution_count": 70,
   "id": "d1cce73d",
   "metadata": {},
   "outputs": [
    {
     "data": {
      "text/plain": [
       "['hand or arm injury',\n",
       " 'vehicle incident general',\n",
       " 'vehicle Incident involving animal']"
      ]
     },
     "execution_count": 70,
     "metadata": {},
     "output_type": "execute_result"
    }
   ],
   "source": [
    "output = list(set([x[0] for x in output]))\n",
    "output"
   ]
  },
  {
   "cell_type": "code",
   "execution_count": 217,
   "id": "564e550a",
   "metadata": {},
   "outputs": [],
   "source": [
    "rules = pd.read_csv('data/rule_book_test.csv')"
   ]
  },
  {
   "cell_type": "code",
   "execution_count": 168,
   "id": "e48a0b4e",
   "metadata": {},
   "outputs": [],
   "source": [
    "def translate_to_regex(rule_part):\n",
    "    \"\"\"\n",
    "    converts rule_book rules to regex format;\n",
    "    drops trailing separators in process\n",
    "    \"\"\"\n",
    "    if isinstance(rule_part, str):\n",
    "        rule_part = re.sub(r\"\\s{2,}\", \" \", rule_part)\n",
    "        rule_part = re.sub(r'\\\\\\\\b', r'\\\\b', rule_part)\n",
    "        \n",
    "        return r'(\\b' + r'\\b)|(\\b'.join([s for s in rule_part.split('_ ') if s]) + r'\\b)'\n",
    "    else:\n",
    "        return ''"
   ]
  },
  {
   "cell_type": "code",
   "execution_count": 169,
   "id": "94dc18ec",
   "metadata": {},
   "outputs": [],
   "source": [
    "# Transform columns to regular expression. \n",
    "rules[\"keyword\"] = [x.replace(\"*\", \"[a-zA-Z'-]*\") + r\"\\b\" for x in rules[\"keyword\"]]\n",
    "rules[\"rules_pre\"] = [translate_to_regex(x) for x in rules[\"rules_pre\"]]\n",
    "rules[\"rules_post\"] = [translate_to_regex(x) for x in rules[\"rules_post\"]]\n",
    "rules[\"rules_all\"] = [translate_to_regex(x) for x in rules[\"rules_all\"]]\n",
    "rules[\"voids\"] = [translate_to_regex(x) for x in rules[\"voids\"]]"
   ]
  },
  {
   "cell_type": "code",
   "execution_count": 170,
   "id": "b6343834",
   "metadata": {},
   "outputs": [
    {
     "data": {
      "text/html": [
       "<div>\n",
       "<style scoped>\n",
       "    .dataframe tbody tr th:only-of-type {\n",
       "        vertical-align: middle;\n",
       "    }\n",
       "\n",
       "    .dataframe tbody tr th {\n",
       "        vertical-align: top;\n",
       "    }\n",
       "\n",
       "    .dataframe thead th {\n",
       "        text-align: right;\n",
       "    }\n",
       "</style>\n",
       "<table border=\"1\" class=\"dataframe\">\n",
       "  <thead>\n",
       "    <tr style=\"text-align: right;\">\n",
       "      <th></th>\n",
       "      <th>group</th>\n",
       "      <th>keyword</th>\n",
       "      <th>rules_pre</th>\n",
       "      <th>rules_post</th>\n",
       "      <th>rules_all</th>\n",
       "      <th>voids</th>\n",
       "    </tr>\n",
       "  </thead>\n",
       "  <tbody>\n",
       "    <tr>\n",
       "      <th>0</th>\n",
       "      <td>eye injury or irritation</td>\n",
       "      <td>eye[a-zA-Z'-]*\\b</td>\n",
       "      <td></td>\n",
       "      <td></td>\n",
       "      <td>(\\bfp.*eye.*{worker}\\b)</td>\n",
       "      <td></td>\n",
       "    </tr>\n",
       "    <tr>\n",
       "      <th>1</th>\n",
       "      <td>site compliance or practice issue</td>\n",
       "      <td>permit\\b</td>\n",
       "      <td></td>\n",
       "      <td></td>\n",
       "      <td>(\\bduring.* audit\\b)|(\\bfailed.* section\\b)|(\\...</td>\n",
       "      <td></td>\n",
       "    </tr>\n",
       "  </tbody>\n",
       "</table>\n",
       "</div>"
      ],
      "text/plain": [
       "                               group           keyword rules_pre rules_post  \\\n",
       "0           eye injury or irritation  eye[a-zA-Z'-]*\\b                        \n",
       "1  site compliance or practice issue          permit\\b                        \n",
       "\n",
       "                                           rules_all voids  \n",
       "0                            (\\bfp.*eye.*{worker}\\b)        \n",
       "1  (\\bduring.* audit\\b)|(\\bfailed.* section\\b)|(\\...        "
      ]
     },
     "execution_count": 170,
     "metadata": {},
     "output_type": "execute_result"
    }
   ],
   "source": [
    "rules"
   ]
  },
  {
   "cell_type": "code",
   "execution_count": 95,
   "id": "5437d224",
   "metadata": {},
   "outputs": [],
   "source": [
    "finds = [\n",
    "        (\n",
    "            rules['group'][j],\n",
    "            find_pattern(\n",
    "                doc='employee’s hand was caught in between a flang. fp in the eye of the ip. He then got in the car and drove into a deer',\n",
    "                keyword=rules[\"keyword\"][j],\n",
    "                check_pre=rules[\"rules_pre\"][j],\n",
    "                check_post=rules[\"rules_post\"][j],\n",
    "                check_all=rules[\"rules_all\"][j],\n",
    "                check_void=rules[\"voids\"][j],\n",
    "                window=12,\n",
    "            )\n",
    "        ) for j in range(2)\n",
    "    ]"
   ]
  },
  {
   "cell_type": "code",
   "execution_count": 96,
   "id": "70a1385b",
   "metadata": {},
   "outputs": [
    {
     "data": {
      "text/plain": [
       "[('eye injury or irritation', False),\n",
       " ('site compliance or practice issue', False)]"
      ]
     },
     "execution_count": 96,
     "metadata": {},
     "output_type": "execute_result"
    }
   ],
   "source": [
    "finds"
   ]
  },
  {
   "cell_type": "code",
   "execution_count": 97,
   "id": "fc975212",
   "metadata": {},
   "outputs": [
    {
     "data": {
      "text/plain": [
       "'(\\\\bfp.*eye.*{ip}\\\\b)'"
      ]
     },
     "execution_count": 97,
     "metadata": {},
     "output_type": "execute_result"
    }
   ],
   "source": [
    "rules.rules_all[0]"
   ]
  },
  {
   "cell_type": "code",
   "execution_count": 98,
   "id": "abd12b2c",
   "metadata": {},
   "outputs": [
    {
     "data": {
      "text/plain": [
       "False"
      ]
     },
     "execution_count": 98,
     "metadata": {},
     "output_type": "execute_result"
    }
   ],
   "source": [
    "check_presence(rules.rules_all[0], 'hello fp in the eye of the ip my')"
   ]
  },
  {
   "cell_type": "code",
   "execution_count": 90,
   "id": "ae32cb2e",
   "metadata": {},
   "outputs": [
    {
     "data": {
      "text/plain": [
       "True"
      ]
     },
     "execution_count": 90,
     "metadata": {},
     "output_type": "execute_result"
    }
   ],
   "source": [
    "check_presence('(\\\\bfp.*eye.*ip\\\\b)', 'fp in the eye of the ip')"
   ]
  },
  {
   "cell_type": "code",
   "execution_count": null,
   "id": "8f6ca662",
   "metadata": {},
   "outputs": [],
   "source": []
  },
  {
   "cell_type": "code",
   "execution_count": null,
   "id": "3aa868bc",
   "metadata": {},
   "outputs": [],
   "source": []
  },
  {
   "cell_type": "code",
   "execution_count": 79,
   "id": "115cb2ef",
   "metadata": {},
   "outputs": [
    {
     "data": {
      "text/plain": [
       "False"
      ]
     },
     "execution_count": 79,
     "metadata": {},
     "output_type": "execute_result"
    }
   ],
   "source": [
    "bool(re.search('(\\bfp.*eye.*ip\\b)', 'fp in the eye of the ip'))"
   ]
  },
  {
   "cell_type": "code",
   "execution_count": 100,
   "id": "dd7a7b6e",
   "metadata": {},
   "outputs": [
    {
     "data": {
      "text/plain": [
       "'(\\\\bfp.*eye.*{ip}\\\\b)'"
      ]
     },
     "execution_count": 100,
     "metadata": {},
     "output_type": "execute_result"
    }
   ],
   "source": [
    "translate_to_regex(rules.rules_all[0])"
   ]
  },
  {
   "cell_type": "code",
   "execution_count": 106,
   "id": "36a5a856",
   "metadata": {},
   "outputs": [
    {
     "data": {
      "text/plain": [
       "'fp.*eye.*{ip}'"
      ]
     },
     "execution_count": 106,
     "metadata": {},
     "output_type": "execute_result"
    }
   ],
   "source": [
    "rules.rules_all[0]"
   ]
  },
  {
   "cell_type": "code",
   "execution_count": 159,
   "id": "7a1a8977",
   "metadata": {},
   "outputs": [
    {
     "data": {
      "text/plain": [
       "True"
      ]
     },
     "execution_count": 159,
     "metadata": {},
     "output_type": "execute_result"
    }
   ],
   "source": [
    "bool(re.search(\"{[a-zA-Z'-]*}\", rules.rules_all[0]))"
   ]
  },
  {
   "cell_type": "code",
   "execution_count": 160,
   "id": "21a78456",
   "metadata": {},
   "outputs": [
    {
     "data": {
      "text/plain": [
       "False"
      ]
     },
     "execution_count": 160,
     "metadata": {},
     "output_type": "execute_result"
    }
   ],
   "source": [
    "bool(re.search(\"{[a-zA-Z'-]*}\", 'fp.*eye.*ip'))"
   ]
  },
  {
   "cell_type": "code",
   "execution_count": 198,
   "id": "d2ca93d2",
   "metadata": {},
   "outputs": [
    {
     "data": {
      "text/plain": [
       "'fp.*eye.*hello'"
      ]
     },
     "execution_count": 198,
     "metadata": {},
     "output_type": "execute_result"
    }
   ],
   "source": [
    "re.sub(\"{[a-zA-Z'-]*}\", 'hello', 'fp.*eye.*{worker}')"
   ]
  },
  {
   "cell_type": "code",
   "execution_count": 120,
   "id": "3940b306",
   "metadata": {},
   "outputs": [
    {
     "data": {
      "text/html": [
       "<div>\n",
       "<style scoped>\n",
       "    .dataframe tbody tr th:only-of-type {\n",
       "        vertical-align: middle;\n",
       "    }\n",
       "\n",
       "    .dataframe tbody tr th {\n",
       "        vertical-align: top;\n",
       "    }\n",
       "\n",
       "    .dataframe thead th {\n",
       "        text-align: right;\n",
       "    }\n",
       "</style>\n",
       "<table border=\"1\" class=\"dataframe\">\n",
       "  <thead>\n",
       "    <tr style=\"text-align: right;\">\n",
       "      <th></th>\n",
       "      <th>syn</th>\n",
       "      <th>keywords</th>\n",
       "    </tr>\n",
       "  </thead>\n",
       "  <tbody>\n",
       "    <tr>\n",
       "      <th>0</th>\n",
       "      <td>arm_syns</td>\n",
       "      <td>arm, elbow, forearm, wrist, palm, finger, thum...</td>\n",
       "    </tr>\n",
       "    <tr>\n",
       "      <th>1</th>\n",
       "      <td>back_pain_syns</td>\n",
       "      <td>pain, discomfort, soreness, hurt,  swelling, s...</td>\n",
       "    </tr>\n",
       "    <tr>\n",
       "      <th>2</th>\n",
       "      <td>back_syns</td>\n",
       "      <td>back</td>\n",
       "    </tr>\n",
       "    <tr>\n",
       "      <th>3</th>\n",
       "      <td>collision_syns</td>\n",
       "      <td>collision, collission, accident, clipped</td>\n",
       "    </tr>\n",
       "    <tr>\n",
       "      <th>4</th>\n",
       "      <td>competency_syns</td>\n",
       "      <td>training, competency, certification, certifica...</td>\n",
       "    </tr>\n",
       "    <tr>\n",
       "      <th>5</th>\n",
       "      <td>covid_syns</td>\n",
       "      <td>covid, covid-19, coronavirus, corona virus, pcr</td>\n",
       "    </tr>\n",
       "    <tr>\n",
       "      <th>6</th>\n",
       "      <td>eye_syns</td>\n",
       "      <td>eye, pupil, iris</td>\n",
       "    </tr>\n",
       "    <tr>\n",
       "      <th>7</th>\n",
       "      <td>failure_syns</td>\n",
       "      <td>failed, failure, fail, leaked, leak, rupture, ...</td>\n",
       "    </tr>\n",
       "    <tr>\n",
       "      <th>8</th>\n",
       "      <td>fall_syns</td>\n",
       "      <td>fell, twisted, fall</td>\n",
       "    </tr>\n",
       "    <tr>\n",
       "      <th>9</th>\n",
       "      <td>falling_object_syns</td>\n",
       "      <td>fell, fall, falling, dropped</td>\n",
       "    </tr>\n",
       "    <tr>\n",
       "      <th>10</th>\n",
       "      <td>hurt_syns</td>\n",
       "      <td>injured, injury, sore, rolled, soreness, abras...</td>\n",
       "    </tr>\n",
       "    <tr>\n",
       "      <th>11</th>\n",
       "      <td>gen1_syns</td>\n",
       "      <td>the</td>\n",
       "    </tr>\n",
       "    <tr>\n",
       "      <th>12</th>\n",
       "      <td>height_equipment_syns</td>\n",
       "      <td>ladder, step-ladder, scaffold, platform, roof,...</td>\n",
       "    </tr>\n",
       "    <tr>\n",
       "      <th>13</th>\n",
       "      <td>illness_syns</td>\n",
       "      <td>illness</td>\n",
       "    </tr>\n",
       "    <tr>\n",
       "      <th>14</th>\n",
       "      <td>insect_animal_syns</td>\n",
       "      <td>\\bbug, \\bfly, spider, snake, insect, \\bdog, \\b...</td>\n",
       "    </tr>\n",
       "    <tr>\n",
       "      <th>15</th>\n",
       "      <td>involve_syns</td>\n",
       "      <td>involved, participated in</td>\n",
       "    </tr>\n",
       "    <tr>\n",
       "      <th>16</th>\n",
       "      <td>lacking_syns</td>\n",
       "      <td>lack of, lacking, without, with no, not have, ...</td>\n",
       "    </tr>\n",
       "    <tr>\n",
       "      <th>17</th>\n",
       "      <td>leg_syns</td>\n",
       "      <td>ankle, foot, leg, knee, toe, calf, shin, thigh...</td>\n",
       "    </tr>\n",
       "    <tr>\n",
       "      <th>18</th>\n",
       "      <td>mech_component_syns</td>\n",
       "      <td>hydraulic hose, hyd fluid, diesel, petrol, con...</td>\n",
       "    </tr>\n",
       "    <tr>\n",
       "      <th>19</th>\n",
       "      <td>non_work_syns</td>\n",
       "      <td>non-work related</td>\n",
       "    </tr>\n",
       "    <tr>\n",
       "      <th>20</th>\n",
       "      <td>object_syns</td>\n",
       "      <td>post, wall, scaffold, bollard</td>\n",
       "    </tr>\n",
       "    <tr>\n",
       "      <th>21</th>\n",
       "      <td>observed_syns</td>\n",
       "      <td>observed, witnessed, seen, spotted, was</td>\n",
       "    </tr>\n",
       "    <tr>\n",
       "      <th>22</th>\n",
       "      <td>pain_syns</td>\n",
       "      <td>pain, discomfort, soreness, hurt, something in...</td>\n",
       "    </tr>\n",
       "    <tr>\n",
       "      <th>23</th>\n",
       "      <td>ppe_syns</td>\n",
       "      <td>ppe, gloves, glasses, goggles, protective</td>\n",
       "    </tr>\n",
       "    <tr>\n",
       "      <th>24</th>\n",
       "      <td>release_syns</td>\n",
       "      <td>release, spill, discharge, contained, loss, lo...</td>\n",
       "    </tr>\n",
       "    <tr>\n",
       "      <th>25</th>\n",
       "      <td>slip_syns</td>\n",
       "      <td>slipped, tripped, slip, trip</td>\n",
       "    </tr>\n",
       "    <tr>\n",
       "      <th>26</th>\n",
       "      <td>suffered_syns</td>\n",
       "      <td>suffered, bit, bite</td>\n",
       "    </tr>\n",
       "    <tr>\n",
       "      <th>27</th>\n",
       "      <td>tested_syns</td>\n",
       "      <td>tested positive, symptoms, pcr</td>\n",
       "    </tr>\n",
       "    <tr>\n",
       "      <th>28</th>\n",
       "      <td>vehicle_syns</td>\n",
       "      <td>dozer, excavator, \\btruck, forklift, car, vehi...</td>\n",
       "    </tr>\n",
       "    <tr>\n",
       "      <th>29</th>\n",
       "      <td>vehicle_move_syns</td>\n",
       "      <td>backed into, hit, collided, reversed into, cra...</td>\n",
       "    </tr>\n",
       "    <tr>\n",
       "      <th>30</th>\n",
       "      <td>without_syns</td>\n",
       "      <td>without, with out, not wearing, no\\b, with no,...</td>\n",
       "    </tr>\n",
       "    <tr>\n",
       "      <th>31</th>\n",
       "      <td>worker_syns</td>\n",
       "      <td>employee, ip, worker, man, woman, he, she, his...</td>\n",
       "    </tr>\n",
       "    <tr>\n",
       "      <th>32</th>\n",
       "      <td>gen_body_syns</td>\n",
       "      <td>shoulder, muscle, neck, abdomen, skin, bowel, ...</td>\n",
       "    </tr>\n",
       "    <tr>\n",
       "      <th>33</th>\n",
       "      <td>theft_syns</td>\n",
       "      <td>stole, robbed, broke into</td>\n",
       "    </tr>\n",
       "    <tr>\n",
       "      <th>34</th>\n",
       "      <td>theft_object_syns</td>\n",
       "      <td>equipment, window, cabin, office, car, diesel,...</td>\n",
       "    </tr>\n",
       "  </tbody>\n",
       "</table>\n",
       "</div>"
      ],
      "text/plain": [
       "                      syn                                           keywords\n",
       "0                arm_syns  arm, elbow, forearm, wrist, palm, finger, thum...\n",
       "1          back_pain_syns  pain, discomfort, soreness, hurt,  swelling, s...\n",
       "2               back_syns                                               back\n",
       "3          collision_syns           collision, collission, accident, clipped\n",
       "4         competency_syns  training, competency, certification, certifica...\n",
       "5              covid_syns    covid, covid-19, coronavirus, corona virus, pcr\n",
       "6                eye_syns                                   eye, pupil, iris\n",
       "7            failure_syns  failed, failure, fail, leaked, leak, rupture, ...\n",
       "8               fall_syns                                fell, twisted, fall\n",
       "9     falling_object_syns                       fell, fall, falling, dropped\n",
       "10              hurt_syns  injured, injury, sore, rolled, soreness, abras...\n",
       "11              gen1_syns                                                the\n",
       "12  height_equipment_syns  ladder, step-ladder, scaffold, platform, roof,...\n",
       "13           illness_syns                                            illness\n",
       "14     insect_animal_syns  \\bbug, \\bfly, spider, snake, insect, \\bdog, \\b...\n",
       "15           involve_syns                          involved, participated in\n",
       "16           lacking_syns  lack of, lacking, without, with no, not have, ...\n",
       "17               leg_syns  ankle, foot, leg, knee, toe, calf, shin, thigh...\n",
       "18    mech_component_syns  hydraulic hose, hyd fluid, diesel, petrol, con...\n",
       "19          non_work_syns                                   non-work related\n",
       "20            object_syns                      post, wall, scaffold, bollard\n",
       "21          observed_syns            observed, witnessed, seen, spotted, was\n",
       "22              pain_syns  pain, discomfort, soreness, hurt, something in...\n",
       "23               ppe_syns          ppe, gloves, glasses, goggles, protective\n",
       "24           release_syns  release, spill, discharge, contained, loss, lo...\n",
       "25              slip_syns                       slipped, tripped, slip, trip\n",
       "26          suffered_syns                                suffered, bit, bite\n",
       "27            tested_syns                     tested positive, symptoms, pcr\n",
       "28           vehicle_syns  dozer, excavator, \\btruck, forklift, car, vehi...\n",
       "29      vehicle_move_syns  backed into, hit, collided, reversed into, cra...\n",
       "30           without_syns  without, with out, not wearing, no\\b, with no,...\n",
       "31            worker_syns  employee, ip, worker, man, woman, he, she, his...\n",
       "32          gen_body_syns  shoulder, muscle, neck, abdomen, skin, bowel, ...\n",
       "33             theft_syns                          stole, robbed, broke into\n",
       "34      theft_object_syns  equipment, window, cabin, office, car, diesel,..."
      ]
     },
     "execution_count": 120,
     "metadata": {},
     "output_type": "execute_result"
    }
   ],
   "source": [
    "syns = pd.read_csv('synonyms.csv')\n",
    "syns"
   ]
  },
  {
   "cell_type": "code",
   "execution_count": 240,
   "id": "f51d2a2b",
   "metadata": {},
   "outputs": [
    {
     "data": {
      "text/plain": [
       "['fp.*eye.*{worker}', 'spanner in {eye}']"
      ]
     },
     "execution_count": 240,
     "metadata": {},
     "output_type": "execute_result"
    }
   ],
   "source": [
    "rules = pd.read_csv('data/rule_book_test.csv')\n",
    "scan_rules = rules.rules_all[0].split('_ ')\n",
    "scan_rules"
   ]
  },
  {
   "cell_type": "code",
   "execution_count": 258,
   "id": "69d98a53",
   "metadata": {},
   "outputs": [
    {
     "data": {
      "text/plain": [
       "['{spanner}', '{eye}']"
      ]
     },
     "execution_count": 258,
     "metadata": {},
     "output_type": "execute_result"
    }
   ],
   "source": [
    "re.findall(\"{[a-zA-Z'-]*}\", '{spanner} in {eye}')"
   ]
  },
  {
   "cell_type": "code",
   "execution_count": 266,
   "id": "417ca58a",
   "metadata": {},
   "outputs": [
    {
     "data": {
      "text/plain": [
       "0"
      ]
     },
     "execution_count": 266,
     "metadata": {},
     "output_type": "execute_result"
    }
   ],
   "source": [
    "test = re.findall(\"{[a-zA-Z'-]*}\", 'spanner} in eye}')\n",
    "len(test)"
   ]
  },
  {
   "cell_type": "code",
   "execution_count": 264,
   "id": "f4074178",
   "metadata": {},
   "outputs": [
    {
     "data": {
      "text/plain": [
       "['spanner', 'eye']"
      ]
     },
     "execution_count": 264,
     "metadata": {},
     "output_type": "execute_result"
    }
   ],
   "source": [
    "[re.sub(r\"[\\([{})\\]]\", '', x) for x in re.findall(\"{[a-zA-Z'-]*}\", '{spanner} in {eye}')]"
   ]
  },
  {
   "cell_type": "code",
   "execution_count": 245,
   "id": "a689a7f5",
   "metadata": {},
   "outputs": [
    {
     "name": "stdout",
     "output_type": "stream",
     "text": [
      "fp.*eye.*employee_ fp.*eye.*ip_ fp.*eye.*worker_ fp.*eye.*man_ fp.*eye.*woman_ fp.*eye.*he_ fp.*eye.*she_ fp.*eye.*his_ fp.*eye.*her_ fp.*eye.*left_ fp.*eye.*right_ fp.*eye.*operator_ fp.*eye.*operative_ fp.*eye.*technician_ fp.*eye.*scaffolder_ fp.*eye.*team member_ fp.*eye.*person_ spanner in eye_ spanner in pupil_ spanner in iris\n"
     ]
    }
   ],
   "source": [
    "scan_rules = rules.rules_all[0].split('_ ')\n",
    "out_rules = []\n",
    "for rule in scan_rules:\n",
    "    if bool(re.search(\"{[a-zA-Z'-]*}\", rule)):\n",
    "        syn = re.sub(r\"[\\([{})\\]]\", '', re.search(\"{[a-zA-Z'-]*}\", rule).group(0))\n",
    "        found_syn = syns.loc[(syns['syn'] == syn)]\n",
    "        syn_rules = []\n",
    "        for keyword in found_syn.iloc[0, 1].split(', '):\n",
    "            syn_rules.append(re.sub(\"{[a-zA-Z'-]*}\", keyword, rule))\n",
    "        syn_rules = '_ '.join(syn_rules)\n",
    "        out_rules.append(syn_rules)\n",
    "    else:       \n",
    "        out_rules.append(rule)\n",
    "out_rules = '_ '.join(out_rules)\n",
    "print(out_rules)"
   ]
  },
  {
   "cell_type": "code",
   "execution_count": 274,
   "id": "94502dec",
   "metadata": {},
   "outputs": [
    {
     "data": {
      "text/plain": [
       "['hell.*me',\n",
       " 'hell.*you',\n",
       " 'hell.*them',\n",
       " 'butts.*me',\n",
       " 'butts.*you',\n",
       " 'butts.*them']"
      ]
     },
     "execution_count": 274,
     "metadata": {},
     "output_type": "execute_result"
    }
   ],
   "source": [
    "import itertools\n",
    "load_cases = []\n",
    "for r in itertools.product(['hell', 'butts'], ['me', 'you','them']): \n",
    "    lc = f'{r[0]}.*{r[1]}'\n",
    "    load_cases.append(lc)\n",
    "load_cases"
   ]
  },
  {
   "cell_type": "code",
   "execution_count": null,
   "id": "2096e7db",
   "metadata": {},
   "outputs": [],
   "source": []
  },
  {
   "cell_type": "code",
   "execution_count": 224,
   "id": "16ee4f6f",
   "metadata": {},
   "outputs": [
    {
     "data": {
      "text/plain": [
       "True"
      ]
     },
     "execution_count": 224,
     "metadata": {},
     "output_type": "execute_result"
    }
   ],
   "source": [
    "bool(re.search(\"{[a-zA-Z'-]*}\", scan_rules[0]))"
   ]
  },
  {
   "cell_type": "code",
   "execution_count": 174,
   "id": "eab24634",
   "metadata": {},
   "outputs": [
    {
     "data": {
      "text/plain": [
       "'worker'"
      ]
     },
     "execution_count": 174,
     "metadata": {},
     "output_type": "execute_result"
    }
   ],
   "source": [
    "syn = re.sub(r\"[\\([{})\\]]\", '', re.search(\"{[a-zA-Z'-]*}\", '(\\\\bfp.*eye.*{worker}\\\\b)').group(0))\n",
    "syn"
   ]
  },
  {
   "cell_type": "code",
   "execution_count": 178,
   "id": "7479bf3f",
   "metadata": {},
   "outputs": [],
   "source": [
    "def replace_syns(in_str):\n",
    "    mod_str = re.sub('_syns', '', in_str) \n",
    "    return(mod_str)"
   ]
  },
  {
   "cell_type": "code",
   "execution_count": 179,
   "id": "f835bc6a",
   "metadata": {},
   "outputs": [
    {
     "data": {
      "text/plain": [
       "'worker'"
      ]
     },
     "execution_count": 179,
     "metadata": {},
     "output_type": "execute_result"
    }
   ],
   "source": [
    "replace_syns('worker_syns')"
   ]
  },
  {
   "cell_type": "code",
   "execution_count": 180,
   "id": "47a847a6",
   "metadata": {},
   "outputs": [],
   "source": [
    "syns['syn'] = syns['syn'].apply(replace_syns)"
   ]
  },
  {
   "cell_type": "code",
   "execution_count": 183,
   "id": "c61b6023",
   "metadata": {},
   "outputs": [
    {
     "data": {
      "text/html": [
       "<div>\n",
       "<style scoped>\n",
       "    .dataframe tbody tr th:only-of-type {\n",
       "        vertical-align: middle;\n",
       "    }\n",
       "\n",
       "    .dataframe tbody tr th {\n",
       "        vertical-align: top;\n",
       "    }\n",
       "\n",
       "    .dataframe thead th {\n",
       "        text-align: right;\n",
       "    }\n",
       "</style>\n",
       "<table border=\"1\" class=\"dataframe\">\n",
       "  <thead>\n",
       "    <tr style=\"text-align: right;\">\n",
       "      <th></th>\n",
       "      <th>syn</th>\n",
       "      <th>keywords</th>\n",
       "    </tr>\n",
       "  </thead>\n",
       "  <tbody>\n",
       "    <tr>\n",
       "      <th>31</th>\n",
       "      <td>worker</td>\n",
       "      <td>employee, ip, worker, man, woman, he, she, his...</td>\n",
       "    </tr>\n",
       "  </tbody>\n",
       "</table>\n",
       "</div>"
      ],
      "text/plain": [
       "       syn                                           keywords\n",
       "31  worker  employee, ip, worker, man, woman, he, she, his..."
      ]
     },
     "execution_count": 183,
     "metadata": {},
     "output_type": "execute_result"
    }
   ],
   "source": [
    "found_syn = syns.loc[(syns['syn'] == syn)]\n",
    "found_syn"
   ]
  },
  {
   "cell_type": "code",
   "execution_count": 209,
   "id": "dbeb3fc5",
   "metadata": {},
   "outputs": [
    {
     "name": "stdout",
     "output_type": "stream",
     "text": [
      "fp.*eye.*employee_ fp.*eye.*ip_ fp.*eye.*worker_ fp.*eye.*man_ fp.*eye.*woman_ fp.*eye.*he_ fp.*eye.*she_ fp.*eye.*his_ fp.*eye.*her_ fp.*eye.*left_ fp.*eye.*right_ fp.*eye.*operator_ fp.*eye.*operative_ fp.*eye.*technician_ fp.*eye.*scaffolder_ fp.*eye.*team member_ fp.*eye.*person\n"
     ]
    }
   ],
   "source": [
    "syn_rules = []\n",
    "for keyword in found_syn.iloc[0, 1].split(', '):\n",
    "    syn_rules.append(re.sub(\"{[a-zA-Z'-]*}\", keyword, 'fp.*eye.*{worker}'))\n",
    "syn_rules = '_ '.join(syn_rules)\n",
    "print(syn_rules)"
   ]
  },
  {
   "cell_type": "code",
   "execution_count": 211,
   "id": "5a5c4da3",
   "metadata": {},
   "outputs": [],
   "source": [
    "test_rule = translate_to_regex(syn_rules)"
   ]
  },
  {
   "cell_type": "code",
   "execution_count": 215,
   "id": "c184f0d5",
   "metadata": {},
   "outputs": [
    {
     "data": {
      "text/plain": [
       "True"
      ]
     },
     "execution_count": 215,
     "metadata": {},
     "output_type": "execute_result"
    }
   ],
   "source": [
    "check_presence(test_rule, 'hello fp in the eye of the operator of the ip my')"
   ]
  },
  {
   "cell_type": "code",
   "execution_count": null,
   "id": "52ceac77",
   "metadata": {},
   "outputs": [],
   "source": []
  }
 ],
 "metadata": {
  "kernelspec": {
   "display_name": "Python 3 (ipykernel)",
   "language": "python",
   "name": "python3"
  },
  "language_info": {
   "codemirror_mode": {
    "name": "ipython",
    "version": 3
   },
   "file_extension": ".py",
   "mimetype": "text/x-python",
   "name": "python",
   "nbconvert_exporter": "python",
   "pygments_lexer": "ipython3",
   "version": "3.8.12"
  }
 },
 "nbformat": 4,
 "nbformat_minor": 5
}
