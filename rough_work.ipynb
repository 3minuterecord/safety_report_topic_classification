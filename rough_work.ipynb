{
 "cells": [
  {
   "cell_type": "code",
   "execution_count": null,
   "id": "1b294c81",
   "metadata": {},
   "outputs": [],
   "source": [
    "import numpy as np\n",
    "import pandas as pd\n",
    "import re\n",
    "import nltk\n",
    "from nltk.tokenize import word_tokenize\n",
    "from nltk.tokenize import sent_tokenize\n",
    "from nltk.stem import PorterStemmer as stemmer\n",
    "from tqdm.notebook import tqdm\n",
    "import rule_book_functs as rbfuncts"
   ]
  },
  {
   "cell_type": "code",
   "execution_count": null,
   "id": "97b5e4d8",
   "metadata": {},
   "outputs": [],
   "source": [
    "incidents_fn = \"data/source/20220413_D1_Incidents.csv\"\n",
    "rule_book_fn = \"data/rule_book.csv\""
   ]
  },
  {
   "cell_type": "code",
   "execution_count": null,
   "id": "b753baa1",
   "metadata": {},
   "outputs": [],
   "source": [
    "rules = pd.read_csv(rule_book_fn)\n",
    "incidents = pd.read_csv(incidents_fn, dtype=str)"
   ]
  },
  {
   "cell_type": "code",
   "execution_count": null,
   "id": "a9ecaa96",
   "metadata": {},
   "outputs": [],
   "source": [
    "incidents.rename(columns={'IncidentNumber': 'incident_id'}, inplace=True)\n",
    "incidents['text'] = (\n",
    "        incidents['ShortDescription'].astype(str).fillna('') + ' ' + \n",
    "        incidents['FullDescription'].astype(str).fillna('') + ' ' + \n",
    "        incidents['ImmediateAction'].astype(str).fillna('')\n",
    ").str.lower()\n",
    "\n",
    "incidents = incidents[['incident_id', 'text']]"
   ]
  },
  {
   "cell_type": "code",
   "execution_count": null,
   "id": "6e08a3a4",
   "metadata": {},
   "outputs": [],
   "source": [
    "#sample100 = incidents.sample(n=100)\n",
    "#sample100.index = range(100)\n",
    "#sample100.to_csv('sample100.csv', index=False)\n",
    "sample100 = pd.read_csv('sample100.csv', dtype=str)"
   ]
  },
  {
   "cell_type": "code",
   "execution_count": null,
   "id": "dfb9fe6c",
   "metadata": {},
   "outputs": [],
   "source": [
    "#incidents.text[0]"
   ]
  },
  {
   "cell_type": "code",
   "execution_count": null,
   "id": "00d7bc9c",
   "metadata": {},
   "outputs": [],
   "source": [
    "#test = incidents.text.head(1).apply(rbfuncts.lemmatize_text)\n",
    "#print(list(test))"
   ]
  },
  {
   "cell_type": "code",
   "execution_count": null,
   "id": "b1460547",
   "metadata": {},
   "outputs": [],
   "source": [
    "#test = incidents.text.head(1).apply(rbfuncts.stem_text)\n",
    "#print(list(test))"
   ]
  },
  {
   "cell_type": "code",
   "execution_count": null,
   "id": "f26a61c8",
   "metadata": {},
   "outputs": [],
   "source": [
    "#test_tokens = rbfuncts.tokenize(incidents.text[0])"
   ]
  },
  {
   "cell_type": "code",
   "execution_count": null,
   "id": "1fd5470e",
   "metadata": {},
   "outputs": [],
   "source": [
    "#chk_text = 'employee was grinding with a four-inch grinder on an iron support in the compressor building when he felt discomfort to his left eye.'\n",
    "#pattern = '(\\\\bemployee (.*) discomfort (.*) eye\\\\b)'\n",
    "#rbfuncts.check_presence(pattern, chk_text)"
   ]
  },
  {
   "cell_type": "code",
   "execution_count": null,
   "id": "880d8ad0",
   "metadata": {},
   "outputs": [],
   "source": [
    "#sents = sent_tokenize(incidents.text[0])\n",
    "#for sent in sents:\n",
    "#    if rbfuncts.check_presence(pattern, sent):\n",
    "#        print(f'{rbfuncts.check_presence(pattern, sent)}: {sent}')"
   ]
  },
  {
   "cell_type": "markdown",
   "id": "44d6b6e9",
   "metadata": {},
   "source": [
    "## Load Synonyms & Rules"
   ]
  },
  {
   "cell_type": "code",
   "execution_count": null,
   "id": "cd2ac4c1",
   "metadata": {},
   "outputs": [],
   "source": [
    "syn_csv = pd.read_csv('synonyms.csv')\n",
    "\n",
    "# Load the dictionary of synonyms\n",
    "syn_dict = {}\n",
    "for r in range(len(syn_csv)):\n",
    "    syn_toks = syn_csv.keywords[r].split(',')\n",
    "    syn_dict.update({syn_csv.syn[r]:syn_toks})\n",
    "    \n",
    "rul_csv = pd.read_csv('rules.csv')"
   ]
  },
  {
   "cell_type": "code",
   "execution_count": null,
   "id": "2b6a6267",
   "metadata": {},
   "outputs": [],
   "source": [
    "finds_df = rbfuncts.rule_book_scan(sample100, syn_dict, rul_csv)"
   ]
  },
  {
   "cell_type": "code",
   "execution_count": null,
   "id": "8947069f",
   "metadata": {},
   "outputs": [],
   "source": [
    "strs = 'This is me. He tripped and fell from the ladder.'\n",
    "#strs = 'during the scaffolding elements transporting for the assembly of scaffolding scaffolder slipped and fell due to the slippery floor'\n",
    "test = pd.DataFrame({'incident_id':[1052], 'text':[strs]})\n",
    "rbfuncts.rule_book_scan(test, syn_dict, rul_csv)"
   ]
  },
  {
   "cell_type": "code",
   "execution_count": null,
   "id": "e74b61a6",
   "metadata": {},
   "outputs": [],
   "source": [
    "print(not False)"
   ]
  },
  {
   "cell_type": "code",
   "execution_count": null,
   "id": "3739d3a6",
   "metadata": {},
   "outputs": [],
   "source": [
    "# How many incidents were classified\n",
    "len(list(dict.fromkeys(finds_df[finds_df.finds_list == True].incid_nums)))"
   ]
  },
  {
   "cell_type": "code",
   "execution_count": null,
   "id": "dc4e4d61",
   "metadata": {},
   "outputs": [],
   "source": [
    "rbfuncts.deepdive_results(sample100, incidents, finds_df, focus='finds')"
   ]
  },
  {
   "cell_type": "code",
   "execution_count": null,
   "id": "130bb973",
   "metadata": {},
   "outputs": [],
   "source": [
    "rbfuncts.deepdive_results(sample100, incidents, finds_df, focus='misses')"
   ]
  },
  {
   "cell_type": "code",
   "execution_count": null,
   "id": "b11d4088",
   "metadata": {},
   "outputs": [],
   "source": [
    "chk = 'the country gm and regional gm were on their way to their apartment when they were involved in a motor vehicle collision.'\n",
    "#check_presence('hello(.*)vehicle(.*)collision', chk)\n",
    "#check_presence('\\bregional (.*) were (.*) way\\b', chk)\n",
    "#bool(re.search('\\bregional (.*) were (.*) way\\b', chk))\n",
    "bool(re.search('involved(.*)motor(.*)collision', chk))"
   ]
  },
  {
   "cell_type": "code",
   "execution_count": null,
   "id": "d0db66b1",
   "metadata": {},
   "outputs": [],
   "source": [
    "org_string = \"This is employee's hand\"\n",
    "pattern = r\"'s\"\n",
    "\n",
    "# Replace all occurrences of character 's with an empty string\n",
    "org_string = re.sub(pattern, '', org_string )\n",
    "print(org_string)"
   ]
  },
  {
   "cell_type": "code",
   "execution_count": 9,
   "id": "bfa52f29",
   "metadata": {},
   "outputs": [],
   "source": [
    "def check_presence(pattern, string):\n",
    "    if pattern:\n",
    "        return bool(re.search(pattern, string))\n",
    "    else:\n",
    "        return False"
   ]
  },
  {
   "cell_type": "code",
   "execution_count": 17,
   "id": "013db592",
   "metadata": {},
   "outputs": [
    {
     "data": {
      "text/plain": [
       "True"
      ]
     },
     "execution_count": 17,
     "metadata": {},
     "output_type": "execute_result"
    }
   ],
   "source": [
    "x = 'debris(.*)eye(.*)employee'\n",
    "pattern = x\n",
    "check_presence(pattern, \"This debris was in the eyes of the employee's hand\")"
   ]
  },
  {
   "cell_type": "code",
   "execution_count": 2,
   "id": "6f42bbd5",
   "metadata": {},
   "outputs": [
    {
     "name": "stdout",
     "output_type": "stream",
     "text": [
      "Checking rule 4 of 7 (slips and trips)\n",
      "======================================\n"
     ]
    },
    {
     "data": {
      "application/vnd.jupyter.widget-view+json": {
       "model_id": "269ac3d264904a859712d3b85ae96227",
       "version_major": 2,
       "version_minor": 0
      },
      "text/plain": [
       "  0%|          | 0/1 [00:00<?, ?it/s]"
      ]
     },
     "metadata": {},
     "output_type": "display_data"
    },
    {
     "name": "stdout",
     "output_type": "stream",
     "text": [
      "\n",
      "\n"
     ]
    },
    {
     "data": {
      "text/html": [
       "<div>\n",
       "<style scoped>\n",
       "    .dataframe tbody tr th:only-of-type {\n",
       "        vertical-align: middle;\n",
       "    }\n",
       "\n",
       "    .dataframe tbody tr th {\n",
       "        vertical-align: top;\n",
       "    }\n",
       "\n",
       "    .dataframe thead th {\n",
       "        text-align: right;\n",
       "    }\n",
       "</style>\n",
       "<table border=\"1\" class=\"dataframe\">\n",
       "  <thead>\n",
       "    <tr style=\"text-align: right;\">\n",
       "      <th></th>\n",
       "      <th>incid_nums</th>\n",
       "      <th>finds_pats</th>\n",
       "      <th>finds_list</th>\n",
       "      <th>incid_cats</th>\n",
       "    </tr>\n",
       "  </thead>\n",
       "  <tbody>\n",
       "  </tbody>\n",
       "</table>\n",
       "</div>"
      ],
      "text/plain": [
       "Empty DataFrame\n",
       "Columns: [incid_nums, finds_pats, finds_list, incid_cats]\n",
       "Index: []"
      ]
     },
     "execution_count": 2,
     "metadata": {},
     "output_type": "execute_result"
    }
   ],
   "source": [
    "rbfuncts.rule_book_scan(test, syn_dict, rul_csv)"
   ]
  },
  {
   "cell_type": "code",
   "execution_count": 4,
   "id": "22026070",
   "metadata": {},
   "outputs": [
    {
     "data": {
      "text/html": [
       "<div>\n",
       "<style scoped>\n",
       "    .dataframe tbody tr th:only-of-type {\n",
       "        vertical-align: middle;\n",
       "    }\n",
       "\n",
       "    .dataframe tbody tr th {\n",
       "        vertical-align: top;\n",
       "    }\n",
       "\n",
       "    .dataframe thead th {\n",
       "        text-align: right;\n",
       "    }\n",
       "</style>\n",
       "<table border=\"1\" class=\"dataframe\">\n",
       "  <thead>\n",
       "    <tr style=\"text-align: right;\">\n",
       "      <th></th>\n",
       "      <th>incident_id</th>\n",
       "      <th>text</th>\n",
       "    </tr>\n",
       "  </thead>\n",
       "  <tbody>\n",
       "    <tr>\n",
       "      <th>0</th>\n",
       "      <td>1052</td>\n",
       "      <td>This is me. He tripped and fell from the ladder.</td>\n",
       "    </tr>\n",
       "  </tbody>\n",
       "</table>\n",
       "</div>"
      ],
      "text/plain": [
       "   incident_id                                              text\n",
       "0         1052  This is me. He tripped and fell from the ladder."
      ]
     },
     "execution_count": 4,
     "metadata": {},
     "output_type": "execute_result"
    }
   ],
   "source": [
    "test"
   ]
  },
  {
   "cell_type": "code",
   "execution_count": null,
   "id": "069a1871",
   "metadata": {},
   "outputs": [],
   "source": []
  }
 ],
 "metadata": {
  "kernelspec": {
   "display_name": "Python 3 (ipykernel)",
   "language": "python",
   "name": "python3"
  },
  "language_info": {
   "codemirror_mode": {
    "name": "ipython",
    "version": 3
   },
   "file_extension": ".py",
   "mimetype": "text/x-python",
   "name": "python",
   "nbconvert_exporter": "python",
   "pygments_lexer": "ipython3",
   "version": "3.8.12"
  }
 },
 "nbformat": 4,
 "nbformat_minor": 5
}
