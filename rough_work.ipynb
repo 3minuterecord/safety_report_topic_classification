{
 "cells": [
  {
   "cell_type": "code",
   "execution_count": null,
   "id": "1b294c81",
   "metadata": {},
   "outputs": [],
   "source": [
    "import numpy as np\n",
    "import pandas as pd\n",
    "import re\n",
    "import nltk\n",
    "from nltk.tokenize import word_tokenize\n",
    "from nltk.tokenize import sent_tokenize\n",
    "from nltk.stem import PorterStemmer as stemmer\n",
    "from tqdm.notebook import tqdm\n",
    "import rule_book_functs as rbfuncts"
   ]
  },
  {
   "cell_type": "code",
   "execution_count": null,
   "id": "97b5e4d8",
   "metadata": {},
   "outputs": [],
   "source": [
    "incidents_fn = \"data/source/20220413_D1_Incidents.csv\"\n",
    "rule_book_fn = \"data/rule_book.csv\""
   ]
  },
  {
   "cell_type": "code",
   "execution_count": null,
   "id": "b753baa1",
   "metadata": {},
   "outputs": [],
   "source": [
    "rules = pd.read_csv(rule_book_fn)\n",
    "incidents = pd.read_csv(incidents_fn, dtype=str)"
   ]
  },
  {
   "cell_type": "code",
   "execution_count": null,
   "id": "a9ecaa96",
   "metadata": {},
   "outputs": [],
   "source": [
    "incidents.rename(columns={'IncidentNumber': 'incident_id'}, inplace=True)\n",
    "incidents['text'] = (\n",
    "        incidents['ShortDescription'].astype(str).fillna('') + ' ' + \n",
    "        incidents['FullDescription'].astype(str).fillna('') + ' ' + \n",
    "        incidents['ImmediateAction'].astype(str).fillna('')\n",
    ").str.lower()\n",
    "\n",
    "incidents = incidents[['incident_id', 'text']]"
   ]
  },
  {
   "cell_type": "code",
   "execution_count": null,
   "id": "6e08a3a4",
   "metadata": {},
   "outputs": [],
   "source": [
    "#sample100 = incidents.sample(n=100)\n",
    "#sample100.index = range(100)\n",
    "#sample100.to_csv('sample100.csv', index=False)\n",
    "sample100 = pd.read_csv('sample100.csv', dtype=str)"
   ]
  },
  {
   "cell_type": "code",
   "execution_count": null,
   "id": "dfb9fe6c",
   "metadata": {},
   "outputs": [],
   "source": [
    "#incidents.text[0]"
   ]
  },
  {
   "cell_type": "code",
   "execution_count": null,
   "id": "00d7bc9c",
   "metadata": {},
   "outputs": [],
   "source": [
    "#test = incidents.text.head(1).apply(rbfuncts.lemmatize_text)\n",
    "#print(list(test))"
   ]
  },
  {
   "cell_type": "code",
   "execution_count": null,
   "id": "d02e1c52",
   "metadata": {},
   "outputs": [],
   "source": [
    "#test = incidents.text.head(1).apply(rbfuncts.stem_text)\n",
    "#print(list(test))"
   ]
  },
  {
   "cell_type": "code",
   "execution_count": null,
   "id": "f26a61c8",
   "metadata": {},
   "outputs": [],
   "source": [
    "#test_tokens = rbfuncts.tokenize(incidents.text[0])"
   ]
  },
  {
   "cell_type": "code",
   "execution_count": null,
   "id": "1fd5470e",
   "metadata": {},
   "outputs": [],
   "source": [
    "#chk_text = 'employee was grinding with a four-inch grinder on an iron support in the compressor building when he felt discomfort to his left eye.'\n",
    "#pattern = '(\\\\bemployee (.*) discomfort (.*) eye\\\\b)'\n",
    "#rbfuncts.check_presence(pattern, chk_text)"
   ]
  },
  {
   "cell_type": "code",
   "execution_count": null,
   "id": "880d8ad0",
   "metadata": {},
   "outputs": [],
   "source": [
    "#sents = sent_tokenize(incidents.text[0])\n",
    "#for sent in sents:\n",
    "#    if rbfuncts.check_presence(pattern, sent):\n",
    "#        print(f'{rbfuncts.check_presence(pattern, sent)}: {sent}')"
   ]
  },
  {
   "cell_type": "markdown",
   "id": "44d6b6e9",
   "metadata": {},
   "source": [
    "## Load Synonyms & Rules"
   ]
  },
  {
   "cell_type": "code",
   "execution_count": null,
   "id": "cd2ac4c1",
   "metadata": {},
   "outputs": [],
   "source": [
    "syn_csv = pd.read_csv('synonyms.csv')\n",
    "\n",
    "# Load the dictionary of synonyms\n",
    "syn_dict = {}\n",
    "for r in range(len(syn_csv)):\n",
    "    syn_toks = syn_csv.keywords[r].split(',')\n",
    "    syn_dict.update({syn_csv.syn[r]:syn_toks})\n",
    "    \n",
    "rul_csv = pd.read_csv('rules.csv')"
   ]
  },
  {
   "cell_type": "code",
   "execution_count": null,
   "id": "2b6a6267",
   "metadata": {},
   "outputs": [],
   "source": [
    "finds_df = rbfuncts.rule_book_scan(sample100, syn_dict, rul_csv)"
   ]
  },
  {
   "cell_type": "code",
   "execution_count": 22,
   "id": "4ae123a5",
   "metadata": {},
   "outputs": [],
   "source": []
  },
  {
   "cell_type": "code",
   "execution_count": 23,
   "id": "2c48301e",
   "metadata": {},
   "outputs": [
    {
     "data": {
      "text/plain": [
       "True"
      ]
     },
     "execution_count": 23,
     "metadata": {},
     "output_type": "execute_result"
    }
   ],
   "source": []
  },
  {
   "cell_type": "code",
   "execution_count": 24,
   "id": "3e13978f",
   "metadata": {},
   "outputs": [],
   "source": [
    "#finds_df"
   ]
  },
  {
   "cell_type": "code",
   "execution_count": null,
   "id": "eb483bd7",
   "metadata": {},
   "outputs": [],
   "source": [
    "strs = 'This is me. He tripped and fell from the ladder.'\n",
    "#strs = 'during the scaffolding elements transporting for the assembly of scaffolding scaffolder slipped and fell due to the slippery floor'\n",
    "test = pd.DataFrame({'incident_id':[1052], 'text':[strs]})\n",
    "rbfuncts.rule_book_scan(test, syn_dict, rul_csv)"
   ]
  },
  {
   "cell_type": "code",
   "execution_count": null,
   "id": "36d5e136",
   "metadata": {},
   "outputs": [],
   "source": [
    "print(not False)"
   ]
  },
  {
   "cell_type": "code",
   "execution_count": null,
   "id": "3739d3a6",
   "metadata": {},
   "outputs": [],
   "source": [
    "# How many incidents were classified\n",
    "len(list(dict.fromkeys(finds_df[finds_df.finds_list == True].incid_nums)))"
   ]
  },
  {
   "cell_type": "code",
   "execution_count": null,
   "id": "dc4e4d61",
   "metadata": {},
   "outputs": [],
   "source": [
    "rbfuncts.deepdive_results(sample100, incidents, finds_df, focus='finds')"
   ]
  },
  {
   "cell_type": "code",
   "execution_count": null,
   "id": "130bb973",
   "metadata": {},
   "outputs": [],
   "source": [
    "rbfuncts.deepdive_results(sample100, incidents, finds_df, focus='misses')"
   ]
  },
  {
   "cell_type": "code",
   "execution_count": null,
   "id": "f24f5ec1",
   "metadata": {},
   "outputs": [],
   "source": [
    "chk = 'the country gm and regional gm were on their way to their apartment when they were involved in a motor vehicle collision.'\n",
    "#check_presence('hello(.*)vehicle(.*)collision', chk)\n",
    "#check_presence('\\bregional (.*) were (.*) way\\b', chk)\n",
    "#bool(re.search('\\bregional (.*) were (.*) way\\b', chk))\n",
    "bool(re.search('involved(.*)motor(.*)collision', chk))"
   ]
  },
  {
   "cell_type": "code",
   "execution_count": 26,
   "id": "32c02807",
   "metadata": {},
   "outputs": [],
   "source": [
    " "
   ]
  },
  {
   "cell_type": "code",
   "execution_count": null,
   "id": "d0db66b1",
   "metadata": {},
   "outputs": [],
   "source": [
    "org_string = \"This is employee's hand\"\n",
    "pattern = r\"'s\"\n",
    "\n",
    "# Replace all occurrences of character 's with an empty string\n",
    "org_string = re.sub(pattern, '', org_string )\n",
    "print(org_string)"
   ]
  },
  {
   "cell_type": "code",
   "execution_count": 9,
   "id": "a2b99eeb",
   "metadata": {},
   "outputs": [],
   "source": [
    "def check_presence(pattern, string):\n",
    "    if pattern:\n",
    "        return bool(re.search(pattern, string))\n",
    "    else:\n",
    "        return False"
   ]
  },
  {
   "cell_type": "code",
   "execution_count": 26,
   "id": "39ca8fb2",
   "metadata": {},
   "outputs": [
    {
     "data": {
      "text/html": [
       "<div>\n",
       "<style scoped>\n",
       "    .dataframe tbody tr th:only-of-type {\n",
       "        vertical-align: middle;\n",
       "    }\n",
       "\n",
       "    .dataframe tbody tr th {\n",
       "        vertical-align: top;\n",
       "    }\n",
       "\n",
       "    .dataframe thead th {\n",
       "        text-align: right;\n",
       "    }\n",
       "</style>\n",
       "<table border=\"1\" class=\"dataframe\">\n",
       "  <thead>\n",
       "    <tr style=\"text-align: right;\">\n",
       "      <th></th>\n",
       "      <th>rule</th>\n",
       "      <th>keyword</th>\n",
       "      <th>syns</th>\n",
       "      <th>voids</th>\n",
       "      <th>span</th>\n",
       "      <th>shuffle</th>\n",
       "    </tr>\n",
       "  </thead>\n",
       "  <tbody>\n",
       "    <tr>\n",
       "      <th>0</th>\n",
       "      <td>eye injury or irritation</td>\n",
       "      <td>eye</td>\n",
       "      <td>worker_syns, pain_syns, eye_syns</td>\n",
       "      <td>NaN</td>\n",
       "      <td>8</td>\n",
       "      <td>True</td>\n",
       "    </tr>\n",
       "    <tr>\n",
       "      <th>1</th>\n",
       "      <td>eye injury or irritation</td>\n",
       "      <td>eye</td>\n",
       "      <td>gen1_syns, pain_syns, eye_syns</td>\n",
       "      <td>NaN</td>\n",
       "      <td>8</td>\n",
       "      <td>True</td>\n",
       "    </tr>\n",
       "    <tr>\n",
       "      <th>2</th>\n",
       "      <td>back injury</td>\n",
       "      <td>back</td>\n",
       "      <td>worker_syns, back_pain_syns, back_syns</td>\n",
       "      <td>NaN</td>\n",
       "      <td>8</td>\n",
       "      <td>True</td>\n",
       "    </tr>\n",
       "    <tr>\n",
       "      <th>3</th>\n",
       "      <td>slips and trips</td>\n",
       "      <td>-</td>\n",
       "      <td>worker_syns, slip_syns, fall_syns</td>\n",
       "      <td>ladder</td>\n",
       "      <td>8</td>\n",
       "      <td>True</td>\n",
       "    </tr>\n",
       "    <tr>\n",
       "      <th>4</th>\n",
       "      <td>vehicle incident</td>\n",
       "      <td>-</td>\n",
       "      <td>vehicle_syns, vehicle_move_syns, vehicle_syns</td>\n",
       "      <td>NaN</td>\n",
       "      <td>8</td>\n",
       "      <td>False</td>\n",
       "    </tr>\n",
       "    <tr>\n",
       "      <th>5</th>\n",
       "      <td>vehicle incident</td>\n",
       "      <td>-</td>\n",
       "      <td>vehicle_syns, vehicle_move_syns, object_syns</td>\n",
       "      <td>NaN</td>\n",
       "      <td>8</td>\n",
       "      <td>True</td>\n",
       "    </tr>\n",
       "    <tr>\n",
       "      <th>6</th>\n",
       "      <td>vehicle incident</td>\n",
       "      <td>-</td>\n",
       "      <td>involve_syns, vehicle_syns, collision_syns</td>\n",
       "      <td>NaN</td>\n",
       "      <td>8</td>\n",
       "      <td>False</td>\n",
       "    </tr>\n",
       "  </tbody>\n",
       "</table>\n",
       "</div>"
      ],
      "text/plain": [
       "                       rule keyword  \\\n",
       "0  eye injury or irritation     eye   \n",
       "1  eye injury or irritation     eye   \n",
       "2               back injury    back   \n",
       "3           slips and trips       -   \n",
       "4          vehicle incident       -   \n",
       "5          vehicle incident       -   \n",
       "6          vehicle incident       -   \n",
       "\n",
       "                                            syns   voids  span  shuffle  \n",
       "0               worker_syns, pain_syns, eye_syns     NaN     8     True  \n",
       "1                 gen1_syns, pain_syns, eye_syns     NaN     8     True  \n",
       "2         worker_syns, back_pain_syns, back_syns     NaN     8     True  \n",
       "3              worker_syns, slip_syns, fall_syns  ladder     8     True  \n",
       "4  vehicle_syns, vehicle_move_syns, vehicle_syns     NaN     8    False  \n",
       "5   vehicle_syns, vehicle_move_syns, object_syns     NaN     8     True  \n",
       "6     involve_syns, vehicle_syns, collision_syns     NaN     8    False  "
      ]
     },
     "execution_count": 26,
     "metadata": {},
     "output_type": "execute_result"
    }
   ],
   "source": [
    "rul_csv"
   ]
  },
  {
   "cell_type": "code",
   "execution_count": 17,
   "id": "e77353bf",
   "metadata": {},
   "outputs": [
    {
     "data": {
      "text/plain": [
       "True"
      ]
     },
     "execution_count": 17,
     "metadata": {},
     "output_type": "execute_result"
    }
   ],
   "source": [
    "x = 'debris(.*)eye(.*)employee'\n",
    "pattern = x\n",
    "check_presence(pattern, \"This debris was in the eyes of the employee's hand\")"
   ]
  },
  {
   "cell_type": "code",
   "execution_count": 2,
   "id": "9245789c",
   "metadata": {},
   "outputs": [
    {
     "name": "stdout",
     "output_type": "stream",
     "text": [
      "Checking rule 4 of 7 (slips and trips)\n",
      "======================================\n"
     ]
    },
    {
     "data": {
      "application/vnd.jupyter.widget-view+json": {
       "model_id": "269ac3d264904a859712d3b85ae96227",
       "version_major": 2,
       "version_minor": 0
      },
      "text/plain": [
       "  0%|          | 0/1 [00:00<?, ?it/s]"
      ]
     },
     "metadata": {},
     "output_type": "display_data"
    },
    {
     "name": "stdout",
     "output_type": "stream",
     "text": [
      "\n",
      "\n"
     ]
    },
    {
     "data": {
      "text/html": [
       "<div>\n",
       "<style scoped>\n",
       "    .dataframe tbody tr th:only-of-type {\n",
       "        vertical-align: middle;\n",
       "    }\n",
       "\n",
       "    .dataframe tbody tr th {\n",
       "        vertical-align: top;\n",
       "    }\n",
       "\n",
       "    .dataframe thead th {\n",
       "        text-align: right;\n",
       "    }\n",
       "</style>\n",
       "<table border=\"1\" class=\"dataframe\">\n",
       "  <thead>\n",
       "    <tr style=\"text-align: right;\">\n",
       "      <th></th>\n",
       "      <th>incid_nums</th>\n",
       "      <th>finds_pats</th>\n",
       "      <th>finds_list</th>\n",
       "      <th>incid_cats</th>\n",
       "    </tr>\n",
       "  </thead>\n",
       "  <tbody>\n",
       "  </tbody>\n",
       "</table>\n",
       "</div>"
      ],
      "text/plain": [
       "Empty DataFrame\n",
       "Columns: [incid_nums, finds_pats, finds_list, incid_cats]\n",
       "Index: []"
      ]
     },
     "execution_count": 2,
     "metadata": {},
     "output_type": "execute_result"
    }
   ],
   "source": [
    "rbfuncts.rule_book_scan(test, syn_dict, rul_csv)"
   ]
  },
  {
   "cell_type": "code",
   "execution_count": 35,
   "id": "dc9bb7c1",
   "metadata": {},
   "outputs": [
    {
     "data": {
      "text/html": [
       "<div>\n",
       "<style scoped>\n",
       "    .dataframe tbody tr th:only-of-type {\n",
       "        vertical-align: middle;\n",
       "    }\n",
       "\n",
       "    .dataframe tbody tr th {\n",
       "        vertical-align: top;\n",
       "    }\n",
       "\n",
       "    .dataframe thead th {\n",
       "        text-align: right;\n",
       "    }\n",
       "</style>\n",
       "<table border=\"1\" class=\"dataframe\">\n",
       "  <thead>\n",
       "    <tr style=\"text-align: right;\">\n",
       "      <th></th>\n",
       "      <th>id</th>\n",
       "      <th>cats</th>\n",
       "    </tr>\n",
       "  </thead>\n",
       "  <tbody>\n",
       "    <tr>\n",
       "      <th>0</th>\n",
       "      <td>1</td>\n",
       "      <td>apple</td>\n",
       "    </tr>\n",
       "    <tr>\n",
       "      <th>1</th>\n",
       "      <td>2</td>\n",
       "      <td>apple</td>\n",
       "    </tr>\n",
       "    <tr>\n",
       "      <th>2</th>\n",
       "      <td>2</td>\n",
       "      <td>apple</td>\n",
       "    </tr>\n",
       "    <tr>\n",
       "      <th>3</th>\n",
       "      <td>2</td>\n",
       "      <td>orange</td>\n",
       "    </tr>\n",
       "    <tr>\n",
       "      <th>4</th>\n",
       "      <td>3</td>\n",
       "      <td>kiwi</td>\n",
       "    </tr>\n",
       "  </tbody>\n",
       "</table>\n",
       "</div>"
      ],
      "text/plain": [
       "   id    cats\n",
       "0   1   apple\n",
       "1   2   apple\n",
       "2   2   apple\n",
       "3   2  orange\n",
       "4   3    kiwi"
      ]
     },
     "execution_count": 35,
     "metadata": {},
     "output_type": "execute_result"
    }
   ],
   "source": [
    "test = pd.DataFrame({'id':[1, 2, 2, 2, 3], 'cats':['apple', 'apple', 'apple', 'orange', 'kiwi']})\n",
    "test"
   ]
  },
  {
   "cell_type": "code",
   "execution_count": 36,
   "id": "5fcef648",
   "metadata": {},
   "outputs": [
    {
     "data": {
      "text/html": [
       "<div>\n",
       "<style scoped>\n",
       "    .dataframe tbody tr th:only-of-type {\n",
       "        vertical-align: middle;\n",
       "    }\n",
       "\n",
       "    .dataframe tbody tr th {\n",
       "        vertical-align: top;\n",
       "    }\n",
       "\n",
       "    .dataframe thead th {\n",
       "        text-align: right;\n",
       "    }\n",
       "</style>\n",
       "<table border=\"1\" class=\"dataframe\">\n",
       "  <thead>\n",
       "    <tr style=\"text-align: right;\">\n",
       "      <th></th>\n",
       "      <th>id</th>\n",
       "      <th>cats</th>\n",
       "    </tr>\n",
       "  </thead>\n",
       "  <tbody>\n",
       "    <tr>\n",
       "      <th>0</th>\n",
       "      <td>1</td>\n",
       "      <td>apple</td>\n",
       "    </tr>\n",
       "    <tr>\n",
       "      <th>1</th>\n",
       "      <td>2</td>\n",
       "      <td>apple, apple, orange</td>\n",
       "    </tr>\n",
       "    <tr>\n",
       "      <th>2</th>\n",
       "      <td>3</td>\n",
       "      <td>kiwi</td>\n",
       "    </tr>\n",
       "  </tbody>\n",
       "</table>\n",
       "</div>"
      ],
      "text/plain": [
       "   id                  cats\n",
       "0   1                 apple\n",
       "1   2  apple, apple, orange\n",
       "2   3                  kiwi"
      ]
     },
     "execution_count": 36,
     "metadata": {},
     "output_type": "execute_result"
    }
   ],
   "source": [
    "test.groupby(['id'])['cats'].apply(', '.join).reset_index()"
   ]
  },
  {
   "cell_type": "code",
   "execution_count": 37,
   "id": "d349231b",
   "metadata": {},
   "outputs": [
    {
     "data": {
      "text/plain": [
       "['apple', 'apple', 'orange']"
      ]
     },
     "execution_count": 37,
     "metadata": {},
     "output_type": "execute_result"
    }
   ],
   "source": [
    "'apple, apple, orange'.split(', ')"
   ]
  },
  {
   "cell_type": "code",
   "execution_count": 38,
   "id": "ce975749",
   "metadata": {},
   "outputs": [
    {
     "data": {
      "text/plain": [
       "['apple', 'orange']"
      ]
     },
     "execution_count": 38,
     "metadata": {},
     "output_type": "execute_result"
    }
   ],
   "source": [
    "list(dict.fromkeys('apple, apple, orange'.split(', ')))"
   ]
  },
  {
   "cell_type": "code",
   "execution_count": 41,
   "id": "f1a006c9",
   "metadata": {},
   "outputs": [
    {
     "data": {
      "text/plain": [
       "'apple, orange'"
      ]
     },
     "execution_count": 41,
     "metadata": {},
     "output_type": "execute_result"
    }
   ],
   "source": [
    "\", \".join(list(dict.fromkeys('apple, apple, orange'.split(', '))))"
   ]
  },
  {
   "cell_type": "code",
   "execution_count": 42,
   "id": "d7436c53",
   "metadata": {},
   "outputs": [],
   "source": [
    "def remove_dups(ent):\n",
    "    split_ent = ent.split(', ')\n",
    "    uniqe_ent = list(dict.fromkeys(split_ent))\n",
    "    rjoin_ent = \", \".join(uniqe_ent)\n",
    "    return(rjoin_ent)"
   ]
  },
  {
   "cell_type": "code",
   "execution_count": 43,
   "id": "f2c63e46",
   "metadata": {},
   "outputs": [
    {
     "data": {
      "text/plain": [
       "'apple, orange'"
      ]
     },
     "execution_count": 43,
     "metadata": {},
     "output_type": "execute_result"
    }
   ],
   "source": [
    "remove_dups('apple, apple, orange')"
   ]
  },
  {
   "cell_type": "code",
   "execution_count": 48,
   "id": "8c3ddc7e",
   "metadata": {},
   "outputs": [],
   "source": [
    "test = test.groupby(['id'])['cats'].apply(', '.join).reset_index()\n",
    "test['cats'] = test['cats'].apply(lambda x: remove_dups(x))"
   ]
  },
  {
   "cell_type": "code",
   "execution_count": 49,
   "id": "5ad78641",
   "metadata": {},
   "outputs": [
    {
     "data": {
      "text/html": [
       "<div>\n",
       "<style scoped>\n",
       "    .dataframe tbody tr th:only-of-type {\n",
       "        vertical-align: middle;\n",
       "    }\n",
       "\n",
       "    .dataframe tbody tr th {\n",
       "        vertical-align: top;\n",
       "    }\n",
       "\n",
       "    .dataframe thead th {\n",
       "        text-align: right;\n",
       "    }\n",
       "</style>\n",
       "<table border=\"1\" class=\"dataframe\">\n",
       "  <thead>\n",
       "    <tr style=\"text-align: right;\">\n",
       "      <th></th>\n",
       "      <th>id</th>\n",
       "      <th>cats</th>\n",
       "    </tr>\n",
       "  </thead>\n",
       "  <tbody>\n",
       "    <tr>\n",
       "      <th>0</th>\n",
       "      <td>1</td>\n",
       "      <td>apple</td>\n",
       "    </tr>\n",
       "    <tr>\n",
       "      <th>1</th>\n",
       "      <td>2</td>\n",
       "      <td>apple, orange</td>\n",
       "    </tr>\n",
       "    <tr>\n",
       "      <th>2</th>\n",
       "      <td>3</td>\n",
       "      <td>kiwi</td>\n",
       "    </tr>\n",
       "  </tbody>\n",
       "</table>\n",
       "</div>"
      ],
      "text/plain": [
       "   id           cats\n",
       "0   1          apple\n",
       "1   2  apple, orange\n",
       "2   3           kiwi"
      ]
     },
     "execution_count": 49,
     "metadata": {},
     "output_type": "execute_result"
    }
   ],
   "source": [
    "test"
   ]
  },
  {
   "cell_type": "code",
   "execution_count": null,
   "id": "8e8bdd16",
   "metadata": {},
   "outputs": [],
   "source": []
  }
 ],
 "metadata": {
  "kernelspec": {
   "display_name": "Python 3 (ipykernel)",
   "language": "python",
   "name": "python3"
  },
  "language_info": {
   "codemirror_mode": {
    "name": "ipython",
    "version": 3
   },
   "file_extension": ".py",
   "mimetype": "text/x-python",
   "name": "python",
   "nbconvert_exporter": "python",
   "pygments_lexer": "ipython3",
   "version": "3.8.12"
  }
 },
 "nbformat": 4,
 "nbformat_minor": 5
}
