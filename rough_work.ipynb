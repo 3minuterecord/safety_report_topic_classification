{
 "cells": [
  {
   "cell_type": "code",
   "execution_count": 1,
   "id": "1b294c81",
   "metadata": {},
   "outputs": [],
   "source": [
    "import numpy as np\n",
    "import pandas as pd\n",
    "import re\n",
    "import nltk\n",
    "from nltk.tokenize import word_tokenize\n",
    "from nltk.tokenize import sent_tokenize\n",
    "from nltk.stem import PorterStemmer as stemmer\n",
    "from tqdm.notebook import tqdm\n",
    "import rule_book_functs as rbfuncts"
   ]
  },
  {
   "cell_type": "code",
   "execution_count": 2,
   "id": "97b5e4d8",
   "metadata": {},
   "outputs": [],
   "source": [
    "incidents_fn = \"data/source/20220413_D1_Incidents.csv\"\n",
    "rule_book_fn = \"data/rule_book.csv\""
   ]
  },
  {
   "cell_type": "code",
   "execution_count": 3,
   "id": "b753baa1",
   "metadata": {},
   "outputs": [],
   "source": [
    "rules = pd.read_csv(rule_book_fn)\n",
    "incidents = pd.read_csv(incidents_fn, dtype=str)"
   ]
  },
  {
   "cell_type": "code",
   "execution_count": 4,
   "id": "a9ecaa96",
   "metadata": {},
   "outputs": [],
   "source": [
    "incidents.rename(columns={'IncidentNumber': 'incident_id'}, inplace=True)\n",
    "incidents['text'] = (\n",
    "        incidents['ShortDescription'].astype(str).fillna('') + ' ' + \n",
    "        incidents['FullDescription'].astype(str).fillna('') + ' ' + \n",
    "        incidents['ImmediateAction'].astype(str).fillna('')\n",
    ").str.lower()\n",
    "\n",
    "incidents = incidents[['incident_id', 'text']]"
   ]
  },
  {
   "cell_type": "code",
   "execution_count": 5,
   "id": "6e08a3a4",
   "metadata": {},
   "outputs": [],
   "source": [
    "#sample100 = incidents.sample(n=100)\n",
    "#sample100.index = range(100)\n",
    "#sample100.to_csv('sample100.csv', index=False)\n",
    "sample100 = pd.read_csv('sample100.csv', dtype=str)"
   ]
  },
  {
   "cell_type": "code",
   "execution_count": 6,
   "id": "dfb9fe6c",
   "metadata": {},
   "outputs": [],
   "source": [
    "#incidents.text[0]"
   ]
  },
  {
   "cell_type": "code",
   "execution_count": 7,
   "id": "00d7bc9c",
   "metadata": {},
   "outputs": [],
   "source": [
    "#test = incidents.text.head(1).apply(rbfuncts.lemmatize_text)\n",
    "#print(list(test))"
   ]
  },
  {
   "cell_type": "code",
   "execution_count": 8,
   "id": "699ef026",
   "metadata": {},
   "outputs": [],
   "source": [
    "#test = incidents.text.head(1).apply(rbfuncts.stem_text)\n",
    "#print(list(test))"
   ]
  },
  {
   "cell_type": "code",
   "execution_count": 9,
   "id": "f26a61c8",
   "metadata": {},
   "outputs": [],
   "source": [
    "#test_tokens = rbfuncts.tokenize(incidents.text[0])"
   ]
  },
  {
   "cell_type": "code",
   "execution_count": 10,
   "id": "1fd5470e",
   "metadata": {},
   "outputs": [],
   "source": [
    "#chk_text = 'employee was grinding with a four-inch grinder on an iron support in the compressor building when he felt discomfort to his left eye.'\n",
    "#pattern = '(\\\\bemployee (.*) discomfort (.*) eye\\\\b)'\n",
    "#rbfuncts.check_presence(pattern, chk_text)"
   ]
  },
  {
   "cell_type": "code",
   "execution_count": 11,
   "id": "880d8ad0",
   "metadata": {},
   "outputs": [],
   "source": [
    "#sents = sent_tokenize(incidents.text[0])\n",
    "#for sent in sents:\n",
    "#    if rbfuncts.check_presence(pattern, sent):\n",
    "#        print(f'{rbfuncts.check_presence(pattern, sent)}: {sent}')"
   ]
  },
  {
   "cell_type": "markdown",
   "id": "44d6b6e9",
   "metadata": {},
   "source": [
    "## Load Synonyms & Rules"
   ]
  },
  {
   "cell_type": "code",
   "execution_count": 12,
   "id": "cd2ac4c1",
   "metadata": {},
   "outputs": [],
   "source": [
    "syn_csv = pd.read_csv('synonyms.csv')\n",
    "\n",
    "# Load the dictionary of synonyms\n",
    "syn_dict = {}\n",
    "for r in range(len(syn_csv)):\n",
    "    syn_toks = syn_csv.keywords[r].split(',')\n",
    "    syn_dict.update({syn_csv.syn[r]:syn_toks})\n",
    "    \n",
    "rul_csv = pd.read_csv('rules.csv')"
   ]
  },
  {
   "cell_type": "code",
   "execution_count": 13,
   "id": "2b6a6267",
   "metadata": {},
   "outputs": [
    {
     "name": "stdout",
     "output_type": "stream",
     "text": [
      "Checking rule 1 of 24 (eye injury or irritation)\n",
      "================================================\n",
      "14/100 [0] 0.0 hrs 0.0% classified (14.0% through)..."
     ]
    },
    {
     "ename": "TypeError",
     "evalue": "slice indices must be integers or None or have an __index__ method",
     "output_type": "error",
     "traceback": [
      "\u001b[0;31m---------------------------------------------------------------------------\u001b[0m",
      "\u001b[0;31mTypeError\u001b[0m                                 Traceback (most recent call last)",
      "Input \u001b[0;32mIn [13]\u001b[0m, in \u001b[0;36m<module>\u001b[0;34m\u001b[0m\n\u001b[0;32m----> 1\u001b[0m finds_df \u001b[38;5;241m=\u001b[39m \u001b[43mrbfuncts\u001b[49m\u001b[38;5;241;43m.\u001b[39;49m\u001b[43mrule_book_scan\u001b[49m\u001b[43m(\u001b[49m\u001b[43msample100\u001b[49m\u001b[43m,\u001b[49m\u001b[43m \u001b[49m\u001b[43msyn_dict\u001b[49m\u001b[43m,\u001b[49m\u001b[43m \u001b[49m\u001b[43mrul_csv\u001b[49m\u001b[43m)\u001b[49m\n",
      "File \u001b[0;32m~/Documents/my_repos/safety_report_tc/rule_book_functs.py:235\u001b[0m, in \u001b[0;36mrule_book_scan\u001b[0;34m(incidents, syn_dict, rules, run_rules, verbose)\u001b[0m\n\u001b[1;32m    233\u001b[0m \u001b[38;5;28;01melse\u001b[39;00m:\n\u001b[1;32m    234\u001b[0m     test_tokens \u001b[38;5;241m=\u001b[39m tokenize(chk_text)\n\u001b[0;32m--> 235\u001b[0m     kwics \u001b[38;5;241m=\u001b[39m \u001b[43mget_matches\u001b[49m\u001b[43m(\u001b[49m\u001b[43msearch_keyword\u001b[49m\u001b[43m,\u001b[49m\u001b[43m \u001b[49m\u001b[43mtest_tokens\u001b[49m\u001b[43m,\u001b[49m\u001b[43m \u001b[49m\u001b[43mspan\u001b[49m\u001b[43m)\u001b[49m\n\u001b[1;32m    237\u001b[0m     \u001b[38;5;28;01mfor\u001b[39;00m kwic \u001b[38;5;129;01min\u001b[39;00m kwics:\n\u001b[1;32m    238\u001b[0m         \u001b[38;5;28;01mif\u001b[39;00m syn_count \u001b[38;5;241m==\u001b[39m \u001b[38;5;241m3\u001b[39m:\n",
      "File \u001b[0;32m~/Documents/my_repos/safety_report_tc/rule_book_functs.py:43\u001b[0m, in \u001b[0;36mget_matches\u001b[0;34m(keyword, tokens, span)\u001b[0m\n\u001b[1;32m     40\u001b[0m \u001b[38;5;28;01mdef\u001b[39;00m \u001b[38;5;21mget_matches\u001b[39m(keyword, tokens, span):\n\u001b[1;32m     41\u001b[0m     \u001b[38;5;66;03m# If the keyword matches a token, i will be where it occurs in the token string\u001b[39;00m\n\u001b[1;32m     42\u001b[0m     \u001b[38;5;66;03m# You then apply the span before and after to create a keyword in context snipet\u001b[39;00m\n\u001b[0;32m---> 43\u001b[0m     matches \u001b[38;5;241m=\u001b[39m [(\u001b[38;5;124m'\u001b[39m\u001b[38;5;124m \u001b[39m\u001b[38;5;124m'\u001b[39m\u001b[38;5;241m.\u001b[39mjoin(tokens[\u001b[38;5;28mmax\u001b[39m(\u001b[38;5;241m0\u001b[39m, i \u001b[38;5;241m-\u001b[39m span \u001b[38;5;241m-\u001b[39m \u001b[38;5;241m1\u001b[39m):i \u001b[38;5;241m+\u001b[39m span \u001b[38;5;241m+\u001b[39m \u001b[38;5;241m1\u001b[39m])) \u001b[38;5;28;01mfor\u001b[39;00m i, tok \u001b[38;5;129;01min\u001b[39;00m \u001b[38;5;28menumerate\u001b[39m(tokens) \u001b[38;5;28;01mif\u001b[39;00m re\u001b[38;5;241m.\u001b[39mmatch(keyword, tok)]\n\u001b[1;32m     44\u001b[0m     \u001b[38;5;28;01mreturn\u001b[39;00m(matches)\n",
      "File \u001b[0;32m~/Documents/my_repos/safety_report_tc/rule_book_functs.py:43\u001b[0m, in \u001b[0;36m<listcomp>\u001b[0;34m(.0)\u001b[0m\n\u001b[1;32m     40\u001b[0m \u001b[38;5;28;01mdef\u001b[39;00m \u001b[38;5;21mget_matches\u001b[39m(keyword, tokens, span):\n\u001b[1;32m     41\u001b[0m     \u001b[38;5;66;03m# If the keyword matches a token, i will be where it occurs in the token string\u001b[39;00m\n\u001b[1;32m     42\u001b[0m     \u001b[38;5;66;03m# You then apply the span before and after to create a keyword in context snipet\u001b[39;00m\n\u001b[0;32m---> 43\u001b[0m     matches \u001b[38;5;241m=\u001b[39m [(\u001b[38;5;124m'\u001b[39m\u001b[38;5;124m \u001b[39m\u001b[38;5;124m'\u001b[39m\u001b[38;5;241m.\u001b[39mjoin(\u001b[43mtokens\u001b[49m\u001b[43m[\u001b[49m\u001b[38;5;28;43mmax\u001b[39;49m\u001b[43m(\u001b[49m\u001b[38;5;241;43m0\u001b[39;49m\u001b[43m,\u001b[49m\u001b[43m \u001b[49m\u001b[43mi\u001b[49m\u001b[43m \u001b[49m\u001b[38;5;241;43m-\u001b[39;49m\u001b[43m \u001b[49m\u001b[43mspan\u001b[49m\u001b[43m \u001b[49m\u001b[38;5;241;43m-\u001b[39;49m\u001b[43m \u001b[49m\u001b[38;5;241;43m1\u001b[39;49m\u001b[43m)\u001b[49m\u001b[43m:\u001b[49m\u001b[43mi\u001b[49m\u001b[43m \u001b[49m\u001b[38;5;241;43m+\u001b[39;49m\u001b[43m \u001b[49m\u001b[43mspan\u001b[49m\u001b[43m \u001b[49m\u001b[38;5;241;43m+\u001b[39;49m\u001b[43m \u001b[49m\u001b[38;5;241;43m1\u001b[39;49m\u001b[43m]\u001b[49m)) \u001b[38;5;28;01mfor\u001b[39;00m i, tok \u001b[38;5;129;01min\u001b[39;00m \u001b[38;5;28menumerate\u001b[39m(tokens) \u001b[38;5;28;01mif\u001b[39;00m re\u001b[38;5;241m.\u001b[39mmatch(keyword, tok)]\n\u001b[1;32m     44\u001b[0m     \u001b[38;5;28;01mreturn\u001b[39;00m(matches)\n",
      "\u001b[0;31mTypeError\u001b[0m: slice indices must be integers or None or have an __index__ method"
     ]
    }
   ],
   "source": [
    "finds_df = rbfuncts.rule_book_scan(sample100, syn_dict, rul_csv)"
   ]
  },
  {
   "cell_type": "code",
   "execution_count": null,
   "id": "4ae123a5",
   "metadata": {},
   "outputs": [],
   "source": []
  },
  {
   "cell_type": "code",
   "execution_count": null,
   "id": "2c48301e",
   "metadata": {},
   "outputs": [],
   "source": []
  },
  {
   "cell_type": "code",
   "execution_count": 14,
   "id": "3e13978f",
   "metadata": {},
   "outputs": [],
   "source": [
    "#finds_df"
   ]
  },
  {
   "cell_type": "code",
   "execution_count": 15,
   "id": "fa64a57e",
   "metadata": {},
   "outputs": [
    {
     "name": "stdout",
     "output_type": "stream",
     "text": [
      "Checking rule 1 of 24 (eye injury or irritation)\n",
      "================================================\n",
      "1/1 [0] 0.0 hrs 0.0% classified (100.0% through)...\n",
      "\n",
      "Checking rule 2 of 24 (eye injury or irritation)\n",
      "================================================\n",
      "1/1 [0] 0.0 hrs 0.0% classified (100.0% through)...\n",
      "\n",
      "Checking rule 3 of 24 (back injury)\n",
      "===================================\n",
      "1/1 [0] 0.0 hrs 0.0% classified (100.0% through)...\n",
      "\n",
      "Checking rule 4 of 24 (covid)\n",
      "=============================\n",
      "1/1 [0] 0.0 hrs 0.0% classified (100.0% through)...\n",
      "\n",
      "Checking rule 5 of 24 (fall from or working at height issue)\n",
      "============================================================\n",
      "1/1 [0] 0.0 hrs 0.0% classified (100.0% through)...\n",
      "\n",
      "Checking rule 6 of 24 (fall from or working at height issue)\n",
      "============================================================\n",
      "1/1 [0] 0.0 hrs 0.0% classified (100.0% through)...\n",
      "\n",
      "Checking rule 7 of 24 (fall from or working at height issue)\n",
      "============================================================\n",
      "1/1 [0] 0.0 hrs 0.0% classified (100.0% through)...\n",
      "\n",
      "Checking rule 8 of 24 (foot or leg injury)\n",
      "==========================================\n",
      "1/1 [1] 0.0 hrs 100.0% classified (100.0% through)...\n",
      "\n",
      "Checking rule 9 of 24 (general injury)\n",
      "======================================\n",
      "1/1 [1] 0.0 hrs 100.0% classified (100.0% through)...\n",
      "\n",
      "Checking rule 10 of 24 (hand or arm injury)\n",
      "===========================================\n",
      "1/1 [1] 0.0 hrs 100.0% classified (100.0% through)...\n",
      "\n",
      "Checking rule 11 of 24 (hydraulic fluid or oil leak)\n",
      "====================================================\n",
      "1/1 [1] 0.0 hrs 100.0% classified (100.0% through)...\n",
      "\n",
      "Checking rule 12 of 24 (hydraulic fluid or oil leak)\n",
      "====================================================\n",
      "1/1 [1] 0.0 hrs 100.0% classified (100.0% through)...\n",
      "\n",
      "Checking rule 13 of 24 (bites (animals or insects))\n",
      "===================================================\n",
      "1/1 [1] 0.0 hrs 100.0% classified (100.0% through)...\n",
      "\n",
      "Checking rule 14 of 24 (lack of competency)\n",
      "===========================================\n",
      "1/1 [1] 0.0 hrs 100.0% classified (100.0% through)...\n",
      "\n"
     ]
    },
    {
     "ename": "TypeError",
     "evalue": "expected string or bytes-like object",
     "output_type": "error",
     "traceback": [
      "\u001b[0;31m---------------------------------------------------------------------------\u001b[0m",
      "\u001b[0;31mTypeError\u001b[0m                                 Traceback (most recent call last)",
      "Input \u001b[0;32mIn [15]\u001b[0m, in \u001b[0;36m<module>\u001b[0;34m\u001b[0m\n\u001b[1;32m      2\u001b[0m \u001b[38;5;66;03m#strs = 'during the scaffolding elements transporting for the assembly of scaffolding scaffolder slipped and fell due to the slippery floor'\u001b[39;00m\n\u001b[1;32m      3\u001b[0m test \u001b[38;5;241m=\u001b[39m pd\u001b[38;5;241m.\u001b[39mDataFrame({\u001b[38;5;124m'\u001b[39m\u001b[38;5;124mincident_id\u001b[39m\u001b[38;5;124m'\u001b[39m:[\u001b[38;5;241m1052\u001b[39m], \u001b[38;5;124m'\u001b[39m\u001b[38;5;124mtext\u001b[39m\u001b[38;5;124m'\u001b[39m:[strs]})\n\u001b[0;32m----> 4\u001b[0m \u001b[43mrbfuncts\u001b[49m\u001b[38;5;241;43m.\u001b[39;49m\u001b[43mrule_book_scan\u001b[49m\u001b[43m(\u001b[49m\u001b[43mtest\u001b[49m\u001b[43m,\u001b[49m\u001b[43m \u001b[49m\u001b[43msyn_dict\u001b[49m\u001b[43m,\u001b[49m\u001b[43m \u001b[49m\u001b[43mrul_csv\u001b[49m\u001b[43m)\u001b[49m\n",
      "File \u001b[0;32m~/Documents/my_repos/safety_report_tc/rule_book_functs.py:118\u001b[0m, in \u001b[0;36mrule_book_scan\u001b[0;34m(incidents, syn_dict, rules, run_rules, verbose)\u001b[0m\n\u001b[1;32m    114\u001b[0m finds_count \u001b[38;5;241m=\u001b[39m \u001b[38;5;241m0\u001b[39m\n\u001b[1;32m    116\u001b[0m \u001b[38;5;28;01mfor\u001b[39;00m r \u001b[38;5;129;01min\u001b[39;00m run_rules_list:\n\u001b[0;32m--> 118\u001b[0m     rul_syns \u001b[38;5;241m=\u001b[39m tokenize(\u001b[43mre\u001b[49m\u001b[38;5;241;43m.\u001b[39;49m\u001b[43msub\u001b[49m\u001b[43m(\u001b[49m\u001b[38;5;124;43mr\u001b[39;49m\u001b[38;5;124;43m\"\u001b[39;49m\u001b[38;5;124;43m, \u001b[39;49m\u001b[38;5;124;43m\"\u001b[39;49m\u001b[43m,\u001b[49m\u001b[43m \u001b[49m\u001b[38;5;124;43m\"\u001b[39;49m\u001b[38;5;124;43m \u001b[39;49m\u001b[38;5;124;43m\"\u001b[39;49m\u001b[43m,\u001b[49m\u001b[43m \u001b[49m\u001b[43mrules\u001b[49m\u001b[38;5;241;43m.\u001b[39;49m\u001b[43msyns\u001b[49m\u001b[43m[\u001b[49m\u001b[43mr\u001b[49m\u001b[43m]\u001b[49m\u001b[43m)\u001b[49m)\n\u001b[1;32m    120\u001b[0m     pos_1st \u001b[38;5;241m=\u001b[39m syn_dict\u001b[38;5;241m.\u001b[39mget(rul_syns[\u001b[38;5;241m0\u001b[39m])\n\u001b[1;32m    121\u001b[0m     pos_2nd \u001b[38;5;241m=\u001b[39m syn_dict\u001b[38;5;241m.\u001b[39mget(rul_syns[\u001b[38;5;241m1\u001b[39m])\n",
      "File \u001b[0;32m~/miniforge3/envs/work/lib/python3.8/re.py:210\u001b[0m, in \u001b[0;36msub\u001b[0;34m(pattern, repl, string, count, flags)\u001b[0m\n\u001b[1;32m    203\u001b[0m \u001b[38;5;28;01mdef\u001b[39;00m \u001b[38;5;21msub\u001b[39m(pattern, repl, string, count\u001b[38;5;241m=\u001b[39m\u001b[38;5;241m0\u001b[39m, flags\u001b[38;5;241m=\u001b[39m\u001b[38;5;241m0\u001b[39m):\n\u001b[1;32m    204\u001b[0m     \u001b[38;5;124;03m\"\"\"Return the string obtained by replacing the leftmost\u001b[39;00m\n\u001b[1;32m    205\u001b[0m \u001b[38;5;124;03m    non-overlapping occurrences of the pattern in string by the\u001b[39;00m\n\u001b[1;32m    206\u001b[0m \u001b[38;5;124;03m    replacement repl.  repl can be either a string or a callable;\u001b[39;00m\n\u001b[1;32m    207\u001b[0m \u001b[38;5;124;03m    if a string, backslash escapes in it are processed.  If it is\u001b[39;00m\n\u001b[1;32m    208\u001b[0m \u001b[38;5;124;03m    a callable, it's passed the Match object and must return\u001b[39;00m\n\u001b[1;32m    209\u001b[0m \u001b[38;5;124;03m    a replacement string to be used.\"\"\"\u001b[39;00m\n\u001b[0;32m--> 210\u001b[0m     \u001b[38;5;28;01mreturn\u001b[39;00m \u001b[43m_compile\u001b[49m\u001b[43m(\u001b[49m\u001b[43mpattern\u001b[49m\u001b[43m,\u001b[49m\u001b[43m \u001b[49m\u001b[43mflags\u001b[49m\u001b[43m)\u001b[49m\u001b[38;5;241;43m.\u001b[39;49m\u001b[43msub\u001b[49m\u001b[43m(\u001b[49m\u001b[43mrepl\u001b[49m\u001b[43m,\u001b[49m\u001b[43m \u001b[49m\u001b[43mstring\u001b[49m\u001b[43m,\u001b[49m\u001b[43m \u001b[49m\u001b[43mcount\u001b[49m\u001b[43m)\u001b[49m\n",
      "\u001b[0;31mTypeError\u001b[0m: expected string or bytes-like object"
     ]
    }
   ],
   "source": [
    "strs = 'This is me. He tripped and fell from the ladder.'\n",
    "#strs = 'during the scaffolding elements transporting for the assembly of scaffolding scaffolder slipped and fell due to the slippery floor'\n",
    "test = pd.DataFrame({'incident_id':[1052], 'text':[strs]})\n",
    "rbfuncts.rule_book_scan(test, syn_dict, rul_csv)"
   ]
  },
  {
   "cell_type": "code",
   "execution_count": null,
   "id": "5e8f8d61",
   "metadata": {},
   "outputs": [],
   "source": [
    "print(not False)"
   ]
  },
  {
   "cell_type": "code",
   "execution_count": null,
   "id": "3739d3a6",
   "metadata": {},
   "outputs": [],
   "source": [
    "# How many incidents were classified\n",
    "len(list(dict.fromkeys(finds_df[finds_df.finds_list == True].incid_nums)))"
   ]
  },
  {
   "cell_type": "code",
   "execution_count": null,
   "id": "dc4e4d61",
   "metadata": {},
   "outputs": [],
   "source": [
    "rbfuncts.deepdive_results(sample100, incidents, finds_df, focus='finds')"
   ]
  },
  {
   "cell_type": "code",
   "execution_count": null,
   "id": "130bb973",
   "metadata": {},
   "outputs": [],
   "source": [
    "rbfuncts.deepdive_results(sample100, incidents, finds_df, focus='misses')"
   ]
  },
  {
   "cell_type": "code",
   "execution_count": null,
   "id": "0006b0ed",
   "metadata": {},
   "outputs": [],
   "source": [
    "chk = 'the country gm and regional gm were on their way to their apartment when they were involved in a motor vehicle collision.'\n",
    "#check_presence('hello(.*)vehicle(.*)collision', chk)\n",
    "#check_presence('\\bregional (.*) were (.*) way\\b', chk)\n",
    "#bool(re.search('\\bregional (.*) were (.*) way\\b', chk))\n",
    "bool(re.search('involved(.*)motor(.*)collision', chk))"
   ]
  },
  {
   "cell_type": "code",
   "execution_count": null,
   "id": "32c02807",
   "metadata": {},
   "outputs": [],
   "source": [
    " "
   ]
  },
  {
   "cell_type": "code",
   "execution_count": null,
   "id": "d0db66b1",
   "metadata": {},
   "outputs": [],
   "source": [
    "org_string = \"This is employee's hand\"\n",
    "pattern = r\"'s\"\n",
    "\n",
    "# Replace all occurrences of character 's with an empty string\n",
    "org_string = re.sub(pattern, '', org_string )\n",
    "print(org_string)"
   ]
  },
  {
   "cell_type": "code",
   "execution_count": 27,
   "id": "9316ea57",
   "metadata": {},
   "outputs": [],
   "source": [
    "def check_presence(pattern, string):\n",
    "    if pattern:\n",
    "        return bool(re.search(pattern, string))\n",
    "    else:\n",
    "        return False"
   ]
  },
  {
   "cell_type": "code",
   "execution_count": null,
   "id": "e39db40d",
   "metadata": {},
   "outputs": [],
   "source": [
    "rul_csv"
   ]
  },
  {
   "cell_type": "code",
   "execution_count": null,
   "id": "918cb8c0",
   "metadata": {},
   "outputs": [],
   "source": [
    "x = 'car(.*)hit(.*)\\\\bcat'\n",
    "pattern = x\n",
    "check_presence(pattern, \"the car hit the cat\")"
   ]
  },
  {
   "cell_type": "code",
   "execution_count": null,
   "id": "4d37d199",
   "metadata": {},
   "outputs": [],
   "source": [
    "re.sub(r\"\\\\\\\\b\", \"\\\\b\", 'no\\\\\\\\b')"
   ]
  },
  {
   "cell_type": "code",
   "execution_count": null,
   "id": "ad5941b6",
   "metadata": {},
   "outputs": [],
   "source": [
    "test = pd.DataFrame({'id':[1, 2, 2, 2, 3], 'cats':['apple', 'apple', 'apple', 'orange', 'kiwi']})\n",
    "test"
   ]
  },
  {
   "cell_type": "code",
   "execution_count": null,
   "id": "5be6b69a",
   "metadata": {},
   "outputs": [],
   "source": [
    "test.groupby(['id'])['cats'].apply(', '.join).reset_index()"
   ]
  },
  {
   "cell_type": "code",
   "execution_count": null,
   "id": "9af811b0",
   "metadata": {},
   "outputs": [],
   "source": [
    "'apple, apple, orange'.split(', ')"
   ]
  },
  {
   "cell_type": "code",
   "execution_count": null,
   "id": "47fbeb69",
   "metadata": {},
   "outputs": [],
   "source": [
    "list(dict.fromkeys('apple, apple, orange'.split(', ')))"
   ]
  },
  {
   "cell_type": "code",
   "execution_count": null,
   "id": "49b6b386",
   "metadata": {},
   "outputs": [],
   "source": [
    "\", \".join(list(dict.fromkeys('apple, apple, orange'.split(', '))))"
   ]
  },
  {
   "cell_type": "code",
   "execution_count": null,
   "id": "c7fa9c9d",
   "metadata": {},
   "outputs": [],
   "source": [
    "def remove_dups(ent):\n",
    "    split_ent = ent.split(', ')\n",
    "    uniqe_ent = list(dict.fromkeys(split_ent))\n",
    "    rjoin_ent = \", \".join(uniqe_ent)\n",
    "    return(rjoin_ent)"
   ]
  },
  {
   "cell_type": "code",
   "execution_count": null,
   "id": "10b05cd3",
   "metadata": {},
   "outputs": [],
   "source": [
    "remove_dups('apple, apple, orange')"
   ]
  },
  {
   "cell_type": "code",
   "execution_count": null,
   "id": "64629339",
   "metadata": {},
   "outputs": [],
   "source": [
    "test = test.groupby(['id'])['cats'].apply(', '.join).reset_index()\n",
    "test['cats'] = test['cats'].apply(lambda x: remove_dups(x))"
   ]
  },
  {
   "cell_type": "code",
   "execution_count": null,
   "id": "d99340c9",
   "metadata": {},
   "outputs": [],
   "source": [
    "test"
   ]
  },
  {
   "cell_type": "code",
   "execution_count": null,
   "id": "e40d55e5",
   "metadata": {},
   "outputs": [],
   "source": [
    "for r in [1, 2, 3]:\n",
    "    print(r)"
   ]
  },
  {
   "cell_type": "code",
   "execution_count": null,
   "id": "c01d2c32",
   "metadata": {},
   "outputs": [],
   "source": [
    "finds_count = 0\n",
    "finds_count+=1\n",
    "finds_count"
   ]
  },
  {
   "cell_type": "code",
   "execution_count": null,
   "id": "d43f2cb1",
   "metadata": {},
   "outputs": [],
   "source": [
    "from time import sleep\n",
    "import sys\n",
    "\n",
    "for i in range(200):\n",
    "    sys.stdout.write('\\r')\n",
    "    # the exact output you're looking for:\n",
    "    sys.stdout.write(str(i))\n",
    "    sys.stdout.flush()\n",
    "    sleep(0.05)"
   ]
  },
  {
   "cell_type": "code",
   "execution_count": null,
   "id": "490af6a3",
   "metadata": {},
   "outputs": [],
   "source": [
    "from datetime import datetime\n",
    "\n",
    "now = datetime.now()\n"
   ]
  },
  {
   "cell_type": "code",
   "execution_count": null,
   "id": "5286e1be",
   "metadata": {},
   "outputs": [],
   "source": [
    "then = datetime.now()"
   ]
  },
  {
   "cell_type": "code",
   "execution_count": null,
   "id": "0b6705ae",
   "metadata": {},
   "outputs": [],
   "source": [
    "diff = then - now"
   ]
  },
  {
   "cell_type": "code",
   "execution_count": null,
   "id": "f68eb18b",
   "metadata": {},
   "outputs": [],
   "source": [
    "round(diff.seconds/(60*60), 2)"
   ]
  },
  {
   "cell_type": "code",
   "execution_count": null,
   "id": "1310cc66",
   "metadata": {},
   "outputs": [],
   "source": [
    "round(60*60/(60*60), 2)"
   ]
  },
  {
   "cell_type": "code",
   "execution_count": null,
   "id": "48b4845f",
   "metadata": {},
   "outputs": [],
   "source": [
    "value = 10000\n",
    "f'{value:,}'"
   ]
  },
  {
   "cell_type": "code",
   "execution_count": null,
   "id": "7358e475",
   "metadata": {},
   "outputs": [],
   "source": [
    "test = pd.DataFrame({'rule':['employee(.*)hurt(.*)hand', 'ip(.*)hurt(.*)hand']})"
   ]
  },
  {
   "cell_type": "code",
   "execution_count": null,
   "id": "cb282727",
   "metadata": {},
   "outputs": [],
   "source": [
    "test"
   ]
  },
  {
   "cell_type": "code",
   "execution_count": null,
   "id": "143c67fa",
   "metadata": {},
   "outputs": [],
   "source": [
    "test['status'] = test['rule'].apply(lambda x: check_presence(x, 'the ip hurt his right hand'))\n",
    "test"
   ]
  },
  {
   "cell_type": "code",
   "execution_count": 17,
   "id": "7c36c03a",
   "metadata": {},
   "outputs": [],
   "source": [
    "# Load raw incident data\n",
    "incidents = pd.read_csv(\"data/source/20220413_D1_Incidents.csv\", dtype=str)  \n",
    "\n",
    "# Load the synonym dictionary in its raw csv format\n",
    "syn_csv = pd.read_csv('synonyms.csv')\n",
    "\n",
    "# Load the rule definitions\n",
    "rul_csv = pd.read_csv('rules.csv')\n",
    "\n",
    "# Concatenate some of the fields to make the 'text' field for searching\n",
    "incidents.rename(columns={'IncidentNumber': 'incident_id'}, inplace=True)\n",
    "incidents['text'] = (\n",
    "        incidents['ShortDescription'].astype(str).fillna('') + ' ' + \n",
    "        incidents['FullDescription'].astype(str).fillna('') + ' ' + \n",
    "        incidents['ImmediateAction'].astype(str).fillna('')\n",
    ").str.lower()\n",
    "\n",
    "# We only need the incident ID and the text for now\n",
    "incidents = incidents[['incident_id', 'text']]\n",
    "\n",
    "# Now convert the csv format into a dictionary of synonyms\n",
    "syn_dict = {}\n",
    "for r in range(len(syn_csv)):\n",
    "    syn_toks = syn_csv.keywords[r].split(',')\n",
    "    syn_dict.update({syn_csv.syn[r]:syn_toks})"
   ]
  },
  {
   "cell_type": "code",
   "execution_count": 18,
   "id": "2357713d",
   "metadata": {},
   "outputs": [
    {
     "data": {
      "text/html": [
       "<div>\n",
       "<style scoped>\n",
       "    .dataframe tbody tr th:only-of-type {\n",
       "        vertical-align: middle;\n",
       "    }\n",
       "\n",
       "    .dataframe tbody tr th {\n",
       "        vertical-align: top;\n",
       "    }\n",
       "\n",
       "    .dataframe thead th {\n",
       "        text-align: right;\n",
       "    }\n",
       "</style>\n",
       "<table border=\"1\" class=\"dataframe\">\n",
       "  <thead>\n",
       "    <tr style=\"text-align: right;\">\n",
       "      <th></th>\n",
       "      <th>rule</th>\n",
       "      <th>keyword</th>\n",
       "      <th>syns</th>\n",
       "      <th>voids</th>\n",
       "      <th>span</th>\n",
       "      <th>shuffle</th>\n",
       "    </tr>\n",
       "  </thead>\n",
       "  <tbody>\n",
       "    <tr>\n",
       "      <th>0</th>\n",
       "      <td>eye injury or irritation</td>\n",
       "      <td>eye</td>\n",
       "      <td>worker_syns, pain_syns, eye_syns</td>\n",
       "      <td>NaN</td>\n",
       "      <td>8.0</td>\n",
       "      <td>True</td>\n",
       "    </tr>\n",
       "    <tr>\n",
       "      <th>1</th>\n",
       "      <td>eye injury or irritation</td>\n",
       "      <td>eye</td>\n",
       "      <td>gen1_syns, pain_syns, eye_syns</td>\n",
       "      <td>NaN</td>\n",
       "      <td>8.0</td>\n",
       "      <td>True</td>\n",
       "    </tr>\n",
       "    <tr>\n",
       "      <th>2</th>\n",
       "      <td>back injury</td>\n",
       "      <td>back</td>\n",
       "      <td>worker_syns, back_pain_syns, back_syns</td>\n",
       "      <td>NaN</td>\n",
       "      <td>8.0</td>\n",
       "      <td>True</td>\n",
       "    </tr>\n",
       "    <tr>\n",
       "      <th>3</th>\n",
       "      <td>covid</td>\n",
       "      <td>-</td>\n",
       "      <td>worker_syns, tested_syns, covid_syns</td>\n",
       "      <td>NaN</td>\n",
       "      <td>8.0</td>\n",
       "      <td>True</td>\n",
       "    </tr>\n",
       "    <tr>\n",
       "      <th>4</th>\n",
       "      <td>fall from or working at height issue</td>\n",
       "      <td>height</td>\n",
       "      <td>height_equipment_syns, falling_object_syns</td>\n",
       "      <td>same level, slippery floor, wet floor, slipper...</td>\n",
       "      <td>8.0</td>\n",
       "      <td>False</td>\n",
       "    </tr>\n",
       "    <tr>\n",
       "      <th>5</th>\n",
       "      <td>fall from or working at height issue</td>\n",
       "      <td>fall</td>\n",
       "      <td>height_equipment_syns, falling_object_syns</td>\n",
       "      <td>same level, slippery floor, wet floor, slipper...</td>\n",
       "      <td>8.0</td>\n",
       "      <td>False</td>\n",
       "    </tr>\n",
       "    <tr>\n",
       "      <th>6</th>\n",
       "      <td>fall from or working at height issue</td>\n",
       "      <td>-</td>\n",
       "      <td>worker_syns, height_equipment_syns, falling_ob...</td>\n",
       "      <td>same level, slippery floor, wet floor, slipper...</td>\n",
       "      <td>8.0</td>\n",
       "      <td>True</td>\n",
       "    </tr>\n",
       "    <tr>\n",
       "      <th>7</th>\n",
       "      <td>foot or leg injury</td>\n",
       "      <td>-</td>\n",
       "      <td>worker_syns, hurt_syns, leg_syns</td>\n",
       "      <td>NaN</td>\n",
       "      <td>8.0</td>\n",
       "      <td>True</td>\n",
       "    </tr>\n",
       "    <tr>\n",
       "      <th>8</th>\n",
       "      <td>general injury</td>\n",
       "      <td>-</td>\n",
       "      <td>worker_syns, hurt_syns, gen_body_syns</td>\n",
       "      <td>NaN</td>\n",
       "      <td>8.0</td>\n",
       "      <td>True</td>\n",
       "    </tr>\n",
       "    <tr>\n",
       "      <th>9</th>\n",
       "      <td>hand or arm injury</td>\n",
       "      <td>-</td>\n",
       "      <td>worker_syns, hurt_syns, arm_syns</td>\n",
       "      <td>NaN</td>\n",
       "      <td>8.0</td>\n",
       "      <td>True</td>\n",
       "    </tr>\n",
       "    <tr>\n",
       "      <th>10</th>\n",
       "      <td>hydraulic fluid or oil leak</td>\n",
       "      <td>-</td>\n",
       "      <td>mech_component_syns, failure_syns, release_syns</td>\n",
       "      <td>NaN</td>\n",
       "      <td>8.0</td>\n",
       "      <td>True</td>\n",
       "    </tr>\n",
       "    <tr>\n",
       "      <th>11</th>\n",
       "      <td>hydraulic fluid or oil leak</td>\n",
       "      <td>-</td>\n",
       "      <td>mech_component_syns, failure_syns</td>\n",
       "      <td>NaN</td>\n",
       "      <td>8.0</td>\n",
       "      <td>False</td>\n",
       "    </tr>\n",
       "    <tr>\n",
       "      <th>12</th>\n",
       "      <td>bites (animals or insects)</td>\n",
       "      <td>-</td>\n",
       "      <td>worker_syns, suffered_syns, insect_animal_syns</td>\n",
       "      <td>NaN</td>\n",
       "      <td>8.0</td>\n",
       "      <td>True</td>\n",
       "    </tr>\n",
       "    <tr>\n",
       "      <th>13</th>\n",
       "      <td>lack of competency</td>\n",
       "      <td>-</td>\n",
       "      <td>worker_syns, lacking_syns, competency_syns</td>\n",
       "      <td>NaN</td>\n",
       "      <td>8.0</td>\n",
       "      <td>False</td>\n",
       "    </tr>\n",
       "    <tr>\n",
       "      <th>14</th>\n",
       "      <td>mechanical or equipment issue</td>\n",
       "      <td>-</td>\n",
       "      <td>NaN</td>\n",
       "      <td>NaN</td>\n",
       "      <td>NaN</td>\n",
       "      <td>NaN</td>\n",
       "    </tr>\n",
       "    <tr>\n",
       "      <th>15</th>\n",
       "      <td>non-work related injury or illness</td>\n",
       "      <td>-</td>\n",
       "      <td>worker_syns, non_work_syns, illness_syns</td>\n",
       "      <td>NaN</td>\n",
       "      <td>8.0</td>\n",
       "      <td>True</td>\n",
       "    </tr>\n",
       "    <tr>\n",
       "      <th>16</th>\n",
       "      <td>ppe non-compliance</td>\n",
       "      <td>ppe</td>\n",
       "      <td>observed_syns, without_syns, ppe_syns</td>\n",
       "      <td>NaN</td>\n",
       "      <td>8.0</td>\n",
       "      <td>False</td>\n",
       "    </tr>\n",
       "    <tr>\n",
       "      <th>17</th>\n",
       "      <td>slips and trips</td>\n",
       "      <td>-</td>\n",
       "      <td>worker_syns, slip_syns, fall_syns</td>\n",
       "      <td>ladder, step-ladder</td>\n",
       "      <td>8.0</td>\n",
       "      <td>True</td>\n",
       "    </tr>\n",
       "    <tr>\n",
       "      <th>18</th>\n",
       "      <td>slips and trips</td>\n",
       "      <td>slip</td>\n",
       "      <td>slip_syns, fall_syns</td>\n",
       "      <td>ladder, step-ladder</td>\n",
       "      <td>8.0</td>\n",
       "      <td>False</td>\n",
       "    </tr>\n",
       "    <tr>\n",
       "      <th>19</th>\n",
       "      <td>theft</td>\n",
       "      <td>-</td>\n",
       "      <td>worker_syns, theft_syns, theft_object_syns</td>\n",
       "      <td>NaN</td>\n",
       "      <td>8.0</td>\n",
       "      <td>True</td>\n",
       "    </tr>\n",
       "    <tr>\n",
       "      <th>20</th>\n",
       "      <td>vehicle incident</td>\n",
       "      <td>-</td>\n",
       "      <td>vehicle_syns, vehicle_move_syns, vehicle_syns</td>\n",
       "      <td>NaN</td>\n",
       "      <td>8.0</td>\n",
       "      <td>False</td>\n",
       "    </tr>\n",
       "    <tr>\n",
       "      <th>21</th>\n",
       "      <td>vehicle incident</td>\n",
       "      <td>-</td>\n",
       "      <td>vehicle_syns, vehicle_move_syns, object_syns</td>\n",
       "      <td>NaN</td>\n",
       "      <td>8.0</td>\n",
       "      <td>True</td>\n",
       "    </tr>\n",
       "    <tr>\n",
       "      <th>22</th>\n",
       "      <td>vehicle incident</td>\n",
       "      <td>-</td>\n",
       "      <td>involve_syns, vehicle_syns, collision_syns</td>\n",
       "      <td>NaN</td>\n",
       "      <td>8.0</td>\n",
       "      <td>False</td>\n",
       "    </tr>\n",
       "    <tr>\n",
       "      <th>23</th>\n",
       "      <td>vehicle Incident involving animal</td>\n",
       "      <td>-</td>\n",
       "      <td>vehicle_syns, vehicle_move_syns, insect_animal...</td>\n",
       "      <td>NaN</td>\n",
       "      <td>8.0</td>\n",
       "      <td>True</td>\n",
       "    </tr>\n",
       "  </tbody>\n",
       "</table>\n",
       "</div>"
      ],
      "text/plain": [
       "                                    rule keyword  \\\n",
       "0               eye injury or irritation     eye   \n",
       "1               eye injury or irritation     eye   \n",
       "2                            back injury    back   \n",
       "3                                  covid       -   \n",
       "4   fall from or working at height issue  height   \n",
       "5   fall from or working at height issue    fall   \n",
       "6   fall from or working at height issue       -   \n",
       "7                     foot or leg injury       -   \n",
       "8                         general injury       -   \n",
       "9                     hand or arm injury       -   \n",
       "10           hydraulic fluid or oil leak       -   \n",
       "11           hydraulic fluid or oil leak       -   \n",
       "12            bites (animals or insects)       -   \n",
       "13                    lack of competency       -   \n",
       "14         mechanical or equipment issue       -   \n",
       "15    non-work related injury or illness       -   \n",
       "16                    ppe non-compliance     ppe   \n",
       "17                       slips and trips       -   \n",
       "18                       slips and trips    slip   \n",
       "19                                 theft       -   \n",
       "20                      vehicle incident       -   \n",
       "21                      vehicle incident       -   \n",
       "22                      vehicle incident       -   \n",
       "23     vehicle Incident involving animal       -   \n",
       "\n",
       "                                                 syns  \\\n",
       "0                    worker_syns, pain_syns, eye_syns   \n",
       "1                      gen1_syns, pain_syns, eye_syns   \n",
       "2              worker_syns, back_pain_syns, back_syns   \n",
       "3                worker_syns, tested_syns, covid_syns   \n",
       "4          height_equipment_syns, falling_object_syns   \n",
       "5          height_equipment_syns, falling_object_syns   \n",
       "6   worker_syns, height_equipment_syns, falling_ob...   \n",
       "7                    worker_syns, hurt_syns, leg_syns   \n",
       "8               worker_syns, hurt_syns, gen_body_syns   \n",
       "9                    worker_syns, hurt_syns, arm_syns   \n",
       "10    mech_component_syns, failure_syns, release_syns   \n",
       "11                  mech_component_syns, failure_syns   \n",
       "12     worker_syns, suffered_syns, insect_animal_syns   \n",
       "13         worker_syns, lacking_syns, competency_syns   \n",
       "14                                                NaN   \n",
       "15           worker_syns, non_work_syns, illness_syns   \n",
       "16              observed_syns, without_syns, ppe_syns   \n",
       "17                  worker_syns, slip_syns, fall_syns   \n",
       "18                               slip_syns, fall_syns   \n",
       "19         worker_syns, theft_syns, theft_object_syns   \n",
       "20      vehicle_syns, vehicle_move_syns, vehicle_syns   \n",
       "21       vehicle_syns, vehicle_move_syns, object_syns   \n",
       "22         involve_syns, vehicle_syns, collision_syns   \n",
       "23  vehicle_syns, vehicle_move_syns, insect_animal...   \n",
       "\n",
       "                                                voids  span shuffle  \n",
       "0                                                 NaN   8.0    True  \n",
       "1                                                 NaN   8.0    True  \n",
       "2                                                 NaN   8.0    True  \n",
       "3                                                 NaN   8.0    True  \n",
       "4   same level, slippery floor, wet floor, slipper...   8.0   False  \n",
       "5   same level, slippery floor, wet floor, slipper...   8.0   False  \n",
       "6   same level, slippery floor, wet floor, slipper...   8.0    True  \n",
       "7                                                 NaN   8.0    True  \n",
       "8                                                 NaN   8.0    True  \n",
       "9                                                 NaN   8.0    True  \n",
       "10                                                NaN   8.0    True  \n",
       "11                                                NaN   8.0   False  \n",
       "12                                                NaN   8.0    True  \n",
       "13                                                NaN   8.0   False  \n",
       "14                                                NaN   NaN     NaN  \n",
       "15                                                NaN   8.0    True  \n",
       "16                                                NaN   8.0   False  \n",
       "17                                ladder, step-ladder   8.0    True  \n",
       "18                                ladder, step-ladder   8.0   False  \n",
       "19                                                NaN   8.0    True  \n",
       "20                                                NaN   8.0   False  \n",
       "21                                                NaN   8.0    True  \n",
       "22                                                NaN   8.0   False  \n",
       "23                                                NaN   8.0    True  "
      ]
     },
     "execution_count": 18,
     "metadata": {},
     "output_type": "execute_result"
    }
   ],
   "source": [
    "rul_csv"
   ]
  },
  {
   "cell_type": "code",
   "execution_count": 19,
   "id": "2a8f3764",
   "metadata": {},
   "outputs": [],
   "source": [
    "# worker_syns, pain_syns, eye_syns\n",
    "worker_syns = ['employee', 'ip', 'worker', 'man', 'woman', 'he', 'she', 'his']\n",
    "pain_syns = ['pain', 'discomfort', 'soreness', 'hurt', 'something in', 'grit', 'swelling']\n",
    "eye_syns = ['eye', 'pupil', 'iris']"
   ]
  },
  {
   "cell_type": "code",
   "execution_count": 20,
   "id": "85863d38",
   "metadata": {},
   "outputs": [],
   "source": [
    "def tokenize(text):\n",
    "    tokens = word_tokenize(text)\n",
    "    tokens = [tok for tok in tokens if tok!='-']\n",
    "    return tokens"
   ]
  },
  {
   "cell_type": "code",
   "execution_count": 21,
   "id": "8a6bbd0d",
   "metadata": {},
   "outputs": [
    {
     "data": {
      "text/plain": [
       "['worker_syns', 'pain_syns', 'eye_syns']"
      ]
     },
     "execution_count": 21,
     "metadata": {},
     "output_type": "execute_result"
    }
   ],
   "source": [
    "rul_syns = tokenize(re.sub(r\", \", \" \", rul_csv.syns[0]))\n",
    "rul_syns"
   ]
  },
  {
   "cell_type": "code",
   "execution_count": 22,
   "id": "0647da3a",
   "metadata": {},
   "outputs": [
    {
     "data": {
      "text/plain": [
       "['employee',\n",
       " ' ip',\n",
       " ' worker',\n",
       " ' man',\n",
       " ' woman',\n",
       " ' he',\n",
       " ' she',\n",
       " ' his',\n",
       " ' her',\n",
       " ' left',\n",
       " ' right',\n",
       " ' operator',\n",
       " ' operative',\n",
       " ' technician',\n",
       " ' scaffolder',\n",
       " ' team member',\n",
       " ' person']"
      ]
     },
     "execution_count": 22,
     "metadata": {},
     "output_type": "execute_result"
    }
   ],
   "source": [
    "syn_dict.get(rul_syns[0])"
   ]
  },
  {
   "cell_type": "code",
   "execution_count": 125,
   "id": "5d3d9556",
   "metadata": {},
   "outputs": [],
   "source": [
    "import itertools\n",
    "\n",
    "c = 1\n",
    "\n",
    "patterns = []\n",
    "lhs = []\n",
    "rhs = []\n",
    "syn_count = len(rul_syns)\n",
    "\n",
    "for i in range(syn_count):\n",
    "    locals()[f'l{i+1}'] = syn_dict.get(rul_syns[i])\n",
    "\n",
    "iter_prod = itertools.product(l1, l2, l3)\n",
    "\n",
    "for r in iter_prod: \n",
    "    if syn_count == 2:\n",
    "        pt = f'{r[0].strip()}(.*){r[1].strip()}'\n",
    "    elif syn_count == 3:\n",
    "        pt = f'{r[0].strip()}(.*){r[1].strip()}(.*){r[2].strip()}'\n",
    "    else:\n",
    "        pt = f'{r[0].strip()}(.*){r[1].strip()}(.*){r[2].strip()}(.*){r[3].strip()}'\n",
    "    patterns.append(pt)\n",
    "    lhs.append(r[0].strip())\n",
    "    rhs.append(r[2].strip())\n",
    "    c += 1\n",
    "    \n",
    "test = pd.DataFrame({'pattern':patterns})    \n",
    "test['lhs'] = lhs\n",
    "test['rhs'] = rhs"
   ]
  },
  {
   "cell_type": "code",
   "execution_count": 126,
   "id": "d75ce32d",
   "metadata": {},
   "outputs": [
    {
     "data": {
      "text/html": [
       "<div>\n",
       "<style scoped>\n",
       "    .dataframe tbody tr th:only-of-type {\n",
       "        vertical-align: middle;\n",
       "    }\n",
       "\n",
       "    .dataframe tbody tr th {\n",
       "        vertical-align: top;\n",
       "    }\n",
       "\n",
       "    .dataframe thead th {\n",
       "        text-align: right;\n",
       "    }\n",
       "</style>\n",
       "<table border=\"1\" class=\"dataframe\">\n",
       "  <thead>\n",
       "    <tr style=\"text-align: right;\">\n",
       "      <th></th>\n",
       "      <th>pattern</th>\n",
       "      <th>lhs</th>\n",
       "      <th>rhs</th>\n",
       "    </tr>\n",
       "  </thead>\n",
       "  <tbody>\n",
       "    <tr>\n",
       "      <th>0</th>\n",
       "      <td>employee(.*)pain(.*)eye</td>\n",
       "      <td>employee</td>\n",
       "      <td>eye</td>\n",
       "    </tr>\n",
       "    <tr>\n",
       "      <th>1</th>\n",
       "      <td>employee(.*)pain(.*)pupil</td>\n",
       "      <td>employee</td>\n",
       "      <td>pupil</td>\n",
       "    </tr>\n",
       "    <tr>\n",
       "      <th>2</th>\n",
       "      <td>employee(.*)pain(.*)iris</td>\n",
       "      <td>employee</td>\n",
       "      <td>iris</td>\n",
       "    </tr>\n",
       "    <tr>\n",
       "      <th>3</th>\n",
       "      <td>employee(.*)discomfort(.*)eye</td>\n",
       "      <td>employee</td>\n",
       "      <td>eye</td>\n",
       "    </tr>\n",
       "    <tr>\n",
       "      <th>4</th>\n",
       "      <td>employee(.*)discomfort(.*)pupil</td>\n",
       "      <td>employee</td>\n",
       "      <td>pupil</td>\n",
       "    </tr>\n",
       "    <tr>\n",
       "      <th>...</th>\n",
       "      <td>...</td>\n",
       "      <td>...</td>\n",
       "      <td>...</td>\n",
       "    </tr>\n",
       "    <tr>\n",
       "      <th>1321</th>\n",
       "      <td>person(.*)swelling(.*)pupil</td>\n",
       "      <td>person</td>\n",
       "      <td>pupil</td>\n",
       "    </tr>\n",
       "    <tr>\n",
       "      <th>1322</th>\n",
       "      <td>person(.*)swelling(.*)iris</td>\n",
       "      <td>person</td>\n",
       "      <td>iris</td>\n",
       "    </tr>\n",
       "    <tr>\n",
       "      <th>1323</th>\n",
       "      <td>person(.*)swollen(.*)eye</td>\n",
       "      <td>person</td>\n",
       "      <td>eye</td>\n",
       "    </tr>\n",
       "    <tr>\n",
       "      <th>1324</th>\n",
       "      <td>person(.*)swollen(.*)pupil</td>\n",
       "      <td>person</td>\n",
       "      <td>pupil</td>\n",
       "    </tr>\n",
       "    <tr>\n",
       "      <th>1325</th>\n",
       "      <td>person(.*)swollen(.*)iris</td>\n",
       "      <td>person</td>\n",
       "      <td>iris</td>\n",
       "    </tr>\n",
       "  </tbody>\n",
       "</table>\n",
       "<p>1326 rows × 3 columns</p>\n",
       "</div>"
      ],
      "text/plain": [
       "                              pattern       lhs    rhs\n",
       "0             employee(.*)pain(.*)eye  employee    eye\n",
       "1           employee(.*)pain(.*)pupil  employee  pupil\n",
       "2            employee(.*)pain(.*)iris  employee   iris\n",
       "3       employee(.*)discomfort(.*)eye  employee    eye\n",
       "4     employee(.*)discomfort(.*)pupil  employee  pupil\n",
       "...                               ...       ...    ...\n",
       "1321      person(.*)swelling(.*)pupil    person  pupil\n",
       "1322       person(.*)swelling(.*)iris    person   iris\n",
       "1323         person(.*)swollen(.*)eye    person    eye\n",
       "1324       person(.*)swollen(.*)pupil    person  pupil\n",
       "1325        person(.*)swollen(.*)iris    person   iris\n",
       "\n",
       "[1326 rows x 3 columns]"
      ]
     },
     "execution_count": 126,
     "metadata": {},
     "output_type": "execute_result"
    }
   ],
   "source": [
    "test"
   ]
  },
  {
   "cell_type": "code",
   "execution_count": 127,
   "id": "521f48c9",
   "metadata": {},
   "outputs": [
    {
     "data": {
      "text/plain": [
       "936"
      ]
     },
     "execution_count": 127,
     "metadata": {},
     "output_type": "execute_result"
    }
   ],
   "source": [
    "chk_sent = 'the person hurt his right eye'\n",
    "sum(test['lhs'].apply(lambda x: find_index(chk_sent, x, pos='left')))"
   ]
  },
  {
   "cell_type": "code",
   "execution_count": 129,
   "id": "38200a65",
   "metadata": {},
   "outputs": [
    {
     "name": "stdout",
     "output_type": "stream",
     "text": [
      "['the', 'person', 'hurt', 'his', 'right', 'eye']\n"
     ]
    },
    {
     "data": {
      "text/html": [
       "<div>\n",
       "<style scoped>\n",
       "    .dataframe tbody tr th:only-of-type {\n",
       "        vertical-align: middle;\n",
       "    }\n",
       "\n",
       "    .dataframe tbody tr th {\n",
       "        vertical-align: top;\n",
       "    }\n",
       "\n",
       "    .dataframe thead th {\n",
       "        text-align: right;\n",
       "    }\n",
       "</style>\n",
       "<table border=\"1\" class=\"dataframe\">\n",
       "  <thead>\n",
       "    <tr style=\"text-align: right;\">\n",
       "      <th></th>\n",
       "      <th>pattern</th>\n",
       "      <th>lhs</th>\n",
       "      <th>rhs</th>\n",
       "      <th>found</th>\n",
       "      <th>lhs_index</th>\n",
       "      <th>rhs_index</th>\n",
       "      <th>span</th>\n",
       "    </tr>\n",
       "  </thead>\n",
       "  <tbody>\n",
       "    <tr>\n",
       "      <th>0</th>\n",
       "      <td>employee(.*)pain(.*)eye</td>\n",
       "      <td>employee</td>\n",
       "      <td>eye</td>\n",
       "      <td>False</td>\n",
       "      <td>0</td>\n",
       "      <td>6</td>\n",
       "      <td>6</td>\n",
       "    </tr>\n",
       "    <tr>\n",
       "      <th>1</th>\n",
       "      <td>employee(.*)pain(.*)pupil</td>\n",
       "      <td>employee</td>\n",
       "      <td>pupil</td>\n",
       "      <td>False</td>\n",
       "      <td>0</td>\n",
       "      <td>0</td>\n",
       "      <td>0</td>\n",
       "    </tr>\n",
       "    <tr>\n",
       "      <th>2</th>\n",
       "      <td>employee(.*)pain(.*)iris</td>\n",
       "      <td>employee</td>\n",
       "      <td>iris</td>\n",
       "      <td>False</td>\n",
       "      <td>0</td>\n",
       "      <td>0</td>\n",
       "      <td>0</td>\n",
       "    </tr>\n",
       "    <tr>\n",
       "      <th>3</th>\n",
       "      <td>employee(.*)discomfort(.*)eye</td>\n",
       "      <td>employee</td>\n",
       "      <td>eye</td>\n",
       "      <td>False</td>\n",
       "      <td>0</td>\n",
       "      <td>6</td>\n",
       "      <td>6</td>\n",
       "    </tr>\n",
       "    <tr>\n",
       "      <th>4</th>\n",
       "      <td>employee(.*)discomfort(.*)pupil</td>\n",
       "      <td>employee</td>\n",
       "      <td>pupil</td>\n",
       "      <td>False</td>\n",
       "      <td>0</td>\n",
       "      <td>0</td>\n",
       "      <td>0</td>\n",
       "    </tr>\n",
       "    <tr>\n",
       "      <th>...</th>\n",
       "      <td>...</td>\n",
       "      <td>...</td>\n",
       "      <td>...</td>\n",
       "      <td>...</td>\n",
       "      <td>...</td>\n",
       "      <td>...</td>\n",
       "      <td>...</td>\n",
       "    </tr>\n",
       "    <tr>\n",
       "      <th>1321</th>\n",
       "      <td>person(.*)swelling(.*)pupil</td>\n",
       "      <td>person</td>\n",
       "      <td>pupil</td>\n",
       "      <td>False</td>\n",
       "      <td>2</td>\n",
       "      <td>0</td>\n",
       "      <td>-2</td>\n",
       "    </tr>\n",
       "    <tr>\n",
       "      <th>1322</th>\n",
       "      <td>person(.*)swelling(.*)iris</td>\n",
       "      <td>person</td>\n",
       "      <td>iris</td>\n",
       "      <td>False</td>\n",
       "      <td>2</td>\n",
       "      <td>0</td>\n",
       "      <td>-2</td>\n",
       "    </tr>\n",
       "    <tr>\n",
       "      <th>1323</th>\n",
       "      <td>person(.*)swollen(.*)eye</td>\n",
       "      <td>person</td>\n",
       "      <td>eye</td>\n",
       "      <td>False</td>\n",
       "      <td>2</td>\n",
       "      <td>6</td>\n",
       "      <td>4</td>\n",
       "    </tr>\n",
       "    <tr>\n",
       "      <th>1324</th>\n",
       "      <td>person(.*)swollen(.*)pupil</td>\n",
       "      <td>person</td>\n",
       "      <td>pupil</td>\n",
       "      <td>False</td>\n",
       "      <td>2</td>\n",
       "      <td>0</td>\n",
       "      <td>-2</td>\n",
       "    </tr>\n",
       "    <tr>\n",
       "      <th>1325</th>\n",
       "      <td>person(.*)swollen(.*)iris</td>\n",
       "      <td>person</td>\n",
       "      <td>iris</td>\n",
       "      <td>False</td>\n",
       "      <td>2</td>\n",
       "      <td>0</td>\n",
       "      <td>-2</td>\n",
       "    </tr>\n",
       "  </tbody>\n",
       "</table>\n",
       "<p>1326 rows × 7 columns</p>\n",
       "</div>"
      ],
      "text/plain": [
       "                              pattern       lhs    rhs  found  lhs_index  \\\n",
       "0             employee(.*)pain(.*)eye  employee    eye  False          0   \n",
       "1           employee(.*)pain(.*)pupil  employee  pupil  False          0   \n",
       "2            employee(.*)pain(.*)iris  employee   iris  False          0   \n",
       "3       employee(.*)discomfort(.*)eye  employee    eye  False          0   \n",
       "4     employee(.*)discomfort(.*)pupil  employee  pupil  False          0   \n",
       "...                               ...       ...    ...    ...        ...   \n",
       "1321      person(.*)swelling(.*)pupil    person  pupil  False          2   \n",
       "1322       person(.*)swelling(.*)iris    person   iris  False          2   \n",
       "1323         person(.*)swollen(.*)eye    person    eye  False          2   \n",
       "1324       person(.*)swollen(.*)pupil    person  pupil  False          2   \n",
       "1325        person(.*)swollen(.*)iris    person   iris  False          2   \n",
       "\n",
       "      rhs_index  span  \n",
       "0             6     6  \n",
       "1             0     0  \n",
       "2             0     0  \n",
       "3             6     6  \n",
       "4             0     0  \n",
       "...         ...   ...  \n",
       "1321          0    -2  \n",
       "1322          0    -2  \n",
       "1323          6     4  \n",
       "1324          0    -2  \n",
       "1325          0    -2  \n",
       "\n",
       "[1326 rows x 7 columns]"
      ]
     },
     "execution_count": 129,
     "metadata": {},
     "output_type": "execute_result"
    }
   ],
   "source": [
    "chk_sent = 'the person hurt his right eye'\n",
    "split_chk_sent = chk_sent.split()\n",
    "print(split_chk_sent)\n",
    "test['found'] = test['pattern'].apply(lambda x: check_presence(x, chk_sent))\n",
    "test['lhs_index'] = test['lhs'].apply(lambda x: find_index(chk_sent, x, pos='left'))\n",
    "test['rhs_index'] = test['rhs'].apply(lambda x: find_index(chk_sent, x, pos='right'))\n",
    "test['span'] = test['rhs_index'] - test['lhs_index']\n",
    "test"
   ]
  },
  {
   "cell_type": "code",
   "execution_count": 132,
   "id": "acb31476",
   "metadata": {},
   "outputs": [
    {
     "data": {
      "text/html": [
       "<div>\n",
       "<style scoped>\n",
       "    .dataframe tbody tr th:only-of-type {\n",
       "        vertical-align: middle;\n",
       "    }\n",
       "\n",
       "    .dataframe tbody tr th {\n",
       "        vertical-align: top;\n",
       "    }\n",
       "\n",
       "    .dataframe thead th {\n",
       "        text-align: right;\n",
       "    }\n",
       "</style>\n",
       "<table border=\"1\" class=\"dataframe\">\n",
       "  <thead>\n",
       "    <tr style=\"text-align: right;\">\n",
       "      <th></th>\n",
       "      <th>pattern</th>\n",
       "      <th>lhs</th>\n",
       "      <th>rhs</th>\n",
       "      <th>found</th>\n",
       "      <th>lhs_index</th>\n",
       "      <th>rhs_index</th>\n",
       "      <th>span</th>\n",
       "    </tr>\n",
       "  </thead>\n",
       "  <tbody>\n",
       "    <tr>\n",
       "      <th>399</th>\n",
       "      <td>he(.*)hurt(.*)eye</td>\n",
       "      <td>he</td>\n",
       "      <td>eye</td>\n",
       "      <td>True</td>\n",
       "      <td>1</td>\n",
       "      <td>6</td>\n",
       "      <td>5</td>\n",
       "    </tr>\n",
       "    <tr>\n",
       "      <th>1257</th>\n",
       "      <td>person(.*)hurt(.*)eye</td>\n",
       "      <td>person</td>\n",
       "      <td>eye</td>\n",
       "      <td>True</td>\n",
       "      <td>2</td>\n",
       "      <td>6</td>\n",
       "      <td>4</td>\n",
       "    </tr>\n",
       "  </tbody>\n",
       "</table>\n",
       "</div>"
      ],
      "text/plain": [
       "                    pattern     lhs  rhs  found  lhs_index  rhs_index  span\n",
       "399       he(.*)hurt(.*)eye      he  eye   True          1          6     5\n",
       "1257  person(.*)hurt(.*)eye  person  eye   True          2          6     4"
      ]
     },
     "execution_count": 132,
     "metadata": {},
     "output_type": "execute_result"
    }
   ],
   "source": [
    "test[test['found'] == True]"
   ]
  },
  {
   "cell_type": "code",
   "execution_count": 133,
   "id": "92736a65",
   "metadata": {},
   "outputs": [
    {
     "data": {
      "text/html": [
       "<div>\n",
       "<style scoped>\n",
       "    .dataframe tbody tr th:only-of-type {\n",
       "        vertical-align: middle;\n",
       "    }\n",
       "\n",
       "    .dataframe tbody tr th {\n",
       "        vertical-align: top;\n",
       "    }\n",
       "\n",
       "    .dataframe thead th {\n",
       "        text-align: right;\n",
       "    }\n",
       "</style>\n",
       "<table border=\"1\" class=\"dataframe\">\n",
       "  <thead>\n",
       "    <tr style=\"text-align: right;\">\n",
       "      <th></th>\n",
       "      <th>pattern</th>\n",
       "      <th>lhs</th>\n",
       "      <th>rhs</th>\n",
       "      <th>found</th>\n",
       "      <th>lhs_index</th>\n",
       "      <th>rhs_index</th>\n",
       "      <th>span</th>\n",
       "    </tr>\n",
       "  </thead>\n",
       "  <tbody>\n",
       "    <tr>\n",
       "      <th>390</th>\n",
       "      <td>he(.*)pain(.*)eye</td>\n",
       "      <td>he</td>\n",
       "      <td>eye</td>\n",
       "      <td>False</td>\n",
       "      <td>1</td>\n",
       "      <td>6</td>\n",
       "      <td>5</td>\n",
       "    </tr>\n",
       "    <tr>\n",
       "      <th>391</th>\n",
       "      <td>he(.*)pain(.*)pupil</td>\n",
       "      <td>he</td>\n",
       "      <td>pupil</td>\n",
       "      <td>False</td>\n",
       "      <td>1</td>\n",
       "      <td>0</td>\n",
       "      <td>-1</td>\n",
       "    </tr>\n",
       "    <tr>\n",
       "      <th>392</th>\n",
       "      <td>he(.*)pain(.*)iris</td>\n",
       "      <td>he</td>\n",
       "      <td>iris</td>\n",
       "      <td>False</td>\n",
       "      <td>1</td>\n",
       "      <td>0</td>\n",
       "      <td>-1</td>\n",
       "    </tr>\n",
       "    <tr>\n",
       "      <th>393</th>\n",
       "      <td>he(.*)discomfort(.*)eye</td>\n",
       "      <td>he</td>\n",
       "      <td>eye</td>\n",
       "      <td>False</td>\n",
       "      <td>1</td>\n",
       "      <td>6</td>\n",
       "      <td>5</td>\n",
       "    </tr>\n",
       "    <tr>\n",
       "      <th>394</th>\n",
       "      <td>he(.*)discomfort(.*)pupil</td>\n",
       "      <td>he</td>\n",
       "      <td>pupil</td>\n",
       "      <td>False</td>\n",
       "      <td>1</td>\n",
       "      <td>0</td>\n",
       "      <td>-1</td>\n",
       "    </tr>\n",
       "    <tr>\n",
       "      <th>...</th>\n",
       "      <td>...</td>\n",
       "      <td>...</td>\n",
       "      <td>...</td>\n",
       "      <td>...</td>\n",
       "      <td>...</td>\n",
       "      <td>...</td>\n",
       "      <td>...</td>\n",
       "    </tr>\n",
       "    <tr>\n",
       "      <th>1321</th>\n",
       "      <td>person(.*)swelling(.*)pupil</td>\n",
       "      <td>person</td>\n",
       "      <td>pupil</td>\n",
       "      <td>False</td>\n",
       "      <td>2</td>\n",
       "      <td>0</td>\n",
       "      <td>-2</td>\n",
       "    </tr>\n",
       "    <tr>\n",
       "      <th>1322</th>\n",
       "      <td>person(.*)swelling(.*)iris</td>\n",
       "      <td>person</td>\n",
       "      <td>iris</td>\n",
       "      <td>False</td>\n",
       "      <td>2</td>\n",
       "      <td>0</td>\n",
       "      <td>-2</td>\n",
       "    </tr>\n",
       "    <tr>\n",
       "      <th>1323</th>\n",
       "      <td>person(.*)swollen(.*)eye</td>\n",
       "      <td>person</td>\n",
       "      <td>eye</td>\n",
       "      <td>False</td>\n",
       "      <td>2</td>\n",
       "      <td>6</td>\n",
       "      <td>4</td>\n",
       "    </tr>\n",
       "    <tr>\n",
       "      <th>1324</th>\n",
       "      <td>person(.*)swollen(.*)pupil</td>\n",
       "      <td>person</td>\n",
       "      <td>pupil</td>\n",
       "      <td>False</td>\n",
       "      <td>2</td>\n",
       "      <td>0</td>\n",
       "      <td>-2</td>\n",
       "    </tr>\n",
       "    <tr>\n",
       "      <th>1325</th>\n",
       "      <td>person(.*)swollen(.*)iris</td>\n",
       "      <td>person</td>\n",
       "      <td>iris</td>\n",
       "      <td>False</td>\n",
       "      <td>2</td>\n",
       "      <td>0</td>\n",
       "      <td>-2</td>\n",
       "    </tr>\n",
       "  </tbody>\n",
       "</table>\n",
       "<p>312 rows × 7 columns</p>\n",
       "</div>"
      ],
      "text/plain": [
       "                          pattern     lhs    rhs  found  lhs_index  rhs_index  \\\n",
       "390             he(.*)pain(.*)eye      he    eye  False          1          6   \n",
       "391           he(.*)pain(.*)pupil      he  pupil  False          1          0   \n",
       "392            he(.*)pain(.*)iris      he   iris  False          1          0   \n",
       "393       he(.*)discomfort(.*)eye      he    eye  False          1          6   \n",
       "394     he(.*)discomfort(.*)pupil      he  pupil  False          1          0   \n",
       "...                           ...     ...    ...    ...        ...        ...   \n",
       "1321  person(.*)swelling(.*)pupil  person  pupil  False          2          0   \n",
       "1322   person(.*)swelling(.*)iris  person   iris  False          2          0   \n",
       "1323     person(.*)swollen(.*)eye  person    eye  False          2          6   \n",
       "1324   person(.*)swollen(.*)pupil  person  pupil  False          2          0   \n",
       "1325    person(.*)swollen(.*)iris  person   iris  False          2          0   \n",
       "\n",
       "      span  \n",
       "390      5  \n",
       "391     -1  \n",
       "392     -1  \n",
       "393      5  \n",
       "394     -1  \n",
       "...    ...  \n",
       "1321    -2  \n",
       "1322    -2  \n",
       "1323     4  \n",
       "1324    -2  \n",
       "1325    -2  \n",
       "\n",
       "[312 rows x 7 columns]"
      ]
     },
     "execution_count": 133,
     "metadata": {},
     "output_type": "execute_result"
    }
   ],
   "source": [
    "test[test['lhs_index'] != 0]"
   ]
  },
  {
   "cell_type": "code",
   "execution_count": 88,
   "id": "4c2a3ba0",
   "metadata": {},
   "outputs": [
    {
     "name": "stdout",
     "output_type": "stream",
     "text": [
      "['the', 'person', 'hurt', 'his', 'right', 'hurts', 'eye']\n"
     ]
    }
   ],
   "source": [
    "chk_sent = 'the person hurt his right hurts eye'\n",
    "split_chk_sent = chk_sent.split()\n",
    "print(split_chk_sent)"
   ]
  },
  {
   "cell_type": "code",
   "execution_count": 89,
   "id": "b8d62a2e",
   "metadata": {},
   "outputs": [
    {
     "data": {
      "text/plain": [
       "2"
      ]
     },
     "execution_count": 89,
     "metadata": {},
     "output_type": "execute_result"
    }
   ],
   "source": [
    "def find_index(chk_string, keyword, pos='left'):\n",
    "    try:\n",
    "        split_chk = chk_string.split()\n",
    "        #find_index = max(loc for loc, val in enumerate(split_chk) if val == keyword) + 1\n",
    "        find_index = [loc for loc, val in enumerate(split_chk) if bool(re.search(keyword, val))]\n",
    "        if pos == 'left':\n",
    "            find_index = min(find_index)+1\n",
    "        else:\n",
    "            find_index = max(find_index)+1\n",
    "    except:\n",
    "        print\n",
    "        find_index = 0\n",
    "    return(find_index)\n",
    "\n",
    "find_index(chk_sent, 'person', pos='left')"
   ]
  },
  {
   "cell_type": "code",
   "execution_count": 14,
   "id": "e356efdb",
   "metadata": {},
   "outputs": [
    {
     "data": {
      "text/plain": [
       "\"(?:[a-zA-Z'-]+[^a-zA-Z'-]+){0,2}leg\""
      ]
     },
     "execution_count": 14,
     "metadata": {},
     "output_type": "execute_result"
    }
   ],
   "source": [
    "keyword = 'leg'\n",
    "window = 2\n",
    "pre_context = \"(?:[a-zA-Z'-]+[^a-zA-Z'-]+){0,<window>}<keyword>\".replace('<keyword>', str(keyword)).replace('<window>', str(window))\n",
    "post_context = \"<keyword>(?:[^a-zA-Z'-]+[a-zA-Z'-]+){0,<window>}\".replace('<keyword>', str(keyword)).replace('<window>', str(window))\n",
    "all_context = \"(?:[a-zA-Z'-]+[^a-zA-Z'-]+){0,<window>}<keyword>(?:[^a-zA-Z'-]+[a-zA-Z'-]+){0,<window>}\".replace('<keyword>', str(keyword)).replace('<window>', str(window))\n",
    "pre_context"
   ]
  },
  {
   "cell_type": "code",
   "execution_count": 15,
   "id": "75304dc3",
   "metadata": {},
   "outputs": [
    {
     "data": {
      "text/plain": [
       "['big fat leg']"
      ]
     },
     "execution_count": 15,
     "metadata": {},
     "output_type": "execute_result"
    }
   ],
   "source": [
    "doc = 'My big fat leg is really broke'\n",
    "re.findall(pre_context, doc)"
   ]
  },
  {
   "cell_type": "code",
   "execution_count": 16,
   "id": "32b1f8e8",
   "metadata": {},
   "outputs": [
    {
     "data": {
      "text/plain": [
       "['leg is really']"
      ]
     },
     "execution_count": 16,
     "metadata": {},
     "output_type": "execute_result"
    }
   ],
   "source": [
    "re.findall(post_context, doc)"
   ]
  },
  {
   "cell_type": "code",
   "execution_count": 23,
   "id": "6abb857e",
   "metadata": {},
   "outputs": [
    {
     "data": {
      "text/plain": [
       "'leg how you doing'"
      ]
     },
     "execution_count": 23,
     "metadata": {},
     "output_type": "execute_result"
    }
   ],
   "source": [
    "\"<keyword> how you doing\".replace('<keyword>', str(keyword))"
   ]
  },
  {
   "cell_type": "code",
   "execution_count": null,
   "id": "6d885d1b",
   "metadata": {},
   "outputs": [],
   "source": []
  }
 ],
 "metadata": {
  "kernelspec": {
   "display_name": "Python 3 (ipykernel)",
   "language": "python",
   "name": "python3"
  },
  "language_info": {
   "codemirror_mode": {
    "name": "ipython",
    "version": 3
   },
   "file_extension": ".py",
   "mimetype": "text/x-python",
   "name": "python",
   "nbconvert_exporter": "python",
   "pygments_lexer": "ipython3",
   "version": "3.8.12"
  }
 },
 "nbformat": 4,
 "nbformat_minor": 5
}
