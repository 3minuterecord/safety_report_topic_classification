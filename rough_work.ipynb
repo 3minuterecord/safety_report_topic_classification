{
 "cells": [
  {
   "cell_type": "code",
   "execution_count": 1,
   "id": "1b294c81",
   "metadata": {},
   "outputs": [],
   "source": [
    "import numpy as np\n",
    "import pandas as pd\n",
    "import re\n",
    "import nltk\n",
    "from nltk.tokenize import word_tokenize\n",
    "from nltk.tokenize import sent_tokenize\n",
    "from nltk.stem import PorterStemmer as stemmer\n",
    "from tqdm.notebook import tqdm\n",
    "import rule_book_functs as rbfuncts"
   ]
  },
  {
   "cell_type": "code",
   "execution_count": 4,
   "id": "97b5e4d8",
   "metadata": {},
   "outputs": [],
   "source": [
    "incidents_fn = \"data/source/20220413_D1_Incidents.csv\"\n",
    "rule_book_fn = \"data/rule_book_kwic.csv\""
   ]
  },
  {
   "cell_type": "code",
   "execution_count": 5,
   "id": "b753baa1",
   "metadata": {},
   "outputs": [],
   "source": [
    "rules = pd.read_csv(rule_book_fn)\n",
    "incidents = pd.read_csv(incidents_fn, dtype=str)"
   ]
  },
  {
   "cell_type": "code",
   "execution_count": 6,
   "id": "a9ecaa96",
   "metadata": {},
   "outputs": [],
   "source": [
    "incidents.rename(columns={'IncidentNumber': 'incident_id'}, inplace=True)\n",
    "incidents['text'] = (\n",
    "        incidents['ShortDescription'].astype(str).fillna('') + ' ' + \n",
    "        incidents['FullDescription'].astype(str).fillna('') + ' ' + \n",
    "        incidents['ImmediateAction'].astype(str).fillna('')\n",
    ").str.lower()\n",
    "\n",
    "incidents = incidents[['incident_id', 'text']]"
   ]
  },
  {
   "cell_type": "code",
   "execution_count": 5,
   "id": "6e08a3a4",
   "metadata": {},
   "outputs": [],
   "source": [
    "#sample100 = incidents.sample(n=100)\n",
    "#sample100.index = range(100)\n",
    "#sample100.to_csv('sample100.csv', index=False)\n",
    "sample100 = pd.read_csv('sample100.csv', dtype=str)"
   ]
  },
  {
   "cell_type": "code",
   "execution_count": 6,
   "id": "dfb9fe6c",
   "metadata": {},
   "outputs": [],
   "source": [
    "#incidents.text[0]"
   ]
  },
  {
   "cell_type": "code",
   "execution_count": 7,
   "id": "00d7bc9c",
   "metadata": {},
   "outputs": [],
   "source": [
    "#test = incidents.text.head(1).apply(rbfuncts.lemmatize_text)\n",
    "#print(list(test))"
   ]
  },
  {
   "cell_type": "code",
   "execution_count": 8,
   "id": "699ef026",
   "metadata": {},
   "outputs": [],
   "source": [
    "#test = incidents.text.head(1).apply(rbfuncts.stem_text)\n",
    "#print(list(test))"
   ]
  },
  {
   "cell_type": "code",
   "execution_count": 9,
   "id": "f26a61c8",
   "metadata": {},
   "outputs": [],
   "source": [
    "#test_tokens = rbfuncts.tokenize(incidents.text[0])"
   ]
  },
  {
   "cell_type": "code",
   "execution_count": 10,
   "id": "1fd5470e",
   "metadata": {},
   "outputs": [],
   "source": [
    "#chk_text = 'employee was grinding with a four-inch grinder on an iron support in the compressor building when he felt discomfort to his left eye.'\n",
    "#pattern = '(\\\\bemployee (.*) discomfort (.*) eye\\\\b)'\n",
    "#rbfuncts.check_presence(pattern, chk_text)"
   ]
  },
  {
   "cell_type": "code",
   "execution_count": 11,
   "id": "880d8ad0",
   "metadata": {},
   "outputs": [],
   "source": [
    "#sents = sent_tokenize(incidents.text[0])\n",
    "#for sent in sents:\n",
    "#    if rbfuncts.check_presence(pattern, sent):\n",
    "#        print(f'{rbfuncts.check_presence(pattern, sent)}: {sent}')"
   ]
  },
  {
   "cell_type": "markdown",
   "id": "44d6b6e9",
   "metadata": {},
   "source": [
    "## Load Synonyms & Rules"
   ]
  },
  {
   "cell_type": "code",
   "execution_count": 12,
   "id": "cd2ac4c1",
   "metadata": {},
   "outputs": [],
   "source": [
    "syn_csv = pd.read_csv('synonyms.csv')\n",
    "\n",
    "# Load the dictionary of synonyms\n",
    "syn_dict = {}\n",
    "for r in range(len(syn_csv)):\n",
    "    syn_toks = syn_csv.keywords[r].split(',')\n",
    "    syn_dict.update({syn_csv.syn[r]:syn_toks})\n",
    "    \n",
    "rul_csv = pd.read_csv('rules.csv')"
   ]
  },
  {
   "cell_type": "code",
   "execution_count": 13,
   "id": "2b6a6267",
   "metadata": {},
   "outputs": [
    {
     "name": "stdout",
     "output_type": "stream",
     "text": [
      "Checking rule 1 of 24 (eye injury or irritation)\n",
      "================================================\n",
      "14/100 [0] 0.0 hrs 0.0% classified (14.0% through)..."
     ]
    },
    {
     "ename": "TypeError",
     "evalue": "slice indices must be integers or None or have an __index__ method",
     "output_type": "error",
     "traceback": [
      "\u001b[0;31m---------------------------------------------------------------------------\u001b[0m",
      "\u001b[0;31mTypeError\u001b[0m                                 Traceback (most recent call last)",
      "Input \u001b[0;32mIn [13]\u001b[0m, in \u001b[0;36m<module>\u001b[0;34m\u001b[0m\n\u001b[0;32m----> 1\u001b[0m finds_df \u001b[38;5;241m=\u001b[39m \u001b[43mrbfuncts\u001b[49m\u001b[38;5;241;43m.\u001b[39;49m\u001b[43mrule_book_scan\u001b[49m\u001b[43m(\u001b[49m\u001b[43msample100\u001b[49m\u001b[43m,\u001b[49m\u001b[43m \u001b[49m\u001b[43msyn_dict\u001b[49m\u001b[43m,\u001b[49m\u001b[43m \u001b[49m\u001b[43mrul_csv\u001b[49m\u001b[43m)\u001b[49m\n",
      "File \u001b[0;32m~/Documents/my_repos/safety_report_tc/rule_book_functs.py:235\u001b[0m, in \u001b[0;36mrule_book_scan\u001b[0;34m(incidents, syn_dict, rules, run_rules, verbose)\u001b[0m\n\u001b[1;32m    233\u001b[0m \u001b[38;5;28;01melse\u001b[39;00m:\n\u001b[1;32m    234\u001b[0m     test_tokens \u001b[38;5;241m=\u001b[39m tokenize(chk_text)\n\u001b[0;32m--> 235\u001b[0m     kwics \u001b[38;5;241m=\u001b[39m \u001b[43mget_matches\u001b[49m\u001b[43m(\u001b[49m\u001b[43msearch_keyword\u001b[49m\u001b[43m,\u001b[49m\u001b[43m \u001b[49m\u001b[43mtest_tokens\u001b[49m\u001b[43m,\u001b[49m\u001b[43m \u001b[49m\u001b[43mspan\u001b[49m\u001b[43m)\u001b[49m\n\u001b[1;32m    237\u001b[0m     \u001b[38;5;28;01mfor\u001b[39;00m kwic \u001b[38;5;129;01min\u001b[39;00m kwics:\n\u001b[1;32m    238\u001b[0m         \u001b[38;5;28;01mif\u001b[39;00m syn_count \u001b[38;5;241m==\u001b[39m \u001b[38;5;241m3\u001b[39m:\n",
      "File \u001b[0;32m~/Documents/my_repos/safety_report_tc/rule_book_functs.py:43\u001b[0m, in \u001b[0;36mget_matches\u001b[0;34m(keyword, tokens, span)\u001b[0m\n\u001b[1;32m     40\u001b[0m \u001b[38;5;28;01mdef\u001b[39;00m \u001b[38;5;21mget_matches\u001b[39m(keyword, tokens, span):\n\u001b[1;32m     41\u001b[0m     \u001b[38;5;66;03m# If the keyword matches a token, i will be where it occurs in the token string\u001b[39;00m\n\u001b[1;32m     42\u001b[0m     \u001b[38;5;66;03m# You then apply the span before and after to create a keyword in context snipet\u001b[39;00m\n\u001b[0;32m---> 43\u001b[0m     matches \u001b[38;5;241m=\u001b[39m [(\u001b[38;5;124m'\u001b[39m\u001b[38;5;124m \u001b[39m\u001b[38;5;124m'\u001b[39m\u001b[38;5;241m.\u001b[39mjoin(tokens[\u001b[38;5;28mmax\u001b[39m(\u001b[38;5;241m0\u001b[39m, i \u001b[38;5;241m-\u001b[39m span \u001b[38;5;241m-\u001b[39m \u001b[38;5;241m1\u001b[39m):i \u001b[38;5;241m+\u001b[39m span \u001b[38;5;241m+\u001b[39m \u001b[38;5;241m1\u001b[39m])) \u001b[38;5;28;01mfor\u001b[39;00m i, tok \u001b[38;5;129;01min\u001b[39;00m \u001b[38;5;28menumerate\u001b[39m(tokens) \u001b[38;5;28;01mif\u001b[39;00m re\u001b[38;5;241m.\u001b[39mmatch(keyword, tok)]\n\u001b[1;32m     44\u001b[0m     \u001b[38;5;28;01mreturn\u001b[39;00m(matches)\n",
      "File \u001b[0;32m~/Documents/my_repos/safety_report_tc/rule_book_functs.py:43\u001b[0m, in \u001b[0;36m<listcomp>\u001b[0;34m(.0)\u001b[0m\n\u001b[1;32m     40\u001b[0m \u001b[38;5;28;01mdef\u001b[39;00m \u001b[38;5;21mget_matches\u001b[39m(keyword, tokens, span):\n\u001b[1;32m     41\u001b[0m     \u001b[38;5;66;03m# If the keyword matches a token, i will be where it occurs in the token string\u001b[39;00m\n\u001b[1;32m     42\u001b[0m     \u001b[38;5;66;03m# You then apply the span before and after to create a keyword in context snipet\u001b[39;00m\n\u001b[0;32m---> 43\u001b[0m     matches \u001b[38;5;241m=\u001b[39m [(\u001b[38;5;124m'\u001b[39m\u001b[38;5;124m \u001b[39m\u001b[38;5;124m'\u001b[39m\u001b[38;5;241m.\u001b[39mjoin(\u001b[43mtokens\u001b[49m\u001b[43m[\u001b[49m\u001b[38;5;28;43mmax\u001b[39;49m\u001b[43m(\u001b[49m\u001b[38;5;241;43m0\u001b[39;49m\u001b[43m,\u001b[49m\u001b[43m \u001b[49m\u001b[43mi\u001b[49m\u001b[43m \u001b[49m\u001b[38;5;241;43m-\u001b[39;49m\u001b[43m \u001b[49m\u001b[43mspan\u001b[49m\u001b[43m \u001b[49m\u001b[38;5;241;43m-\u001b[39;49m\u001b[43m \u001b[49m\u001b[38;5;241;43m1\u001b[39;49m\u001b[43m)\u001b[49m\u001b[43m:\u001b[49m\u001b[43mi\u001b[49m\u001b[43m \u001b[49m\u001b[38;5;241;43m+\u001b[39;49m\u001b[43m \u001b[49m\u001b[43mspan\u001b[49m\u001b[43m \u001b[49m\u001b[38;5;241;43m+\u001b[39;49m\u001b[43m \u001b[49m\u001b[38;5;241;43m1\u001b[39;49m\u001b[43m]\u001b[49m)) \u001b[38;5;28;01mfor\u001b[39;00m i, tok \u001b[38;5;129;01min\u001b[39;00m \u001b[38;5;28menumerate\u001b[39m(tokens) \u001b[38;5;28;01mif\u001b[39;00m re\u001b[38;5;241m.\u001b[39mmatch(keyword, tok)]\n\u001b[1;32m     44\u001b[0m     \u001b[38;5;28;01mreturn\u001b[39;00m(matches)\n",
      "\u001b[0;31mTypeError\u001b[0m: slice indices must be integers or None or have an __index__ method"
     ]
    }
   ],
   "source": [
    "finds_df = rbfuncts.rule_book_scan(sample100, syn_dict, rul_csv)"
   ]
  },
  {
   "cell_type": "code",
   "execution_count": null,
   "id": "4ae123a5",
   "metadata": {},
   "outputs": [],
   "source": []
  },
  {
   "cell_type": "code",
   "execution_count": null,
   "id": "2c48301e",
   "metadata": {},
   "outputs": [],
   "source": []
  },
  {
   "cell_type": "code",
   "execution_count": 14,
   "id": "3e13978f",
   "metadata": {},
   "outputs": [],
   "source": [
    "#finds_df"
   ]
  },
  {
   "cell_type": "code",
   "execution_count": 15,
   "id": "fa64a57e",
   "metadata": {},
   "outputs": [
    {
     "name": "stdout",
     "output_type": "stream",
     "text": [
      "Checking rule 1 of 24 (eye injury or irritation)\n",
      "================================================\n",
      "1/1 [0] 0.0 hrs 0.0% classified (100.0% through)...\n",
      "\n",
      "Checking rule 2 of 24 (eye injury or irritation)\n",
      "================================================\n",
      "1/1 [0] 0.0 hrs 0.0% classified (100.0% through)...\n",
      "\n",
      "Checking rule 3 of 24 (back injury)\n",
      "===================================\n",
      "1/1 [0] 0.0 hrs 0.0% classified (100.0% through)...\n",
      "\n",
      "Checking rule 4 of 24 (covid)\n",
      "=============================\n",
      "1/1 [0] 0.0 hrs 0.0% classified (100.0% through)...\n",
      "\n",
      "Checking rule 5 of 24 (fall from or working at height issue)\n",
      "============================================================\n",
      "1/1 [0] 0.0 hrs 0.0% classified (100.0% through)...\n",
      "\n",
      "Checking rule 6 of 24 (fall from or working at height issue)\n",
      "============================================================\n",
      "1/1 [0] 0.0 hrs 0.0% classified (100.0% through)...\n",
      "\n",
      "Checking rule 7 of 24 (fall from or working at height issue)\n",
      "============================================================\n",
      "1/1 [0] 0.0 hrs 0.0% classified (100.0% through)...\n",
      "\n",
      "Checking rule 8 of 24 (foot or leg injury)\n",
      "==========================================\n",
      "1/1 [1] 0.0 hrs 100.0% classified (100.0% through)...\n",
      "\n",
      "Checking rule 9 of 24 (general injury)\n",
      "======================================\n",
      "1/1 [1] 0.0 hrs 100.0% classified (100.0% through)...\n",
      "\n",
      "Checking rule 10 of 24 (hand or arm injury)\n",
      "===========================================\n",
      "1/1 [1] 0.0 hrs 100.0% classified (100.0% through)...\n",
      "\n",
      "Checking rule 11 of 24 (hydraulic fluid or oil leak)\n",
      "====================================================\n",
      "1/1 [1] 0.0 hrs 100.0% classified (100.0% through)...\n",
      "\n",
      "Checking rule 12 of 24 (hydraulic fluid or oil leak)\n",
      "====================================================\n",
      "1/1 [1] 0.0 hrs 100.0% classified (100.0% through)...\n",
      "\n",
      "Checking rule 13 of 24 (bites (animals or insects))\n",
      "===================================================\n",
      "1/1 [1] 0.0 hrs 100.0% classified (100.0% through)...\n",
      "\n",
      "Checking rule 14 of 24 (lack of competency)\n",
      "===========================================\n",
      "1/1 [1] 0.0 hrs 100.0% classified (100.0% through)...\n",
      "\n"
     ]
    },
    {
     "ename": "TypeError",
     "evalue": "expected string or bytes-like object",
     "output_type": "error",
     "traceback": [
      "\u001b[0;31m---------------------------------------------------------------------------\u001b[0m",
      "\u001b[0;31mTypeError\u001b[0m                                 Traceback (most recent call last)",
      "Input \u001b[0;32mIn [15]\u001b[0m, in \u001b[0;36m<module>\u001b[0;34m\u001b[0m\n\u001b[1;32m      2\u001b[0m \u001b[38;5;66;03m#strs = 'during the scaffolding elements transporting for the assembly of scaffolding scaffolder slipped and fell due to the slippery floor'\u001b[39;00m\n\u001b[1;32m      3\u001b[0m test \u001b[38;5;241m=\u001b[39m pd\u001b[38;5;241m.\u001b[39mDataFrame({\u001b[38;5;124m'\u001b[39m\u001b[38;5;124mincident_id\u001b[39m\u001b[38;5;124m'\u001b[39m:[\u001b[38;5;241m1052\u001b[39m], \u001b[38;5;124m'\u001b[39m\u001b[38;5;124mtext\u001b[39m\u001b[38;5;124m'\u001b[39m:[strs]})\n\u001b[0;32m----> 4\u001b[0m \u001b[43mrbfuncts\u001b[49m\u001b[38;5;241;43m.\u001b[39;49m\u001b[43mrule_book_scan\u001b[49m\u001b[43m(\u001b[49m\u001b[43mtest\u001b[49m\u001b[43m,\u001b[49m\u001b[43m \u001b[49m\u001b[43msyn_dict\u001b[49m\u001b[43m,\u001b[49m\u001b[43m \u001b[49m\u001b[43mrul_csv\u001b[49m\u001b[43m)\u001b[49m\n",
      "File \u001b[0;32m~/Documents/my_repos/safety_report_tc/rule_book_functs.py:118\u001b[0m, in \u001b[0;36mrule_book_scan\u001b[0;34m(incidents, syn_dict, rules, run_rules, verbose)\u001b[0m\n\u001b[1;32m    114\u001b[0m finds_count \u001b[38;5;241m=\u001b[39m \u001b[38;5;241m0\u001b[39m\n\u001b[1;32m    116\u001b[0m \u001b[38;5;28;01mfor\u001b[39;00m r \u001b[38;5;129;01min\u001b[39;00m run_rules_list:\n\u001b[0;32m--> 118\u001b[0m     rul_syns \u001b[38;5;241m=\u001b[39m tokenize(\u001b[43mre\u001b[49m\u001b[38;5;241;43m.\u001b[39;49m\u001b[43msub\u001b[49m\u001b[43m(\u001b[49m\u001b[38;5;124;43mr\u001b[39;49m\u001b[38;5;124;43m\"\u001b[39;49m\u001b[38;5;124;43m, \u001b[39;49m\u001b[38;5;124;43m\"\u001b[39;49m\u001b[43m,\u001b[49m\u001b[43m \u001b[49m\u001b[38;5;124;43m\"\u001b[39;49m\u001b[38;5;124;43m \u001b[39;49m\u001b[38;5;124;43m\"\u001b[39;49m\u001b[43m,\u001b[49m\u001b[43m \u001b[49m\u001b[43mrules\u001b[49m\u001b[38;5;241;43m.\u001b[39;49m\u001b[43msyns\u001b[49m\u001b[43m[\u001b[49m\u001b[43mr\u001b[49m\u001b[43m]\u001b[49m\u001b[43m)\u001b[49m)\n\u001b[1;32m    120\u001b[0m     pos_1st \u001b[38;5;241m=\u001b[39m syn_dict\u001b[38;5;241m.\u001b[39mget(rul_syns[\u001b[38;5;241m0\u001b[39m])\n\u001b[1;32m    121\u001b[0m     pos_2nd \u001b[38;5;241m=\u001b[39m syn_dict\u001b[38;5;241m.\u001b[39mget(rul_syns[\u001b[38;5;241m1\u001b[39m])\n",
      "File \u001b[0;32m~/miniforge3/envs/work/lib/python3.8/re.py:210\u001b[0m, in \u001b[0;36msub\u001b[0;34m(pattern, repl, string, count, flags)\u001b[0m\n\u001b[1;32m    203\u001b[0m \u001b[38;5;28;01mdef\u001b[39;00m \u001b[38;5;21msub\u001b[39m(pattern, repl, string, count\u001b[38;5;241m=\u001b[39m\u001b[38;5;241m0\u001b[39m, flags\u001b[38;5;241m=\u001b[39m\u001b[38;5;241m0\u001b[39m):\n\u001b[1;32m    204\u001b[0m     \u001b[38;5;124;03m\"\"\"Return the string obtained by replacing the leftmost\u001b[39;00m\n\u001b[1;32m    205\u001b[0m \u001b[38;5;124;03m    non-overlapping occurrences of the pattern in string by the\u001b[39;00m\n\u001b[1;32m    206\u001b[0m \u001b[38;5;124;03m    replacement repl.  repl can be either a string or a callable;\u001b[39;00m\n\u001b[1;32m    207\u001b[0m \u001b[38;5;124;03m    if a string, backslash escapes in it are processed.  If it is\u001b[39;00m\n\u001b[1;32m    208\u001b[0m \u001b[38;5;124;03m    a callable, it's passed the Match object and must return\u001b[39;00m\n\u001b[1;32m    209\u001b[0m \u001b[38;5;124;03m    a replacement string to be used.\"\"\"\u001b[39;00m\n\u001b[0;32m--> 210\u001b[0m     \u001b[38;5;28;01mreturn\u001b[39;00m \u001b[43m_compile\u001b[49m\u001b[43m(\u001b[49m\u001b[43mpattern\u001b[49m\u001b[43m,\u001b[49m\u001b[43m \u001b[49m\u001b[43mflags\u001b[49m\u001b[43m)\u001b[49m\u001b[38;5;241;43m.\u001b[39;49m\u001b[43msub\u001b[49m\u001b[43m(\u001b[49m\u001b[43mrepl\u001b[49m\u001b[43m,\u001b[49m\u001b[43m \u001b[49m\u001b[43mstring\u001b[49m\u001b[43m,\u001b[49m\u001b[43m \u001b[49m\u001b[43mcount\u001b[49m\u001b[43m)\u001b[49m\n",
      "\u001b[0;31mTypeError\u001b[0m: expected string or bytes-like object"
     ]
    }
   ],
   "source": [
    "strs = 'This is me. He tripped and fell from the ladder.'\n",
    "#strs = 'during the scaffolding elements transporting for the assembly of scaffolding scaffolder slipped and fell due to the slippery floor'\n",
    "test = pd.DataFrame({'incident_id':[1052], 'text':[strs]})\n",
    "rbfuncts.rule_book_scan(test, syn_dict, rul_csv)"
   ]
  },
  {
   "cell_type": "code",
   "execution_count": null,
   "id": "5e8f8d61",
   "metadata": {},
   "outputs": [],
   "source": [
    "print(not False)"
   ]
  },
  {
   "cell_type": "code",
   "execution_count": null,
   "id": "3739d3a6",
   "metadata": {},
   "outputs": [],
   "source": [
    "# How many incidents were classified\n",
    "len(list(dict.fromkeys(finds_df[finds_df.finds_list == True].incid_nums)))"
   ]
  },
  {
   "cell_type": "code",
   "execution_count": null,
   "id": "dc4e4d61",
   "metadata": {},
   "outputs": [],
   "source": [
    "rbfuncts.deepdive_results(sample100, incidents, finds_df, focus='finds')"
   ]
  },
  {
   "cell_type": "code",
   "execution_count": null,
   "id": "130bb973",
   "metadata": {},
   "outputs": [],
   "source": [
    "rbfuncts.deepdive_results(sample100, incidents, finds_df, focus='misses')"
   ]
  },
  {
   "cell_type": "code",
   "execution_count": null,
   "id": "0006b0ed",
   "metadata": {},
   "outputs": [],
   "source": [
    "chk = 'the country gm and regional gm were on their way to their apartment when they were involved in a motor vehicle collision.'\n",
    "#check_presence('hello(.*)vehicle(.*)collision', chk)\n",
    "#check_presence('\\bregional (.*) were (.*) way\\b', chk)\n",
    "#bool(re.search('\\bregional (.*) were (.*) way\\b', chk))\n",
    "bool(re.search('involved(.*)motor(.*)collision', chk))"
   ]
  },
  {
   "cell_type": "code",
   "execution_count": null,
   "id": "32c02807",
   "metadata": {},
   "outputs": [],
   "source": [
    " "
   ]
  },
  {
   "cell_type": "code",
   "execution_count": null,
   "id": "d0db66b1",
   "metadata": {},
   "outputs": [],
   "source": [
    "org_string = \"This is employee's hand\"\n",
    "pattern = r\"'s\"\n",
    "\n",
    "# Replace all occurrences of character 's with an empty string\n",
    "org_string = re.sub(pattern, '', org_string )\n",
    "print(org_string)"
   ]
  },
  {
   "cell_type": "code",
   "execution_count": 27,
   "id": "9316ea57",
   "metadata": {},
   "outputs": [],
   "source": [
    "def check_presence(pattern, string):\n",
    "    if pattern:\n",
    "        return bool(re.search(pattern, string))\n",
    "    else:\n",
    "        return False"
   ]
  },
  {
   "cell_type": "code",
   "execution_count": null,
   "id": "e39db40d",
   "metadata": {},
   "outputs": [],
   "source": [
    "rul_csv"
   ]
  },
  {
   "cell_type": "code",
   "execution_count": null,
   "id": "918cb8c0",
   "metadata": {},
   "outputs": [],
   "source": [
    "x = 'car(.*)hit(.*)\\\\bcat'\n",
    "pattern = x\n",
    "check_presence(pattern, \"the car hit the cat\")"
   ]
  },
  {
   "cell_type": "code",
   "execution_count": null,
   "id": "4d37d199",
   "metadata": {},
   "outputs": [],
   "source": [
    "re.sub(r\"\\\\\\\\b\", \"\\\\b\", 'no\\\\\\\\b')"
   ]
  },
  {
   "cell_type": "code",
   "execution_count": null,
   "id": "ad5941b6",
   "metadata": {},
   "outputs": [],
   "source": [
    "test = pd.DataFrame({'id':[1, 2, 2, 2, 3], 'cats':['apple', 'apple', 'apple', 'orange', 'kiwi']})\n",
    "test"
   ]
  },
  {
   "cell_type": "code",
   "execution_count": null,
   "id": "5be6b69a",
   "metadata": {},
   "outputs": [],
   "source": [
    "test.groupby(['id'])['cats'].apply(', '.join).reset_index()"
   ]
  },
  {
   "cell_type": "code",
   "execution_count": null,
   "id": "9af811b0",
   "metadata": {},
   "outputs": [],
   "source": [
    "'apple, apple, orange'.split(', ')"
   ]
  },
  {
   "cell_type": "code",
   "execution_count": null,
   "id": "47fbeb69",
   "metadata": {},
   "outputs": [],
   "source": [
    "list(dict.fromkeys('apple, apple, orange'.split(', ')))"
   ]
  },
  {
   "cell_type": "code",
   "execution_count": null,
   "id": "49b6b386",
   "metadata": {},
   "outputs": [],
   "source": [
    "\", \".join(list(dict.fromkeys('apple, apple, orange'.split(', '))))"
   ]
  },
  {
   "cell_type": "code",
   "execution_count": null,
   "id": "c7fa9c9d",
   "metadata": {},
   "outputs": [],
   "source": [
    "def remove_dups(ent):\n",
    "    split_ent = ent.split(', ')\n",
    "    uniqe_ent = list(dict.fromkeys(split_ent))\n",
    "    rjoin_ent = \", \".join(uniqe_ent)\n",
    "    return(rjoin_ent)"
   ]
  },
  {
   "cell_type": "code",
   "execution_count": null,
   "id": "10b05cd3",
   "metadata": {},
   "outputs": [],
   "source": [
    "remove_dups('apple, apple, orange')"
   ]
  },
  {
   "cell_type": "code",
   "execution_count": null,
   "id": "64629339",
   "metadata": {},
   "outputs": [],
   "source": [
    "test = test.groupby(['id'])['cats'].apply(', '.join).reset_index()\n",
    "test['cats'] = test['cats'].apply(lambda x: remove_dups(x))"
   ]
  },
  {
   "cell_type": "code",
   "execution_count": null,
   "id": "d99340c9",
   "metadata": {},
   "outputs": [],
   "source": [
    "test"
   ]
  },
  {
   "cell_type": "code",
   "execution_count": null,
   "id": "e40d55e5",
   "metadata": {},
   "outputs": [],
   "source": [
    "for r in [1, 2, 3]:\n",
    "    print(r)"
   ]
  },
  {
   "cell_type": "code",
   "execution_count": null,
   "id": "c01d2c32",
   "metadata": {},
   "outputs": [],
   "source": [
    "finds_count = 0\n",
    "finds_count+=1\n",
    "finds_count"
   ]
  },
  {
   "cell_type": "code",
   "execution_count": null,
   "id": "d43f2cb1",
   "metadata": {},
   "outputs": [],
   "source": [
    "from time import sleep\n",
    "import sys\n",
    "\n",
    "for i in range(200):\n",
    "    sys.stdout.write('\\r')\n",
    "    # the exact output you're looking for:\n",
    "    sys.stdout.write(str(i))\n",
    "    sys.stdout.flush()\n",
    "    sleep(0.05)"
   ]
  },
  {
   "cell_type": "code",
   "execution_count": null,
   "id": "490af6a3",
   "metadata": {},
   "outputs": [],
   "source": [
    "from datetime import datetime\n",
    "\n",
    "now = datetime.now()\n"
   ]
  },
  {
   "cell_type": "code",
   "execution_count": null,
   "id": "5286e1be",
   "metadata": {},
   "outputs": [],
   "source": [
    "then = datetime.now()"
   ]
  },
  {
   "cell_type": "code",
   "execution_count": null,
   "id": "0b6705ae",
   "metadata": {},
   "outputs": [],
   "source": [
    "diff = then - now"
   ]
  },
  {
   "cell_type": "code",
   "execution_count": null,
   "id": "f68eb18b",
   "metadata": {},
   "outputs": [],
   "source": [
    "round(diff.seconds/(60*60), 2)"
   ]
  },
  {
   "cell_type": "code",
   "execution_count": null,
   "id": "1310cc66",
   "metadata": {},
   "outputs": [],
   "source": [
    "round(60*60/(60*60), 2)"
   ]
  },
  {
   "cell_type": "code",
   "execution_count": null,
   "id": "48b4845f",
   "metadata": {},
   "outputs": [],
   "source": [
    "value = 10000\n",
    "f'{value:,}'"
   ]
  },
  {
   "cell_type": "code",
   "execution_count": null,
   "id": "7358e475",
   "metadata": {},
   "outputs": [],
   "source": [
    "test = pd.DataFrame({'rule':['employee(.*)hurt(.*)hand', 'ip(.*)hurt(.*)hand']})"
   ]
  },
  {
   "cell_type": "code",
   "execution_count": null,
   "id": "cb282727",
   "metadata": {},
   "outputs": [],
   "source": [
    "test"
   ]
  },
  {
   "cell_type": "code",
   "execution_count": null,
   "id": "143c67fa",
   "metadata": {},
   "outputs": [],
   "source": [
    "test['status'] = test['rule'].apply(lambda x: check_presence(x, 'the ip hurt his right hand'))\n",
    "test"
   ]
  },
  {
   "cell_type": "code",
   "execution_count": 17,
   "id": "7c36c03a",
   "metadata": {},
   "outputs": [],
   "source": [
    "# Load raw incident data\n",
    "incidents = pd.read_csv(\"data/source/20220413_D1_Incidents.csv\", dtype=str)  \n",
    "\n",
    "# Load the synonym dictionary in its raw csv format\n",
    "syn_csv = pd.read_csv('synonyms.csv')\n",
    "\n",
    "# Load the rule definitions\n",
    "rul_csv = pd.read_csv('rules.csv')\n",
    "\n",
    "# Concatenate some of the fields to make the 'text' field for searching\n",
    "incidents.rename(columns={'IncidentNumber': 'incident_id'}, inplace=True)\n",
    "incidents['text'] = (\n",
    "        incidents['ShortDescription'].astype(str).fillna('') + ' ' + \n",
    "        incidents['FullDescription'].astype(str).fillna('') + ' ' + \n",
    "        incidents['ImmediateAction'].astype(str).fillna('')\n",
    ").str.lower()\n",
    "\n",
    "# We only need the incident ID and the text for now\n",
    "incidents = incidents[['incident_id', 'text']]\n",
    "\n",
    "# Now convert the csv format into a dictionary of synonyms\n",
    "syn_dict = {}\n",
    "for r in range(len(syn_csv)):\n",
    "    syn_toks = syn_csv.keywords[r].split(',')\n",
    "    syn_dict.update({syn_csv.syn[r]:syn_toks})"
   ]
  },
  {
   "cell_type": "code",
   "execution_count": 18,
   "id": "2357713d",
   "metadata": {
    "scrolled": true
   },
   "outputs": [
    {
     "data": {
      "text/html": [
       "<div>\n",
       "<style scoped>\n",
       "    .dataframe tbody tr th:only-of-type {\n",
       "        vertical-align: middle;\n",
       "    }\n",
       "\n",
       "    .dataframe tbody tr th {\n",
       "        vertical-align: top;\n",
       "    }\n",
       "\n",
       "    .dataframe thead th {\n",
       "        text-align: right;\n",
       "    }\n",
       "</style>\n",
       "<table border=\"1\" class=\"dataframe\">\n",
       "  <thead>\n",
       "    <tr style=\"text-align: right;\">\n",
       "      <th></th>\n",
       "      <th>rule</th>\n",
       "      <th>keyword</th>\n",
       "      <th>syns</th>\n",
       "      <th>voids</th>\n",
       "      <th>span</th>\n",
       "      <th>shuffle</th>\n",
       "    </tr>\n",
       "  </thead>\n",
       "  <tbody>\n",
       "    <tr>\n",
       "      <th>0</th>\n",
       "      <td>eye injury or irritation</td>\n",
       "      <td>eye</td>\n",
       "      <td>worker_syns, pain_syns, eye_syns</td>\n",
       "      <td>NaN</td>\n",
       "      <td>8.0</td>\n",
       "      <td>True</td>\n",
       "    </tr>\n",
       "    <tr>\n",
       "      <th>1</th>\n",
       "      <td>eye injury or irritation</td>\n",
       "      <td>eye</td>\n",
       "      <td>gen1_syns, pain_syns, eye_syns</td>\n",
       "      <td>NaN</td>\n",
       "      <td>8.0</td>\n",
       "      <td>True</td>\n",
       "    </tr>\n",
       "    <tr>\n",
       "      <th>2</th>\n",
       "      <td>back injury</td>\n",
       "      <td>back</td>\n",
       "      <td>worker_syns, back_pain_syns, back_syns</td>\n",
       "      <td>NaN</td>\n",
       "      <td>8.0</td>\n",
       "      <td>True</td>\n",
       "    </tr>\n",
       "    <tr>\n",
       "      <th>3</th>\n",
       "      <td>covid</td>\n",
       "      <td>-</td>\n",
       "      <td>worker_syns, tested_syns, covid_syns</td>\n",
       "      <td>NaN</td>\n",
       "      <td>8.0</td>\n",
       "      <td>True</td>\n",
       "    </tr>\n",
       "    <tr>\n",
       "      <th>4</th>\n",
       "      <td>fall from or working at height issue</td>\n",
       "      <td>height</td>\n",
       "      <td>height_equipment_syns, falling_object_syns</td>\n",
       "      <td>same level, slippery floor, wet floor, slipper...</td>\n",
       "      <td>8.0</td>\n",
       "      <td>False</td>\n",
       "    </tr>\n",
       "    <tr>\n",
       "      <th>5</th>\n",
       "      <td>fall from or working at height issue</td>\n",
       "      <td>fall</td>\n",
       "      <td>height_equipment_syns, falling_object_syns</td>\n",
       "      <td>same level, slippery floor, wet floor, slipper...</td>\n",
       "      <td>8.0</td>\n",
       "      <td>False</td>\n",
       "    </tr>\n",
       "    <tr>\n",
       "      <th>6</th>\n",
       "      <td>fall from or working at height issue</td>\n",
       "      <td>-</td>\n",
       "      <td>worker_syns, height_equipment_syns, falling_ob...</td>\n",
       "      <td>same level, slippery floor, wet floor, slipper...</td>\n",
       "      <td>8.0</td>\n",
       "      <td>True</td>\n",
       "    </tr>\n",
       "    <tr>\n",
       "      <th>7</th>\n",
       "      <td>foot or leg injury</td>\n",
       "      <td>-</td>\n",
       "      <td>worker_syns, hurt_syns, leg_syns</td>\n",
       "      <td>NaN</td>\n",
       "      <td>8.0</td>\n",
       "      <td>True</td>\n",
       "    </tr>\n",
       "    <tr>\n",
       "      <th>8</th>\n",
       "      <td>general injury</td>\n",
       "      <td>-</td>\n",
       "      <td>worker_syns, hurt_syns, gen_body_syns</td>\n",
       "      <td>NaN</td>\n",
       "      <td>8.0</td>\n",
       "      <td>True</td>\n",
       "    </tr>\n",
       "    <tr>\n",
       "      <th>9</th>\n",
       "      <td>hand or arm injury</td>\n",
       "      <td>-</td>\n",
       "      <td>worker_syns, hurt_syns, arm_syns</td>\n",
       "      <td>NaN</td>\n",
       "      <td>8.0</td>\n",
       "      <td>True</td>\n",
       "    </tr>\n",
       "    <tr>\n",
       "      <th>10</th>\n",
       "      <td>hydraulic fluid or oil leak</td>\n",
       "      <td>-</td>\n",
       "      <td>mech_component_syns, failure_syns, release_syns</td>\n",
       "      <td>NaN</td>\n",
       "      <td>8.0</td>\n",
       "      <td>True</td>\n",
       "    </tr>\n",
       "    <tr>\n",
       "      <th>11</th>\n",
       "      <td>hydraulic fluid or oil leak</td>\n",
       "      <td>-</td>\n",
       "      <td>mech_component_syns, failure_syns</td>\n",
       "      <td>NaN</td>\n",
       "      <td>8.0</td>\n",
       "      <td>False</td>\n",
       "    </tr>\n",
       "    <tr>\n",
       "      <th>12</th>\n",
       "      <td>bites (animals or insects)</td>\n",
       "      <td>-</td>\n",
       "      <td>worker_syns, suffered_syns, insect_animal_syns</td>\n",
       "      <td>NaN</td>\n",
       "      <td>8.0</td>\n",
       "      <td>True</td>\n",
       "    </tr>\n",
       "    <tr>\n",
       "      <th>13</th>\n",
       "      <td>lack of competency</td>\n",
       "      <td>-</td>\n",
       "      <td>worker_syns, lacking_syns, competency_syns</td>\n",
       "      <td>NaN</td>\n",
       "      <td>8.0</td>\n",
       "      <td>False</td>\n",
       "    </tr>\n",
       "    <tr>\n",
       "      <th>14</th>\n",
       "      <td>mechanical or equipment issue</td>\n",
       "      <td>-</td>\n",
       "      <td>NaN</td>\n",
       "      <td>NaN</td>\n",
       "      <td>NaN</td>\n",
       "      <td>NaN</td>\n",
       "    </tr>\n",
       "    <tr>\n",
       "      <th>15</th>\n",
       "      <td>non-work related injury or illness</td>\n",
       "      <td>-</td>\n",
       "      <td>worker_syns, non_work_syns, illness_syns</td>\n",
       "      <td>NaN</td>\n",
       "      <td>8.0</td>\n",
       "      <td>True</td>\n",
       "    </tr>\n",
       "    <tr>\n",
       "      <th>16</th>\n",
       "      <td>ppe non-compliance</td>\n",
       "      <td>ppe</td>\n",
       "      <td>observed_syns, without_syns, ppe_syns</td>\n",
       "      <td>NaN</td>\n",
       "      <td>8.0</td>\n",
       "      <td>False</td>\n",
       "    </tr>\n",
       "    <tr>\n",
       "      <th>17</th>\n",
       "      <td>slips and trips</td>\n",
       "      <td>-</td>\n",
       "      <td>worker_syns, slip_syns, fall_syns</td>\n",
       "      <td>ladder, step-ladder</td>\n",
       "      <td>8.0</td>\n",
       "      <td>True</td>\n",
       "    </tr>\n",
       "    <tr>\n",
       "      <th>18</th>\n",
       "      <td>slips and trips</td>\n",
       "      <td>slip</td>\n",
       "      <td>slip_syns, fall_syns</td>\n",
       "      <td>ladder, step-ladder</td>\n",
       "      <td>8.0</td>\n",
       "      <td>False</td>\n",
       "    </tr>\n",
       "    <tr>\n",
       "      <th>19</th>\n",
       "      <td>theft</td>\n",
       "      <td>-</td>\n",
       "      <td>worker_syns, theft_syns, theft_object_syns</td>\n",
       "      <td>NaN</td>\n",
       "      <td>8.0</td>\n",
       "      <td>True</td>\n",
       "    </tr>\n",
       "    <tr>\n",
       "      <th>20</th>\n",
       "      <td>vehicle incident</td>\n",
       "      <td>-</td>\n",
       "      <td>vehicle_syns, vehicle_move_syns, vehicle_syns</td>\n",
       "      <td>NaN</td>\n",
       "      <td>8.0</td>\n",
       "      <td>False</td>\n",
       "    </tr>\n",
       "    <tr>\n",
       "      <th>21</th>\n",
       "      <td>vehicle incident</td>\n",
       "      <td>-</td>\n",
       "      <td>vehicle_syns, vehicle_move_syns, object_syns</td>\n",
       "      <td>NaN</td>\n",
       "      <td>8.0</td>\n",
       "      <td>True</td>\n",
       "    </tr>\n",
       "    <tr>\n",
       "      <th>22</th>\n",
       "      <td>vehicle incident</td>\n",
       "      <td>-</td>\n",
       "      <td>involve_syns, vehicle_syns, collision_syns</td>\n",
       "      <td>NaN</td>\n",
       "      <td>8.0</td>\n",
       "      <td>False</td>\n",
       "    </tr>\n",
       "    <tr>\n",
       "      <th>23</th>\n",
       "      <td>vehicle Incident involving animal</td>\n",
       "      <td>-</td>\n",
       "      <td>vehicle_syns, vehicle_move_syns, insect_animal...</td>\n",
       "      <td>NaN</td>\n",
       "      <td>8.0</td>\n",
       "      <td>True</td>\n",
       "    </tr>\n",
       "  </tbody>\n",
       "</table>\n",
       "</div>"
      ],
      "text/plain": [
       "                                    rule keyword  \\\n",
       "0               eye injury or irritation     eye   \n",
       "1               eye injury or irritation     eye   \n",
       "2                            back injury    back   \n",
       "3                                  covid       -   \n",
       "4   fall from or working at height issue  height   \n",
       "5   fall from or working at height issue    fall   \n",
       "6   fall from or working at height issue       -   \n",
       "7                     foot or leg injury       -   \n",
       "8                         general injury       -   \n",
       "9                     hand or arm injury       -   \n",
       "10           hydraulic fluid or oil leak       -   \n",
       "11           hydraulic fluid or oil leak       -   \n",
       "12            bites (animals or insects)       -   \n",
       "13                    lack of competency       -   \n",
       "14         mechanical or equipment issue       -   \n",
       "15    non-work related injury or illness       -   \n",
       "16                    ppe non-compliance     ppe   \n",
       "17                       slips and trips       -   \n",
       "18                       slips and trips    slip   \n",
       "19                                 theft       -   \n",
       "20                      vehicle incident       -   \n",
       "21                      vehicle incident       -   \n",
       "22                      vehicle incident       -   \n",
       "23     vehicle Incident involving animal       -   \n",
       "\n",
       "                                                 syns  \\\n",
       "0                    worker_syns, pain_syns, eye_syns   \n",
       "1                      gen1_syns, pain_syns, eye_syns   \n",
       "2              worker_syns, back_pain_syns, back_syns   \n",
       "3                worker_syns, tested_syns, covid_syns   \n",
       "4          height_equipment_syns, falling_object_syns   \n",
       "5          height_equipment_syns, falling_object_syns   \n",
       "6   worker_syns, height_equipment_syns, falling_ob...   \n",
       "7                    worker_syns, hurt_syns, leg_syns   \n",
       "8               worker_syns, hurt_syns, gen_body_syns   \n",
       "9                    worker_syns, hurt_syns, arm_syns   \n",
       "10    mech_component_syns, failure_syns, release_syns   \n",
       "11                  mech_component_syns, failure_syns   \n",
       "12     worker_syns, suffered_syns, insect_animal_syns   \n",
       "13         worker_syns, lacking_syns, competency_syns   \n",
       "14                                                NaN   \n",
       "15           worker_syns, non_work_syns, illness_syns   \n",
       "16              observed_syns, without_syns, ppe_syns   \n",
       "17                  worker_syns, slip_syns, fall_syns   \n",
       "18                               slip_syns, fall_syns   \n",
       "19         worker_syns, theft_syns, theft_object_syns   \n",
       "20      vehicle_syns, vehicle_move_syns, vehicle_syns   \n",
       "21       vehicle_syns, vehicle_move_syns, object_syns   \n",
       "22         involve_syns, vehicle_syns, collision_syns   \n",
       "23  vehicle_syns, vehicle_move_syns, insect_animal...   \n",
       "\n",
       "                                                voids  span shuffle  \n",
       "0                                                 NaN   8.0    True  \n",
       "1                                                 NaN   8.0    True  \n",
       "2                                                 NaN   8.0    True  \n",
       "3                                                 NaN   8.0    True  \n",
       "4   same level, slippery floor, wet floor, slipper...   8.0   False  \n",
       "5   same level, slippery floor, wet floor, slipper...   8.0   False  \n",
       "6   same level, slippery floor, wet floor, slipper...   8.0    True  \n",
       "7                                                 NaN   8.0    True  \n",
       "8                                                 NaN   8.0    True  \n",
       "9                                                 NaN   8.0    True  \n",
       "10                                                NaN   8.0    True  \n",
       "11                                                NaN   8.0   False  \n",
       "12                                                NaN   8.0    True  \n",
       "13                                                NaN   8.0   False  \n",
       "14                                                NaN   NaN     NaN  \n",
       "15                                                NaN   8.0    True  \n",
       "16                                                NaN   8.0   False  \n",
       "17                                ladder, step-ladder   8.0    True  \n",
       "18                                ladder, step-ladder   8.0   False  \n",
       "19                                                NaN   8.0    True  \n",
       "20                                                NaN   8.0   False  \n",
       "21                                                NaN   8.0    True  \n",
       "22                                                NaN   8.0   False  \n",
       "23                                                NaN   8.0    True  "
      ]
     },
     "execution_count": 18,
     "metadata": {},
     "output_type": "execute_result"
    }
   ],
   "source": [
    "rul_csv"
   ]
  },
  {
   "cell_type": "code",
   "execution_count": 19,
   "id": "2a8f3764",
   "metadata": {},
   "outputs": [],
   "source": [
    "# worker_syns, pain_syns, eye_syns\n",
    "worker_syns = ['employee', 'ip', 'worker', 'man', 'woman', 'he', 'she', 'his']\n",
    "pain_syns = ['pain', 'discomfort', 'soreness', 'hurt', 'something in', 'grit', 'swelling']\n",
    "eye_syns = ['eye', 'pupil', 'iris']"
   ]
  },
  {
   "cell_type": "code",
   "execution_count": 20,
   "id": "85863d38",
   "metadata": {},
   "outputs": [],
   "source": [
    "def tokenize(text):\n",
    "    tokens = word_tokenize(text)\n",
    "    tokens = [tok for tok in tokens if tok!='-']\n",
    "    return tokens"
   ]
  },
  {
   "cell_type": "code",
   "execution_count": 21,
   "id": "8a6bbd0d",
   "metadata": {},
   "outputs": [
    {
     "data": {
      "text/plain": [
       "['worker_syns', 'pain_syns', 'eye_syns']"
      ]
     },
     "execution_count": 21,
     "metadata": {},
     "output_type": "execute_result"
    }
   ],
   "source": [
    "rul_syns = tokenize(re.sub(r\", \", \" \", rul_csv.syns[0]))\n",
    "rul_syns"
   ]
  },
  {
   "cell_type": "code",
   "execution_count": 22,
   "id": "0647da3a",
   "metadata": {},
   "outputs": [
    {
     "data": {
      "text/plain": [
       "['employee',\n",
       " ' ip',\n",
       " ' worker',\n",
       " ' man',\n",
       " ' woman',\n",
       " ' he',\n",
       " ' she',\n",
       " ' his',\n",
       " ' her',\n",
       " ' left',\n",
       " ' right',\n",
       " ' operator',\n",
       " ' operative',\n",
       " ' technician',\n",
       " ' scaffolder',\n",
       " ' team member',\n",
       " ' person']"
      ]
     },
     "execution_count": 22,
     "metadata": {},
     "output_type": "execute_result"
    }
   ],
   "source": [
    "syn_dict.get(rul_syns[0])"
   ]
  },
  {
   "cell_type": "code",
   "execution_count": 125,
   "id": "5d3d9556",
   "metadata": {},
   "outputs": [],
   "source": [
    "import itertools\n",
    "\n",
    "c = 1\n",
    "\n",
    "patterns = []\n",
    "lhs = []\n",
    "rhs = []\n",
    "syn_count = len(rul_syns)\n",
    "\n",
    "for i in range(syn_count):\n",
    "    locals()[f'l{i+1}'] = syn_dict.get(rul_syns[i])\n",
    "\n",
    "iter_prod = itertools.product(l1, l2, l3)\n",
    "\n",
    "for r in iter_prod: \n",
    "    if syn_count == 2:\n",
    "        pt = f'{r[0].strip()}(.*){r[1].strip()}'\n",
    "    elif syn_count == 3:\n",
    "        pt = f'{r[0].strip()}(.*){r[1].strip()}(.*){r[2].strip()}'\n",
    "    else:\n",
    "        pt = f'{r[0].strip()}(.*){r[1].strip()}(.*){r[2].strip()}(.*){r[3].strip()}'\n",
    "    patterns.append(pt)\n",
    "    lhs.append(r[0].strip())\n",
    "    rhs.append(r[2].strip())\n",
    "    c += 1\n",
    "    \n",
    "test = pd.DataFrame({'pattern':patterns})    \n",
    "test['lhs'] = lhs\n",
    "test['rhs'] = rhs"
   ]
  },
  {
   "cell_type": "code",
   "execution_count": 126,
   "id": "d75ce32d",
   "metadata": {},
   "outputs": [
    {
     "data": {
      "text/html": [
       "<div>\n",
       "<style scoped>\n",
       "    .dataframe tbody tr th:only-of-type {\n",
       "        vertical-align: middle;\n",
       "    }\n",
       "\n",
       "    .dataframe tbody tr th {\n",
       "        vertical-align: top;\n",
       "    }\n",
       "\n",
       "    .dataframe thead th {\n",
       "        text-align: right;\n",
       "    }\n",
       "</style>\n",
       "<table border=\"1\" class=\"dataframe\">\n",
       "  <thead>\n",
       "    <tr style=\"text-align: right;\">\n",
       "      <th></th>\n",
       "      <th>pattern</th>\n",
       "      <th>lhs</th>\n",
       "      <th>rhs</th>\n",
       "    </tr>\n",
       "  </thead>\n",
       "  <tbody>\n",
       "    <tr>\n",
       "      <th>0</th>\n",
       "      <td>employee(.*)pain(.*)eye</td>\n",
       "      <td>employee</td>\n",
       "      <td>eye</td>\n",
       "    </tr>\n",
       "    <tr>\n",
       "      <th>1</th>\n",
       "      <td>employee(.*)pain(.*)pupil</td>\n",
       "      <td>employee</td>\n",
       "      <td>pupil</td>\n",
       "    </tr>\n",
       "    <tr>\n",
       "      <th>2</th>\n",
       "      <td>employee(.*)pain(.*)iris</td>\n",
       "      <td>employee</td>\n",
       "      <td>iris</td>\n",
       "    </tr>\n",
       "    <tr>\n",
       "      <th>3</th>\n",
       "      <td>employee(.*)discomfort(.*)eye</td>\n",
       "      <td>employee</td>\n",
       "      <td>eye</td>\n",
       "    </tr>\n",
       "    <tr>\n",
       "      <th>4</th>\n",
       "      <td>employee(.*)discomfort(.*)pupil</td>\n",
       "      <td>employee</td>\n",
       "      <td>pupil</td>\n",
       "    </tr>\n",
       "    <tr>\n",
       "      <th>...</th>\n",
       "      <td>...</td>\n",
       "      <td>...</td>\n",
       "      <td>...</td>\n",
       "    </tr>\n",
       "    <tr>\n",
       "      <th>1321</th>\n",
       "      <td>person(.*)swelling(.*)pupil</td>\n",
       "      <td>person</td>\n",
       "      <td>pupil</td>\n",
       "    </tr>\n",
       "    <tr>\n",
       "      <th>1322</th>\n",
       "      <td>person(.*)swelling(.*)iris</td>\n",
       "      <td>person</td>\n",
       "      <td>iris</td>\n",
       "    </tr>\n",
       "    <tr>\n",
       "      <th>1323</th>\n",
       "      <td>person(.*)swollen(.*)eye</td>\n",
       "      <td>person</td>\n",
       "      <td>eye</td>\n",
       "    </tr>\n",
       "    <tr>\n",
       "      <th>1324</th>\n",
       "      <td>person(.*)swollen(.*)pupil</td>\n",
       "      <td>person</td>\n",
       "      <td>pupil</td>\n",
       "    </tr>\n",
       "    <tr>\n",
       "      <th>1325</th>\n",
       "      <td>person(.*)swollen(.*)iris</td>\n",
       "      <td>person</td>\n",
       "      <td>iris</td>\n",
       "    </tr>\n",
       "  </tbody>\n",
       "</table>\n",
       "<p>1326 rows × 3 columns</p>\n",
       "</div>"
      ],
      "text/plain": [
       "                              pattern       lhs    rhs\n",
       "0             employee(.*)pain(.*)eye  employee    eye\n",
       "1           employee(.*)pain(.*)pupil  employee  pupil\n",
       "2            employee(.*)pain(.*)iris  employee   iris\n",
       "3       employee(.*)discomfort(.*)eye  employee    eye\n",
       "4     employee(.*)discomfort(.*)pupil  employee  pupil\n",
       "...                               ...       ...    ...\n",
       "1321      person(.*)swelling(.*)pupil    person  pupil\n",
       "1322       person(.*)swelling(.*)iris    person   iris\n",
       "1323         person(.*)swollen(.*)eye    person    eye\n",
       "1324       person(.*)swollen(.*)pupil    person  pupil\n",
       "1325        person(.*)swollen(.*)iris    person   iris\n",
       "\n",
       "[1326 rows x 3 columns]"
      ]
     },
     "execution_count": 126,
     "metadata": {},
     "output_type": "execute_result"
    }
   ],
   "source": [
    "test"
   ]
  },
  {
   "cell_type": "code",
   "execution_count": 127,
   "id": "521f48c9",
   "metadata": {},
   "outputs": [
    {
     "data": {
      "text/plain": [
       "936"
      ]
     },
     "execution_count": 127,
     "metadata": {},
     "output_type": "execute_result"
    }
   ],
   "source": [
    "chk_sent = 'the person hurt his right eye'\n",
    "sum(test['lhs'].apply(lambda x: find_index(chk_sent, x, pos='left')))"
   ]
  },
  {
   "cell_type": "code",
   "execution_count": 129,
   "id": "38200a65",
   "metadata": {},
   "outputs": [
    {
     "name": "stdout",
     "output_type": "stream",
     "text": [
      "['the', 'person', 'hurt', 'his', 'right', 'eye']\n"
     ]
    },
    {
     "data": {
      "text/html": [
       "<div>\n",
       "<style scoped>\n",
       "    .dataframe tbody tr th:only-of-type {\n",
       "        vertical-align: middle;\n",
       "    }\n",
       "\n",
       "    .dataframe tbody tr th {\n",
       "        vertical-align: top;\n",
       "    }\n",
       "\n",
       "    .dataframe thead th {\n",
       "        text-align: right;\n",
       "    }\n",
       "</style>\n",
       "<table border=\"1\" class=\"dataframe\">\n",
       "  <thead>\n",
       "    <tr style=\"text-align: right;\">\n",
       "      <th></th>\n",
       "      <th>pattern</th>\n",
       "      <th>lhs</th>\n",
       "      <th>rhs</th>\n",
       "      <th>found</th>\n",
       "      <th>lhs_index</th>\n",
       "      <th>rhs_index</th>\n",
       "      <th>span</th>\n",
       "    </tr>\n",
       "  </thead>\n",
       "  <tbody>\n",
       "    <tr>\n",
       "      <th>0</th>\n",
       "      <td>employee(.*)pain(.*)eye</td>\n",
       "      <td>employee</td>\n",
       "      <td>eye</td>\n",
       "      <td>False</td>\n",
       "      <td>0</td>\n",
       "      <td>6</td>\n",
       "      <td>6</td>\n",
       "    </tr>\n",
       "    <tr>\n",
       "      <th>1</th>\n",
       "      <td>employee(.*)pain(.*)pupil</td>\n",
       "      <td>employee</td>\n",
       "      <td>pupil</td>\n",
       "      <td>False</td>\n",
       "      <td>0</td>\n",
       "      <td>0</td>\n",
       "      <td>0</td>\n",
       "    </tr>\n",
       "    <tr>\n",
       "      <th>2</th>\n",
       "      <td>employee(.*)pain(.*)iris</td>\n",
       "      <td>employee</td>\n",
       "      <td>iris</td>\n",
       "      <td>False</td>\n",
       "      <td>0</td>\n",
       "      <td>0</td>\n",
       "      <td>0</td>\n",
       "    </tr>\n",
       "    <tr>\n",
       "      <th>3</th>\n",
       "      <td>employee(.*)discomfort(.*)eye</td>\n",
       "      <td>employee</td>\n",
       "      <td>eye</td>\n",
       "      <td>False</td>\n",
       "      <td>0</td>\n",
       "      <td>6</td>\n",
       "      <td>6</td>\n",
       "    </tr>\n",
       "    <tr>\n",
       "      <th>4</th>\n",
       "      <td>employee(.*)discomfort(.*)pupil</td>\n",
       "      <td>employee</td>\n",
       "      <td>pupil</td>\n",
       "      <td>False</td>\n",
       "      <td>0</td>\n",
       "      <td>0</td>\n",
       "      <td>0</td>\n",
       "    </tr>\n",
       "    <tr>\n",
       "      <th>...</th>\n",
       "      <td>...</td>\n",
       "      <td>...</td>\n",
       "      <td>...</td>\n",
       "      <td>...</td>\n",
       "      <td>...</td>\n",
       "      <td>...</td>\n",
       "      <td>...</td>\n",
       "    </tr>\n",
       "    <tr>\n",
       "      <th>1321</th>\n",
       "      <td>person(.*)swelling(.*)pupil</td>\n",
       "      <td>person</td>\n",
       "      <td>pupil</td>\n",
       "      <td>False</td>\n",
       "      <td>2</td>\n",
       "      <td>0</td>\n",
       "      <td>-2</td>\n",
       "    </tr>\n",
       "    <tr>\n",
       "      <th>1322</th>\n",
       "      <td>person(.*)swelling(.*)iris</td>\n",
       "      <td>person</td>\n",
       "      <td>iris</td>\n",
       "      <td>False</td>\n",
       "      <td>2</td>\n",
       "      <td>0</td>\n",
       "      <td>-2</td>\n",
       "    </tr>\n",
       "    <tr>\n",
       "      <th>1323</th>\n",
       "      <td>person(.*)swollen(.*)eye</td>\n",
       "      <td>person</td>\n",
       "      <td>eye</td>\n",
       "      <td>False</td>\n",
       "      <td>2</td>\n",
       "      <td>6</td>\n",
       "      <td>4</td>\n",
       "    </tr>\n",
       "    <tr>\n",
       "      <th>1324</th>\n",
       "      <td>person(.*)swollen(.*)pupil</td>\n",
       "      <td>person</td>\n",
       "      <td>pupil</td>\n",
       "      <td>False</td>\n",
       "      <td>2</td>\n",
       "      <td>0</td>\n",
       "      <td>-2</td>\n",
       "    </tr>\n",
       "    <tr>\n",
       "      <th>1325</th>\n",
       "      <td>person(.*)swollen(.*)iris</td>\n",
       "      <td>person</td>\n",
       "      <td>iris</td>\n",
       "      <td>False</td>\n",
       "      <td>2</td>\n",
       "      <td>0</td>\n",
       "      <td>-2</td>\n",
       "    </tr>\n",
       "  </tbody>\n",
       "</table>\n",
       "<p>1326 rows × 7 columns</p>\n",
       "</div>"
      ],
      "text/plain": [
       "                              pattern       lhs    rhs  found  lhs_index  \\\n",
       "0             employee(.*)pain(.*)eye  employee    eye  False          0   \n",
       "1           employee(.*)pain(.*)pupil  employee  pupil  False          0   \n",
       "2            employee(.*)pain(.*)iris  employee   iris  False          0   \n",
       "3       employee(.*)discomfort(.*)eye  employee    eye  False          0   \n",
       "4     employee(.*)discomfort(.*)pupil  employee  pupil  False          0   \n",
       "...                               ...       ...    ...    ...        ...   \n",
       "1321      person(.*)swelling(.*)pupil    person  pupil  False          2   \n",
       "1322       person(.*)swelling(.*)iris    person   iris  False          2   \n",
       "1323         person(.*)swollen(.*)eye    person    eye  False          2   \n",
       "1324       person(.*)swollen(.*)pupil    person  pupil  False          2   \n",
       "1325        person(.*)swollen(.*)iris    person   iris  False          2   \n",
       "\n",
       "      rhs_index  span  \n",
       "0             6     6  \n",
       "1             0     0  \n",
       "2             0     0  \n",
       "3             6     6  \n",
       "4             0     0  \n",
       "...         ...   ...  \n",
       "1321          0    -2  \n",
       "1322          0    -2  \n",
       "1323          6     4  \n",
       "1324          0    -2  \n",
       "1325          0    -2  \n",
       "\n",
       "[1326 rows x 7 columns]"
      ]
     },
     "execution_count": 129,
     "metadata": {},
     "output_type": "execute_result"
    }
   ],
   "source": [
    "chk_sent = 'the person hurt his right eye'\n",
    "split_chk_sent = chk_sent.split()\n",
    "print(split_chk_sent)\n",
    "test['found'] = test['pattern'].apply(lambda x: check_presence(x, chk_sent))\n",
    "test['lhs_index'] = test['lhs'].apply(lambda x: find_index(chk_sent, x, pos='left'))\n",
    "test['rhs_index'] = test['rhs'].apply(lambda x: find_index(chk_sent, x, pos='right'))\n",
    "test['span'] = test['rhs_index'] - test['lhs_index']\n",
    "test"
   ]
  },
  {
   "cell_type": "code",
   "execution_count": 132,
   "id": "acb31476",
   "metadata": {},
   "outputs": [
    {
     "data": {
      "text/html": [
       "<div>\n",
       "<style scoped>\n",
       "    .dataframe tbody tr th:only-of-type {\n",
       "        vertical-align: middle;\n",
       "    }\n",
       "\n",
       "    .dataframe tbody tr th {\n",
       "        vertical-align: top;\n",
       "    }\n",
       "\n",
       "    .dataframe thead th {\n",
       "        text-align: right;\n",
       "    }\n",
       "</style>\n",
       "<table border=\"1\" class=\"dataframe\">\n",
       "  <thead>\n",
       "    <tr style=\"text-align: right;\">\n",
       "      <th></th>\n",
       "      <th>pattern</th>\n",
       "      <th>lhs</th>\n",
       "      <th>rhs</th>\n",
       "      <th>found</th>\n",
       "      <th>lhs_index</th>\n",
       "      <th>rhs_index</th>\n",
       "      <th>span</th>\n",
       "    </tr>\n",
       "  </thead>\n",
       "  <tbody>\n",
       "    <tr>\n",
       "      <th>399</th>\n",
       "      <td>he(.*)hurt(.*)eye</td>\n",
       "      <td>he</td>\n",
       "      <td>eye</td>\n",
       "      <td>True</td>\n",
       "      <td>1</td>\n",
       "      <td>6</td>\n",
       "      <td>5</td>\n",
       "    </tr>\n",
       "    <tr>\n",
       "      <th>1257</th>\n",
       "      <td>person(.*)hurt(.*)eye</td>\n",
       "      <td>person</td>\n",
       "      <td>eye</td>\n",
       "      <td>True</td>\n",
       "      <td>2</td>\n",
       "      <td>6</td>\n",
       "      <td>4</td>\n",
       "    </tr>\n",
       "  </tbody>\n",
       "</table>\n",
       "</div>"
      ],
      "text/plain": [
       "                    pattern     lhs  rhs  found  lhs_index  rhs_index  span\n",
       "399       he(.*)hurt(.*)eye      he  eye   True          1          6     5\n",
       "1257  person(.*)hurt(.*)eye  person  eye   True          2          6     4"
      ]
     },
     "execution_count": 132,
     "metadata": {},
     "output_type": "execute_result"
    }
   ],
   "source": [
    "test[test['found'] == True]"
   ]
  },
  {
   "cell_type": "code",
   "execution_count": 133,
   "id": "92736a65",
   "metadata": {},
   "outputs": [
    {
     "data": {
      "text/html": [
       "<div>\n",
       "<style scoped>\n",
       "    .dataframe tbody tr th:only-of-type {\n",
       "        vertical-align: middle;\n",
       "    }\n",
       "\n",
       "    .dataframe tbody tr th {\n",
       "        vertical-align: top;\n",
       "    }\n",
       "\n",
       "    .dataframe thead th {\n",
       "        text-align: right;\n",
       "    }\n",
       "</style>\n",
       "<table border=\"1\" class=\"dataframe\">\n",
       "  <thead>\n",
       "    <tr style=\"text-align: right;\">\n",
       "      <th></th>\n",
       "      <th>pattern</th>\n",
       "      <th>lhs</th>\n",
       "      <th>rhs</th>\n",
       "      <th>found</th>\n",
       "      <th>lhs_index</th>\n",
       "      <th>rhs_index</th>\n",
       "      <th>span</th>\n",
       "    </tr>\n",
       "  </thead>\n",
       "  <tbody>\n",
       "    <tr>\n",
       "      <th>390</th>\n",
       "      <td>he(.*)pain(.*)eye</td>\n",
       "      <td>he</td>\n",
       "      <td>eye</td>\n",
       "      <td>False</td>\n",
       "      <td>1</td>\n",
       "      <td>6</td>\n",
       "      <td>5</td>\n",
       "    </tr>\n",
       "    <tr>\n",
       "      <th>391</th>\n",
       "      <td>he(.*)pain(.*)pupil</td>\n",
       "      <td>he</td>\n",
       "      <td>pupil</td>\n",
       "      <td>False</td>\n",
       "      <td>1</td>\n",
       "      <td>0</td>\n",
       "      <td>-1</td>\n",
       "    </tr>\n",
       "    <tr>\n",
       "      <th>392</th>\n",
       "      <td>he(.*)pain(.*)iris</td>\n",
       "      <td>he</td>\n",
       "      <td>iris</td>\n",
       "      <td>False</td>\n",
       "      <td>1</td>\n",
       "      <td>0</td>\n",
       "      <td>-1</td>\n",
       "    </tr>\n",
       "    <tr>\n",
       "      <th>393</th>\n",
       "      <td>he(.*)discomfort(.*)eye</td>\n",
       "      <td>he</td>\n",
       "      <td>eye</td>\n",
       "      <td>False</td>\n",
       "      <td>1</td>\n",
       "      <td>6</td>\n",
       "      <td>5</td>\n",
       "    </tr>\n",
       "    <tr>\n",
       "      <th>394</th>\n",
       "      <td>he(.*)discomfort(.*)pupil</td>\n",
       "      <td>he</td>\n",
       "      <td>pupil</td>\n",
       "      <td>False</td>\n",
       "      <td>1</td>\n",
       "      <td>0</td>\n",
       "      <td>-1</td>\n",
       "    </tr>\n",
       "    <tr>\n",
       "      <th>...</th>\n",
       "      <td>...</td>\n",
       "      <td>...</td>\n",
       "      <td>...</td>\n",
       "      <td>...</td>\n",
       "      <td>...</td>\n",
       "      <td>...</td>\n",
       "      <td>...</td>\n",
       "    </tr>\n",
       "    <tr>\n",
       "      <th>1321</th>\n",
       "      <td>person(.*)swelling(.*)pupil</td>\n",
       "      <td>person</td>\n",
       "      <td>pupil</td>\n",
       "      <td>False</td>\n",
       "      <td>2</td>\n",
       "      <td>0</td>\n",
       "      <td>-2</td>\n",
       "    </tr>\n",
       "    <tr>\n",
       "      <th>1322</th>\n",
       "      <td>person(.*)swelling(.*)iris</td>\n",
       "      <td>person</td>\n",
       "      <td>iris</td>\n",
       "      <td>False</td>\n",
       "      <td>2</td>\n",
       "      <td>0</td>\n",
       "      <td>-2</td>\n",
       "    </tr>\n",
       "    <tr>\n",
       "      <th>1323</th>\n",
       "      <td>person(.*)swollen(.*)eye</td>\n",
       "      <td>person</td>\n",
       "      <td>eye</td>\n",
       "      <td>False</td>\n",
       "      <td>2</td>\n",
       "      <td>6</td>\n",
       "      <td>4</td>\n",
       "    </tr>\n",
       "    <tr>\n",
       "      <th>1324</th>\n",
       "      <td>person(.*)swollen(.*)pupil</td>\n",
       "      <td>person</td>\n",
       "      <td>pupil</td>\n",
       "      <td>False</td>\n",
       "      <td>2</td>\n",
       "      <td>0</td>\n",
       "      <td>-2</td>\n",
       "    </tr>\n",
       "    <tr>\n",
       "      <th>1325</th>\n",
       "      <td>person(.*)swollen(.*)iris</td>\n",
       "      <td>person</td>\n",
       "      <td>iris</td>\n",
       "      <td>False</td>\n",
       "      <td>2</td>\n",
       "      <td>0</td>\n",
       "      <td>-2</td>\n",
       "    </tr>\n",
       "  </tbody>\n",
       "</table>\n",
       "<p>312 rows × 7 columns</p>\n",
       "</div>"
      ],
      "text/plain": [
       "                          pattern     lhs    rhs  found  lhs_index  rhs_index  \\\n",
       "390             he(.*)pain(.*)eye      he    eye  False          1          6   \n",
       "391           he(.*)pain(.*)pupil      he  pupil  False          1          0   \n",
       "392            he(.*)pain(.*)iris      he   iris  False          1          0   \n",
       "393       he(.*)discomfort(.*)eye      he    eye  False          1          6   \n",
       "394     he(.*)discomfort(.*)pupil      he  pupil  False          1          0   \n",
       "...                           ...     ...    ...    ...        ...        ...   \n",
       "1321  person(.*)swelling(.*)pupil  person  pupil  False          2          0   \n",
       "1322   person(.*)swelling(.*)iris  person   iris  False          2          0   \n",
       "1323     person(.*)swollen(.*)eye  person    eye  False          2          6   \n",
       "1324   person(.*)swollen(.*)pupil  person  pupil  False          2          0   \n",
       "1325    person(.*)swollen(.*)iris  person   iris  False          2          0   \n",
       "\n",
       "      span  \n",
       "390      5  \n",
       "391     -1  \n",
       "392     -1  \n",
       "393      5  \n",
       "394     -1  \n",
       "...    ...  \n",
       "1321    -2  \n",
       "1322    -2  \n",
       "1323     4  \n",
       "1324    -2  \n",
       "1325    -2  \n",
       "\n",
       "[312 rows x 7 columns]"
      ]
     },
     "execution_count": 133,
     "metadata": {},
     "output_type": "execute_result"
    }
   ],
   "source": [
    "test[test['lhs_index'] != 0]"
   ]
  },
  {
   "cell_type": "code",
   "execution_count": 88,
   "id": "4c2a3ba0",
   "metadata": {},
   "outputs": [
    {
     "name": "stdout",
     "output_type": "stream",
     "text": [
      "['the', 'person', 'hurt', 'his', 'right', 'hurts', 'eye']\n"
     ]
    }
   ],
   "source": [
    "chk_sent = 'the person hurt his right hurts eye'\n",
    "split_chk_sent = chk_sent.split()\n",
    "print(split_chk_sent)"
   ]
  },
  {
   "cell_type": "code",
   "execution_count": 89,
   "id": "b8d62a2e",
   "metadata": {},
   "outputs": [
    {
     "data": {
      "text/plain": [
       "2"
      ]
     },
     "execution_count": 89,
     "metadata": {},
     "output_type": "execute_result"
    }
   ],
   "source": [
    "def find_index(chk_string, keyword, pos='left'):\n",
    "    try:\n",
    "        split_chk = chk_string.split()\n",
    "        #find_index = max(loc for loc, val in enumerate(split_chk) if val == keyword) + 1\n",
    "        find_index = [loc for loc, val in enumerate(split_chk) if bool(re.search(keyword, val))]\n",
    "        if pos == 'left':\n",
    "            find_index = min(find_index)+1\n",
    "        else:\n",
    "            find_index = max(find_index)+1\n",
    "    except:\n",
    "        print\n",
    "        find_index = 0\n",
    "    return(find_index)\n",
    "\n",
    "find_index(chk_sent, 'person', pos='left')"
   ]
  },
  {
   "cell_type": "code",
   "execution_count": 14,
   "id": "e356efdb",
   "metadata": {},
   "outputs": [
    {
     "data": {
      "text/plain": [
       "\"(?:[a-zA-Z'-]+[^a-zA-Z'-]+){0,2}leg\""
      ]
     },
     "execution_count": 14,
     "metadata": {},
     "output_type": "execute_result"
    }
   ],
   "source": [
    "keyword = 'leg'\n",
    "window = 2\n",
    "pre_context = \"(?:[a-zA-Z'-]+[^a-zA-Z'-]+){0,<window>}<keyword>\".replace('<keyword>', str(keyword)).replace('<window>', str(window))\n",
    "post_context = \"<keyword>(?:[^a-zA-Z'-]+[a-zA-Z'-]+){0,<window>}\".replace('<keyword>', str(keyword)).replace('<window>', str(window))\n",
    "all_context = \"(?:[a-zA-Z'-]+[^a-zA-Z'-]+){0,<window>}<keyword>(?:[^a-zA-Z'-]+[a-zA-Z'-]+){0,<window>}\".replace('<keyword>', str(keyword)).replace('<window>', str(window))\n",
    "pre_context"
   ]
  },
  {
   "cell_type": "code",
   "execution_count": 15,
   "id": "2cf874d3",
   "metadata": {},
   "outputs": [
    {
     "data": {
      "text/plain": [
       "['big fat leg']"
      ]
     },
     "execution_count": 15,
     "metadata": {},
     "output_type": "execute_result"
    }
   ],
   "source": [
    "doc = 'My big fat leg is really broke'\n",
    "re.findall(pre_context, doc)"
   ]
  },
  {
   "cell_type": "code",
   "execution_count": 16,
   "id": "757a3aeb",
   "metadata": {},
   "outputs": [
    {
     "data": {
      "text/plain": [
       "['leg is really']"
      ]
     },
     "execution_count": 16,
     "metadata": {},
     "output_type": "execute_result"
    }
   ],
   "source": [
    "re.findall(post_context, doc)"
   ]
  },
  {
   "cell_type": "code",
   "execution_count": 23,
   "id": "c917fa17",
   "metadata": {},
   "outputs": [
    {
     "data": {
      "text/plain": [
       "'leg how you doing'"
      ]
     },
     "execution_count": 23,
     "metadata": {},
     "output_type": "execute_result"
    }
   ],
   "source": [
    "\"<keyword> how you doing\".replace('<keyword>', str(keyword))"
   ]
  },
  {
   "cell_type": "code",
   "execution_count": 53,
   "id": "4c01de5d",
   "metadata": {},
   "outputs": [],
   "source": [
    "rules = pd.read_csv('data/rule_book.csv')\n",
    "rules[\"keyword\"] = [x.replace(\"*\", \"[a-zA-Z'-]*\") + r\"\\b\" for x in rules[\"keyword\"]]\n",
    "rules[\"rules_pre\"] = [rbfuncts.translate_to_regex(x) for x in rules[\"rules_pre\"]]\n",
    "rules[\"rules_post\"] = [rbfuncts.translate_to_regex(x) for x in rules[\"rules_post\"]]\n",
    "rules[\"rules_all\"] = [rbfuncts.translate_to_regex(x) for x in rules[\"rules_all\"]]\n",
    "rules[\"voids\"] = [rbfuncts.translate_to_regex(x) for x in rules[\"voids\"]]\n",
    "categories = list(set(rules[\"group\"]))\n",
    "cat_dict = {cat: i for i, cat in enumerate(categories)}\n",
    "category_indicators = [False] * len(categories)"
   ]
  },
  {
   "cell_type": "code",
   "execution_count": 54,
   "id": "fc3b933e",
   "metadata": {},
   "outputs": [
    {
     "data": {
      "text/plain": [
       "['minor non-injury event',\n",
       " 'fuel spill or leak',\n",
       " 'non-work related injury or illness',\n",
       " 'competency',\n",
       " 'slips & trips',\n",
       " 'foot or leg injury',\n",
       " 'sharp objects',\n",
       " 'hand or arm injury',\n",
       " 'disease or infection',\n",
       " 'alarms',\n",
       " 'minor fluid spill',\n",
       " 'knife incident',\n",
       " 'aggressive behaviour',\n",
       " 'confined space non-conformance or issue',\n",
       " 'back injury',\n",
       " 'dropped object or material',\n",
       " 'eye injury or irritation',\n",
       " 'line strike',\n",
       " 'covid',\n",
       " 'bites (animals or insects)',\n",
       " 'fall from or working at height issue',\n",
       " 'general injury',\n",
       " 'lifting or moving loads',\n",
       " 'mechanical or equipment issue',\n",
       " 'site compliance or practice issue',\n",
       " 'weather related issue',\n",
       " 'security or general safety concern',\n",
       " 'vehicle Incident involving animal',\n",
       " 'fire',\n",
       " 'burns',\n",
       " 'work vehicle incident',\n",
       " 'ppe non-compliance',\n",
       " 'hydraulic fluid or oil leak',\n",
       " 'alcohol or drugs',\n",
       " 'theft',\n",
       " 'vandalism',\n",
       " 'environmental leak or issue',\n",
       " 'hazardous materials or work',\n",
       " 'line of fire',\n",
       " 'excavations',\n",
       " 'speeding',\n",
       " 'general illness or health issue',\n",
       " 'offshore transfer',\n",
       " 'head or face injury',\n",
       " 'vehicle incident general',\n",
       " 'office or facilities incident or injury',\n",
       " 'electric shock or issue']"
      ]
     },
     "execution_count": 54,
     "metadata": {},
     "output_type": "execute_result"
    }
   ],
   "source": [
    "categories"
   ]
  },
  {
   "cell_type": "code",
   "execution_count": 55,
   "id": "3a0b24ea",
   "metadata": {},
   "outputs": [
    {
     "data": {
      "text/plain": [
       "{'minor non-injury event': 0,\n",
       " 'fuel spill or leak': 1,\n",
       " 'non-work related injury or illness': 2,\n",
       " 'competency': 3,\n",
       " 'slips & trips': 4,\n",
       " 'foot or leg injury': 5,\n",
       " 'sharp objects': 6,\n",
       " 'hand or arm injury': 7,\n",
       " 'disease or infection': 8,\n",
       " 'alarms': 9,\n",
       " 'minor fluid spill': 10,\n",
       " 'knife incident': 11,\n",
       " 'aggressive behaviour': 12,\n",
       " 'confined space non-conformance or issue': 13,\n",
       " 'back injury': 14,\n",
       " 'dropped object or material': 15,\n",
       " 'eye injury or irritation': 16,\n",
       " 'line strike': 17,\n",
       " 'covid': 18,\n",
       " 'bites (animals or insects)': 19,\n",
       " 'fall from or working at height issue': 20,\n",
       " 'general injury': 21,\n",
       " 'lifting or moving loads': 22,\n",
       " 'mechanical or equipment issue': 23,\n",
       " 'site compliance or practice issue': 24,\n",
       " 'weather related issue': 25,\n",
       " 'security or general safety concern': 26,\n",
       " 'vehicle Incident involving animal': 27,\n",
       " 'fire': 28,\n",
       " 'burns': 29,\n",
       " 'work vehicle incident': 30,\n",
       " 'ppe non-compliance': 31,\n",
       " 'hydraulic fluid or oil leak': 32,\n",
       " 'alcohol or drugs': 33,\n",
       " 'theft': 34,\n",
       " 'vandalism': 35,\n",
       " 'environmental leak or issue': 36,\n",
       " 'hazardous materials or work': 37,\n",
       " 'line of fire': 38,\n",
       " 'excavations': 39,\n",
       " 'speeding': 40,\n",
       " 'general illness or health issue': 41,\n",
       " 'offshore transfer': 42,\n",
       " 'head or face injury': 43,\n",
       " 'vehicle incident general': 44,\n",
       " 'office or facilities incident or injury': 45,\n",
       " 'electric shock or issue': 46}"
      ]
     },
     "execution_count": 55,
     "metadata": {},
     "output_type": "execute_result"
    }
   ],
   "source": [
    "cat_dict"
   ]
  },
  {
   "cell_type": "code",
   "execution_count": 7,
   "id": "5d7a0b65",
   "metadata": {},
   "outputs": [],
   "source": [
    "def check_presence(pattern, string):\n",
    "    if pattern:\n",
    "        return bool(re.search(pattern, string))\n",
    "    else:\n",
    "        return False"
   ]
  },
  {
   "cell_type": "code",
   "execution_count": 8,
   "id": "9a341a8e",
   "metadata": {},
   "outputs": [],
   "source": [
    "def find_pattern(doc, keyword, check_pre, check_post, check_all, check_void, window):\n",
    "    \"\"\"\n",
    "    for a list of tokens finds specified keyword and returns True\n",
    "    if the neighbourhood of this keyword satisfies pre-, post- or all- context rules\n",
    "    and doesn't contain anything forbidden\n",
    "    :param tokens: list of tokens\n",
    "    :param keyword: pattern which a token should match\n",
    "    :param check_pre: pattern which several previous tokens (concatenated) should match\n",
    "    :param check_post: pattern which several subsequent tokens (concatenated) should match\n",
    "    :param check_all: pattern which previous tokens + keyword + subsequent tokens should match\n",
    "    :param check_void: pattern which previous tokens + keyword + subsequent tokens should NOT match\n",
    "    :param window: N of pre and post tokens to consider\n",
    "    :return: True/False - whether at least one matching part was found\n",
    "    \"\"\"\n",
    "    # extract contexts of keyword (if any found)\n",
    "    # check if keyword in sentence\n",
    "    any_match = re.search(keyword, doc)\n",
    "\n",
    "    if any_match is None:\n",
    "        return False\n",
    "    else:\n",
    "        # We want to finad and extract the context of the keyword in the sentence\n",
    "        # With a predefined window\n",
    "        pre_context = \"(?:[a-zA-Z'-]+[^a-zA-Z'-]+){0,<window>}<keyword>\".replace('<keyword>', str(keyword)).replace('<window>', str(window))\n",
    "        post_context = \"<keyword>(?:[^a-zA-Z'-]+[a-zA-Z'-]+){0,<window>}\".replace('<keyword>', str(keyword)).replace('<window>', str(window))\n",
    "        all_context = \"(?:[a-zA-Z'-]+[^a-zA-Z'-]+){0,<window>}<keyword>(?:[^a-zA-Z'-]+[a-zA-Z'-]+){0,<window>}\".replace('<keyword>', str(keyword)).replace('<window>', str(window))\n",
    "        \n",
    "        pre_match = re.findall(pre_context, doc)\n",
    "        post_match = re.findall(post_context, doc)\n",
    "        all_match = re.findall(all_context, doc)\n",
    "\n",
    "    # Check if any of the given sentences is on list of pre/post/all keywords.\n",
    "    pre_check = any([check_presence(check_pre, pre) for pre in pre_match])\n",
    "    post_check = any([check_presence(check_post, post) for post in post_match])\n",
    "    all_check = any([check_presence(check_all, all_) for all_ in all_match])\n",
    "    void_check = any([check_presence(check_void, all_) for all_ in all_match])\n",
    "\n",
    "    # Perform final tests\n",
    "    final_match = (pre_check or post_check or all_check) and not void_check\n",
    "    return final_match"
   ]
  },
  {
   "cell_type": "code",
   "execution_count": 58,
   "id": "99f88826",
   "metadata": {},
   "outputs": [],
   "source": [
    "num_rules = len(rules['group'])\n",
    "window = 12\n",
    "incidents = pd.read_csv(\"data/source/20220413_D1_Incidents.csv\", dtype=str)  \n",
    "# Concatenate some of the fields to make the 'text' field for searching\n",
    "incidents.rename(columns={'IncidentNumber': 'incident_id'}, inplace=True)\n",
    "incidents['text'] = (\n",
    "        incidents['ShortDescription'].astype(str).fillna('') + ' ' + \n",
    "        incidents['FullDescription'].astype(str).fillna('') + ' ' + \n",
    "        incidents['ImmediateAction'].astype(str).fillna('')\n",
    ").str.lower()\n",
    "\n",
    "# We only need the incident ID and the text for now\n",
    "incidents = incidents[['incident_id', 'text']]\n",
    "sample100 = incidents.sample(100)\n",
    "doc=sample100"
   ]
  },
  {
   "cell_type": "code",
   "execution_count": 59,
   "id": "4a1f709b",
   "metadata": {},
   "outputs": [
    {
     "data": {
      "text/html": [
       "<div>\n",
       "<style scoped>\n",
       "    .dataframe tbody tr th:only-of-type {\n",
       "        vertical-align: middle;\n",
       "    }\n",
       "\n",
       "    .dataframe tbody tr th {\n",
       "        vertical-align: top;\n",
       "    }\n",
       "\n",
       "    .dataframe thead th {\n",
       "        text-align: right;\n",
       "    }\n",
       "</style>\n",
       "<table border=\"1\" class=\"dataframe\">\n",
       "  <thead>\n",
       "    <tr style=\"text-align: right;\">\n",
       "      <th></th>\n",
       "      <th>incident_id</th>\n",
       "      <th>text</th>\n",
       "    </tr>\n",
       "  </thead>\n",
       "  <tbody>\n",
       "    <tr>\n",
       "      <th>5689</th>\n",
       "      <td>20164451</td>\n",
       "      <td>pen slipped from a height of 4m, however it la...</td>\n",
       "    </tr>\n",
       "    <tr>\n",
       "      <th>5854</th>\n",
       "      <td>20164286</td>\n",
       "      <td>vehicle es 130 entered in contact with the fen...</td>\n",
       "    </tr>\n",
       "    <tr>\n",
       "      <th>16030</th>\n",
       "      <td>20160147</td>\n",
       "      <td>person entered barricaded area with no authori...</td>\n",
       "    </tr>\n",
       "    <tr>\n",
       "      <th>17373</th>\n",
       "      <td>20201682</td>\n",
       "      <td>ip suffered pulled muscle in left shoulder dur...</td>\n",
       "    </tr>\n",
       "    <tr>\n",
       "      <th>5427</th>\n",
       "      <td>20164715</td>\n",
       "      <td>supervisor work instruction not followed migra...</td>\n",
       "    </tr>\n",
       "    <tr>\n",
       "      <th>...</th>\n",
       "      <td>...</td>\n",
       "      <td>...</td>\n",
       "    </tr>\n",
       "    <tr>\n",
       "      <th>8184</th>\n",
       "      <td>20192283</td>\n",
       "      <td>contained visqueen fire two turner employees w...</td>\n",
       "    </tr>\n",
       "    <tr>\n",
       "      <th>27065</th>\n",
       "      <td>20222136</td>\n",
       "      <td>a wood employee tested positive for covid-19  ...</td>\n",
       "    </tr>\n",
       "    <tr>\n",
       "      <th>2052</th>\n",
       "      <td>20182542</td>\n",
       "      <td>an employee had fuel contact his right eye whi...</td>\n",
       "    </tr>\n",
       "    <tr>\n",
       "      <th>18601</th>\n",
       "      <td>20202943</td>\n",
       "      <td>a wood heavy civils employee was involved in a...</td>\n",
       "    </tr>\n",
       "    <tr>\n",
       "      <th>4774</th>\n",
       "      <td>20172303</td>\n",
       "      <td>employee was in the process of inspecting a ca...</td>\n",
       "    </tr>\n",
       "  </tbody>\n",
       "</table>\n",
       "<p>100 rows × 2 columns</p>\n",
       "</div>"
      ],
      "text/plain": [
       "      incident_id                                               text\n",
       "5689     20164451  pen slipped from a height of 4m, however it la...\n",
       "5854     20164286  vehicle es 130 entered in contact with the fen...\n",
       "16030    20160147  person entered barricaded area with no authori...\n",
       "17373    20201682  ip suffered pulled muscle in left shoulder dur...\n",
       "5427     20164715  supervisor work instruction not followed migra...\n",
       "...           ...                                                ...\n",
       "8184     20192283  contained visqueen fire two turner employees w...\n",
       "27065    20222136  a wood employee tested positive for covid-19  ...\n",
       "2052     20182542  an employee had fuel contact his right eye whi...\n",
       "18601    20202943  a wood heavy civils employee was involved in a...\n",
       "4774     20172303  employee was in the process of inspecting a ca...\n",
       "\n",
       "[100 rows x 2 columns]"
      ]
     },
     "execution_count": 59,
     "metadata": {},
     "output_type": "execute_result"
    }
   ],
   "source": [
    "doc"
   ]
  },
  {
   "cell_type": "code",
   "execution_count": 60,
   "id": "4e120aef",
   "metadata": {},
   "outputs": [
    {
     "data": {
      "text/html": [
       "<div>\n",
       "<style scoped>\n",
       "    .dataframe tbody tr th:only-of-type {\n",
       "        vertical-align: middle;\n",
       "    }\n",
       "\n",
       "    .dataframe tbody tr th {\n",
       "        vertical-align: top;\n",
       "    }\n",
       "\n",
       "    .dataframe thead th {\n",
       "        text-align: right;\n",
       "    }\n",
       "</style>\n",
       "<table border=\"1\" class=\"dataframe\">\n",
       "  <thead>\n",
       "    <tr style=\"text-align: right;\">\n",
       "      <th></th>\n",
       "      <th>group</th>\n",
       "      <th>keyword</th>\n",
       "      <th>rules_pre</th>\n",
       "      <th>rules_post</th>\n",
       "      <th>rules_all</th>\n",
       "      <th>voids</th>\n",
       "    </tr>\n",
       "  </thead>\n",
       "  <tbody>\n",
       "    <tr>\n",
       "      <th>0</th>\n",
       "      <td>slips &amp; trips</td>\n",
       "      <td>slip[a-zA-Z'-]*\\b</td>\n",
       "      <td>(\\bwalking (.*) snow\\b)|(\\bwalking (.*) ice\\b)...</td>\n",
       "      <td>(\\bfall\\b)|(\\bfell\\b)|(\\bwent over\\b)|(\\bhurt....</td>\n",
       "      <td>(\\bfall\\b)|(\\bfell\\b)|(\\btrip\\b)|(\\btripped\\b)...</td>\n",
       "      <td>(\\bfell (.*) bike\\b)|(\\bno slip\\b)|(\\bno fall\\...</td>\n",
       "    </tr>\n",
       "    <tr>\n",
       "      <th>1</th>\n",
       "      <td>slips &amp; trips</td>\n",
       "      <td>trip[a-zA-Z'-]*\\b</td>\n",
       "      <td>(\\bwalking (.*) snow\\b)|(\\bwalking (.*) ice\\b)...</td>\n",
       "      <td>(\\bfall\\b)|(\\bfell\\b)|(\\bwent over\\b)|(\\bfraye...</td>\n",
       "      <td>(\\bfall\\b)|(\\bfell\\b)|(\\btrip\\b)|(\\btripped\\b)...</td>\n",
       "      <td>(\\bfell (.*) bike\\b)|(\\bno slip\\b)|(\\bno fall\\...</td>\n",
       "    </tr>\n",
       "    <tr>\n",
       "      <th>2</th>\n",
       "      <td>slips &amp; trips</td>\n",
       "      <td>stumble[a-zA-Z'-]*\\b</td>\n",
       "      <td>(\\bcausing.*cleaner to\\b)|(\\bcausing.*ip to\\b)...</td>\n",
       "      <td>(\\bfloor\\b)|(\\band twist.*\\b)</td>\n",
       "      <td>(\\bhurting foot\\b)</td>\n",
       "      <td></td>\n",
       "    </tr>\n",
       "    <tr>\n",
       "      <th>3</th>\n",
       "      <td>slips &amp; trips</td>\n",
       "      <td>uneven\\b</td>\n",
       "      <td>(\\bcausing.*cleaner to\\b)|(\\bcausing.*ip to\\b)...</td>\n",
       "      <td>(\\band twist.*\\b)</td>\n",
       "      <td>(\\bemployee.* uneven.* surface\\b)|(\\bip.* unev...</td>\n",
       "      <td></td>\n",
       "    </tr>\n",
       "    <tr>\n",
       "      <th>4</th>\n",
       "      <td>slips &amp; trips</td>\n",
       "      <td>fell\\b</td>\n",
       "      <td>(\\bcausing.*cleaner to\\b)|(\\bcausing.*ip to\\b)...</td>\n",
       "      <td>(\\band twist.*\\b)|(\\bon.*floor\\b)|(\\bon.*groun...</td>\n",
       "      <td>(\\bemployee fell back.*\\b)|(\\bip fell back.*\\b...</td>\n",
       "      <td>(\\bstraps\\b)|(\\bdrop.*\\b)|(\\bfell (.*) bike\\b)...</td>\n",
       "    </tr>\n",
       "    <tr>\n",
       "      <th>...</th>\n",
       "      <td>...</td>\n",
       "      <td>...</td>\n",
       "      <td>...</td>\n",
       "      <td>...</td>\n",
       "      <td>...</td>\n",
       "      <td>...</td>\n",
       "    </tr>\n",
       "    <tr>\n",
       "      <th>315</th>\n",
       "      <td>office or facilities incident or injury</td>\n",
       "      <td>toilet\\b</td>\n",
       "      <td>(\\bflood.*\\b)</td>\n",
       "      <td>(\\boverflow\\b)|(\\bflood.*\\b)|(\\bleak.*\\b)</td>\n",
       "      <td></td>\n",
       "      <td></td>\n",
       "    </tr>\n",
       "    <tr>\n",
       "      <th>316</th>\n",
       "      <td>vandalism</td>\n",
       "      <td>sever[a-zA-Z'-]*\\b</td>\n",
       "      <td></td>\n",
       "      <td></td>\n",
       "      <td>(\\bintentionally.*sever.*others\\b)</td>\n",
       "      <td></td>\n",
       "    </tr>\n",
       "    <tr>\n",
       "      <th>317</th>\n",
       "      <td>line of fire</td>\n",
       "      <td>pressure\\b</td>\n",
       "      <td></td>\n",
       "      <td></td>\n",
       "      <td>(\\btight.*under.*pressure_tight.*while.*pressu...</td>\n",
       "      <td></td>\n",
       "    </tr>\n",
       "    <tr>\n",
       "      <th>318</th>\n",
       "      <td>line of fire</td>\n",
       "      <td>line\\b</td>\n",
       "      <td></td>\n",
       "      <td></td>\n",
       "      <td>(\\bline of fire\\b)</td>\n",
       "      <td></td>\n",
       "    </tr>\n",
       "    <tr>\n",
       "      <th>319</th>\n",
       "      <td>line of fire</td>\n",
       "      <td>release\\b</td>\n",
       "      <td></td>\n",
       "      <td></td>\n",
       "      <td>(\\baccidental.*release.*pressure\\b)</td>\n",
       "      <td></td>\n",
       "    </tr>\n",
       "  </tbody>\n",
       "</table>\n",
       "<p>320 rows × 6 columns</p>\n",
       "</div>"
      ],
      "text/plain": [
       "                                       group               keyword  \\\n",
       "0                              slips & trips     slip[a-zA-Z'-]*\\b   \n",
       "1                              slips & trips     trip[a-zA-Z'-]*\\b   \n",
       "2                              slips & trips  stumble[a-zA-Z'-]*\\b   \n",
       "3                              slips & trips              uneven\\b   \n",
       "4                              slips & trips                fell\\b   \n",
       "..                                       ...                   ...   \n",
       "315  office or facilities incident or injury              toilet\\b   \n",
       "316                                vandalism    sever[a-zA-Z'-]*\\b   \n",
       "317                             line of fire            pressure\\b   \n",
       "318                             line of fire                line\\b   \n",
       "319                             line of fire             release\\b   \n",
       "\n",
       "                                             rules_pre  \\\n",
       "0    (\\bwalking (.*) snow\\b)|(\\bwalking (.*) ice\\b)...   \n",
       "1    (\\bwalking (.*) snow\\b)|(\\bwalking (.*) ice\\b)...   \n",
       "2    (\\bcausing.*cleaner to\\b)|(\\bcausing.*ip to\\b)...   \n",
       "3    (\\bcausing.*cleaner to\\b)|(\\bcausing.*ip to\\b)...   \n",
       "4    (\\bcausing.*cleaner to\\b)|(\\bcausing.*ip to\\b)...   \n",
       "..                                                 ...   \n",
       "315                                      (\\bflood.*\\b)   \n",
       "316                                                      \n",
       "317                                                      \n",
       "318                                                      \n",
       "319                                                      \n",
       "\n",
       "                                            rules_post  \\\n",
       "0    (\\bfall\\b)|(\\bfell\\b)|(\\bwent over\\b)|(\\bhurt....   \n",
       "1    (\\bfall\\b)|(\\bfell\\b)|(\\bwent over\\b)|(\\bfraye...   \n",
       "2                        (\\bfloor\\b)|(\\band twist.*\\b)   \n",
       "3                                    (\\band twist.*\\b)   \n",
       "4    (\\band twist.*\\b)|(\\bon.*floor\\b)|(\\bon.*groun...   \n",
       "..                                                 ...   \n",
       "315          (\\boverflow\\b)|(\\bflood.*\\b)|(\\bleak.*\\b)   \n",
       "316                                                      \n",
       "317                                                      \n",
       "318                                                      \n",
       "319                                                      \n",
       "\n",
       "                                             rules_all  \\\n",
       "0    (\\bfall\\b)|(\\bfell\\b)|(\\btrip\\b)|(\\btripped\\b)...   \n",
       "1    (\\bfall\\b)|(\\bfell\\b)|(\\btrip\\b)|(\\btripped\\b)...   \n",
       "2                                   (\\bhurting foot\\b)   \n",
       "3    (\\bemployee.* uneven.* surface\\b)|(\\bip.* unev...   \n",
       "4    (\\bemployee fell back.*\\b)|(\\bip fell back.*\\b...   \n",
       "..                                                 ...   \n",
       "315                                                      \n",
       "316                 (\\bintentionally.*sever.*others\\b)   \n",
       "317  (\\btight.*under.*pressure_tight.*while.*pressu...   \n",
       "318                                 (\\bline of fire\\b)   \n",
       "319                (\\baccidental.*release.*pressure\\b)   \n",
       "\n",
       "                                                 voids  \n",
       "0    (\\bfell (.*) bike\\b)|(\\bno slip\\b)|(\\bno fall\\...  \n",
       "1    (\\bfell (.*) bike\\b)|(\\bno slip\\b)|(\\bno fall\\...  \n",
       "2                                                       \n",
       "3                                                       \n",
       "4    (\\bstraps\\b)|(\\bdrop.*\\b)|(\\bfell (.*) bike\\b)...  \n",
       "..                                                 ...  \n",
       "315                                                     \n",
       "316                                                     \n",
       "317                                                     \n",
       "318                                                     \n",
       "319                                                     \n",
       "\n",
       "[320 rows x 6 columns]"
      ]
     },
     "execution_count": 60,
     "metadata": {},
     "output_type": "execute_result"
    }
   ],
   "source": [
    "rules"
   ]
  },
  {
   "cell_type": "code",
   "execution_count": 9,
   "id": "1e0333ff",
   "metadata": {},
   "outputs": [
    {
     "ename": "NameError",
     "evalue": "name 'num_rules' is not defined",
     "output_type": "error",
     "traceback": [
      "\u001b[0;31m---------------------------------------------------------------------------\u001b[0m",
      "\u001b[0;31mNameError\u001b[0m                                 Traceback (most recent call last)",
      "Input \u001b[0;32mIn [9]\u001b[0m, in \u001b[0;36m<module>\u001b[0;34m\u001b[0m\n\u001b[1;32m      1\u001b[0m finds \u001b[38;5;241m=\u001b[39m [\n\u001b[1;32m      2\u001b[0m         (\n\u001b[1;32m      3\u001b[0m             rules[\u001b[38;5;124m'\u001b[39m\u001b[38;5;124mgroup\u001b[39m\u001b[38;5;124m'\u001b[39m][j],\n\u001b[1;32m      4\u001b[0m             find_pattern(\n\u001b[1;32m      5\u001b[0m                 doc\u001b[38;5;241m=\u001b[39m\u001b[38;5;124m'\u001b[39m\u001b[38;5;124memployee’s hand was caught in between a flang. He then got in the car and drove into a deer\u001b[39m\u001b[38;5;124m'\u001b[39m,\n\u001b[1;32m      6\u001b[0m                 keyword\u001b[38;5;241m=\u001b[39mrules[\u001b[38;5;124m\"\u001b[39m\u001b[38;5;124mkeyword\u001b[39m\u001b[38;5;124m\"\u001b[39m][j],\n\u001b[1;32m      7\u001b[0m                 check_pre\u001b[38;5;241m=\u001b[39mrules[\u001b[38;5;124m\"\u001b[39m\u001b[38;5;124mrules_pre\u001b[39m\u001b[38;5;124m\"\u001b[39m][j],\n\u001b[1;32m      8\u001b[0m                 check_post\u001b[38;5;241m=\u001b[39mrules[\u001b[38;5;124m\"\u001b[39m\u001b[38;5;124mrules_post\u001b[39m\u001b[38;5;124m\"\u001b[39m][j],\n\u001b[1;32m      9\u001b[0m                 check_all\u001b[38;5;241m=\u001b[39mrules[\u001b[38;5;124m\"\u001b[39m\u001b[38;5;124mrules_all\u001b[39m\u001b[38;5;124m\"\u001b[39m][j],\n\u001b[1;32m     10\u001b[0m                 check_void\u001b[38;5;241m=\u001b[39mrules[\u001b[38;5;124m\"\u001b[39m\u001b[38;5;124mvoids\u001b[39m\u001b[38;5;124m\"\u001b[39m][j],\n\u001b[1;32m     11\u001b[0m                 window\u001b[38;5;241m=\u001b[39mwindow,\n\u001b[1;32m     12\u001b[0m             )\n\u001b[0;32m---> 13\u001b[0m         ) \u001b[38;5;28;01mfor\u001b[39;00m j \u001b[38;5;129;01min\u001b[39;00m \u001b[38;5;28mrange\u001b[39m(\u001b[43mnum_rules\u001b[49m)\n\u001b[1;32m     14\u001b[0m     ]\n",
      "\u001b[0;31mNameError\u001b[0m: name 'num_rules' is not defined"
     ]
    }
   ],
   "source": [
    "finds = [\n",
    "        (\n",
    "            rules['group'][j],\n",
    "            find_pattern(\n",
    "                doc='employee’s hand was caught in between a flang. He then got in the car and drove into a deer',\n",
    "                keyword=rules[\"keyword\"][j],\n",
    "                check_pre=rules[\"rules_pre\"][j],\n",
    "                check_post=rules[\"rules_post\"][j],\n",
    "                check_all=rules[\"rules_all\"][j],\n",
    "                check_void=rules[\"voids\"][j],\n",
    "                window=window,\n",
    "            )\n",
    "        ) for j in range(num_rules)\n",
    "    ]"
   ]
  },
  {
   "cell_type": "code",
   "execution_count": 10,
   "id": "b3e9a0eb",
   "metadata": {},
   "outputs": [
    {
     "ename": "NameError",
     "evalue": "name 'finds' is not defined",
     "output_type": "error",
     "traceback": [
      "\u001b[0;31m---------------------------------------------------------------------------\u001b[0m",
      "\u001b[0;31mNameError\u001b[0m                                 Traceback (most recent call last)",
      "Input \u001b[0;32mIn [10]\u001b[0m, in \u001b[0;36m<module>\u001b[0;34m\u001b[0m\n\u001b[0;32m----> 1\u001b[0m \u001b[43mfinds\u001b[49m\n",
      "\u001b[0;31mNameError\u001b[0m: name 'finds' is not defined"
     ]
    }
   ],
   "source": [
    "finds"
   ]
  },
  {
   "cell_type": "code",
   "execution_count": 69,
   "id": "c5b913b7",
   "metadata": {},
   "outputs": [
    {
     "data": {
      "text/plain": [
       "[('vehicle Incident involving animal', True),\n",
       " ('vehicle incident general', True),\n",
       " ('hand or arm injury', True)]"
      ]
     },
     "execution_count": 69,
     "metadata": {},
     "output_type": "execute_result"
    }
   ],
   "source": [
    "output = list(filter(lambda x: x[1], finds))\n",
    "output"
   ]
  },
  {
   "cell_type": "code",
   "execution_count": 70,
   "id": "d1cce73d",
   "metadata": {},
   "outputs": [
    {
     "data": {
      "text/plain": [
       "['hand or arm injury',\n",
       " 'vehicle incident general',\n",
       " 'vehicle Incident involving animal']"
      ]
     },
     "execution_count": 70,
     "metadata": {},
     "output_type": "execute_result"
    }
   ],
   "source": [
    "output = list(set([x[0] for x in output]))\n",
    "output"
   ]
  },
  {
   "cell_type": "code",
   "execution_count": 37,
   "id": "fe0acfce",
   "metadata": {},
   "outputs": [],
   "source": [
    "rules = pd.read_csv('data/rule_book_kwic.csv')"
   ]
  },
  {
   "cell_type": "code",
   "execution_count": 38,
   "id": "03fcd121",
   "metadata": {},
   "outputs": [],
   "source": [
    "def translate_to_regex(rule_part):\n",
    "    \"\"\"\n",
    "    converts rule_book rules to regex format;\n",
    "    drops trailing separators in process\n",
    "    \"\"\"\n",
    "    if isinstance(rule_part, str):\n",
    "        rule_part = re.sub(r\"\\s{2,}\", \" \", rule_part)\n",
    "        rule_part = re.sub(r'\\\\\\\\b', r'\\\\b', rule_part)\n",
    "        \n",
    "        return r'(\\b' + r'\\b)|(\\b'.join([s for s in rule_part.split('_ ') if s]) + r'\\b)'\n",
    "    else:\n",
    "        return ''"
   ]
  },
  {
   "cell_type": "code",
   "execution_count": 39,
   "id": "c9e386ea",
   "metadata": {},
   "outputs": [],
   "source": [
    "# Transform columns to regular expression. \n",
    "rules[\"keyword\"] = [x.replace(\"*\", \"[a-zA-Z'-]*\") + r\"\\b\" for x in rules[\"keyword\"]]\n",
    "rules[\"rules_pre\"] = [translate_to_regex(x) for x in rules[\"rules_pre\"]]\n",
    "rules[\"rules_post\"] = [translate_to_regex(x) for x in rules[\"rules_post\"]]\n",
    "rules[\"rules_all\"] = [translate_to_regex(x) for x in rules[\"rules_all\"]]\n",
    "rules[\"voids\"] = [translate_to_regex(x) for x in rules[\"voids\"]]"
   ]
  },
  {
   "cell_type": "code",
   "execution_count": 50,
   "id": "83161da6",
   "metadata": {},
   "outputs": [
    {
     "data": {
      "text/plain": [
       "keyword    -\\b\n",
       "Name: 28, dtype: object"
      ]
     },
     "execution_count": 50,
     "metadata": {},
     "output_type": "execute_result"
    }
   ],
   "source": [
    "rules.iloc[28, 1:2]"
   ]
  },
  {
   "cell_type": "code",
   "execution_count": 53,
   "id": "9df37ea9",
   "metadata": {},
   "outputs": [
    {
     "data": {
      "text/plain": [
       "'vehicle Incident involving animal'"
      ]
     },
     "execution_count": 53,
     "metadata": {},
     "output_type": "execute_result"
    }
   ],
   "source": [
    "rules['group'][10]"
   ]
  },
  {
   "cell_type": "code",
   "execution_count": 31,
   "id": "1c80ff97",
   "metadata": {},
   "outputs": [
    {
     "data": {
      "text/plain": [
       "{'aggressive behaviour',\n",
       " 'alarms',\n",
       " 'alcohol or drugs',\n",
       " 'back injury',\n",
       " 'bites (animals or insects)',\n",
       " 'burns',\n",
       " 'competency',\n",
       " 'confined space non-conformance or issue',\n",
       " 'covid',\n",
       " 'disease or infection',\n",
       " 'dropped object or material',\n",
       " 'electric shock or issue',\n",
       " 'environmental leak or issue',\n",
       " 'excavations',\n",
       " 'eye injury or irritation',\n",
       " 'fall from or working at height issue',\n",
       " 'fire',\n",
       " 'foot or leg injury',\n",
       " 'fuel spill or leak',\n",
       " 'general illness or health issue',\n",
       " 'general injury',\n",
       " 'hand or arm injury',\n",
       " 'hazardous materials or work',\n",
       " 'head or face injury',\n",
       " 'hydraulic fluid or oil leak',\n",
       " 'knife incident',\n",
       " 'lifting or moving loads',\n",
       " 'line of fire',\n",
       " 'line strike',\n",
       " 'mechanical or equipment issue',\n",
       " 'minor fluid spill',\n",
       " 'minor non-injury event',\n",
       " 'non-work related injury or illness',\n",
       " 'office or facilities incident or injury',\n",
       " 'offshore transfer',\n",
       " 'ppe non-compliance',\n",
       " 'security or general safety concern',\n",
       " 'sharp objects',\n",
       " 'site compliance or practice issue',\n",
       " 'slips & trips',\n",
       " 'speeding',\n",
       " 'theft',\n",
       " 'vandalism',\n",
       " 'vehicle Incident involving animal',\n",
       " 'vehicle incident general',\n",
       " 'weather related issue',\n",
       " 'work vehicle incident'}"
      ]
     },
     "execution_count": 31,
     "metadata": {},
     "output_type": "execute_result"
    }
   ],
   "source": [
    "set(list(rules.group))"
   ]
  },
  {
   "cell_type": "code",
   "execution_count": 25,
   "id": "a2870348",
   "metadata": {},
   "outputs": [],
   "source": [
    "finds = [\n",
    "        (\n",
    "            rules['group'][j],\n",
    "            find_pattern(\n",
    "                doc='pedestrian struck by forward-moving vehicle in roadway an employee stepped off the back of a truck and was struck by an oncoming vehicle. the employee suffered fractured ribs and bruised lungs and a fractured leg.',\n",
    "                keyword=rules[\"keyword\"][j],\n",
    "                check_pre=rules[\"rules_pre\"][j],\n",
    "                check_post=rules[\"rules_post\"][j],\n",
    "                check_all=rules[\"rules_all\"][j],\n",
    "                check_void=rules[\"voids\"][j],\n",
    "                window=12,\n",
    "            )\n",
    "        ) for j in range(len(rules))\n",
    "    ]"
   ]
  },
  {
   "cell_type": "code",
   "execution_count": 32,
   "id": "4d74f3be",
   "metadata": {},
   "outputs": [
    {
     "name": "stdout",
     "output_type": "stream",
     "text": [
      "ppe non-compliance\n",
      "hydraulic fluid or oil leak\n",
      "disease or infection\n",
      "vehicle incident general\n",
      "alcohol or drugs\n",
      "line strike\n",
      "hazardous materials or work\n",
      "covid\n",
      "security or general safety concern\n",
      "minor non-injury event\n",
      "foot or leg injury\n",
      "competency\n",
      "fall from or working at height issue\n",
      "burns\n",
      "minor fluid spill\n",
      "weather related issue\n",
      "general injury\n",
      "line of fire\n",
      "alarms\n",
      "vandalism\n",
      "hand or arm injury\n",
      "confined space non-conformance or issue\n",
      "lifting or moving loads\n",
      "bites (animals or insects)\n",
      "mechanical or equipment issue\n",
      "speeding\n",
      "electric shock or issue\n",
      "eye injury or irritation\n",
      "non-work related injury or illness\n",
      "fire\n",
      "offshore transfer\n",
      "sharp objects\n",
      "environmental leak or issue\n",
      "knife incident\n",
      "head or face injury\n",
      "office or facilities incident or injury\n",
      "vehicle Incident involving animal\n",
      "fuel spill or leak\n",
      "slips & trips\n",
      "excavations\n",
      "back injury\n",
      "general illness or health issue\n",
      "site compliance or practice issue\n",
      "theft\n",
      "dropped object or material\n",
      "aggressive behaviour\n",
      "work vehicle incident\n"
     ]
    }
   ],
   "source": [
    "tmp = set(list(rules.group))\n",
    "for t in tmp:\n",
    "    print(t)"
   ]
  },
  {
   "cell_type": "code",
   "execution_count": 26,
   "id": "f360915d",
   "metadata": {},
   "outputs": [
    {
     "data": {
      "text/plain": [
       "[('slips & trips', False),\n",
       " ('slips & trips', False),\n",
       " ('slips & trips', False),\n",
       " ('slips & trips', False),\n",
       " ('slips & trips', False),\n",
       " ('slips & trips', False),\n",
       " ('eye injury or irritation', False),\n",
       " ('eye injury or irritation', False),\n",
       " ('eye injury or irritation', False),\n",
       " ('vehicle Incident involving animal', False),\n",
       " ('vehicle Incident involving animal', False),\n",
       " ('vehicle Incident involving animal', False),\n",
       " ('vehicle Incident involving animal', False),\n",
       " ('theft', False),\n",
       " ('theft', False),\n",
       " ('theft', False),\n",
       " ('theft', False),\n",
       " ('theft', False),\n",
       " ('theft', False),\n",
       " ('theft', False),\n",
       " ('theft', False),\n",
       " ('competency', False),\n",
       " ('covid', False),\n",
       " ('covid', False),\n",
       " ('covid', False),\n",
       " ('covid', False),\n",
       " ('covid', False),\n",
       " ('covid', False),\n",
       " ('back injury', False),\n",
       " ('back injury', False),\n",
       " ('back injury', False),\n",
       " ('fall from or working at height issue', False),\n",
       " ('fall from or working at height issue', False),\n",
       " ('fall from or working at height issue', False),\n",
       " ('fall from or working at height issue', False),\n",
       " ('fall from or working at height issue', False),\n",
       " ('dropped object or material', False),\n",
       " ('dropped object or material', False),\n",
       " ('dropped object or material', False),\n",
       " ('dropped object or material', False),\n",
       " ('dropped object or material', False),\n",
       " ('dropped object or material', False),\n",
       " ('dropped object or material', False),\n",
       " ('dropped object or material', False),\n",
       " ('dropped object or material', False),\n",
       " ('dropped object or material', False),\n",
       " ('mechanical or equipment issue', False),\n",
       " ('mechanical or equipment issue', False),\n",
       " ('mechanical or equipment issue', False),\n",
       " ('mechanical or equipment issue', False),\n",
       " ('mechanical or equipment issue', False),\n",
       " ('mechanical or equipment issue', False),\n",
       " ('mechanical or equipment issue', False),\n",
       " ('mechanical or equipment issue', False),\n",
       " ('mechanical or equipment issue', False),\n",
       " ('mechanical or equipment issue', False),\n",
       " ('mechanical or equipment issue', False),\n",
       " ('mechanical or equipment issue', False),\n",
       " ('mechanical or equipment issue', False),\n",
       " ('mechanical or equipment issue', False),\n",
       " ('mechanical or equipment issue', False),\n",
       " ('mechanical or equipment issue', False),\n",
       " ('mechanical or equipment issue', False),\n",
       " ('mechanical or equipment issue', False),\n",
       " ('mechanical or equipment issue', False),\n",
       " ('mechanical or equipment issue', False),\n",
       " ('mechanical or equipment issue', False),\n",
       " ('fuel spill or leak', False),\n",
       " ('fuel spill or leak', False),\n",
       " ('hydraulic fluid or oil leak', False),\n",
       " ('hydraulic fluid or oil leak', False),\n",
       " ('hydraulic fluid or oil leak', False),\n",
       " ('hydraulic fluid or oil leak', False),\n",
       " ('fire', False),\n",
       " ('fire', False),\n",
       " ('alarms', False),\n",
       " ('alarms', False),\n",
       " ('burns', False),\n",
       " ('burns', False),\n",
       " ('burns', False),\n",
       " ('speeding', False),\n",
       " ('speeding', False),\n",
       " ('bites (animals or insects)', False),\n",
       " ('bites (animals or insects)', False),\n",
       " ('bites (animals or insects)', False),\n",
       " ('bites (animals or insects)', False),\n",
       " ('vehicle incident general', False),\n",
       " ('vehicle incident general', False),\n",
       " ('vehicle incident general', False),\n",
       " ('vehicle incident general', False),\n",
       " ('vehicle incident general', False),\n",
       " ('vehicle incident general', False),\n",
       " ('vehicle incident general', False),\n",
       " ('vehicle incident general', False),\n",
       " ('vehicle incident general', False),\n",
       " ('vehicle incident general', False),\n",
       " ('vehicle incident general', False),\n",
       " ('vehicle incident general', False),\n",
       " ('vehicle incident general', False),\n",
       " ('vehicle incident general', False),\n",
       " ('vehicle incident general', False),\n",
       " ('vehicle incident general', False),\n",
       " ('vehicle incident general', False),\n",
       " ('vehicle incident general', False),\n",
       " ('vehicle incident general', False),\n",
       " ('vehicle incident general', False),\n",
       " ('vehicle incident general', False),\n",
       " ('vehicle incident general', False),\n",
       " ('vehicle incident general', False),\n",
       " ('vehicle incident general', False),\n",
       " ('vehicle incident general', False),\n",
       " ('hand or arm injury', False),\n",
       " ('hand or arm injury', False),\n",
       " ('hand or arm injury', False),\n",
       " ('hand or arm injury', False),\n",
       " ('hand or arm injury', False),\n",
       " ('hand or arm injury', False),\n",
       " ('hand or arm injury', False),\n",
       " ('hand or arm injury', False),\n",
       " ('foot or leg injury', False),\n",
       " ('foot or leg injury', False),\n",
       " ('foot or leg injury', True),\n",
       " ('foot or leg injury', False),\n",
       " ('foot or leg injury', False),\n",
       " ('foot or leg injury', False),\n",
       " ('foot or leg injury', False),\n",
       " ('foot or leg injury', False),\n",
       " ('general injury', False),\n",
       " ('general injury', False),\n",
       " ('general injury', False),\n",
       " ('general injury', False),\n",
       " ('general injury', False),\n",
       " ('general injury', False),\n",
       " ('general injury', False),\n",
       " ('general injury', False),\n",
       " ('general injury', True),\n",
       " ('non-work related injury or illness', False),\n",
       " ('non-work related injury or illness', False),\n",
       " ('minor fluid spill', False),\n",
       " ('minor fluid spill', False),\n",
       " ('lifting or moving loads', False),\n",
       " ('lifting or moving loads', False),\n",
       " ('lifting or moving loads', False),\n",
       " ('lifting or moving loads', False),\n",
       " ('lifting or moving loads', False),\n",
       " ('lifting or moving loads', False),\n",
       " ('lifting or moving loads', False),\n",
       " ('lifting or moving loads', True),\n",
       " ('lifting or moving loads', False),\n",
       " ('lifting or moving loads', False),\n",
       " ('lifting or moving loads', False),\n",
       " ('lifting or moving loads', False),\n",
       " ('lifting or moving loads', False),\n",
       " ('lifting or moving loads', False),\n",
       " ('lifting or moving loads', False),\n",
       " ('lifting or moving loads', False),\n",
       " ('lifting or moving loads', False),\n",
       " ('lifting or moving loads', False),\n",
       " ('lifting or moving loads', False),\n",
       " ('lifting or moving loads', False),\n",
       " ('lifting or moving loads', False),\n",
       " ('hazardous materials or work', False),\n",
       " ('hazardous materials or work', False),\n",
       " ('hazardous materials or work', False),\n",
       " ('hazardous materials or work', False),\n",
       " ('hazardous materials or work', False),\n",
       " ('hazardous materials or work', False),\n",
       " ('hazardous materials or work', False),\n",
       " ('hazardous materials or work', False),\n",
       " ('hazardous materials or work', False),\n",
       " ('hazardous materials or work', False),\n",
       " ('hazardous materials or work', False),\n",
       " ('hazardous materials or work', False),\n",
       " ('hazardous materials or work', False),\n",
       " ('hazardous materials or work', False),\n",
       " ('hazardous materials or work', False),\n",
       " ('hazardous materials or work', False),\n",
       " ('hazardous materials or work', False),\n",
       " ('hazardous materials or work', False),\n",
       " ('hazardous materials or work', False),\n",
       " ('hazardous materials or work', False),\n",
       " ('hazardous materials or work', False),\n",
       " ('general illness or health issue', False),\n",
       " ('general illness or health issue', False),\n",
       " ('general illness or health issue', False),\n",
       " ('general illness or health issue', False),\n",
       " ('general illness or health issue', False),\n",
       " ('general illness or health issue', False),\n",
       " ('general illness or health issue', False),\n",
       " ('general illness or health issue', False),\n",
       " ('general illness or health issue', False),\n",
       " ('general illness or health issue', False),\n",
       " ('general illness or health issue', False),\n",
       " ('general illness or health issue', False),\n",
       " ('general illness or health issue', False),\n",
       " ('general illness or health issue', False),\n",
       " ('general illness or health issue', False),\n",
       " ('general illness or health issue', False),\n",
       " ('general illness or health issue', False),\n",
       " ('general illness or health issue', False),\n",
       " ('general illness or health issue', False),\n",
       " ('general illness or health issue', False),\n",
       " ('general illness or health issue', False),\n",
       " ('general illness or health issue', False),\n",
       " ('general illness or health issue', False),\n",
       " ('general illness or health issue', False),\n",
       " ('general illness or health issue', False),\n",
       " ('general illness or health issue', False),\n",
       " ('general illness or health issue', False),\n",
       " ('general illness or health issue', False),\n",
       " ('vehicle incident general', False),\n",
       " ('general illness or health issue', False),\n",
       " ('general illness or health issue', False),\n",
       " ('sharp objects', False),\n",
       " ('environmental leak or issue', False),\n",
       " ('environmental leak or issue', False),\n",
       " ('environmental leak or issue', False),\n",
       " ('environmental leak or issue', False),\n",
       " ('environmental leak or issue', False),\n",
       " ('environmental leak or issue', False),\n",
       " ('environmental leak or issue', False),\n",
       " ('environmental leak or issue', False),\n",
       " ('environmental leak or issue', False),\n",
       " ('environmental leak or issue', False),\n",
       " ('environmental leak or issue', False),\n",
       " ('environmental leak or issue', False),\n",
       " ('line strike', False),\n",
       " ('line strike', False),\n",
       " ('line strike', False),\n",
       " ('line strike', False),\n",
       " ('line strike', False),\n",
       " ('line strike', False),\n",
       " ('line strike', False),\n",
       " ('line strike', False),\n",
       " ('electric shock or issue', False),\n",
       " ('electric shock or issue', False),\n",
       " ('electric shock or issue', False),\n",
       " ('electric shock or issue', False),\n",
       " ('electric shock or issue', False),\n",
       " ('ppe non-compliance', False),\n",
       " ('ppe non-compliance', False),\n",
       " ('ppe non-compliance', False),\n",
       " ('ppe non-compliance', False),\n",
       " ('ppe non-compliance', False),\n",
       " ('alcohol or drugs', False),\n",
       " ('alcohol or drugs', False),\n",
       " ('site compliance or practice issue', False),\n",
       " ('site compliance or practice issue', False),\n",
       " ('site compliance or practice issue', False),\n",
       " ('site compliance or practice issue', False),\n",
       " ('site compliance or practice issue', False),\n",
       " ('site compliance or practice issue', False),\n",
       " ('site compliance or practice issue', False),\n",
       " ('site compliance or practice issue', False),\n",
       " ('site compliance or practice issue', False),\n",
       " ('site compliance or practice issue', False),\n",
       " ('site compliance or practice issue', False),\n",
       " ('site compliance or practice issue', False),\n",
       " ('site compliance or practice issue', False),\n",
       " ('site compliance or practice issue', False),\n",
       " ('site compliance or practice issue', False),\n",
       " ('site compliance or practice issue', False),\n",
       " ('site compliance or practice issue', False),\n",
       " ('site compliance or practice issue', False),\n",
       " ('site compliance or practice issue', False),\n",
       " ('site compliance or practice issue', False),\n",
       " ('site compliance or practice issue', False),\n",
       " ('site compliance or practice issue', False),\n",
       " ('site compliance or practice issue', False),\n",
       " ('site compliance or practice issue', False),\n",
       " ('site compliance or practice issue', False),\n",
       " ('site compliance or practice issue', False),\n",
       " ('site compliance or practice issue', False),\n",
       " ('site compliance or practice issue', False),\n",
       " ('site compliance or practice issue', False),\n",
       " ('site compliance or practice issue', False),\n",
       " ('site compliance or practice issue', False),\n",
       " ('site compliance or practice issue', False),\n",
       " ('site compliance or practice issue', False),\n",
       " ('site compliance or practice issue', False),\n",
       " ('confined space non-conformance or issue', False),\n",
       " ('confined space non-conformance or issue', False),\n",
       " ('confined space non-conformance or issue', False),\n",
       " ('minor non-injury event', False),\n",
       " ('minor non-injury event', False),\n",
       " ('head or face injury', False),\n",
       " ('head or face injury', False),\n",
       " ('head or face injury', False),\n",
       " ('head or face injury', False),\n",
       " ('head or face injury', False),\n",
       " ('head or face injury', False),\n",
       " ('head or face injury', False),\n",
       " ('head or face injury', False),\n",
       " ('head or face injury', False),\n",
       " ('head or face injury', False),\n",
       " ('head or face injury', False),\n",
       " ('offshore transfer', False),\n",
       " ('work vehicle incident', False),\n",
       " ('work vehicle incident', False),\n",
       " ('aggressive behaviour', False),\n",
       " ('aggressive behaviour', False),\n",
       " ('aggressive behaviour', False),\n",
       " ('weather related issue', False),\n",
       " ('weather related issue', False),\n",
       " ('weather related issue', False),\n",
       " ('weather related issue', False),\n",
       " ('weather related issue', False),\n",
       " ('weather related issue', False),\n",
       " ('weather related issue', False),\n",
       " ('weather related issue', False),\n",
       " ('weather related issue', False),\n",
       " ('weather related issue', False),\n",
       " ('weather related issue', False),\n",
       " ('security or general safety concern', False),\n",
       " ('security or general safety concern', False),\n",
       " ('security or general safety concern', False),\n",
       " ('security or general safety concern', False),\n",
       " ('security or general safety concern', False),\n",
       " ('security or general safety concern', False),\n",
       " ('security or general safety concern', False),\n",
       " ('security or general safety concern', False),\n",
       " ('security or general safety concern', False),\n",
       " ('security or general safety concern', False),\n",
       " ('security or general safety concern', False),\n",
       " ('security or general safety concern', False),\n",
       " ('knife incident', False),\n",
       " ('excavations', False),\n",
       " ('disease or infection', False),\n",
       " ('disease or infection', False),\n",
       " ('office or facilities incident or injury', False),\n",
       " ('office or facilities incident or injury', False),\n",
       " ('office or facilities incident or injury', False),\n",
       " ('office or facilities incident or injury', False),\n",
       " ('vandalism', False),\n",
       " ('line of fire', False),\n",
       " ('line of fire', False),\n",
       " ('line of fire', False)]"
      ]
     },
     "execution_count": 26,
     "metadata": {},
     "output_type": "execute_result"
    }
   ],
   "source": [
    "finds"
   ]
  },
  {
   "cell_type": "code",
   "execution_count": 27,
   "id": "4fc7f65e",
   "metadata": {},
   "outputs": [
    {
     "data": {
      "text/plain": [
       "[('foot or leg injury', True),\n",
       " ('general injury', True),\n",
       " ('lifting or moving loads', True)]"
      ]
     },
     "execution_count": 27,
     "metadata": {},
     "output_type": "execute_result"
    }
   ],
   "source": [
    "list(filter(lambda x: x[1], finds))"
   ]
  },
  {
   "cell_type": "code",
   "execution_count": 97,
   "id": "b0cdf907",
   "metadata": {},
   "outputs": [
    {
     "data": {
      "text/plain": [
       "'(\\\\bfp.*eye.*{ip}\\\\b)'"
      ]
     },
     "execution_count": 97,
     "metadata": {},
     "output_type": "execute_result"
    }
   ],
   "source": [
    "rules.rules_all[0]"
   ]
  },
  {
   "cell_type": "code",
   "execution_count": 98,
   "id": "7d0f5b94",
   "metadata": {},
   "outputs": [
    {
     "data": {
      "text/plain": [
       "False"
      ]
     },
     "execution_count": 98,
     "metadata": {},
     "output_type": "execute_result"
    }
   ],
   "source": [
    "check_presence(rules.rules_all[0], 'hello fp in the eye of the ip my')"
   ]
  },
  {
   "cell_type": "code",
   "execution_count": 90,
   "id": "e25f81a4",
   "metadata": {},
   "outputs": [
    {
     "data": {
      "text/plain": [
       "True"
      ]
     },
     "execution_count": 90,
     "metadata": {},
     "output_type": "execute_result"
    }
   ],
   "source": [
    "check_presence('(\\\\bfp.*eye.*ip\\\\b)', 'fp in the eye of the ip')"
   ]
  },
  {
   "cell_type": "code",
   "execution_count": null,
   "id": "99dbd605",
   "metadata": {},
   "outputs": [],
   "source": []
  },
  {
   "cell_type": "code",
   "execution_count": null,
   "id": "cb9e215c",
   "metadata": {},
   "outputs": [],
   "source": []
  },
  {
   "cell_type": "code",
   "execution_count": 79,
   "id": "cbee2257",
   "metadata": {},
   "outputs": [
    {
     "data": {
      "text/plain": [
       "False"
      ]
     },
     "execution_count": 79,
     "metadata": {},
     "output_type": "execute_result"
    }
   ],
   "source": [
    "bool(re.search('(\\bfp.*eye.*ip\\b)', 'fp in the eye of the ip'))"
   ]
  },
  {
   "cell_type": "code",
   "execution_count": 100,
   "id": "2c429406",
   "metadata": {},
   "outputs": [
    {
     "data": {
      "text/plain": [
       "'(\\\\bfp.*eye.*{ip}\\\\b)'"
      ]
     },
     "execution_count": 100,
     "metadata": {},
     "output_type": "execute_result"
    }
   ],
   "source": [
    "translate_to_regex(rules.rules_all[0])"
   ]
  },
  {
   "cell_type": "code",
   "execution_count": 106,
   "id": "6728d28b",
   "metadata": {},
   "outputs": [
    {
     "data": {
      "text/plain": [
       "'fp.*eye.*{ip}'"
      ]
     },
     "execution_count": 106,
     "metadata": {},
     "output_type": "execute_result"
    }
   ],
   "source": [
    "rules.rules_all[0]"
   ]
  },
  {
   "cell_type": "code",
   "execution_count": 159,
   "id": "777c8a53",
   "metadata": {},
   "outputs": [
    {
     "data": {
      "text/plain": [
       "True"
      ]
     },
     "execution_count": 159,
     "metadata": {},
     "output_type": "execute_result"
    }
   ],
   "source": [
    "bool(re.search(\"{[a-zA-Z'-]*}\", rules.rules_all[0]))"
   ]
  },
  {
   "cell_type": "code",
   "execution_count": 160,
   "id": "af3c7ba9",
   "metadata": {},
   "outputs": [
    {
     "data": {
      "text/plain": [
       "False"
      ]
     },
     "execution_count": 160,
     "metadata": {},
     "output_type": "execute_result"
    }
   ],
   "source": [
    "bool(re.search(\"{[a-zA-Z'-]*}\", 'fp.*eye.*ip'))"
   ]
  },
  {
   "cell_type": "code",
   "execution_count": 198,
   "id": "037bb732",
   "metadata": {},
   "outputs": [
    {
     "data": {
      "text/plain": [
       "'fp.*eye.*hello'"
      ]
     },
     "execution_count": 198,
     "metadata": {},
     "output_type": "execute_result"
    }
   ],
   "source": [
    "re.sub(\"{[a-zA-Z'-]*}\", 'hello', 'fp.*eye.*{worker}')"
   ]
  },
  {
   "cell_type": "code",
   "execution_count": 286,
   "id": "555f77b7",
   "metadata": {},
   "outputs": [
    {
     "data": {
      "text/html": [
       "<div>\n",
       "<style scoped>\n",
       "    .dataframe tbody tr th:only-of-type {\n",
       "        vertical-align: middle;\n",
       "    }\n",
       "\n",
       "    .dataframe tbody tr th {\n",
       "        vertical-align: top;\n",
       "    }\n",
       "\n",
       "    .dataframe thead th {\n",
       "        text-align: right;\n",
       "    }\n",
       "</style>\n",
       "<table border=\"1\" class=\"dataframe\">\n",
       "  <thead>\n",
       "    <tr style=\"text-align: right;\">\n",
       "      <th></th>\n",
       "      <th>syn</th>\n",
       "      <th>keywords</th>\n",
       "    </tr>\n",
       "  </thead>\n",
       "  <tbody>\n",
       "    <tr>\n",
       "      <th>0</th>\n",
       "      <td>arm_syns</td>\n",
       "      <td>arm, elbow, forearm, wrist, palm, finger, thum...</td>\n",
       "    </tr>\n",
       "    <tr>\n",
       "      <th>1</th>\n",
       "      <td>back_pain_syns</td>\n",
       "      <td>pain, discomfort, soreness, hurt,  swelling, s...</td>\n",
       "    </tr>\n",
       "    <tr>\n",
       "      <th>2</th>\n",
       "      <td>back_syns</td>\n",
       "      <td>back</td>\n",
       "    </tr>\n",
       "    <tr>\n",
       "      <th>3</th>\n",
       "      <td>collision_syns</td>\n",
       "      <td>collision, collission, accident, clipped</td>\n",
       "    </tr>\n",
       "    <tr>\n",
       "      <th>4</th>\n",
       "      <td>competency_syns</td>\n",
       "      <td>training, competency, certification, certifica...</td>\n",
       "    </tr>\n",
       "    <tr>\n",
       "      <th>5</th>\n",
       "      <td>covid_syns</td>\n",
       "      <td>covid, covid-19, coronavirus, corona virus, pcr</td>\n",
       "    </tr>\n",
       "    <tr>\n",
       "      <th>6</th>\n",
       "      <td>eye_syns</td>\n",
       "      <td>eye, pupil, iris</td>\n",
       "    </tr>\n",
       "    <tr>\n",
       "      <th>7</th>\n",
       "      <td>failure_syns</td>\n",
       "      <td>failed, failure, fail, leaked, leak, rupture, ...</td>\n",
       "    </tr>\n",
       "    <tr>\n",
       "      <th>8</th>\n",
       "      <td>fall_syns</td>\n",
       "      <td>fell, twisted, fall</td>\n",
       "    </tr>\n",
       "    <tr>\n",
       "      <th>9</th>\n",
       "      <td>falling_object_syns</td>\n",
       "      <td>fell, fall, falling, dropped</td>\n",
       "    </tr>\n",
       "    <tr>\n",
       "      <th>10</th>\n",
       "      <td>hurt_syns</td>\n",
       "      <td>injured, injury, sore, rolled, soreness, abras...</td>\n",
       "    </tr>\n",
       "    <tr>\n",
       "      <th>11</th>\n",
       "      <td>gen1_syns</td>\n",
       "      <td>the</td>\n",
       "    </tr>\n",
       "    <tr>\n",
       "      <th>12</th>\n",
       "      <td>height_equipment_syns</td>\n",
       "      <td>ladder, step-ladder, scaffold, platform, roof,...</td>\n",
       "    </tr>\n",
       "    <tr>\n",
       "      <th>13</th>\n",
       "      <td>illness_syns</td>\n",
       "      <td>illness</td>\n",
       "    </tr>\n",
       "    <tr>\n",
       "      <th>14</th>\n",
       "      <td>insect_animal_syns</td>\n",
       "      <td>\\bbug, \\bfly, spider, snake, insect, \\bdog, \\b...</td>\n",
       "    </tr>\n",
       "    <tr>\n",
       "      <th>15</th>\n",
       "      <td>involve_syns</td>\n",
       "      <td>involved, participated in</td>\n",
       "    </tr>\n",
       "    <tr>\n",
       "      <th>16</th>\n",
       "      <td>lacking_syns</td>\n",
       "      <td>lack of, lacking, without, with no, not have, ...</td>\n",
       "    </tr>\n",
       "    <tr>\n",
       "      <th>17</th>\n",
       "      <td>leg_syns</td>\n",
       "      <td>ankle, foot, leg, knee, toe, calf, shin, thigh...</td>\n",
       "    </tr>\n",
       "    <tr>\n",
       "      <th>18</th>\n",
       "      <td>mech_component_syns</td>\n",
       "      <td>hydraulic hose, hyd fluid, diesel, petrol, con...</td>\n",
       "    </tr>\n",
       "    <tr>\n",
       "      <th>19</th>\n",
       "      <td>non_work_syns</td>\n",
       "      <td>non-work related</td>\n",
       "    </tr>\n",
       "    <tr>\n",
       "      <th>20</th>\n",
       "      <td>object_syns</td>\n",
       "      <td>post, wall, scaffold, bollard</td>\n",
       "    </tr>\n",
       "    <tr>\n",
       "      <th>21</th>\n",
       "      <td>observed_syns</td>\n",
       "      <td>observed, witnessed, seen, spotted, was</td>\n",
       "    </tr>\n",
       "    <tr>\n",
       "      <th>22</th>\n",
       "      <td>pain_syns</td>\n",
       "      <td>pain, discomfort, soreness, hurt, something in...</td>\n",
       "    </tr>\n",
       "    <tr>\n",
       "      <th>23</th>\n",
       "      <td>ppe_syns</td>\n",
       "      <td>ppe, gloves, glasses, goggles, protective</td>\n",
       "    </tr>\n",
       "    <tr>\n",
       "      <th>24</th>\n",
       "      <td>release_syns</td>\n",
       "      <td>release, spill, discharge, contained, loss, lo...</td>\n",
       "    </tr>\n",
       "    <tr>\n",
       "      <th>25</th>\n",
       "      <td>slip_syns</td>\n",
       "      <td>slipped, tripped, slip, trip</td>\n",
       "    </tr>\n",
       "    <tr>\n",
       "      <th>26</th>\n",
       "      <td>suffered_syns</td>\n",
       "      <td>suffered, bit, bite</td>\n",
       "    </tr>\n",
       "    <tr>\n",
       "      <th>27</th>\n",
       "      <td>tested_syns</td>\n",
       "      <td>tested positive, symptoms, pcr</td>\n",
       "    </tr>\n",
       "    <tr>\n",
       "      <th>28</th>\n",
       "      <td>vehicle_syns</td>\n",
       "      <td>dozer, excavator, \\btruck, forklift, car, vehi...</td>\n",
       "    </tr>\n",
       "    <tr>\n",
       "      <th>29</th>\n",
       "      <td>vehicle_move_syns</td>\n",
       "      <td>backed into, hit, collided, reversed into, cra...</td>\n",
       "    </tr>\n",
       "    <tr>\n",
       "      <th>30</th>\n",
       "      <td>without_syns</td>\n",
       "      <td>without, with out, not wearing, no\\b, with no,...</td>\n",
       "    </tr>\n",
       "    <tr>\n",
       "      <th>31</th>\n",
       "      <td>worker_syns</td>\n",
       "      <td>employee, ip, worker, man, woman, he, she, his...</td>\n",
       "    </tr>\n",
       "    <tr>\n",
       "      <th>32</th>\n",
       "      <td>gen_body_syns</td>\n",
       "      <td>shoulder, muscle, neck, abdomen, skin, bowel, ...</td>\n",
       "    </tr>\n",
       "    <tr>\n",
       "      <th>33</th>\n",
       "      <td>theft_syns</td>\n",
       "      <td>stole, robbed, broke into</td>\n",
       "    </tr>\n",
       "    <tr>\n",
       "      <th>34</th>\n",
       "      <td>theft_object_syns</td>\n",
       "      <td>equipment, window, cabin, office, car, diesel,...</td>\n",
       "    </tr>\n",
       "  </tbody>\n",
       "</table>\n",
       "</div>"
      ],
      "text/plain": [
       "                      syn                                           keywords\n",
       "0                arm_syns  arm, elbow, forearm, wrist, palm, finger, thum...\n",
       "1          back_pain_syns  pain, discomfort, soreness, hurt,  swelling, s...\n",
       "2               back_syns                                               back\n",
       "3          collision_syns           collision, collission, accident, clipped\n",
       "4         competency_syns  training, competency, certification, certifica...\n",
       "5              covid_syns    covid, covid-19, coronavirus, corona virus, pcr\n",
       "6                eye_syns                                   eye, pupil, iris\n",
       "7            failure_syns  failed, failure, fail, leaked, leak, rupture, ...\n",
       "8               fall_syns                                fell, twisted, fall\n",
       "9     falling_object_syns                       fell, fall, falling, dropped\n",
       "10              hurt_syns  injured, injury, sore, rolled, soreness, abras...\n",
       "11              gen1_syns                                                the\n",
       "12  height_equipment_syns  ladder, step-ladder, scaffold, platform, roof,...\n",
       "13           illness_syns                                            illness\n",
       "14     insect_animal_syns  \\bbug, \\bfly, spider, snake, insect, \\bdog, \\b...\n",
       "15           involve_syns                          involved, participated in\n",
       "16           lacking_syns  lack of, lacking, without, with no, not have, ...\n",
       "17               leg_syns  ankle, foot, leg, knee, toe, calf, shin, thigh...\n",
       "18    mech_component_syns  hydraulic hose, hyd fluid, diesel, petrol, con...\n",
       "19          non_work_syns                                   non-work related\n",
       "20            object_syns                      post, wall, scaffold, bollard\n",
       "21          observed_syns            observed, witnessed, seen, spotted, was\n",
       "22              pain_syns  pain, discomfort, soreness, hurt, something in...\n",
       "23               ppe_syns          ppe, gloves, glasses, goggles, protective\n",
       "24           release_syns  release, spill, discharge, contained, loss, lo...\n",
       "25              slip_syns                       slipped, tripped, slip, trip\n",
       "26          suffered_syns                                suffered, bit, bite\n",
       "27            tested_syns                     tested positive, symptoms, pcr\n",
       "28           vehicle_syns  dozer, excavator, \\btruck, forklift, car, vehi...\n",
       "29      vehicle_move_syns  backed into, hit, collided, reversed into, cra...\n",
       "30           without_syns  without, with out, not wearing, no\\b, with no,...\n",
       "31            worker_syns  employee, ip, worker, man, woman, he, she, his...\n",
       "32          gen_body_syns  shoulder, muscle, neck, abdomen, skin, bowel, ...\n",
       "33             theft_syns                          stole, robbed, broke into\n",
       "34      theft_object_syns  equipment, window, cabin, office, car, diesel,..."
      ]
     },
     "execution_count": 286,
     "metadata": {},
     "output_type": "execute_result"
    }
   ],
   "source": [
    "syns_db = pd.read_csv('synonyms.csv')\n",
    "syns_db"
   ]
  },
  {
   "cell_type": "code",
   "execution_count": 343,
   "id": "aaa8646f",
   "metadata": {},
   "outputs": [
    {
     "data": {
      "text/html": [
       "<div>\n",
       "<style scoped>\n",
       "    .dataframe tbody tr th:only-of-type {\n",
       "        vertical-align: middle;\n",
       "    }\n",
       "\n",
       "    .dataframe tbody tr th {\n",
       "        vertical-align: top;\n",
       "    }\n",
       "\n",
       "    .dataframe thead th {\n",
       "        text-align: right;\n",
       "    }\n",
       "</style>\n",
       "<table border=\"1\" class=\"dataframe\">\n",
       "  <thead>\n",
       "    <tr style=\"text-align: right;\">\n",
       "      <th></th>\n",
       "      <th>syn</th>\n",
       "      <th>keywords</th>\n",
       "    </tr>\n",
       "  </thead>\n",
       "  <tbody>\n",
       "    <tr>\n",
       "      <th>0</th>\n",
       "      <td>arm</td>\n",
       "      <td>arm, elbow, forearm, wrist, palm, finger, thum...</td>\n",
       "    </tr>\n",
       "    <tr>\n",
       "      <th>1</th>\n",
       "      <td>back_pain</td>\n",
       "      <td>pain, discomfort, soreness, hurt,  swelling, s...</td>\n",
       "    </tr>\n",
       "    <tr>\n",
       "      <th>2</th>\n",
       "      <td>back</td>\n",
       "      <td>back</td>\n",
       "    </tr>\n",
       "    <tr>\n",
       "      <th>3</th>\n",
       "      <td>collision</td>\n",
       "      <td>collision, collission, accident, clipped</td>\n",
       "    </tr>\n",
       "    <tr>\n",
       "      <th>4</th>\n",
       "      <td>competency</td>\n",
       "      <td>training, competency, certification, certifica...</td>\n",
       "    </tr>\n",
       "    <tr>\n",
       "      <th>5</th>\n",
       "      <td>covid</td>\n",
       "      <td>covid, covid-19, coronavirus, corona virus, pcr</td>\n",
       "    </tr>\n",
       "    <tr>\n",
       "      <th>6</th>\n",
       "      <td>eye</td>\n",
       "      <td>eye, pupil, iris</td>\n",
       "    </tr>\n",
       "    <tr>\n",
       "      <th>7</th>\n",
       "      <td>failure</td>\n",
       "      <td>failed, failure, fail, leaked, leak, rupture, ...</td>\n",
       "    </tr>\n",
       "    <tr>\n",
       "      <th>8</th>\n",
       "      <td>fall</td>\n",
       "      <td>fell, twisted, fall</td>\n",
       "    </tr>\n",
       "    <tr>\n",
       "      <th>9</th>\n",
       "      <td>falling_object</td>\n",
       "      <td>fell, fall, falling, dropped</td>\n",
       "    </tr>\n",
       "    <tr>\n",
       "      <th>10</th>\n",
       "      <td>hurt</td>\n",
       "      <td>injured, injury, sore, rolled, soreness, abras...</td>\n",
       "    </tr>\n",
       "    <tr>\n",
       "      <th>11</th>\n",
       "      <td>gen1</td>\n",
       "      <td>the</td>\n",
       "    </tr>\n",
       "    <tr>\n",
       "      <th>12</th>\n",
       "      <td>height_equipment</td>\n",
       "      <td>ladder, step-ladder, scaffold, platform, roof,...</td>\n",
       "    </tr>\n",
       "    <tr>\n",
       "      <th>13</th>\n",
       "      <td>illness</td>\n",
       "      <td>illness</td>\n",
       "    </tr>\n",
       "    <tr>\n",
       "      <th>14</th>\n",
       "      <td>insect_animal</td>\n",
       "      <td>\\bbug, \\bfly, spider, snake, insect, \\bdog, \\b...</td>\n",
       "    </tr>\n",
       "    <tr>\n",
       "      <th>15</th>\n",
       "      <td>involve</td>\n",
       "      <td>involved, participated in</td>\n",
       "    </tr>\n",
       "    <tr>\n",
       "      <th>16</th>\n",
       "      <td>lacking</td>\n",
       "      <td>lack of, lacking, without, with no, not have, ...</td>\n",
       "    </tr>\n",
       "    <tr>\n",
       "      <th>17</th>\n",
       "      <td>leg</td>\n",
       "      <td>ankle, foot, leg, knee, toe, calf, shin, thigh...</td>\n",
       "    </tr>\n",
       "    <tr>\n",
       "      <th>18</th>\n",
       "      <td>mech_component</td>\n",
       "      <td>hydraulic hose, hyd fluid, diesel, petrol, con...</td>\n",
       "    </tr>\n",
       "    <tr>\n",
       "      <th>19</th>\n",
       "      <td>non_work</td>\n",
       "      <td>non-work related</td>\n",
       "    </tr>\n",
       "    <tr>\n",
       "      <th>20</th>\n",
       "      <td>object</td>\n",
       "      <td>post, wall, scaffold, bollard</td>\n",
       "    </tr>\n",
       "    <tr>\n",
       "      <th>21</th>\n",
       "      <td>observed</td>\n",
       "      <td>observed, witnessed, seen, spotted, was</td>\n",
       "    </tr>\n",
       "    <tr>\n",
       "      <th>22</th>\n",
       "      <td>pain</td>\n",
       "      <td>pain, discomfort, soreness, hurt, something in...</td>\n",
       "    </tr>\n",
       "    <tr>\n",
       "      <th>23</th>\n",
       "      <td>ppe</td>\n",
       "      <td>ppe, gloves, glasses, goggles, protective</td>\n",
       "    </tr>\n",
       "    <tr>\n",
       "      <th>24</th>\n",
       "      <td>release</td>\n",
       "      <td>release, spill, discharge, contained, loss, lo...</td>\n",
       "    </tr>\n",
       "    <tr>\n",
       "      <th>25</th>\n",
       "      <td>slip</td>\n",
       "      <td>slipped, tripped, slip, trip</td>\n",
       "    </tr>\n",
       "    <tr>\n",
       "      <th>26</th>\n",
       "      <td>suffered</td>\n",
       "      <td>suffered, bit, bite</td>\n",
       "    </tr>\n",
       "    <tr>\n",
       "      <th>27</th>\n",
       "      <td>tested</td>\n",
       "      <td>tested positive, symptoms, pcr</td>\n",
       "    </tr>\n",
       "    <tr>\n",
       "      <th>28</th>\n",
       "      <td>vehicle</td>\n",
       "      <td>dozer, excavator, \\btruck, forklift, car, vehi...</td>\n",
       "    </tr>\n",
       "    <tr>\n",
       "      <th>29</th>\n",
       "      <td>vehicle_move</td>\n",
       "      <td>backed into, hit, collided, reversed into, cra...</td>\n",
       "    </tr>\n",
       "    <tr>\n",
       "      <th>30</th>\n",
       "      <td>without</td>\n",
       "      <td>without, with out, not wearing, no\\b, with no,...</td>\n",
       "    </tr>\n",
       "    <tr>\n",
       "      <th>31</th>\n",
       "      <td>worker</td>\n",
       "      <td>employee, ip, worker, man, woman, he, she, his...</td>\n",
       "    </tr>\n",
       "    <tr>\n",
       "      <th>32</th>\n",
       "      <td>gen_body</td>\n",
       "      <td>shoulder, muscle, neck, abdomen, skin, bowel, ...</td>\n",
       "    </tr>\n",
       "    <tr>\n",
       "      <th>33</th>\n",
       "      <td>theft</td>\n",
       "      <td>stole, robbed, broke into</td>\n",
       "    </tr>\n",
       "    <tr>\n",
       "      <th>34</th>\n",
       "      <td>theft_object</td>\n",
       "      <td>equipment, window, cabin, office, car, diesel,...</td>\n",
       "    </tr>\n",
       "  </tbody>\n",
       "</table>\n",
       "</div>"
      ],
      "text/plain": [
       "                 syn                                           keywords\n",
       "0                arm  arm, elbow, forearm, wrist, palm, finger, thum...\n",
       "1          back_pain  pain, discomfort, soreness, hurt,  swelling, s...\n",
       "2               back                                               back\n",
       "3          collision           collision, collission, accident, clipped\n",
       "4         competency  training, competency, certification, certifica...\n",
       "5              covid    covid, covid-19, coronavirus, corona virus, pcr\n",
       "6                eye                                   eye, pupil, iris\n",
       "7            failure  failed, failure, fail, leaked, leak, rupture, ...\n",
       "8               fall                                fell, twisted, fall\n",
       "9     falling_object                       fell, fall, falling, dropped\n",
       "10              hurt  injured, injury, sore, rolled, soreness, abras...\n",
       "11              gen1                                                the\n",
       "12  height_equipment  ladder, step-ladder, scaffold, platform, roof,...\n",
       "13           illness                                            illness\n",
       "14     insect_animal  \\bbug, \\bfly, spider, snake, insect, \\bdog, \\b...\n",
       "15           involve                          involved, participated in\n",
       "16           lacking  lack of, lacking, without, with no, not have, ...\n",
       "17               leg  ankle, foot, leg, knee, toe, calf, shin, thigh...\n",
       "18    mech_component  hydraulic hose, hyd fluid, diesel, petrol, con...\n",
       "19          non_work                                   non-work related\n",
       "20            object                      post, wall, scaffold, bollard\n",
       "21          observed            observed, witnessed, seen, spotted, was\n",
       "22              pain  pain, discomfort, soreness, hurt, something in...\n",
       "23               ppe          ppe, gloves, glasses, goggles, protective\n",
       "24           release  release, spill, discharge, contained, loss, lo...\n",
       "25              slip                       slipped, tripped, slip, trip\n",
       "26          suffered                                suffered, bit, bite\n",
       "27            tested                     tested positive, symptoms, pcr\n",
       "28           vehicle  dozer, excavator, \\btruck, forklift, car, vehi...\n",
       "29      vehicle_move  backed into, hit, collided, reversed into, cra...\n",
       "30           without  without, with out, not wearing, no\\b, with no,...\n",
       "31            worker  employee, ip, worker, man, woman, he, she, his...\n",
       "32          gen_body  shoulder, muscle, neck, abdomen, skin, bowel, ...\n",
       "33             theft                          stole, robbed, broke into\n",
       "34      theft_object  equipment, window, cabin, office, car, diesel,..."
      ]
     },
     "execution_count": 343,
     "metadata": {},
     "output_type": "execute_result"
    }
   ],
   "source": [
    "def replace_syns(in_str):\n",
    "    mod_str = re.sub('_syns', '', in_str) \n",
    "    return(mod_str)\n",
    "\n",
    "replace_syns('worker_syns')\n",
    "syns_db['syn'] = syns_db['syn'].apply(replace_syns)\n",
    "syns_db"
   ]
  },
  {
   "cell_type": "code",
   "execution_count": 384,
   "id": "f84e2c26",
   "metadata": {},
   "outputs": [
    {
     "data": {
      "text/plain": [
       "['fp.*eye.*{worker}', 'spanner in {eye}', '{pain}.*{eye}.*{worker}']"
      ]
     },
     "execution_count": 384,
     "metadata": {},
     "output_type": "execute_result"
    }
   ],
   "source": [
    "rules = pd.read_csv('data/rule_book_test.csv')\n",
    "scan_rules = rules.rules_all[0].split('_ ')\n",
    "scan_rules"
   ]
  },
  {
   "cell_type": "code",
   "execution_count": 350,
   "id": "f56a94ac",
   "metadata": {},
   "outputs": [
    {
     "data": {
      "text/plain": [
       "['{spanner}', '{eye}']"
      ]
     },
     "execution_count": 350,
     "metadata": {},
     "output_type": "execute_result"
    }
   ],
   "source": [
    "re.findall(\"{[a-zA-Z'-]*}\", '{spanner} in {eye}')"
   ]
  },
  {
   "cell_type": "code",
   "execution_count": 351,
   "id": "1d72e77f",
   "metadata": {},
   "outputs": [],
   "source": [
    "def mutate_syn(syns, syns_db, rule, num):\n",
    "    syn_rules = []\n",
    "    if num == 1:    \n",
    "        syn_raw = syns[0]\n",
    "        syn = re.sub(r\"[\\([{})\\]]\", '', syn_raw)\n",
    "        found_syn = syns_db.loc[(syns_db['syn'] == syn)]\n",
    "        for keyword in found_syn.iloc[0, 1].split(', '):\n",
    "            syn_rules.append(re.sub(syn_raw, keyword, rule))\n",
    "        syn_rules = '_ '.join(syn_rules)\n",
    "        return(syn_rules)\n",
    "    elif num == 2:\n",
    "        syn_raw_1 = syns[0]\n",
    "        syn_1 = re.sub(r\"[\\([{})\\]]\", '', syn_raw_1)\n",
    "        found_syn_1 = syns_db.loc[(syns_db['syn'] == syn_1)]\n",
    "\n",
    "        syn_raw_2 = syns[1]\n",
    "        syn_2 = re.sub(r\"[\\([{})\\]]\", '', syn_raw_2)\n",
    "        found_syn_2 = syns_db.loc[(syns_db['syn'] == syn_2)]\n",
    "\n",
    "        for keyword_1 in found_syn_1.iloc[0, 1].split(', '):\n",
    "            for keyword_2 in found_syn_2.iloc[0, 1].split(', '):\n",
    "                pass_1 = re.sub(syn_raw_1, keyword_1, rule)\n",
    "                pass_2 = re.sub(syn_raw_2, keyword_2, pass_1)\n",
    "                syn_rules.append(pass_2)\n",
    "        syn_rules = '_ '.join(syn_rules)\n",
    "        return(syn_rules)\n",
    "    elif num == 3:\n",
    "        syn_raw_1 = syns[0]\n",
    "        syn_1 = re.sub(r\"[\\([{})\\]]\", '', syn_raw_1)\n",
    "        found_syn_1 = syns_db.loc[(syns_db['syn'] == syn_1)]\n",
    "\n",
    "        syn_raw_2 = syns[1]\n",
    "        syn_2 = re.sub(r\"[\\([{})\\]]\", '', syn_raw_2)\n",
    "        found_syn_2 = syns_db.loc[(syns_db['syn'] == syn_2)]\n",
    "\n",
    "        syn_raw_3 = syns[2]\n",
    "        syn_3 = re.sub(r\"[\\([{})\\]]\", '', syn_raw_3)\n",
    "        found_syn_3 = syns_db.loc[(syns_db['syn'] == syn_3)]\n",
    "\n",
    "        for keyword_1 in found_syn_1.iloc[0, 1].split(', '):\n",
    "            for keyword_2 in found_syn_2.iloc[0, 1].split(', '):\n",
    "                for keyword_3 in found_syn_3.iloc[0, 1].split(', '):\n",
    "                    pass_1 = re.sub(syn_raw_1, keyword_1, rule)\n",
    "                    pass_2 = re.sub(syn_raw_2, keyword_2, pass_1)\n",
    "                    pass_3 = re.sub(syn_raw_3, keyword_3, pass_2)\n",
    "                    syn_rules.append(pass_3)\n",
    "        syn_rules = '_ '.join(syn_rules)\n",
    "        return(syn_rules)        "
   ]
  },
  {
   "cell_type": "code",
   "execution_count": 352,
   "id": "a1fadd0b",
   "metadata": {},
   "outputs": [
    {
     "name": "stdout",
     "output_type": "stream",
     "text": [
      "fp.*eye.*employee_ fp.*eye.*ip_ fp.*eye.*worker_ fp.*eye.*man_ fp.*eye.*woman_ fp.*eye.*he_ fp.*eye.*she_ fp.*eye.*his_ fp.*eye.*her_ fp.*eye.*left_ fp.*eye.*right_ fp.*eye.*operator_ fp.*eye.*operative_ fp.*eye.*technician_ fp.*eye.*scaffolder_ fp.*eye.*team member_ fp.*eye.*person_ spanner in eye_ spanner in pupil_ spanner in iris_ pain.*eye.*employee_ pain.*eye.*ip_ pain.*eye.*worker_ pain.*eye.*man_ pain.*eye.*woman_ pain.*eye.*he_ pain.*eye.*she_ pain.*eye.*his_ pain.*eye.*her_ pain.*eye.*left_ pain.*eye.*right_ pain.*eye.*operator_ pain.*eye.*operative_ pain.*eye.*technician_ pain.*eye.*scaffolder_ pain.*eye.*team member_ pain.*eye.*person_ pain.*pupil.*employee_ pain.*pupil.*ip_ pain.*pupil.*worker_ pain.*pupil.*man_ pain.*pupil.*woman_ pain.*pupil.*he_ pain.*pupil.*she_ pain.*pupil.*his_ pain.*pupil.*her_ pain.*pupil.*left_ pain.*pupil.*right_ pain.*pupil.*operator_ pain.*pupil.*operative_ pain.*pupil.*technician_ pain.*pupil.*scaffolder_ pain.*pupil.*team member_ pain.*pupil.*person_ pain.*iris.*employee_ pain.*iris.*ip_ pain.*iris.*worker_ pain.*iris.*man_ pain.*iris.*woman_ pain.*iris.*he_ pain.*iris.*she_ pain.*iris.*his_ pain.*iris.*her_ pain.*iris.*left_ pain.*iris.*right_ pain.*iris.*operator_ pain.*iris.*operative_ pain.*iris.*technician_ pain.*iris.*scaffolder_ pain.*iris.*team member_ pain.*iris.*person_ discomfort.*eye.*employee_ discomfort.*eye.*ip_ discomfort.*eye.*worker_ discomfort.*eye.*man_ discomfort.*eye.*woman_ discomfort.*eye.*he_ discomfort.*eye.*she_ discomfort.*eye.*his_ discomfort.*eye.*her_ discomfort.*eye.*left_ discomfort.*eye.*right_ discomfort.*eye.*operator_ discomfort.*eye.*operative_ discomfort.*eye.*technician_ discomfort.*eye.*scaffolder_ discomfort.*eye.*team member_ discomfort.*eye.*person_ discomfort.*pupil.*employee_ discomfort.*pupil.*ip_ discomfort.*pupil.*worker_ discomfort.*pupil.*man_ discomfort.*pupil.*woman_ discomfort.*pupil.*he_ discomfort.*pupil.*she_ discomfort.*pupil.*his_ discomfort.*pupil.*her_ discomfort.*pupil.*left_ discomfort.*pupil.*right_ discomfort.*pupil.*operator_ discomfort.*pupil.*operative_ discomfort.*pupil.*technician_ discomfort.*pupil.*scaffolder_ discomfort.*pupil.*team member_ discomfort.*pupil.*person_ discomfort.*iris.*employee_ discomfort.*iris.*ip_ discomfort.*iris.*worker_ discomfort.*iris.*man_ discomfort.*iris.*woman_ discomfort.*iris.*he_ discomfort.*iris.*she_ discomfort.*iris.*his_ discomfort.*iris.*her_ discomfort.*iris.*left_ discomfort.*iris.*right_ discomfort.*iris.*operator_ discomfort.*iris.*operative_ discomfort.*iris.*technician_ discomfort.*iris.*scaffolder_ discomfort.*iris.*team member_ discomfort.*iris.*person_ soreness.*eye.*employee_ soreness.*eye.*ip_ soreness.*eye.*worker_ soreness.*eye.*man_ soreness.*eye.*woman_ soreness.*eye.*he_ soreness.*eye.*she_ soreness.*eye.*his_ soreness.*eye.*her_ soreness.*eye.*left_ soreness.*eye.*right_ soreness.*eye.*operator_ soreness.*eye.*operative_ soreness.*eye.*technician_ soreness.*eye.*scaffolder_ soreness.*eye.*team member_ soreness.*eye.*person_ soreness.*pupil.*employee_ soreness.*pupil.*ip_ soreness.*pupil.*worker_ soreness.*pupil.*man_ soreness.*pupil.*woman_ soreness.*pupil.*he_ soreness.*pupil.*she_ soreness.*pupil.*his_ soreness.*pupil.*her_ soreness.*pupil.*left_ soreness.*pupil.*right_ soreness.*pupil.*operator_ soreness.*pupil.*operative_ soreness.*pupil.*technician_ soreness.*pupil.*scaffolder_ soreness.*pupil.*team member_ soreness.*pupil.*person_ soreness.*iris.*employee_ soreness.*iris.*ip_ soreness.*iris.*worker_ soreness.*iris.*man_ soreness.*iris.*woman_ soreness.*iris.*he_ soreness.*iris.*she_ soreness.*iris.*his_ soreness.*iris.*her_ soreness.*iris.*left_ soreness.*iris.*right_ soreness.*iris.*operator_ soreness.*iris.*operative_ soreness.*iris.*technician_ soreness.*iris.*scaffolder_ soreness.*iris.*team member_ soreness.*iris.*person_ hurt.*eye.*employee_ hurt.*eye.*ip_ hurt.*eye.*worker_ hurt.*eye.*man_ hurt.*eye.*woman_ hurt.*eye.*he_ hurt.*eye.*she_ hurt.*eye.*his_ hurt.*eye.*her_ hurt.*eye.*left_ hurt.*eye.*right_ hurt.*eye.*operator_ hurt.*eye.*operative_ hurt.*eye.*technician_ hurt.*eye.*scaffolder_ hurt.*eye.*team member_ hurt.*eye.*person_ hurt.*pupil.*employee_ hurt.*pupil.*ip_ hurt.*pupil.*worker_ hurt.*pupil.*man_ hurt.*pupil.*woman_ hurt.*pupil.*he_ hurt.*pupil.*she_ hurt.*pupil.*his_ hurt.*pupil.*her_ hurt.*pupil.*left_ hurt.*pupil.*right_ hurt.*pupil.*operator_ hurt.*pupil.*operative_ hurt.*pupil.*technician_ hurt.*pupil.*scaffolder_ hurt.*pupil.*team member_ hurt.*pupil.*person_ hurt.*iris.*employee_ hurt.*iris.*ip_ hurt.*iris.*worker_ hurt.*iris.*man_ hurt.*iris.*woman_ hurt.*iris.*he_ hurt.*iris.*she_ hurt.*iris.*his_ hurt.*iris.*her_ hurt.*iris.*left_ hurt.*iris.*right_ hurt.*iris.*operator_ hurt.*iris.*operative_ hurt.*iris.*technician_ hurt.*iris.*scaffolder_ hurt.*iris.*team member_ hurt.*iris.*person_ something in.*eye.*employee_ something in.*eye.*ip_ something in.*eye.*worker_ something in.*eye.*man_ something in.*eye.*woman_ something in.*eye.*he_ something in.*eye.*she_ something in.*eye.*his_ something in.*eye.*her_ something in.*eye.*left_ something in.*eye.*right_ something in.*eye.*operator_ something in.*eye.*operative_ something in.*eye.*technician_ something in.*eye.*scaffolder_ something in.*eye.*team member_ something in.*eye.*person_ something in.*pupil.*employee_ something in.*pupil.*ip_ something in.*pupil.*worker_ something in.*pupil.*man_ something in.*pupil.*woman_ something in.*pupil.*he_ something in.*pupil.*she_ something in.*pupil.*his_ something in.*pupil.*her_ something in.*pupil.*left_ something in.*pupil.*right_ something in.*pupil.*operator_ something in.*pupil.*operative_ something in.*pupil.*technician_ something in.*pupil.*scaffolder_ something in.*pupil.*team member_ something in.*pupil.*person_ something in.*iris.*employee_ something in.*iris.*ip_ something in.*iris.*worker_ something in.*iris.*man_ something in.*iris.*woman_ something in.*iris.*he_ something in.*iris.*she_ something in.*iris.*his_ something in.*iris.*her_ something in.*iris.*left_ something in.*iris.*right_ something in.*iris.*operator_ something in.*iris.*operative_ something in.*iris.*technician_ something in.*iris.*scaffolder_ something in.*iris.*team member_ something in.*iris.*person_ grit.*eye.*employee_ grit.*eye.*ip_ grit.*eye.*worker_ grit.*eye.*man_ grit.*eye.*woman_ grit.*eye.*he_ grit.*eye.*she_ grit.*eye.*his_ grit.*eye.*her_ grit.*eye.*left_ grit.*eye.*right_ grit.*eye.*operator_ grit.*eye.*operative_ grit.*eye.*technician_ grit.*eye.*scaffolder_ grit.*eye.*team member_ grit.*eye.*person_ grit.*pupil.*employee_ grit.*pupil.*ip_ grit.*pupil.*worker_ grit.*pupil.*man_ grit.*pupil.*woman_ grit.*pupil.*he_ grit.*pupil.*she_ grit.*pupil.*his_ grit.*pupil.*her_ grit.*pupil.*left_ grit.*pupil.*right_ grit.*pupil.*operator_ grit.*pupil.*operative_ grit.*pupil.*technician_ grit.*pupil.*scaffolder_ grit.*pupil.*team member_ grit.*pupil.*person_ grit.*iris.*employee_ grit.*iris.*ip_ grit.*iris.*worker_ grit.*iris.*man_ grit.*iris.*woman_ grit.*iris.*he_ grit.*iris.*she_ grit.*iris.*his_ grit.*iris.*her_ grit.*iris.*left_ grit.*iris.*right_ grit.*iris.*operator_ grit.*iris.*operative_ grit.*iris.*technician_ grit.*iris.*scaffolder_ grit.*iris.*team member_ grit.*iris.*person_ swelling.*eye.*employee_ swelling.*eye.*ip_ swelling.*eye.*worker_ swelling.*eye.*man_ swelling.*eye.*woman_ swelling.*eye.*he_ swelling.*eye.*she_ swelling.*eye.*his_ swelling.*eye.*her_ swelling.*eye.*left_ swelling.*eye.*right_ swelling.*eye.*operator_ swelling.*eye.*operative_ swelling.*eye.*technician_ swelling.*eye.*scaffolder_ swelling.*eye.*team member_ swelling.*eye.*person_ swelling.*pupil.*employee_ swelling.*pupil.*ip_ swelling.*pupil.*worker_ swelling.*pupil.*man_ swelling.*pupil.*woman_ swelling.*pupil.*he_ swelling.*pupil.*she_ swelling.*pupil.*his_ swelling.*pupil.*her_ swelling.*pupil.*left_ swelling.*pupil.*right_ swelling.*pupil.*operator_ swelling.*pupil.*operative_ swelling.*pupil.*technician_ swelling.*pupil.*scaffolder_ swelling.*pupil.*team member_ swelling.*pupil.*person_ swelling.*iris.*employee_ swelling.*iris.*ip_ swelling.*iris.*worker_ swelling.*iris.*man_ swelling.*iris.*woman_ swelling.*iris.*he_ swelling.*iris.*she_ swelling.*iris.*his_ swelling.*iris.*her_ swelling.*iris.*left_ swelling.*iris.*right_ swelling.*iris.*operator_ swelling.*iris.*operative_ swelling.*iris.*technician_ swelling.*iris.*scaffolder_ swelling.*iris.*team member_ swelling.*iris.*person_ swollen.*eye.*employee_ swollen.*eye.*ip_ swollen.*eye.*worker_ swollen.*eye.*man_ swollen.*eye.*woman_ swollen.*eye.*he_ swollen.*eye.*she_ swollen.*eye.*his_ swollen.*eye.*her_ swollen.*eye.*left_ swollen.*eye.*right_ swollen.*eye.*operator_ swollen.*eye.*operative_ swollen.*eye.*technician_ swollen.*eye.*scaffolder_ swollen.*eye.*team member_ swollen.*eye.*person_ swollen.*pupil.*employee_ swollen.*pupil.*ip_ swollen.*pupil.*worker_ swollen.*pupil.*man_ swollen.*pupil.*woman_ swollen.*pupil.*he_ swollen.*pupil.*she_ swollen.*pupil.*his_ swollen.*pupil.*her_ swollen.*pupil.*left_ swollen.*pupil.*right_ swollen.*pupil.*operator_ swollen.*pupil.*operative_ swollen.*pupil.*technician_ swollen.*pupil.*scaffolder_ swollen.*pupil.*team member_ swollen.*pupil.*person_ swollen.*iris.*employee_ swollen.*iris.*ip_ swollen.*iris.*worker_ swollen.*iris.*man_ swollen.*iris.*woman_ swollen.*iris.*he_ swollen.*iris.*she_ swollen.*iris.*his_ swollen.*iris.*her_ swollen.*iris.*left_ swollen.*iris.*right_ swollen.*iris.*operator_ swollen.*iris.*operative_ swollen.*iris.*technician_ swollen.*iris.*scaffolder_ swollen.*iris.*team member_ swollen.*iris.*person_ dust.*eye.*employee_ dust.*eye.*ip_ dust.*eye.*worker_ dust.*eye.*man_ dust.*eye.*woman_ dust.*eye.*he_ dust.*eye.*she_ dust.*eye.*his_ dust.*eye.*her_ dust.*eye.*left_ dust.*eye.*right_ dust.*eye.*operator_ dust.*eye.*operative_ dust.*eye.*technician_ dust.*eye.*scaffolder_ dust.*eye.*team member_ dust.*eye.*person_ dust.*pupil.*employee_ dust.*pupil.*ip_ dust.*pupil.*worker_ dust.*pupil.*man_ dust.*pupil.*woman_ dust.*pupil.*he_ dust.*pupil.*she_ dust.*pupil.*his_ dust.*pupil.*her_ dust.*pupil.*left_ dust.*pupil.*right_ dust.*pupil.*operator_ dust.*pupil.*operative_ dust.*pupil.*technician_ dust.*pupil.*scaffolder_ dust.*pupil.*team member_ dust.*pupil.*person_ dust.*iris.*employee_ dust.*iris.*ip_ dust.*iris.*worker_ dust.*iris.*man_ dust.*iris.*woman_ dust.*iris.*he_ dust.*iris.*she_ dust.*iris.*his_ dust.*iris.*her_ dust.*iris.*left_ dust.*iris.*right_ dust.*iris.*operator_ dust.*iris.*operative_ dust.*iris.*technician_ dust.*iris.*scaffolder_ dust.*iris.*team member_ dust.*iris.*person_ particle.*eye.*employee_ particle.*eye.*ip_ particle.*eye.*worker_ particle.*eye.*man_ particle.*eye.*woman_ particle.*eye.*he_ particle.*eye.*she_ particle.*eye.*his_ particle.*eye.*her_ particle.*eye.*left_ particle.*eye.*right_ particle.*eye.*operator_ particle.*eye.*operative_ particle.*eye.*technician_ particle.*eye.*scaffolder_ particle.*eye.*team member_ particle.*eye.*person_ particle.*pupil.*employee_ particle.*pupil.*ip_ particle.*pupil.*worker_ particle.*pupil.*man_ particle.*pupil.*woman_ particle.*pupil.*he_ particle.*pupil.*she_ particle.*pupil.*his_ particle.*pupil.*her_ particle.*pupil.*left_ particle.*pupil.*right_ particle.*pupil.*operator_ particle.*pupil.*operative_ particle.*pupil.*technician_ particle.*pupil.*scaffolder_ particle.*pupil.*team member_ particle.*pupil.*person_ particle.*iris.*employee_ particle.*iris.*ip_ particle.*iris.*worker_ particle.*iris.*man_ particle.*iris.*woman_ particle.*iris.*he_ particle.*iris.*she_ particle.*iris.*his_ particle.*iris.*her_ particle.*iris.*left_ particle.*iris.*right_ particle.*iris.*operator_ particle.*iris.*operative_ particle.*iris.*technician_ particle.*iris.*scaffolder_ particle.*iris.*team member_ particle.*iris.*person_ irritation.*eye.*employee_ irritation.*eye.*ip_ irritation.*eye.*worker_ irritation.*eye.*man_ irritation.*eye.*woman_ irritation.*eye.*he_ irritation.*eye.*she_ irritation.*eye.*his_ irritation.*eye.*her_ irritation.*eye.*left_ irritation.*eye.*right_ irritation.*eye.*operator_ irritation.*eye.*operative_ irritation.*eye.*technician_ irritation.*eye.*scaffolder_ irritation.*eye.*team member_ irritation.*eye.*person_ irritation.*pupil.*employee_ irritation.*pupil.*ip_ irritation.*pupil.*worker_ irritation.*pupil.*man_ irritation.*pupil.*woman_ irritation.*pupil.*he_ irritation.*pupil.*she_ irritation.*pupil.*his_ irritation.*pupil.*her_ irritation.*pupil.*left_ irritation.*pupil.*right_ irritation.*pupil.*operator_ irritation.*pupil.*operative_ irritation.*pupil.*technician_ irritation.*pupil.*scaffolder_ irritation.*pupil.*team member_ irritation.*pupil.*person_ irritation.*iris.*employee_ irritation.*iris.*ip_ irritation.*iris.*worker_ irritation.*iris.*man_ irritation.*iris.*woman_ irritation.*iris.*he_ irritation.*iris.*she_ irritation.*iris.*his_ irritation.*iris.*her_ irritation.*iris.*left_ irritation.*iris.*right_ irritation.*iris.*operator_ irritation.*iris.*operative_ irritation.*iris.*technician_ irritation.*iris.*scaffolder_ irritation.*iris.*team member_ irritation.*iris.*person_ foreign.*eye.*employee_ foreign.*eye.*ip_ foreign.*eye.*worker_ foreign.*eye.*man_ foreign.*eye.*woman_ foreign.*eye.*he_ foreign.*eye.*she_ foreign.*eye.*his_ foreign.*eye.*her_ foreign.*eye.*left_ foreign.*eye.*right_ foreign.*eye.*operator_ foreign.*eye.*operative_ foreign.*eye.*technician_ foreign.*eye.*scaffolder_ foreign.*eye.*team member_ foreign.*eye.*person_ foreign.*pupil.*employee_ foreign.*pupil.*ip_ foreign.*pupil.*worker_ foreign.*pupil.*man_ foreign.*pupil.*woman_ foreign.*pupil.*he_ foreign.*pupil.*she_ foreign.*pupil.*his_ foreign.*pupil.*her_ foreign.*pupil.*left_ foreign.*pupil.*right_ foreign.*pupil.*operator_ foreign.*pupil.*operative_ foreign.*pupil.*technician_ foreign.*pupil.*scaffolder_ foreign.*pupil.*team member_ foreign.*pupil.*person_ foreign.*iris.*employee_ foreign.*iris.*ip_ foreign.*iris.*worker_ foreign.*iris.*man_ foreign.*iris.*woman_ foreign.*iris.*he_ foreign.*iris.*she_ foreign.*iris.*his_ foreign.*iris.*her_ foreign.*iris.*left_ foreign.*iris.*right_ foreign.*iris.*operator_ foreign.*iris.*operative_ foreign.*iris.*technician_ foreign.*iris.*scaffolder_ foreign.*iris.*team member_ foreign.*iris.*person_ fb.*eye.*employee_ fb.*eye.*ip_ fb.*eye.*worker_ fb.*eye.*man_ fb.*eye.*woman_ fb.*eye.*he_ fb.*eye.*she_ fb.*eye.*his_ fb.*eye.*her_ fb.*eye.*left_ fb.*eye.*right_ fb.*eye.*operator_ fb.*eye.*operative_ fb.*eye.*technician_ fb.*eye.*scaffolder_ fb.*eye.*team member_ fb.*eye.*person_ fb.*pupil.*employee_ fb.*pupil.*ip_ fb.*pupil.*worker_ fb.*pupil.*man_ fb.*pupil.*woman_ fb.*pupil.*he_ fb.*pupil.*she_ fb.*pupil.*his_ fb.*pupil.*her_ fb.*pupil.*left_ fb.*pupil.*right_ fb.*pupil.*operator_ fb.*pupil.*operative_ fb.*pupil.*technician_ fb.*pupil.*scaffolder_ fb.*pupil.*team member_ fb.*pupil.*person_ fb.*iris.*employee_ fb.*iris.*ip_ fb.*iris.*worker_ fb.*iris.*man_ fb.*iris.*woman_ fb.*iris.*he_ fb.*iris.*she_ fb.*iris.*his_ fb.*iris.*her_ fb.*iris.*left_ fb.*iris.*right_ fb.*iris.*operator_ fb.*iris.*operative_ fb.*iris.*technician_ fb.*iris.*scaffolder_ fb.*iris.*team member_ fb.*iris.*person_ debris.*eye.*employee_ debris.*eye.*ip_ debris.*eye.*worker_ debris.*eye.*man_ debris.*eye.*woman_ debris.*eye.*he_ debris.*eye.*she_ debris.*eye.*his_ debris.*eye.*her_ debris.*eye.*left_ debris.*eye.*right_ debris.*eye.*operator_ debris.*eye.*operative_ debris.*eye.*technician_ debris.*eye.*scaffolder_ debris.*eye.*team member_ debris.*eye.*person_ debris.*pupil.*employee_ debris.*pupil.*ip_ debris.*pupil.*worker_ debris.*pupil.*man_ debris.*pupil.*woman_ debris.*pupil.*he_ debris.*pupil.*she_ debris.*pupil.*his_ debris.*pupil.*her_ debris.*pupil.*left_ debris.*pupil.*right_ debris.*pupil.*operator_ debris.*pupil.*operative_ debris.*pupil.*technician_ debris.*pupil.*scaffolder_ debris.*pupil.*team member_ debris.*pupil.*person_ debris.*iris.*employee_ debris.*iris.*ip_ debris.*iris.*worker_ debris.*iris.*man_ debris.*iris.*woman_ debris.*iris.*he_ debris.*iris.*she_ debris.*iris.*his_ debris.*iris.*her_ debris.*iris.*left_ debris.*iris.*right_ debris.*iris.*operator_ debris.*iris.*operative_ debris.*iris.*technician_ debris.*iris.*scaffolder_ debris.*iris.*team member_ debris.*iris.*person_ felt.*eye.*employee_ felt.*eye.*ip_ felt.*eye.*worker_ felt.*eye.*man_ felt.*eye.*woman_ felt.*eye.*he_ felt.*eye.*she_ felt.*eye.*his_ felt.*eye.*her_ felt.*eye.*left_ felt.*eye.*right_ felt.*eye.*operator_ felt.*eye.*operative_ felt.*eye.*technician_ felt.*eye.*scaffolder_ felt.*eye.*team member_ felt.*eye.*person_ felt.*pupil.*employee_ felt.*pupil.*ip_ felt.*pupil.*worker_ felt.*pupil.*man_ felt.*pupil.*woman_ felt.*pupil.*he_ felt.*pupil.*she_ felt.*pupil.*his_ felt.*pupil.*her_ felt.*pupil.*left_ felt.*pupil.*right_ felt.*pupil.*operator_ felt.*pupil.*operative_ felt.*pupil.*technician_ felt.*pupil.*scaffolder_ felt.*pupil.*team member_ felt.*pupil.*person_ felt.*iris.*employee_ felt.*iris.*ip_ felt.*iris.*worker_ felt.*iris.*man_ felt.*iris.*woman_ felt.*iris.*he_ felt.*iris.*she_ felt.*iris.*his_ felt.*iris.*her_ felt.*iris.*left_ felt.*iris.*right_ felt.*iris.*operator_ felt.*iris.*operative_ felt.*iris.*technician_ felt.*iris.*scaffolder_ felt.*iris.*team member_ felt.*iris.*person_ blew.*eye.*employee_ blew.*eye.*ip_ blew.*eye.*worker_ blew.*eye.*man_ blew.*eye.*woman_ blew.*eye.*he_ blew.*eye.*she_ blew.*eye.*his_ blew.*eye.*her_ blew.*eye.*left_ blew.*eye.*right_ blew.*eye.*operator_ blew.*eye.*operative_ blew.*eye.*technician_ blew.*eye.*scaffolder_ blew.*eye.*team member_ blew.*eye.*person_ blew.*pupil.*employee_ blew.*pupil.*ip_ blew.*pupil.*worker_ blew.*pupil.*man_ blew.*pupil.*woman_ blew.*pupil.*he_ blew.*pupil.*she_ blew.*pupil.*his_ blew.*pupil.*her_ blew.*pupil.*left_ blew.*pupil.*right_ blew.*pupil.*operator_ blew.*pupil.*operative_ blew.*pupil.*technician_ blew.*pupil.*scaffolder_ blew.*pupil.*team member_ blew.*pupil.*person_ blew.*iris.*employee_ blew.*iris.*ip_ blew.*iris.*worker_ blew.*iris.*man_ blew.*iris.*woman_ blew.*iris.*he_ blew.*iris.*she_ blew.*iris.*his_ blew.*iris.*her_ blew.*iris.*left_ blew.*iris.*right_ blew.*iris.*operator_ blew.*iris.*operative_ blew.*iris.*technician_ blew.*iris.*scaffolder_ blew.*iris.*team member_ blew.*iris.*person_ blown.*eye.*employee_ blown.*eye.*ip_ blown.*eye.*worker_ blown.*eye.*man_ blown.*eye.*woman_ blown.*eye.*he_ blown.*eye.*she_ blown.*eye.*his_ blown.*eye.*her_ blown.*eye.*left_ blown.*eye.*right_ blown.*eye.*operator_ blown.*eye.*operative_ blown.*eye.*technician_ blown.*eye.*scaffolder_ blown.*eye.*team member_ blown.*eye.*person_ blown.*pupil.*employee_ blown.*pupil.*ip_ blown.*pupil.*worker_ blown.*pupil.*man_ blown.*pupil.*woman_ blown.*pupil.*he_ blown.*pupil.*she_ blown.*pupil.*his_ blown.*pupil.*her_ blown.*pupil.*left_ blown.*pupil.*right_ blown.*pupil.*operator_ blown.*pupil.*operative_ blown.*pupil.*technician_ blown.*pupil.*scaffolder_ blown.*pupil.*team member_ blown.*pupil.*person_ blown.*iris.*employee_ blown.*iris.*ip_ blown.*iris.*worker_ blown.*iris.*man_ blown.*iris.*woman_ blown.*iris.*he_ blown.*iris.*she_ blown.*iris.*his_ blown.*iris.*her_ blown.*iris.*left_ blown.*iris.*right_ blown.*iris.*operator_ blown.*iris.*operative_ blown.*iris.*technician_ blown.*iris.*scaffolder_ blown.*iris.*team member_ blown.*iris.*person_ laceration.*eye.*employee_ laceration.*eye.*ip_ laceration.*eye.*worker_ laceration.*eye.*man_ laceration.*eye.*woman_ laceration.*eye.*he_ laceration.*eye.*she_ laceration.*eye.*his_ laceration.*eye.*her_ laceration.*eye.*left_ laceration.*eye.*right_ laceration.*eye.*operator_ laceration.*eye.*operative_ laceration.*eye.*technician_ laceration.*eye.*scaffolder_ laceration.*eye.*team member_ laceration.*eye.*person_ laceration.*pupil.*employee_ laceration.*pupil.*ip_ laceration.*pupil.*worker_ laceration.*pupil.*man_ laceration.*pupil.*woman_ laceration.*pupil.*he_ laceration.*pupil.*she_ laceration.*pupil.*his_ laceration.*pupil.*her_ laceration.*pupil.*left_ laceration.*pupil.*right_ laceration.*pupil.*operator_ laceration.*pupil.*operative_ laceration.*pupil.*technician_ laceration.*pupil.*scaffolder_ laceration.*pupil.*team member_ laceration.*pupil.*person_ laceration.*iris.*employee_ laceration.*iris.*ip_ laceration.*iris.*worker_ laceration.*iris.*man_ laceration.*iris.*woman_ laceration.*iris.*he_ laceration.*iris.*she_ laceration.*iris.*his_ laceration.*iris.*her_ laceration.*iris.*left_ laceration.*iris.*right_ laceration.*iris.*operator_ laceration.*iris.*operative_ laceration.*iris.*technician_ laceration.*iris.*scaffolder_ laceration.*iris.*team member_ laceration.*iris.*person_ struck.*eye.*employee_ struck.*eye.*ip_ struck.*eye.*worker_ struck.*eye.*man_ struck.*eye.*woman_ struck.*eye.*he_ struck.*eye.*she_ struck.*eye.*his_ struck.*eye.*her_ struck.*eye.*left_ struck.*eye.*right_ struck.*eye.*operator_ struck.*eye.*operative_ struck.*eye.*technician_ struck.*eye.*scaffolder_ struck.*eye.*team member_ struck.*eye.*person_ struck.*pupil.*employee_ struck.*pupil.*ip_ struck.*pupil.*worker_ struck.*pupil.*man_ struck.*pupil.*woman_ struck.*pupil.*he_ struck.*pupil.*she_ struck.*pupil.*his_ struck.*pupil.*her_ struck.*pupil.*left_ struck.*pupil.*right_ struck.*pupil.*operator_ struck.*pupil.*operative_ struck.*pupil.*technician_ struck.*pupil.*scaffolder_ struck.*pupil.*team member_ struck.*pupil.*person_ struck.*iris.*employee_ struck.*iris.*ip_ struck.*iris.*worker_ struck.*iris.*man_ struck.*iris.*woman_ struck.*iris.*he_ struck.*iris.*she_ struck.*iris.*his_ struck.*iris.*her_ struck.*iris.*left_ struck.*iris.*right_ struck.*iris.*operator_ struck.*iris.*operative_ struck.*iris.*technician_ struck.*iris.*scaffolder_ struck.*iris.*team member_ struck.*iris.*person_ hit.*eye.*employee_ hit.*eye.*ip_ hit.*eye.*worker_ hit.*eye.*man_ hit.*eye.*woman_ hit.*eye.*he_ hit.*eye.*she_ hit.*eye.*his_ hit.*eye.*her_ hit.*eye.*left_ hit.*eye.*right_ hit.*eye.*operator_ hit.*eye.*operative_ hit.*eye.*technician_ hit.*eye.*scaffolder_ hit.*eye.*team member_ hit.*eye.*person_ hit.*pupil.*employee_ hit.*pupil.*ip_ hit.*pupil.*worker_ hit.*pupil.*man_ hit.*pupil.*woman_ hit.*pupil.*he_ hit.*pupil.*she_ hit.*pupil.*his_ hit.*pupil.*her_ hit.*pupil.*left_ hit.*pupil.*right_ hit.*pupil.*operator_ hit.*pupil.*operative_ hit.*pupil.*technician_ hit.*pupil.*scaffolder_ hit.*pupil.*team member_ hit.*pupil.*person_ hit.*iris.*employee_ hit.*iris.*ip_ hit.*iris.*worker_ hit.*iris.*man_ hit.*iris.*woman_ hit.*iris.*he_ hit.*iris.*she_ hit.*iris.*his_ hit.*iris.*her_ hit.*iris.*left_ hit.*iris.*right_ hit.*iris.*operator_ hit.*iris.*operative_ hit.*iris.*technician_ hit.*iris.*scaffolder_ hit.*iris.*team member_ hit.*iris.*person_ banged.*eye.*employee_ banged.*eye.*ip_ banged.*eye.*worker_ banged.*eye.*man_ banged.*eye.*woman_ banged.*eye.*he_ banged.*eye.*she_ banged.*eye.*his_ banged.*eye.*her_ banged.*eye.*left_ banged.*eye.*right_ banged.*eye.*operator_ banged.*eye.*operative_ banged.*eye.*technician_ banged.*eye.*scaffolder_ banged.*eye.*team member_ banged.*eye.*person_ banged.*pupil.*employee_ banged.*pupil.*ip_ banged.*pupil.*worker_ banged.*pupil.*man_ banged.*pupil.*woman_ banged.*pupil.*he_ banged.*pupil.*she_ banged.*pupil.*his_ banged.*pupil.*her_ banged.*pupil.*left_ banged.*pupil.*right_ banged.*pupil.*operator_ banged.*pupil.*operative_ banged.*pupil.*technician_ banged.*pupil.*scaffolder_ banged.*pupil.*team member_ banged.*pupil.*person_ banged.*iris.*employee_ banged.*iris.*ip_ banged.*iris.*worker_ banged.*iris.*man_ banged.*iris.*woman_ banged.*iris.*he_ banged.*iris.*she_ banged.*iris.*his_ banged.*iris.*her_ banged.*iris.*left_ banged.*iris.*right_ banged.*iris.*operator_ banged.*iris.*operative_ banged.*iris.*technician_ banged.*iris.*scaffolder_ banged.*iris.*team member_ banged.*iris.*person_ dirt.*eye.*employee_ dirt.*eye.*ip_ dirt.*eye.*worker_ dirt.*eye.*man_ dirt.*eye.*woman_ dirt.*eye.*he_ dirt.*eye.*she_ dirt.*eye.*his_ dirt.*eye.*her_ dirt.*eye.*left_ dirt.*eye.*right_ dirt.*eye.*operator_ dirt.*eye.*operative_ dirt.*eye.*technician_ dirt.*eye.*scaffolder_ dirt.*eye.*team member_ dirt.*eye.*person_ dirt.*pupil.*employee_ dirt.*pupil.*ip_ dirt.*pupil.*worker_ dirt.*pupil.*man_ dirt.*pupil.*woman_ dirt.*pupil.*he_ dirt.*pupil.*she_ dirt.*pupil.*his_ dirt.*pupil.*her_ dirt.*pupil.*left_ dirt.*pupil.*right_ dirt.*pupil.*operator_ dirt.*pupil.*operative_ dirt.*pupil.*technician_ dirt.*pupil.*scaffolder_ dirt.*pupil.*team member_ dirt.*pupil.*person_ dirt.*iris.*employee_ dirt.*iris.*ip_ dirt.*iris.*worker_ dirt.*iris.*man_ dirt.*iris.*woman_ dirt.*iris.*he_ dirt.*iris.*she_ dirt.*iris.*his_ dirt.*iris.*her_ dirt.*iris.*left_ dirt.*iris.*right_ dirt.*iris.*operator_ dirt.*iris.*operative_ dirt.*iris.*technician_ dirt.*iris.*scaffolder_ dirt.*iris.*team member_ dirt.*iris.*person_ sprayed.*eye.*employee_ sprayed.*eye.*ip_ sprayed.*eye.*worker_ sprayed.*eye.*man_ sprayed.*eye.*woman_ sprayed.*eye.*he_ sprayed.*eye.*she_ sprayed.*eye.*his_ sprayed.*eye.*her_ sprayed.*eye.*left_ sprayed.*eye.*right_ sprayed.*eye.*operator_ sprayed.*eye.*operative_ sprayed.*eye.*technician_ sprayed.*eye.*scaffolder_ sprayed.*eye.*team member_ sprayed.*eye.*person_ sprayed.*pupil.*employee_ sprayed.*pupil.*ip_ sprayed.*pupil.*worker_ sprayed.*pupil.*man_ sprayed.*pupil.*woman_ sprayed.*pupil.*he_ sprayed.*pupil.*she_ sprayed.*pupil.*his_ sprayed.*pupil.*her_ sprayed.*pupil.*left_ sprayed.*pupil.*right_ sprayed.*pupil.*operator_ sprayed.*pupil.*operative_ sprayed.*pupil.*technician_ sprayed.*pupil.*scaffolder_ sprayed.*pupil.*team member_ sprayed.*pupil.*person_ sprayed.*iris.*employee_ sprayed.*iris.*ip_ sprayed.*iris.*worker_ sprayed.*iris.*man_ sprayed.*iris.*woman_ sprayed.*iris.*he_ sprayed.*iris.*she_ sprayed.*iris.*his_ sprayed.*iris.*her_ sprayed.*iris.*left_ sprayed.*iris.*right_ sprayed.*iris.*operator_ sprayed.*iris.*operative_ sprayed.*iris.*technician_ sprayed.*iris.*scaffolder_ sprayed.*iris.*team member_ sprayed.*iris.*person_ swell.*eye.*employee_ swell.*eye.*ip_ swell.*eye.*worker_ swell.*eye.*man_ swell.*eye.*woman_ swell.*eye.*he_ swell.*eye.*she_ swell.*eye.*his_ swell.*eye.*her_ swell.*eye.*left_ swell.*eye.*right_ swell.*eye.*operator_ swell.*eye.*operative_ swell.*eye.*technician_ swell.*eye.*scaffolder_ swell.*eye.*team member_ swell.*eye.*person_ swell.*pupil.*employee_ swell.*pupil.*ip_ swell.*pupil.*worker_ swell.*pupil.*man_ swell.*pupil.*woman_ swell.*pupil.*he_ swell.*pupil.*she_ swell.*pupil.*his_ swell.*pupil.*her_ swell.*pupil.*left_ swell.*pupil.*right_ swell.*pupil.*operator_ swell.*pupil.*operative_ swell.*pupil.*technician_ swell.*pupil.*scaffolder_ swell.*pupil.*team member_ swell.*pupil.*person_ swell.*iris.*employee_ swell.*iris.*ip_ swell.*iris.*worker_ swell.*iris.*man_ swell.*iris.*woman_ swell.*iris.*he_ swell.*iris.*she_ swell.*iris.*his_ swell.*iris.*her_ swell.*iris.*left_ swell.*iris.*right_ swell.*iris.*operator_ swell.*iris.*operative_ swell.*iris.*technician_ swell.*iris.*scaffolder_ swell.*iris.*team member_ swell.*iris.*person_ swelling.*eye.*employee_ swelling.*eye.*ip_ swelling.*eye.*worker_ swelling.*eye.*man_ swelling.*eye.*woman_ swelling.*eye.*he_ swelling.*eye.*she_ swelling.*eye.*his_ swelling.*eye.*her_ swelling.*eye.*left_ swelling.*eye.*right_ swelling.*eye.*operator_ swelling.*eye.*operative_ swelling.*eye.*technician_ swelling.*eye.*scaffolder_ swelling.*eye.*team member_ swelling.*eye.*person_ swelling.*pupil.*employee_ swelling.*pupil.*ip_ swelling.*pupil.*worker_ swelling.*pupil.*man_ swelling.*pupil.*woman_ swelling.*pupil.*he_ swelling.*pupil.*she_ swelling.*pupil.*his_ swelling.*pupil.*her_ swelling.*pupil.*left_ swelling.*pupil.*right_ swelling.*pupil.*operator_ swelling.*pupil.*operative_ swelling.*pupil.*technician_ swelling.*pupil.*scaffolder_ swelling.*pupil.*team member_ swelling.*pupil.*person_ swelling.*iris.*employee_ swelling.*iris.*ip_ swelling.*iris.*worker_ swelling.*iris.*man_ swelling.*iris.*woman_ swelling.*iris.*he_ swelling.*iris.*she_ swelling.*iris.*his_ swelling.*iris.*her_ swelling.*iris.*left_ swelling.*iris.*right_ swelling.*iris.*operator_ swelling.*iris.*operative_ swelling.*iris.*technician_ swelling.*iris.*scaffolder_ swelling.*iris.*team member_ swelling.*iris.*person_ swollen.*eye.*employee_ swollen.*eye.*ip_ swollen.*eye.*worker_ swollen.*eye.*man_ swollen.*eye.*woman_ swollen.*eye.*he_ swollen.*eye.*she_ swollen.*eye.*his_ swollen.*eye.*her_ swollen.*eye.*left_ swollen.*eye.*right_ swollen.*eye.*operator_ swollen.*eye.*operative_ swollen.*eye.*technician_ swollen.*eye.*scaffolder_ swollen.*eye.*team member_ swollen.*eye.*person_ swollen.*pupil.*employee_ swollen.*pupil.*ip_ swollen.*pupil.*worker_ swollen.*pupil.*man_ swollen.*pupil.*woman_ swollen.*pupil.*he_ swollen.*pupil.*she_ swollen.*pupil.*his_ swollen.*pupil.*her_ swollen.*pupil.*left_ swollen.*pupil.*right_ swollen.*pupil.*operator_ swollen.*pupil.*operative_ swollen.*pupil.*technician_ swollen.*pupil.*scaffolder_ swollen.*pupil.*team member_ swollen.*pupil.*person_ swollen.*iris.*employee_ swollen.*iris.*ip_ swollen.*iris.*worker_ swollen.*iris.*man_ swollen.*iris.*woman_ swollen.*iris.*he_ swollen.*iris.*she_ swollen.*iris.*his_ swollen.*iris.*her_ swollen.*iris.*left_ swollen.*iris.*right_ swollen.*iris.*operator_ swollen.*iris.*operative_ swollen.*iris.*technician_ swollen.*iris.*scaffolder_ swollen.*iris.*team member_ swollen.*iris.*person\n"
     ]
    }
   ],
   "source": [
    "scan_rules = rules.rules_all[0].split('_ ')\n",
    "out_rules = []\n",
    "\n",
    "for rule in scan_rules:\n",
    "    syns = re.findall(\"{[a-zA-Z'-]*}\", rule)\n",
    "    syn_count = len(syns)\n",
    "    if syn_count == 1:\n",
    "        syn_rules = mutate_syn(syns, syns_db, rule, 1)\n",
    "        out_rules.append(syn_rules)\n",
    "    elif syn_count == 2:\n",
    "        syn_rules = mutate_syn(syns, syns_db, rule, 2)\n",
    "        out_rules.append(syn_rules)\n",
    "    elif syn_count == 3:\n",
    "        syn_rules = mutate_syn(syns, syns_db, rule, 3)\n",
    "        out_rules.append(syn_rules)\n",
    "    else:       \n",
    "        out_rules.append(rule)\n",
    "out_rules = '_ '.join(out_rules)\n",
    "print(out_rules)"
   ]
  },
  {
   "cell_type": "code",
   "execution_count": 353,
   "id": "238b4fe3",
   "metadata": {},
   "outputs": [],
   "source": [
    "def translate_to_regex(rule_part, syns_db):\n",
    "    \"\"\"\n",
    "    converts rule_book rules to regex format;\n",
    "    drops trailing separators in process\n",
    "    \"\"\"\n",
    "    if isinstance(rule_part, str): # If rule part is a string...\n",
    "        \n",
    "        split_rule = rule_part.split('_ ')\n",
    "        out_rule = []\n",
    "\n",
    "        for rule in split_rule:\n",
    "            syns = re.findall(\"{[a-zA-Z'-]*}\", rule)\n",
    "            syn_count = len(syns)\n",
    "            if syn_count == 1:\n",
    "                syn_rules = mutate_syn(syns, syns_db, rule, 1)\n",
    "                out_rule.append(syn_rules)\n",
    "            elif syn_count == 2:\n",
    "                syn_rules = mutate_syn(syns, syns_db, rule, 2)\n",
    "                out_rule.append(syn_rules)\n",
    "            elif syn_count == 3:\n",
    "                syn_rules = mutate_syn(syns, syns_db, rule, 3)\n",
    "                out_rule.append(syn_rules)\n",
    "            else:       \n",
    "                out_rule.append(rule)\n",
    "        out_rule = '_ '.join(out_rule)\n",
    "        \n",
    "        rule_part = re.sub(r\"\\s{2,}\", \" \", out_rule)\n",
    "        rule_part = re.sub(r'\\\\\\\\b', r'\\\\b', rule_part)\n",
    "        \n",
    "        return r'(\\b' + r'\\b)|(\\b'.join([s for s in rule_part.split('_ ') if s]) + r'\\b)'\n",
    "    else:\n",
    "        return '' "
   ]
  },
  {
   "cell_type": "code",
   "execution_count": 356,
   "id": "0a3a2753",
   "metadata": {},
   "outputs": [
    {
     "data": {
      "text/plain": [
       "'(\\\\bfp.*eye.*employee\\\\b)|(\\\\bfp.*eye.*ip\\\\b)|(\\\\bfp.*eye.*worker\\\\b)|(\\\\bfp.*eye.*man\\\\b)|(\\\\bfp.*eye.*woman\\\\b)|(\\\\bfp.*eye.*he\\\\b)|(\\\\bfp.*eye.*she\\\\b)|(\\\\bfp.*eye.*his\\\\b)|(\\\\bfp.*eye.*her\\\\b)|(\\\\bfp.*eye.*left\\\\b)|(\\\\bfp.*eye.*right\\\\b)|(\\\\bfp.*eye.*operator\\\\b)|(\\\\bfp.*eye.*operative\\\\b)|(\\\\bfp.*eye.*technician\\\\b)|(\\\\bfp.*eye.*scaffolder\\\\b)|(\\\\bfp.*eye.*team member\\\\b)|(\\\\bfp.*eye.*person\\\\b)|(\\\\bspanner in eye\\\\b)|(\\\\bspanner in pupil\\\\b)|(\\\\bspanner in iris\\\\b)|(\\\\bpain.*eye.*employee\\\\b)|(\\\\bpain.*eye.*ip\\\\b)|(\\\\bpain.*eye.*worker\\\\b)|(\\\\bpain.*eye.*man\\\\b)|(\\\\bpain.*eye.*woman\\\\b)|(\\\\bpain.*eye.*he\\\\b)|(\\\\bpain.*eye.*she\\\\b)|(\\\\bpain.*eye.*his\\\\b)|(\\\\bpain.*eye.*her\\\\b)|(\\\\bpain.*eye.*left\\\\b)|(\\\\bpain.*eye.*right\\\\b)|(\\\\bpain.*eye.*operator\\\\b)|(\\\\bpain.*eye.*operative\\\\b)|(\\\\bpain.*eye.*technician\\\\b)|(\\\\bpain.*eye.*scaffolder\\\\b)|(\\\\bpain.*eye.*team member\\\\b)|(\\\\bpain.*eye.*person\\\\b)|(\\\\bpain.*pupil.*employee\\\\b)|(\\\\bpain.*pupil.*ip\\\\b)|(\\\\bpain.*pupil.*worker\\\\b)|(\\\\bpain.*pupil.*man\\\\b)|(\\\\bpain.*pupil.*woman\\\\b)|(\\\\bpain.*pupil.*he\\\\b)|(\\\\bpain.*pupil.*she\\\\b)|(\\\\bpain.*pupil.*his\\\\b)|(\\\\bpain.*pupil.*her\\\\b)|(\\\\bpain.*pupil.*left\\\\b)|(\\\\bpain.*pupil.*right\\\\b)|(\\\\bpain.*pupil.*operator\\\\b)|(\\\\bpain.*pupil.*operative\\\\b)|(\\\\bpain.*pupil.*technician\\\\b)|(\\\\bpain.*pupil.*scaffolder\\\\b)|(\\\\bpain.*pupil.*team member\\\\b)|(\\\\bpain.*pupil.*person\\\\b)|(\\\\bpain.*iris.*employee\\\\b)|(\\\\bpain.*iris.*ip\\\\b)|(\\\\bpain.*iris.*worker\\\\b)|(\\\\bpain.*iris.*man\\\\b)|(\\\\bpain.*iris.*woman\\\\b)|(\\\\bpain.*iris.*he\\\\b)|(\\\\bpain.*iris.*she\\\\b)|(\\\\bpain.*iris.*his\\\\b)|(\\\\bpain.*iris.*her\\\\b)|(\\\\bpain.*iris.*left\\\\b)|(\\\\bpain.*iris.*right\\\\b)|(\\\\bpain.*iris.*operator\\\\b)|(\\\\bpain.*iris.*operative\\\\b)|(\\\\bpain.*iris.*technician\\\\b)|(\\\\bpain.*iris.*scaffolder\\\\b)|(\\\\bpain.*iris.*team member\\\\b)|(\\\\bpain.*iris.*person\\\\b)|(\\\\bdiscomfort.*eye.*employee\\\\b)|(\\\\bdiscomfort.*eye.*ip\\\\b)|(\\\\bdiscomfort.*eye.*worker\\\\b)|(\\\\bdiscomfort.*eye.*man\\\\b)|(\\\\bdiscomfort.*eye.*woman\\\\b)|(\\\\bdiscomfort.*eye.*he\\\\b)|(\\\\bdiscomfort.*eye.*she\\\\b)|(\\\\bdiscomfort.*eye.*his\\\\b)|(\\\\bdiscomfort.*eye.*her\\\\b)|(\\\\bdiscomfort.*eye.*left\\\\b)|(\\\\bdiscomfort.*eye.*right\\\\b)|(\\\\bdiscomfort.*eye.*operator\\\\b)|(\\\\bdiscomfort.*eye.*operative\\\\b)|(\\\\bdiscomfort.*eye.*technician\\\\b)|(\\\\bdiscomfort.*eye.*scaffolder\\\\b)|(\\\\bdiscomfort.*eye.*team member\\\\b)|(\\\\bdiscomfort.*eye.*person\\\\b)|(\\\\bdiscomfort.*pupil.*employee\\\\b)|(\\\\bdiscomfort.*pupil.*ip\\\\b)|(\\\\bdiscomfort.*pupil.*worker\\\\b)|(\\\\bdiscomfort.*pupil.*man\\\\b)|(\\\\bdiscomfort.*pupil.*woman\\\\b)|(\\\\bdiscomfort.*pupil.*he\\\\b)|(\\\\bdiscomfort.*pupil.*she\\\\b)|(\\\\bdiscomfort.*pupil.*his\\\\b)|(\\\\bdiscomfort.*pupil.*her\\\\b)|(\\\\bdiscomfort.*pupil.*left\\\\b)|(\\\\bdiscomfort.*pupil.*right\\\\b)|(\\\\bdiscomfort.*pupil.*operator\\\\b)|(\\\\bdiscomfort.*pupil.*operative\\\\b)|(\\\\bdiscomfort.*pupil.*technician\\\\b)|(\\\\bdiscomfort.*pupil.*scaffolder\\\\b)|(\\\\bdiscomfort.*pupil.*team member\\\\b)|(\\\\bdiscomfort.*pupil.*person\\\\b)|(\\\\bdiscomfort.*iris.*employee\\\\b)|(\\\\bdiscomfort.*iris.*ip\\\\b)|(\\\\bdiscomfort.*iris.*worker\\\\b)|(\\\\bdiscomfort.*iris.*man\\\\b)|(\\\\bdiscomfort.*iris.*woman\\\\b)|(\\\\bdiscomfort.*iris.*he\\\\b)|(\\\\bdiscomfort.*iris.*she\\\\b)|(\\\\bdiscomfort.*iris.*his\\\\b)|(\\\\bdiscomfort.*iris.*her\\\\b)|(\\\\bdiscomfort.*iris.*left\\\\b)|(\\\\bdiscomfort.*iris.*right\\\\b)|(\\\\bdiscomfort.*iris.*operator\\\\b)|(\\\\bdiscomfort.*iris.*operative\\\\b)|(\\\\bdiscomfort.*iris.*technician\\\\b)|(\\\\bdiscomfort.*iris.*scaffolder\\\\b)|(\\\\bdiscomfort.*iris.*team member\\\\b)|(\\\\bdiscomfort.*iris.*person\\\\b)|(\\\\bsoreness.*eye.*employee\\\\b)|(\\\\bsoreness.*eye.*ip\\\\b)|(\\\\bsoreness.*eye.*worker\\\\b)|(\\\\bsoreness.*eye.*man\\\\b)|(\\\\bsoreness.*eye.*woman\\\\b)|(\\\\bsoreness.*eye.*he\\\\b)|(\\\\bsoreness.*eye.*she\\\\b)|(\\\\bsoreness.*eye.*his\\\\b)|(\\\\bsoreness.*eye.*her\\\\b)|(\\\\bsoreness.*eye.*left\\\\b)|(\\\\bsoreness.*eye.*right\\\\b)|(\\\\bsoreness.*eye.*operator\\\\b)|(\\\\bsoreness.*eye.*operative\\\\b)|(\\\\bsoreness.*eye.*technician\\\\b)|(\\\\bsoreness.*eye.*scaffolder\\\\b)|(\\\\bsoreness.*eye.*team member\\\\b)|(\\\\bsoreness.*eye.*person\\\\b)|(\\\\bsoreness.*pupil.*employee\\\\b)|(\\\\bsoreness.*pupil.*ip\\\\b)|(\\\\bsoreness.*pupil.*worker\\\\b)|(\\\\bsoreness.*pupil.*man\\\\b)|(\\\\bsoreness.*pupil.*woman\\\\b)|(\\\\bsoreness.*pupil.*he\\\\b)|(\\\\bsoreness.*pupil.*she\\\\b)|(\\\\bsoreness.*pupil.*his\\\\b)|(\\\\bsoreness.*pupil.*her\\\\b)|(\\\\bsoreness.*pupil.*left\\\\b)|(\\\\bsoreness.*pupil.*right\\\\b)|(\\\\bsoreness.*pupil.*operator\\\\b)|(\\\\bsoreness.*pupil.*operative\\\\b)|(\\\\bsoreness.*pupil.*technician\\\\b)|(\\\\bsoreness.*pupil.*scaffolder\\\\b)|(\\\\bsoreness.*pupil.*team member\\\\b)|(\\\\bsoreness.*pupil.*person\\\\b)|(\\\\bsoreness.*iris.*employee\\\\b)|(\\\\bsoreness.*iris.*ip\\\\b)|(\\\\bsoreness.*iris.*worker\\\\b)|(\\\\bsoreness.*iris.*man\\\\b)|(\\\\bsoreness.*iris.*woman\\\\b)|(\\\\bsoreness.*iris.*he\\\\b)|(\\\\bsoreness.*iris.*she\\\\b)|(\\\\bsoreness.*iris.*his\\\\b)|(\\\\bsoreness.*iris.*her\\\\b)|(\\\\bsoreness.*iris.*left\\\\b)|(\\\\bsoreness.*iris.*right\\\\b)|(\\\\bsoreness.*iris.*operator\\\\b)|(\\\\bsoreness.*iris.*operative\\\\b)|(\\\\bsoreness.*iris.*technician\\\\b)|(\\\\bsoreness.*iris.*scaffolder\\\\b)|(\\\\bsoreness.*iris.*team member\\\\b)|(\\\\bsoreness.*iris.*person\\\\b)|(\\\\bhurt.*eye.*employee\\\\b)|(\\\\bhurt.*eye.*ip\\\\b)|(\\\\bhurt.*eye.*worker\\\\b)|(\\\\bhurt.*eye.*man\\\\b)|(\\\\bhurt.*eye.*woman\\\\b)|(\\\\bhurt.*eye.*he\\\\b)|(\\\\bhurt.*eye.*she\\\\b)|(\\\\bhurt.*eye.*his\\\\b)|(\\\\bhurt.*eye.*her\\\\b)|(\\\\bhurt.*eye.*left\\\\b)|(\\\\bhurt.*eye.*right\\\\b)|(\\\\bhurt.*eye.*operator\\\\b)|(\\\\bhurt.*eye.*operative\\\\b)|(\\\\bhurt.*eye.*technician\\\\b)|(\\\\bhurt.*eye.*scaffolder\\\\b)|(\\\\bhurt.*eye.*team member\\\\b)|(\\\\bhurt.*eye.*person\\\\b)|(\\\\bhurt.*pupil.*employee\\\\b)|(\\\\bhurt.*pupil.*ip\\\\b)|(\\\\bhurt.*pupil.*worker\\\\b)|(\\\\bhurt.*pupil.*man\\\\b)|(\\\\bhurt.*pupil.*woman\\\\b)|(\\\\bhurt.*pupil.*he\\\\b)|(\\\\bhurt.*pupil.*she\\\\b)|(\\\\bhurt.*pupil.*his\\\\b)|(\\\\bhurt.*pupil.*her\\\\b)|(\\\\bhurt.*pupil.*left\\\\b)|(\\\\bhurt.*pupil.*right\\\\b)|(\\\\bhurt.*pupil.*operator\\\\b)|(\\\\bhurt.*pupil.*operative\\\\b)|(\\\\bhurt.*pupil.*technician\\\\b)|(\\\\bhurt.*pupil.*scaffolder\\\\b)|(\\\\bhurt.*pupil.*team member\\\\b)|(\\\\bhurt.*pupil.*person\\\\b)|(\\\\bhurt.*iris.*employee\\\\b)|(\\\\bhurt.*iris.*ip\\\\b)|(\\\\bhurt.*iris.*worker\\\\b)|(\\\\bhurt.*iris.*man\\\\b)|(\\\\bhurt.*iris.*woman\\\\b)|(\\\\bhurt.*iris.*he\\\\b)|(\\\\bhurt.*iris.*she\\\\b)|(\\\\bhurt.*iris.*his\\\\b)|(\\\\bhurt.*iris.*her\\\\b)|(\\\\bhurt.*iris.*left\\\\b)|(\\\\bhurt.*iris.*right\\\\b)|(\\\\bhurt.*iris.*operator\\\\b)|(\\\\bhurt.*iris.*operative\\\\b)|(\\\\bhurt.*iris.*technician\\\\b)|(\\\\bhurt.*iris.*scaffolder\\\\b)|(\\\\bhurt.*iris.*team member\\\\b)|(\\\\bhurt.*iris.*person\\\\b)|(\\\\bsomething in.*eye.*employee\\\\b)|(\\\\bsomething in.*eye.*ip\\\\b)|(\\\\bsomething in.*eye.*worker\\\\b)|(\\\\bsomething in.*eye.*man\\\\b)|(\\\\bsomething in.*eye.*woman\\\\b)|(\\\\bsomething in.*eye.*he\\\\b)|(\\\\bsomething in.*eye.*she\\\\b)|(\\\\bsomething in.*eye.*his\\\\b)|(\\\\bsomething in.*eye.*her\\\\b)|(\\\\bsomething in.*eye.*left\\\\b)|(\\\\bsomething in.*eye.*right\\\\b)|(\\\\bsomething in.*eye.*operator\\\\b)|(\\\\bsomething in.*eye.*operative\\\\b)|(\\\\bsomething in.*eye.*technician\\\\b)|(\\\\bsomething in.*eye.*scaffolder\\\\b)|(\\\\bsomething in.*eye.*team member\\\\b)|(\\\\bsomething in.*eye.*person\\\\b)|(\\\\bsomething in.*pupil.*employee\\\\b)|(\\\\bsomething in.*pupil.*ip\\\\b)|(\\\\bsomething in.*pupil.*worker\\\\b)|(\\\\bsomething in.*pupil.*man\\\\b)|(\\\\bsomething in.*pupil.*woman\\\\b)|(\\\\bsomething in.*pupil.*he\\\\b)|(\\\\bsomething in.*pupil.*she\\\\b)|(\\\\bsomething in.*pupil.*his\\\\b)|(\\\\bsomething in.*pupil.*her\\\\b)|(\\\\bsomething in.*pupil.*left\\\\b)|(\\\\bsomething in.*pupil.*right\\\\b)|(\\\\bsomething in.*pupil.*operator\\\\b)|(\\\\bsomething in.*pupil.*operative\\\\b)|(\\\\bsomething in.*pupil.*technician\\\\b)|(\\\\bsomething in.*pupil.*scaffolder\\\\b)|(\\\\bsomething in.*pupil.*team member\\\\b)|(\\\\bsomething in.*pupil.*person\\\\b)|(\\\\bsomething in.*iris.*employee\\\\b)|(\\\\bsomething in.*iris.*ip\\\\b)|(\\\\bsomething in.*iris.*worker\\\\b)|(\\\\bsomething in.*iris.*man\\\\b)|(\\\\bsomething in.*iris.*woman\\\\b)|(\\\\bsomething in.*iris.*he\\\\b)|(\\\\bsomething in.*iris.*she\\\\b)|(\\\\bsomething in.*iris.*his\\\\b)|(\\\\bsomething in.*iris.*her\\\\b)|(\\\\bsomething in.*iris.*left\\\\b)|(\\\\bsomething in.*iris.*right\\\\b)|(\\\\bsomething in.*iris.*operator\\\\b)|(\\\\bsomething in.*iris.*operative\\\\b)|(\\\\bsomething in.*iris.*technician\\\\b)|(\\\\bsomething in.*iris.*scaffolder\\\\b)|(\\\\bsomething in.*iris.*team member\\\\b)|(\\\\bsomething in.*iris.*person\\\\b)|(\\\\bgrit.*eye.*employee\\\\b)|(\\\\bgrit.*eye.*ip\\\\b)|(\\\\bgrit.*eye.*worker\\\\b)|(\\\\bgrit.*eye.*man\\\\b)|(\\\\bgrit.*eye.*woman\\\\b)|(\\\\bgrit.*eye.*he\\\\b)|(\\\\bgrit.*eye.*she\\\\b)|(\\\\bgrit.*eye.*his\\\\b)|(\\\\bgrit.*eye.*her\\\\b)|(\\\\bgrit.*eye.*left\\\\b)|(\\\\bgrit.*eye.*right\\\\b)|(\\\\bgrit.*eye.*operator\\\\b)|(\\\\bgrit.*eye.*operative\\\\b)|(\\\\bgrit.*eye.*technician\\\\b)|(\\\\bgrit.*eye.*scaffolder\\\\b)|(\\\\bgrit.*eye.*team member\\\\b)|(\\\\bgrit.*eye.*person\\\\b)|(\\\\bgrit.*pupil.*employee\\\\b)|(\\\\bgrit.*pupil.*ip\\\\b)|(\\\\bgrit.*pupil.*worker\\\\b)|(\\\\bgrit.*pupil.*man\\\\b)|(\\\\bgrit.*pupil.*woman\\\\b)|(\\\\bgrit.*pupil.*he\\\\b)|(\\\\bgrit.*pupil.*she\\\\b)|(\\\\bgrit.*pupil.*his\\\\b)|(\\\\bgrit.*pupil.*her\\\\b)|(\\\\bgrit.*pupil.*left\\\\b)|(\\\\bgrit.*pupil.*right\\\\b)|(\\\\bgrit.*pupil.*operator\\\\b)|(\\\\bgrit.*pupil.*operative\\\\b)|(\\\\bgrit.*pupil.*technician\\\\b)|(\\\\bgrit.*pupil.*scaffolder\\\\b)|(\\\\bgrit.*pupil.*team member\\\\b)|(\\\\bgrit.*pupil.*person\\\\b)|(\\\\bgrit.*iris.*employee\\\\b)|(\\\\bgrit.*iris.*ip\\\\b)|(\\\\bgrit.*iris.*worker\\\\b)|(\\\\bgrit.*iris.*man\\\\b)|(\\\\bgrit.*iris.*woman\\\\b)|(\\\\bgrit.*iris.*he\\\\b)|(\\\\bgrit.*iris.*she\\\\b)|(\\\\bgrit.*iris.*his\\\\b)|(\\\\bgrit.*iris.*her\\\\b)|(\\\\bgrit.*iris.*left\\\\b)|(\\\\bgrit.*iris.*right\\\\b)|(\\\\bgrit.*iris.*operator\\\\b)|(\\\\bgrit.*iris.*operative\\\\b)|(\\\\bgrit.*iris.*technician\\\\b)|(\\\\bgrit.*iris.*scaffolder\\\\b)|(\\\\bgrit.*iris.*team member\\\\b)|(\\\\bgrit.*iris.*person\\\\b)|(\\\\bswelling.*eye.*employee\\\\b)|(\\\\bswelling.*eye.*ip\\\\b)|(\\\\bswelling.*eye.*worker\\\\b)|(\\\\bswelling.*eye.*man\\\\b)|(\\\\bswelling.*eye.*woman\\\\b)|(\\\\bswelling.*eye.*he\\\\b)|(\\\\bswelling.*eye.*she\\\\b)|(\\\\bswelling.*eye.*his\\\\b)|(\\\\bswelling.*eye.*her\\\\b)|(\\\\bswelling.*eye.*left\\\\b)|(\\\\bswelling.*eye.*right\\\\b)|(\\\\bswelling.*eye.*operator\\\\b)|(\\\\bswelling.*eye.*operative\\\\b)|(\\\\bswelling.*eye.*technician\\\\b)|(\\\\bswelling.*eye.*scaffolder\\\\b)|(\\\\bswelling.*eye.*team member\\\\b)|(\\\\bswelling.*eye.*person\\\\b)|(\\\\bswelling.*pupil.*employee\\\\b)|(\\\\bswelling.*pupil.*ip\\\\b)|(\\\\bswelling.*pupil.*worker\\\\b)|(\\\\bswelling.*pupil.*man\\\\b)|(\\\\bswelling.*pupil.*woman\\\\b)|(\\\\bswelling.*pupil.*he\\\\b)|(\\\\bswelling.*pupil.*she\\\\b)|(\\\\bswelling.*pupil.*his\\\\b)|(\\\\bswelling.*pupil.*her\\\\b)|(\\\\bswelling.*pupil.*left\\\\b)|(\\\\bswelling.*pupil.*right\\\\b)|(\\\\bswelling.*pupil.*operator\\\\b)|(\\\\bswelling.*pupil.*operative\\\\b)|(\\\\bswelling.*pupil.*technician\\\\b)|(\\\\bswelling.*pupil.*scaffolder\\\\b)|(\\\\bswelling.*pupil.*team member\\\\b)|(\\\\bswelling.*pupil.*person\\\\b)|(\\\\bswelling.*iris.*employee\\\\b)|(\\\\bswelling.*iris.*ip\\\\b)|(\\\\bswelling.*iris.*worker\\\\b)|(\\\\bswelling.*iris.*man\\\\b)|(\\\\bswelling.*iris.*woman\\\\b)|(\\\\bswelling.*iris.*he\\\\b)|(\\\\bswelling.*iris.*she\\\\b)|(\\\\bswelling.*iris.*his\\\\b)|(\\\\bswelling.*iris.*her\\\\b)|(\\\\bswelling.*iris.*left\\\\b)|(\\\\bswelling.*iris.*right\\\\b)|(\\\\bswelling.*iris.*operator\\\\b)|(\\\\bswelling.*iris.*operative\\\\b)|(\\\\bswelling.*iris.*technician\\\\b)|(\\\\bswelling.*iris.*scaffolder\\\\b)|(\\\\bswelling.*iris.*team member\\\\b)|(\\\\bswelling.*iris.*person\\\\b)|(\\\\bswollen.*eye.*employee\\\\b)|(\\\\bswollen.*eye.*ip\\\\b)|(\\\\bswollen.*eye.*worker\\\\b)|(\\\\bswollen.*eye.*man\\\\b)|(\\\\bswollen.*eye.*woman\\\\b)|(\\\\bswollen.*eye.*he\\\\b)|(\\\\bswollen.*eye.*she\\\\b)|(\\\\bswollen.*eye.*his\\\\b)|(\\\\bswollen.*eye.*her\\\\b)|(\\\\bswollen.*eye.*left\\\\b)|(\\\\bswollen.*eye.*right\\\\b)|(\\\\bswollen.*eye.*operator\\\\b)|(\\\\bswollen.*eye.*operative\\\\b)|(\\\\bswollen.*eye.*technician\\\\b)|(\\\\bswollen.*eye.*scaffolder\\\\b)|(\\\\bswollen.*eye.*team member\\\\b)|(\\\\bswollen.*eye.*person\\\\b)|(\\\\bswollen.*pupil.*employee\\\\b)|(\\\\bswollen.*pupil.*ip\\\\b)|(\\\\bswollen.*pupil.*worker\\\\b)|(\\\\bswollen.*pupil.*man\\\\b)|(\\\\bswollen.*pupil.*woman\\\\b)|(\\\\bswollen.*pupil.*he\\\\b)|(\\\\bswollen.*pupil.*she\\\\b)|(\\\\bswollen.*pupil.*his\\\\b)|(\\\\bswollen.*pupil.*her\\\\b)|(\\\\bswollen.*pupil.*left\\\\b)|(\\\\bswollen.*pupil.*right\\\\b)|(\\\\bswollen.*pupil.*operator\\\\b)|(\\\\bswollen.*pupil.*operative\\\\b)|(\\\\bswollen.*pupil.*technician\\\\b)|(\\\\bswollen.*pupil.*scaffolder\\\\b)|(\\\\bswollen.*pupil.*team member\\\\b)|(\\\\bswollen.*pupil.*person\\\\b)|(\\\\bswollen.*iris.*employee\\\\b)|(\\\\bswollen.*iris.*ip\\\\b)|(\\\\bswollen.*iris.*worker\\\\b)|(\\\\bswollen.*iris.*man\\\\b)|(\\\\bswollen.*iris.*woman\\\\b)|(\\\\bswollen.*iris.*he\\\\b)|(\\\\bswollen.*iris.*she\\\\b)|(\\\\bswollen.*iris.*his\\\\b)|(\\\\bswollen.*iris.*her\\\\b)|(\\\\bswollen.*iris.*left\\\\b)|(\\\\bswollen.*iris.*right\\\\b)|(\\\\bswollen.*iris.*operator\\\\b)|(\\\\bswollen.*iris.*operative\\\\b)|(\\\\bswollen.*iris.*technician\\\\b)|(\\\\bswollen.*iris.*scaffolder\\\\b)|(\\\\bswollen.*iris.*team member\\\\b)|(\\\\bswollen.*iris.*person\\\\b)|(\\\\bdust.*eye.*employee\\\\b)|(\\\\bdust.*eye.*ip\\\\b)|(\\\\bdust.*eye.*worker\\\\b)|(\\\\bdust.*eye.*man\\\\b)|(\\\\bdust.*eye.*woman\\\\b)|(\\\\bdust.*eye.*he\\\\b)|(\\\\bdust.*eye.*she\\\\b)|(\\\\bdust.*eye.*his\\\\b)|(\\\\bdust.*eye.*her\\\\b)|(\\\\bdust.*eye.*left\\\\b)|(\\\\bdust.*eye.*right\\\\b)|(\\\\bdust.*eye.*operator\\\\b)|(\\\\bdust.*eye.*operative\\\\b)|(\\\\bdust.*eye.*technician\\\\b)|(\\\\bdust.*eye.*scaffolder\\\\b)|(\\\\bdust.*eye.*team member\\\\b)|(\\\\bdust.*eye.*person\\\\b)|(\\\\bdust.*pupil.*employee\\\\b)|(\\\\bdust.*pupil.*ip\\\\b)|(\\\\bdust.*pupil.*worker\\\\b)|(\\\\bdust.*pupil.*man\\\\b)|(\\\\bdust.*pupil.*woman\\\\b)|(\\\\bdust.*pupil.*he\\\\b)|(\\\\bdust.*pupil.*she\\\\b)|(\\\\bdust.*pupil.*his\\\\b)|(\\\\bdust.*pupil.*her\\\\b)|(\\\\bdust.*pupil.*left\\\\b)|(\\\\bdust.*pupil.*right\\\\b)|(\\\\bdust.*pupil.*operator\\\\b)|(\\\\bdust.*pupil.*operative\\\\b)|(\\\\bdust.*pupil.*technician\\\\b)|(\\\\bdust.*pupil.*scaffolder\\\\b)|(\\\\bdust.*pupil.*team member\\\\b)|(\\\\bdust.*pupil.*person\\\\b)|(\\\\bdust.*iris.*employee\\\\b)|(\\\\bdust.*iris.*ip\\\\b)|(\\\\bdust.*iris.*worker\\\\b)|(\\\\bdust.*iris.*man\\\\b)|(\\\\bdust.*iris.*woman\\\\b)|(\\\\bdust.*iris.*he\\\\b)|(\\\\bdust.*iris.*she\\\\b)|(\\\\bdust.*iris.*his\\\\b)|(\\\\bdust.*iris.*her\\\\b)|(\\\\bdust.*iris.*left\\\\b)|(\\\\bdust.*iris.*right\\\\b)|(\\\\bdust.*iris.*operator\\\\b)|(\\\\bdust.*iris.*operative\\\\b)|(\\\\bdust.*iris.*technician\\\\b)|(\\\\bdust.*iris.*scaffolder\\\\b)|(\\\\bdust.*iris.*team member\\\\b)|(\\\\bdust.*iris.*person\\\\b)|(\\\\bparticle.*eye.*employee\\\\b)|(\\\\bparticle.*eye.*ip\\\\b)|(\\\\bparticle.*eye.*worker\\\\b)|(\\\\bparticle.*eye.*man\\\\b)|(\\\\bparticle.*eye.*woman\\\\b)|(\\\\bparticle.*eye.*he\\\\b)|(\\\\bparticle.*eye.*she\\\\b)|(\\\\bparticle.*eye.*his\\\\b)|(\\\\bparticle.*eye.*her\\\\b)|(\\\\bparticle.*eye.*left\\\\b)|(\\\\bparticle.*eye.*right\\\\b)|(\\\\bparticle.*eye.*operator\\\\b)|(\\\\bparticle.*eye.*operative\\\\b)|(\\\\bparticle.*eye.*technician\\\\b)|(\\\\bparticle.*eye.*scaffolder\\\\b)|(\\\\bparticle.*eye.*team member\\\\b)|(\\\\bparticle.*eye.*person\\\\b)|(\\\\bparticle.*pupil.*employee\\\\b)|(\\\\bparticle.*pupil.*ip\\\\b)|(\\\\bparticle.*pupil.*worker\\\\b)|(\\\\bparticle.*pupil.*man\\\\b)|(\\\\bparticle.*pupil.*woman\\\\b)|(\\\\bparticle.*pupil.*he\\\\b)|(\\\\bparticle.*pupil.*she\\\\b)|(\\\\bparticle.*pupil.*his\\\\b)|(\\\\bparticle.*pupil.*her\\\\b)|(\\\\bparticle.*pupil.*left\\\\b)|(\\\\bparticle.*pupil.*right\\\\b)|(\\\\bparticle.*pupil.*operator\\\\b)|(\\\\bparticle.*pupil.*operative\\\\b)|(\\\\bparticle.*pupil.*technician\\\\b)|(\\\\bparticle.*pupil.*scaffolder\\\\b)|(\\\\bparticle.*pupil.*team member\\\\b)|(\\\\bparticle.*pupil.*person\\\\b)|(\\\\bparticle.*iris.*employee\\\\b)|(\\\\bparticle.*iris.*ip\\\\b)|(\\\\bparticle.*iris.*worker\\\\b)|(\\\\bparticle.*iris.*man\\\\b)|(\\\\bparticle.*iris.*woman\\\\b)|(\\\\bparticle.*iris.*he\\\\b)|(\\\\bparticle.*iris.*she\\\\b)|(\\\\bparticle.*iris.*his\\\\b)|(\\\\bparticle.*iris.*her\\\\b)|(\\\\bparticle.*iris.*left\\\\b)|(\\\\bparticle.*iris.*right\\\\b)|(\\\\bparticle.*iris.*operator\\\\b)|(\\\\bparticle.*iris.*operative\\\\b)|(\\\\bparticle.*iris.*technician\\\\b)|(\\\\bparticle.*iris.*scaffolder\\\\b)|(\\\\bparticle.*iris.*team member\\\\b)|(\\\\bparticle.*iris.*person\\\\b)|(\\\\birritation.*eye.*employee\\\\b)|(\\\\birritation.*eye.*ip\\\\b)|(\\\\birritation.*eye.*worker\\\\b)|(\\\\birritation.*eye.*man\\\\b)|(\\\\birritation.*eye.*woman\\\\b)|(\\\\birritation.*eye.*he\\\\b)|(\\\\birritation.*eye.*she\\\\b)|(\\\\birritation.*eye.*his\\\\b)|(\\\\birritation.*eye.*her\\\\b)|(\\\\birritation.*eye.*left\\\\b)|(\\\\birritation.*eye.*right\\\\b)|(\\\\birritation.*eye.*operator\\\\b)|(\\\\birritation.*eye.*operative\\\\b)|(\\\\birritation.*eye.*technician\\\\b)|(\\\\birritation.*eye.*scaffolder\\\\b)|(\\\\birritation.*eye.*team member\\\\b)|(\\\\birritation.*eye.*person\\\\b)|(\\\\birritation.*pupil.*employee\\\\b)|(\\\\birritation.*pupil.*ip\\\\b)|(\\\\birritation.*pupil.*worker\\\\b)|(\\\\birritation.*pupil.*man\\\\b)|(\\\\birritation.*pupil.*woman\\\\b)|(\\\\birritation.*pupil.*he\\\\b)|(\\\\birritation.*pupil.*she\\\\b)|(\\\\birritation.*pupil.*his\\\\b)|(\\\\birritation.*pupil.*her\\\\b)|(\\\\birritation.*pupil.*left\\\\b)|(\\\\birritation.*pupil.*right\\\\b)|(\\\\birritation.*pupil.*operator\\\\b)|(\\\\birritation.*pupil.*operative\\\\b)|(\\\\birritation.*pupil.*technician\\\\b)|(\\\\birritation.*pupil.*scaffolder\\\\b)|(\\\\birritation.*pupil.*team member\\\\b)|(\\\\birritation.*pupil.*person\\\\b)|(\\\\birritation.*iris.*employee\\\\b)|(\\\\birritation.*iris.*ip\\\\b)|(\\\\birritation.*iris.*worker\\\\b)|(\\\\birritation.*iris.*man\\\\b)|(\\\\birritation.*iris.*woman\\\\b)|(\\\\birritation.*iris.*he\\\\b)|(\\\\birritation.*iris.*she\\\\b)|(\\\\birritation.*iris.*his\\\\b)|(\\\\birritation.*iris.*her\\\\b)|(\\\\birritation.*iris.*left\\\\b)|(\\\\birritation.*iris.*right\\\\b)|(\\\\birritation.*iris.*operator\\\\b)|(\\\\birritation.*iris.*operative\\\\b)|(\\\\birritation.*iris.*technician\\\\b)|(\\\\birritation.*iris.*scaffolder\\\\b)|(\\\\birritation.*iris.*team member\\\\b)|(\\\\birritation.*iris.*person\\\\b)|(\\\\bforeign.*eye.*employee\\\\b)|(\\\\bforeign.*eye.*ip\\\\b)|(\\\\bforeign.*eye.*worker\\\\b)|(\\\\bforeign.*eye.*man\\\\b)|(\\\\bforeign.*eye.*woman\\\\b)|(\\\\bforeign.*eye.*he\\\\b)|(\\\\bforeign.*eye.*she\\\\b)|(\\\\bforeign.*eye.*his\\\\b)|(\\\\bforeign.*eye.*her\\\\b)|(\\\\bforeign.*eye.*left\\\\b)|(\\\\bforeign.*eye.*right\\\\b)|(\\\\bforeign.*eye.*operator\\\\b)|(\\\\bforeign.*eye.*operative\\\\b)|(\\\\bforeign.*eye.*technician\\\\b)|(\\\\bforeign.*eye.*scaffolder\\\\b)|(\\\\bforeign.*eye.*team member\\\\b)|(\\\\bforeign.*eye.*person\\\\b)|(\\\\bforeign.*pupil.*employee\\\\b)|(\\\\bforeign.*pupil.*ip\\\\b)|(\\\\bforeign.*pupil.*worker\\\\b)|(\\\\bforeign.*pupil.*man\\\\b)|(\\\\bforeign.*pupil.*woman\\\\b)|(\\\\bforeign.*pupil.*he\\\\b)|(\\\\bforeign.*pupil.*she\\\\b)|(\\\\bforeign.*pupil.*his\\\\b)|(\\\\bforeign.*pupil.*her\\\\b)|(\\\\bforeign.*pupil.*left\\\\b)|(\\\\bforeign.*pupil.*right\\\\b)|(\\\\bforeign.*pupil.*operator\\\\b)|(\\\\bforeign.*pupil.*operative\\\\b)|(\\\\bforeign.*pupil.*technician\\\\b)|(\\\\bforeign.*pupil.*scaffolder\\\\b)|(\\\\bforeign.*pupil.*team member\\\\b)|(\\\\bforeign.*pupil.*person\\\\b)|(\\\\bforeign.*iris.*employee\\\\b)|(\\\\bforeign.*iris.*ip\\\\b)|(\\\\bforeign.*iris.*worker\\\\b)|(\\\\bforeign.*iris.*man\\\\b)|(\\\\bforeign.*iris.*woman\\\\b)|(\\\\bforeign.*iris.*he\\\\b)|(\\\\bforeign.*iris.*she\\\\b)|(\\\\bforeign.*iris.*his\\\\b)|(\\\\bforeign.*iris.*her\\\\b)|(\\\\bforeign.*iris.*left\\\\b)|(\\\\bforeign.*iris.*right\\\\b)|(\\\\bforeign.*iris.*operator\\\\b)|(\\\\bforeign.*iris.*operative\\\\b)|(\\\\bforeign.*iris.*technician\\\\b)|(\\\\bforeign.*iris.*scaffolder\\\\b)|(\\\\bforeign.*iris.*team member\\\\b)|(\\\\bforeign.*iris.*person\\\\b)|(\\\\bfb.*eye.*employee\\\\b)|(\\\\bfb.*eye.*ip\\\\b)|(\\\\bfb.*eye.*worker\\\\b)|(\\\\bfb.*eye.*man\\\\b)|(\\\\bfb.*eye.*woman\\\\b)|(\\\\bfb.*eye.*he\\\\b)|(\\\\bfb.*eye.*she\\\\b)|(\\\\bfb.*eye.*his\\\\b)|(\\\\bfb.*eye.*her\\\\b)|(\\\\bfb.*eye.*left\\\\b)|(\\\\bfb.*eye.*right\\\\b)|(\\\\bfb.*eye.*operator\\\\b)|(\\\\bfb.*eye.*operative\\\\b)|(\\\\bfb.*eye.*technician\\\\b)|(\\\\bfb.*eye.*scaffolder\\\\b)|(\\\\bfb.*eye.*team member\\\\b)|(\\\\bfb.*eye.*person\\\\b)|(\\\\bfb.*pupil.*employee\\\\b)|(\\\\bfb.*pupil.*ip\\\\b)|(\\\\bfb.*pupil.*worker\\\\b)|(\\\\bfb.*pupil.*man\\\\b)|(\\\\bfb.*pupil.*woman\\\\b)|(\\\\bfb.*pupil.*he\\\\b)|(\\\\bfb.*pupil.*she\\\\b)|(\\\\bfb.*pupil.*his\\\\b)|(\\\\bfb.*pupil.*her\\\\b)|(\\\\bfb.*pupil.*left\\\\b)|(\\\\bfb.*pupil.*right\\\\b)|(\\\\bfb.*pupil.*operator\\\\b)|(\\\\bfb.*pupil.*operative\\\\b)|(\\\\bfb.*pupil.*technician\\\\b)|(\\\\bfb.*pupil.*scaffolder\\\\b)|(\\\\bfb.*pupil.*team member\\\\b)|(\\\\bfb.*pupil.*person\\\\b)|(\\\\bfb.*iris.*employee\\\\b)|(\\\\bfb.*iris.*ip\\\\b)|(\\\\bfb.*iris.*worker\\\\b)|(\\\\bfb.*iris.*man\\\\b)|(\\\\bfb.*iris.*woman\\\\b)|(\\\\bfb.*iris.*he\\\\b)|(\\\\bfb.*iris.*she\\\\b)|(\\\\bfb.*iris.*his\\\\b)|(\\\\bfb.*iris.*her\\\\b)|(\\\\bfb.*iris.*left\\\\b)|(\\\\bfb.*iris.*right\\\\b)|(\\\\bfb.*iris.*operator\\\\b)|(\\\\bfb.*iris.*operative\\\\b)|(\\\\bfb.*iris.*technician\\\\b)|(\\\\bfb.*iris.*scaffolder\\\\b)|(\\\\bfb.*iris.*team member\\\\b)|(\\\\bfb.*iris.*person\\\\b)|(\\\\bdebris.*eye.*employee\\\\b)|(\\\\bdebris.*eye.*ip\\\\b)|(\\\\bdebris.*eye.*worker\\\\b)|(\\\\bdebris.*eye.*man\\\\b)|(\\\\bdebris.*eye.*woman\\\\b)|(\\\\bdebris.*eye.*he\\\\b)|(\\\\bdebris.*eye.*she\\\\b)|(\\\\bdebris.*eye.*his\\\\b)|(\\\\bdebris.*eye.*her\\\\b)|(\\\\bdebris.*eye.*left\\\\b)|(\\\\bdebris.*eye.*right\\\\b)|(\\\\bdebris.*eye.*operator\\\\b)|(\\\\bdebris.*eye.*operative\\\\b)|(\\\\bdebris.*eye.*technician\\\\b)|(\\\\bdebris.*eye.*scaffolder\\\\b)|(\\\\bdebris.*eye.*team member\\\\b)|(\\\\bdebris.*eye.*person\\\\b)|(\\\\bdebris.*pupil.*employee\\\\b)|(\\\\bdebris.*pupil.*ip\\\\b)|(\\\\bdebris.*pupil.*worker\\\\b)|(\\\\bdebris.*pupil.*man\\\\b)|(\\\\bdebris.*pupil.*woman\\\\b)|(\\\\bdebris.*pupil.*he\\\\b)|(\\\\bdebris.*pupil.*she\\\\b)|(\\\\bdebris.*pupil.*his\\\\b)|(\\\\bdebris.*pupil.*her\\\\b)|(\\\\bdebris.*pupil.*left\\\\b)|(\\\\bdebris.*pupil.*right\\\\b)|(\\\\bdebris.*pupil.*operator\\\\b)|(\\\\bdebris.*pupil.*operative\\\\b)|(\\\\bdebris.*pupil.*technician\\\\b)|(\\\\bdebris.*pupil.*scaffolder\\\\b)|(\\\\bdebris.*pupil.*team member\\\\b)|(\\\\bdebris.*pupil.*person\\\\b)|(\\\\bdebris.*iris.*employee\\\\b)|(\\\\bdebris.*iris.*ip\\\\b)|(\\\\bdebris.*iris.*worker\\\\b)|(\\\\bdebris.*iris.*man\\\\b)|(\\\\bdebris.*iris.*woman\\\\b)|(\\\\bdebris.*iris.*he\\\\b)|(\\\\bdebris.*iris.*she\\\\b)|(\\\\bdebris.*iris.*his\\\\b)|(\\\\bdebris.*iris.*her\\\\b)|(\\\\bdebris.*iris.*left\\\\b)|(\\\\bdebris.*iris.*right\\\\b)|(\\\\bdebris.*iris.*operator\\\\b)|(\\\\bdebris.*iris.*operative\\\\b)|(\\\\bdebris.*iris.*technician\\\\b)|(\\\\bdebris.*iris.*scaffolder\\\\b)|(\\\\bdebris.*iris.*team member\\\\b)|(\\\\bdebris.*iris.*person\\\\b)|(\\\\bfelt.*eye.*employee\\\\b)|(\\\\bfelt.*eye.*ip\\\\b)|(\\\\bfelt.*eye.*worker\\\\b)|(\\\\bfelt.*eye.*man\\\\b)|(\\\\bfelt.*eye.*woman\\\\b)|(\\\\bfelt.*eye.*he\\\\b)|(\\\\bfelt.*eye.*she\\\\b)|(\\\\bfelt.*eye.*his\\\\b)|(\\\\bfelt.*eye.*her\\\\b)|(\\\\bfelt.*eye.*left\\\\b)|(\\\\bfelt.*eye.*right\\\\b)|(\\\\bfelt.*eye.*operator\\\\b)|(\\\\bfelt.*eye.*operative\\\\b)|(\\\\bfelt.*eye.*technician\\\\b)|(\\\\bfelt.*eye.*scaffolder\\\\b)|(\\\\bfelt.*eye.*team member\\\\b)|(\\\\bfelt.*eye.*person\\\\b)|(\\\\bfelt.*pupil.*employee\\\\b)|(\\\\bfelt.*pupil.*ip\\\\b)|(\\\\bfelt.*pupil.*worker\\\\b)|(\\\\bfelt.*pupil.*man\\\\b)|(\\\\bfelt.*pupil.*woman\\\\b)|(\\\\bfelt.*pupil.*he\\\\b)|(\\\\bfelt.*pupil.*she\\\\b)|(\\\\bfelt.*pupil.*his\\\\b)|(\\\\bfelt.*pupil.*her\\\\b)|(\\\\bfelt.*pupil.*left\\\\b)|(\\\\bfelt.*pupil.*right\\\\b)|(\\\\bfelt.*pupil.*operator\\\\b)|(\\\\bfelt.*pupil.*operative\\\\b)|(\\\\bfelt.*pupil.*technician\\\\b)|(\\\\bfelt.*pupil.*scaffolder\\\\b)|(\\\\bfelt.*pupil.*team member\\\\b)|(\\\\bfelt.*pupil.*person\\\\b)|(\\\\bfelt.*iris.*employee\\\\b)|(\\\\bfelt.*iris.*ip\\\\b)|(\\\\bfelt.*iris.*worker\\\\b)|(\\\\bfelt.*iris.*man\\\\b)|(\\\\bfelt.*iris.*woman\\\\b)|(\\\\bfelt.*iris.*he\\\\b)|(\\\\bfelt.*iris.*she\\\\b)|(\\\\bfelt.*iris.*his\\\\b)|(\\\\bfelt.*iris.*her\\\\b)|(\\\\bfelt.*iris.*left\\\\b)|(\\\\bfelt.*iris.*right\\\\b)|(\\\\bfelt.*iris.*operator\\\\b)|(\\\\bfelt.*iris.*operative\\\\b)|(\\\\bfelt.*iris.*technician\\\\b)|(\\\\bfelt.*iris.*scaffolder\\\\b)|(\\\\bfelt.*iris.*team member\\\\b)|(\\\\bfelt.*iris.*person\\\\b)|(\\\\bblew.*eye.*employee\\\\b)|(\\\\bblew.*eye.*ip\\\\b)|(\\\\bblew.*eye.*worker\\\\b)|(\\\\bblew.*eye.*man\\\\b)|(\\\\bblew.*eye.*woman\\\\b)|(\\\\bblew.*eye.*he\\\\b)|(\\\\bblew.*eye.*she\\\\b)|(\\\\bblew.*eye.*his\\\\b)|(\\\\bblew.*eye.*her\\\\b)|(\\\\bblew.*eye.*left\\\\b)|(\\\\bblew.*eye.*right\\\\b)|(\\\\bblew.*eye.*operator\\\\b)|(\\\\bblew.*eye.*operative\\\\b)|(\\\\bblew.*eye.*technician\\\\b)|(\\\\bblew.*eye.*scaffolder\\\\b)|(\\\\bblew.*eye.*team member\\\\b)|(\\\\bblew.*eye.*person\\\\b)|(\\\\bblew.*pupil.*employee\\\\b)|(\\\\bblew.*pupil.*ip\\\\b)|(\\\\bblew.*pupil.*worker\\\\b)|(\\\\bblew.*pupil.*man\\\\b)|(\\\\bblew.*pupil.*woman\\\\b)|(\\\\bblew.*pupil.*he\\\\b)|(\\\\bblew.*pupil.*she\\\\b)|(\\\\bblew.*pupil.*his\\\\b)|(\\\\bblew.*pupil.*her\\\\b)|(\\\\bblew.*pupil.*left\\\\b)|(\\\\bblew.*pupil.*right\\\\b)|(\\\\bblew.*pupil.*operator\\\\b)|(\\\\bblew.*pupil.*operative\\\\b)|(\\\\bblew.*pupil.*technician\\\\b)|(\\\\bblew.*pupil.*scaffolder\\\\b)|(\\\\bblew.*pupil.*team member\\\\b)|(\\\\bblew.*pupil.*person\\\\b)|(\\\\bblew.*iris.*employee\\\\b)|(\\\\bblew.*iris.*ip\\\\b)|(\\\\bblew.*iris.*worker\\\\b)|(\\\\bblew.*iris.*man\\\\b)|(\\\\bblew.*iris.*woman\\\\b)|(\\\\bblew.*iris.*he\\\\b)|(\\\\bblew.*iris.*she\\\\b)|(\\\\bblew.*iris.*his\\\\b)|(\\\\bblew.*iris.*her\\\\b)|(\\\\bblew.*iris.*left\\\\b)|(\\\\bblew.*iris.*right\\\\b)|(\\\\bblew.*iris.*operator\\\\b)|(\\\\bblew.*iris.*operative\\\\b)|(\\\\bblew.*iris.*technician\\\\b)|(\\\\bblew.*iris.*scaffolder\\\\b)|(\\\\bblew.*iris.*team member\\\\b)|(\\\\bblew.*iris.*person\\\\b)|(\\\\bblown.*eye.*employee\\\\b)|(\\\\bblown.*eye.*ip\\\\b)|(\\\\bblown.*eye.*worker\\\\b)|(\\\\bblown.*eye.*man\\\\b)|(\\\\bblown.*eye.*woman\\\\b)|(\\\\bblown.*eye.*he\\\\b)|(\\\\bblown.*eye.*she\\\\b)|(\\\\bblown.*eye.*his\\\\b)|(\\\\bblown.*eye.*her\\\\b)|(\\\\bblown.*eye.*left\\\\b)|(\\\\bblown.*eye.*right\\\\b)|(\\\\bblown.*eye.*operator\\\\b)|(\\\\bblown.*eye.*operative\\\\b)|(\\\\bblown.*eye.*technician\\\\b)|(\\\\bblown.*eye.*scaffolder\\\\b)|(\\\\bblown.*eye.*team member\\\\b)|(\\\\bblown.*eye.*person\\\\b)|(\\\\bblown.*pupil.*employee\\\\b)|(\\\\bblown.*pupil.*ip\\\\b)|(\\\\bblown.*pupil.*worker\\\\b)|(\\\\bblown.*pupil.*man\\\\b)|(\\\\bblown.*pupil.*woman\\\\b)|(\\\\bblown.*pupil.*he\\\\b)|(\\\\bblown.*pupil.*she\\\\b)|(\\\\bblown.*pupil.*his\\\\b)|(\\\\bblown.*pupil.*her\\\\b)|(\\\\bblown.*pupil.*left\\\\b)|(\\\\bblown.*pupil.*right\\\\b)|(\\\\bblown.*pupil.*operator\\\\b)|(\\\\bblown.*pupil.*operative\\\\b)|(\\\\bblown.*pupil.*technician\\\\b)|(\\\\bblown.*pupil.*scaffolder\\\\b)|(\\\\bblown.*pupil.*team member\\\\b)|(\\\\bblown.*pupil.*person\\\\b)|(\\\\bblown.*iris.*employee\\\\b)|(\\\\bblown.*iris.*ip\\\\b)|(\\\\bblown.*iris.*worker\\\\b)|(\\\\bblown.*iris.*man\\\\b)|(\\\\bblown.*iris.*woman\\\\b)|(\\\\bblown.*iris.*he\\\\b)|(\\\\bblown.*iris.*she\\\\b)|(\\\\bblown.*iris.*his\\\\b)|(\\\\bblown.*iris.*her\\\\b)|(\\\\bblown.*iris.*left\\\\b)|(\\\\bblown.*iris.*right\\\\b)|(\\\\bblown.*iris.*operator\\\\b)|(\\\\bblown.*iris.*operative\\\\b)|(\\\\bblown.*iris.*technician\\\\b)|(\\\\bblown.*iris.*scaffolder\\\\b)|(\\\\bblown.*iris.*team member\\\\b)|(\\\\bblown.*iris.*person\\\\b)|(\\\\blaceration.*eye.*employee\\\\b)|(\\\\blaceration.*eye.*ip\\\\b)|(\\\\blaceration.*eye.*worker\\\\b)|(\\\\blaceration.*eye.*man\\\\b)|(\\\\blaceration.*eye.*woman\\\\b)|(\\\\blaceration.*eye.*he\\\\b)|(\\\\blaceration.*eye.*she\\\\b)|(\\\\blaceration.*eye.*his\\\\b)|(\\\\blaceration.*eye.*her\\\\b)|(\\\\blaceration.*eye.*left\\\\b)|(\\\\blaceration.*eye.*right\\\\b)|(\\\\blaceration.*eye.*operator\\\\b)|(\\\\blaceration.*eye.*operative\\\\b)|(\\\\blaceration.*eye.*technician\\\\b)|(\\\\blaceration.*eye.*scaffolder\\\\b)|(\\\\blaceration.*eye.*team member\\\\b)|(\\\\blaceration.*eye.*person\\\\b)|(\\\\blaceration.*pupil.*employee\\\\b)|(\\\\blaceration.*pupil.*ip\\\\b)|(\\\\blaceration.*pupil.*worker\\\\b)|(\\\\blaceration.*pupil.*man\\\\b)|(\\\\blaceration.*pupil.*woman\\\\b)|(\\\\blaceration.*pupil.*he\\\\b)|(\\\\blaceration.*pupil.*she\\\\b)|(\\\\blaceration.*pupil.*his\\\\b)|(\\\\blaceration.*pupil.*her\\\\b)|(\\\\blaceration.*pupil.*left\\\\b)|(\\\\blaceration.*pupil.*right\\\\b)|(\\\\blaceration.*pupil.*operator\\\\b)|(\\\\blaceration.*pupil.*operative\\\\b)|(\\\\blaceration.*pupil.*technician\\\\b)|(\\\\blaceration.*pupil.*scaffolder\\\\b)|(\\\\blaceration.*pupil.*team member\\\\b)|(\\\\blaceration.*pupil.*person\\\\b)|(\\\\blaceration.*iris.*employee\\\\b)|(\\\\blaceration.*iris.*ip\\\\b)|(\\\\blaceration.*iris.*worker\\\\b)|(\\\\blaceration.*iris.*man\\\\b)|(\\\\blaceration.*iris.*woman\\\\b)|(\\\\blaceration.*iris.*he\\\\b)|(\\\\blaceration.*iris.*she\\\\b)|(\\\\blaceration.*iris.*his\\\\b)|(\\\\blaceration.*iris.*her\\\\b)|(\\\\blaceration.*iris.*left\\\\b)|(\\\\blaceration.*iris.*right\\\\b)|(\\\\blaceration.*iris.*operator\\\\b)|(\\\\blaceration.*iris.*operative\\\\b)|(\\\\blaceration.*iris.*technician\\\\b)|(\\\\blaceration.*iris.*scaffolder\\\\b)|(\\\\blaceration.*iris.*team member\\\\b)|(\\\\blaceration.*iris.*person\\\\b)|(\\\\bstruck.*eye.*employee\\\\b)|(\\\\bstruck.*eye.*ip\\\\b)|(\\\\bstruck.*eye.*worker\\\\b)|(\\\\bstruck.*eye.*man\\\\b)|(\\\\bstruck.*eye.*woman\\\\b)|(\\\\bstruck.*eye.*he\\\\b)|(\\\\bstruck.*eye.*she\\\\b)|(\\\\bstruck.*eye.*his\\\\b)|(\\\\bstruck.*eye.*her\\\\b)|(\\\\bstruck.*eye.*left\\\\b)|(\\\\bstruck.*eye.*right\\\\b)|(\\\\bstruck.*eye.*operator\\\\b)|(\\\\bstruck.*eye.*operative\\\\b)|(\\\\bstruck.*eye.*technician\\\\b)|(\\\\bstruck.*eye.*scaffolder\\\\b)|(\\\\bstruck.*eye.*team member\\\\b)|(\\\\bstruck.*eye.*person\\\\b)|(\\\\bstruck.*pupil.*employee\\\\b)|(\\\\bstruck.*pupil.*ip\\\\b)|(\\\\bstruck.*pupil.*worker\\\\b)|(\\\\bstruck.*pupil.*man\\\\b)|(\\\\bstruck.*pupil.*woman\\\\b)|(\\\\bstruck.*pupil.*he\\\\b)|(\\\\bstruck.*pupil.*she\\\\b)|(\\\\bstruck.*pupil.*his\\\\b)|(\\\\bstruck.*pupil.*her\\\\b)|(\\\\bstruck.*pupil.*left\\\\b)|(\\\\bstruck.*pupil.*right\\\\b)|(\\\\bstruck.*pupil.*operator\\\\b)|(\\\\bstruck.*pupil.*operative\\\\b)|(\\\\bstruck.*pupil.*technician\\\\b)|(\\\\bstruck.*pupil.*scaffolder\\\\b)|(\\\\bstruck.*pupil.*team member\\\\b)|(\\\\bstruck.*pupil.*person\\\\b)|(\\\\bstruck.*iris.*employee\\\\b)|(\\\\bstruck.*iris.*ip\\\\b)|(\\\\bstruck.*iris.*worker\\\\b)|(\\\\bstruck.*iris.*man\\\\b)|(\\\\bstruck.*iris.*woman\\\\b)|(\\\\bstruck.*iris.*he\\\\b)|(\\\\bstruck.*iris.*she\\\\b)|(\\\\bstruck.*iris.*his\\\\b)|(\\\\bstruck.*iris.*her\\\\b)|(\\\\bstruck.*iris.*left\\\\b)|(\\\\bstruck.*iris.*right\\\\b)|(\\\\bstruck.*iris.*operator\\\\b)|(\\\\bstruck.*iris.*operative\\\\b)|(\\\\bstruck.*iris.*technician\\\\b)|(\\\\bstruck.*iris.*scaffolder\\\\b)|(\\\\bstruck.*iris.*team member\\\\b)|(\\\\bstruck.*iris.*person\\\\b)|(\\\\bhit.*eye.*employee\\\\b)|(\\\\bhit.*eye.*ip\\\\b)|(\\\\bhit.*eye.*worker\\\\b)|(\\\\bhit.*eye.*man\\\\b)|(\\\\bhit.*eye.*woman\\\\b)|(\\\\bhit.*eye.*he\\\\b)|(\\\\bhit.*eye.*she\\\\b)|(\\\\bhit.*eye.*his\\\\b)|(\\\\bhit.*eye.*her\\\\b)|(\\\\bhit.*eye.*left\\\\b)|(\\\\bhit.*eye.*right\\\\b)|(\\\\bhit.*eye.*operator\\\\b)|(\\\\bhit.*eye.*operative\\\\b)|(\\\\bhit.*eye.*technician\\\\b)|(\\\\bhit.*eye.*scaffolder\\\\b)|(\\\\bhit.*eye.*team member\\\\b)|(\\\\bhit.*eye.*person\\\\b)|(\\\\bhit.*pupil.*employee\\\\b)|(\\\\bhit.*pupil.*ip\\\\b)|(\\\\bhit.*pupil.*worker\\\\b)|(\\\\bhit.*pupil.*man\\\\b)|(\\\\bhit.*pupil.*woman\\\\b)|(\\\\bhit.*pupil.*he\\\\b)|(\\\\bhit.*pupil.*she\\\\b)|(\\\\bhit.*pupil.*his\\\\b)|(\\\\bhit.*pupil.*her\\\\b)|(\\\\bhit.*pupil.*left\\\\b)|(\\\\bhit.*pupil.*right\\\\b)|(\\\\bhit.*pupil.*operator\\\\b)|(\\\\bhit.*pupil.*operative\\\\b)|(\\\\bhit.*pupil.*technician\\\\b)|(\\\\bhit.*pupil.*scaffolder\\\\b)|(\\\\bhit.*pupil.*team member\\\\b)|(\\\\bhit.*pupil.*person\\\\b)|(\\\\bhit.*iris.*employee\\\\b)|(\\\\bhit.*iris.*ip\\\\b)|(\\\\bhit.*iris.*worker\\\\b)|(\\\\bhit.*iris.*man\\\\b)|(\\\\bhit.*iris.*woman\\\\b)|(\\\\bhit.*iris.*he\\\\b)|(\\\\bhit.*iris.*she\\\\b)|(\\\\bhit.*iris.*his\\\\b)|(\\\\bhit.*iris.*her\\\\b)|(\\\\bhit.*iris.*left\\\\b)|(\\\\bhit.*iris.*right\\\\b)|(\\\\bhit.*iris.*operator\\\\b)|(\\\\bhit.*iris.*operative\\\\b)|(\\\\bhit.*iris.*technician\\\\b)|(\\\\bhit.*iris.*scaffolder\\\\b)|(\\\\bhit.*iris.*team member\\\\b)|(\\\\bhit.*iris.*person\\\\b)|(\\\\bbanged.*eye.*employee\\\\b)|(\\\\bbanged.*eye.*ip\\\\b)|(\\\\bbanged.*eye.*worker\\\\b)|(\\\\bbanged.*eye.*man\\\\b)|(\\\\bbanged.*eye.*woman\\\\b)|(\\\\bbanged.*eye.*he\\\\b)|(\\\\bbanged.*eye.*she\\\\b)|(\\\\bbanged.*eye.*his\\\\b)|(\\\\bbanged.*eye.*her\\\\b)|(\\\\bbanged.*eye.*left\\\\b)|(\\\\bbanged.*eye.*right\\\\b)|(\\\\bbanged.*eye.*operator\\\\b)|(\\\\bbanged.*eye.*operative\\\\b)|(\\\\bbanged.*eye.*technician\\\\b)|(\\\\bbanged.*eye.*scaffolder\\\\b)|(\\\\bbanged.*eye.*team member\\\\b)|(\\\\bbanged.*eye.*person\\\\b)|(\\\\bbanged.*pupil.*employee\\\\b)|(\\\\bbanged.*pupil.*ip\\\\b)|(\\\\bbanged.*pupil.*worker\\\\b)|(\\\\bbanged.*pupil.*man\\\\b)|(\\\\bbanged.*pupil.*woman\\\\b)|(\\\\bbanged.*pupil.*he\\\\b)|(\\\\bbanged.*pupil.*she\\\\b)|(\\\\bbanged.*pupil.*his\\\\b)|(\\\\bbanged.*pupil.*her\\\\b)|(\\\\bbanged.*pupil.*left\\\\b)|(\\\\bbanged.*pupil.*right\\\\b)|(\\\\bbanged.*pupil.*operator\\\\b)|(\\\\bbanged.*pupil.*operative\\\\b)|(\\\\bbanged.*pupil.*technician\\\\b)|(\\\\bbanged.*pupil.*scaffolder\\\\b)|(\\\\bbanged.*pupil.*team member\\\\b)|(\\\\bbanged.*pupil.*person\\\\b)|(\\\\bbanged.*iris.*employee\\\\b)|(\\\\bbanged.*iris.*ip\\\\b)|(\\\\bbanged.*iris.*worker\\\\b)|(\\\\bbanged.*iris.*man\\\\b)|(\\\\bbanged.*iris.*woman\\\\b)|(\\\\bbanged.*iris.*he\\\\b)|(\\\\bbanged.*iris.*she\\\\b)|(\\\\bbanged.*iris.*his\\\\b)|(\\\\bbanged.*iris.*her\\\\b)|(\\\\bbanged.*iris.*left\\\\b)|(\\\\bbanged.*iris.*right\\\\b)|(\\\\bbanged.*iris.*operator\\\\b)|(\\\\bbanged.*iris.*operative\\\\b)|(\\\\bbanged.*iris.*technician\\\\b)|(\\\\bbanged.*iris.*scaffolder\\\\b)|(\\\\bbanged.*iris.*team member\\\\b)|(\\\\bbanged.*iris.*person\\\\b)|(\\\\bdirt.*eye.*employee\\\\b)|(\\\\bdirt.*eye.*ip\\\\b)|(\\\\bdirt.*eye.*worker\\\\b)|(\\\\bdirt.*eye.*man\\\\b)|(\\\\bdirt.*eye.*woman\\\\b)|(\\\\bdirt.*eye.*he\\\\b)|(\\\\bdirt.*eye.*she\\\\b)|(\\\\bdirt.*eye.*his\\\\b)|(\\\\bdirt.*eye.*her\\\\b)|(\\\\bdirt.*eye.*left\\\\b)|(\\\\bdirt.*eye.*right\\\\b)|(\\\\bdirt.*eye.*operator\\\\b)|(\\\\bdirt.*eye.*operative\\\\b)|(\\\\bdirt.*eye.*technician\\\\b)|(\\\\bdirt.*eye.*scaffolder\\\\b)|(\\\\bdirt.*eye.*team member\\\\b)|(\\\\bdirt.*eye.*person\\\\b)|(\\\\bdirt.*pupil.*employee\\\\b)|(\\\\bdirt.*pupil.*ip\\\\b)|(\\\\bdirt.*pupil.*worker\\\\b)|(\\\\bdirt.*pupil.*man\\\\b)|(\\\\bdirt.*pupil.*woman\\\\b)|(\\\\bdirt.*pupil.*he\\\\b)|(\\\\bdirt.*pupil.*she\\\\b)|(\\\\bdirt.*pupil.*his\\\\b)|(\\\\bdirt.*pupil.*her\\\\b)|(\\\\bdirt.*pupil.*left\\\\b)|(\\\\bdirt.*pupil.*right\\\\b)|(\\\\bdirt.*pupil.*operator\\\\b)|(\\\\bdirt.*pupil.*operative\\\\b)|(\\\\bdirt.*pupil.*technician\\\\b)|(\\\\bdirt.*pupil.*scaffolder\\\\b)|(\\\\bdirt.*pupil.*team member\\\\b)|(\\\\bdirt.*pupil.*person\\\\b)|(\\\\bdirt.*iris.*employee\\\\b)|(\\\\bdirt.*iris.*ip\\\\b)|(\\\\bdirt.*iris.*worker\\\\b)|(\\\\bdirt.*iris.*man\\\\b)|(\\\\bdirt.*iris.*woman\\\\b)|(\\\\bdirt.*iris.*he\\\\b)|(\\\\bdirt.*iris.*she\\\\b)|(\\\\bdirt.*iris.*his\\\\b)|(\\\\bdirt.*iris.*her\\\\b)|(\\\\bdirt.*iris.*left\\\\b)|(\\\\bdirt.*iris.*right\\\\b)|(\\\\bdirt.*iris.*operator\\\\b)|(\\\\bdirt.*iris.*operative\\\\b)|(\\\\bdirt.*iris.*technician\\\\b)|(\\\\bdirt.*iris.*scaffolder\\\\b)|(\\\\bdirt.*iris.*team member\\\\b)|(\\\\bdirt.*iris.*person\\\\b)|(\\\\bsprayed.*eye.*employee\\\\b)|(\\\\bsprayed.*eye.*ip\\\\b)|(\\\\bsprayed.*eye.*worker\\\\b)|(\\\\bsprayed.*eye.*man\\\\b)|(\\\\bsprayed.*eye.*woman\\\\b)|(\\\\bsprayed.*eye.*he\\\\b)|(\\\\bsprayed.*eye.*she\\\\b)|(\\\\bsprayed.*eye.*his\\\\b)|(\\\\bsprayed.*eye.*her\\\\b)|(\\\\bsprayed.*eye.*left\\\\b)|(\\\\bsprayed.*eye.*right\\\\b)|(\\\\bsprayed.*eye.*operator\\\\b)|(\\\\bsprayed.*eye.*operative\\\\b)|(\\\\bsprayed.*eye.*technician\\\\b)|(\\\\bsprayed.*eye.*scaffolder\\\\b)|(\\\\bsprayed.*eye.*team member\\\\b)|(\\\\bsprayed.*eye.*person\\\\b)|(\\\\bsprayed.*pupil.*employee\\\\b)|(\\\\bsprayed.*pupil.*ip\\\\b)|(\\\\bsprayed.*pupil.*worker\\\\b)|(\\\\bsprayed.*pupil.*man\\\\b)|(\\\\bsprayed.*pupil.*woman\\\\b)|(\\\\bsprayed.*pupil.*he\\\\b)|(\\\\bsprayed.*pupil.*she\\\\b)|(\\\\bsprayed.*pupil.*his\\\\b)|(\\\\bsprayed.*pupil.*her\\\\b)|(\\\\bsprayed.*pupil.*left\\\\b)|(\\\\bsprayed.*pupil.*right\\\\b)|(\\\\bsprayed.*pupil.*operator\\\\b)|(\\\\bsprayed.*pupil.*operative\\\\b)|(\\\\bsprayed.*pupil.*technician\\\\b)|(\\\\bsprayed.*pupil.*scaffolder\\\\b)|(\\\\bsprayed.*pupil.*team member\\\\b)|(\\\\bsprayed.*pupil.*person\\\\b)|(\\\\bsprayed.*iris.*employee\\\\b)|(\\\\bsprayed.*iris.*ip\\\\b)|(\\\\bsprayed.*iris.*worker\\\\b)|(\\\\bsprayed.*iris.*man\\\\b)|(\\\\bsprayed.*iris.*woman\\\\b)|(\\\\bsprayed.*iris.*he\\\\b)|(\\\\bsprayed.*iris.*she\\\\b)|(\\\\bsprayed.*iris.*his\\\\b)|(\\\\bsprayed.*iris.*her\\\\b)|(\\\\bsprayed.*iris.*left\\\\b)|(\\\\bsprayed.*iris.*right\\\\b)|(\\\\bsprayed.*iris.*operator\\\\b)|(\\\\bsprayed.*iris.*operative\\\\b)|(\\\\bsprayed.*iris.*technician\\\\b)|(\\\\bsprayed.*iris.*scaffolder\\\\b)|(\\\\bsprayed.*iris.*team member\\\\b)|(\\\\bsprayed.*iris.*person\\\\b)|(\\\\bswell.*eye.*employee\\\\b)|(\\\\bswell.*eye.*ip\\\\b)|(\\\\bswell.*eye.*worker\\\\b)|(\\\\bswell.*eye.*man\\\\b)|(\\\\bswell.*eye.*woman\\\\b)|(\\\\bswell.*eye.*he\\\\b)|(\\\\bswell.*eye.*she\\\\b)|(\\\\bswell.*eye.*his\\\\b)|(\\\\bswell.*eye.*her\\\\b)|(\\\\bswell.*eye.*left\\\\b)|(\\\\bswell.*eye.*right\\\\b)|(\\\\bswell.*eye.*operator\\\\b)|(\\\\bswell.*eye.*operative\\\\b)|(\\\\bswell.*eye.*technician\\\\b)|(\\\\bswell.*eye.*scaffolder\\\\b)|(\\\\bswell.*eye.*team member\\\\b)|(\\\\bswell.*eye.*person\\\\b)|(\\\\bswell.*pupil.*employee\\\\b)|(\\\\bswell.*pupil.*ip\\\\b)|(\\\\bswell.*pupil.*worker\\\\b)|(\\\\bswell.*pupil.*man\\\\b)|(\\\\bswell.*pupil.*woman\\\\b)|(\\\\bswell.*pupil.*he\\\\b)|(\\\\bswell.*pupil.*she\\\\b)|(\\\\bswell.*pupil.*his\\\\b)|(\\\\bswell.*pupil.*her\\\\b)|(\\\\bswell.*pupil.*left\\\\b)|(\\\\bswell.*pupil.*right\\\\b)|(\\\\bswell.*pupil.*operator\\\\b)|(\\\\bswell.*pupil.*operative\\\\b)|(\\\\bswell.*pupil.*technician\\\\b)|(\\\\bswell.*pupil.*scaffolder\\\\b)|(\\\\bswell.*pupil.*team member\\\\b)|(\\\\bswell.*pupil.*person\\\\b)|(\\\\bswell.*iris.*employee\\\\b)|(\\\\bswell.*iris.*ip\\\\b)|(\\\\bswell.*iris.*worker\\\\b)|(\\\\bswell.*iris.*man\\\\b)|(\\\\bswell.*iris.*woman\\\\b)|(\\\\bswell.*iris.*he\\\\b)|(\\\\bswell.*iris.*she\\\\b)|(\\\\bswell.*iris.*his\\\\b)|(\\\\bswell.*iris.*her\\\\b)|(\\\\bswell.*iris.*left\\\\b)|(\\\\bswell.*iris.*right\\\\b)|(\\\\bswell.*iris.*operator\\\\b)|(\\\\bswell.*iris.*operative\\\\b)|(\\\\bswell.*iris.*technician\\\\b)|(\\\\bswell.*iris.*scaffolder\\\\b)|(\\\\bswell.*iris.*team member\\\\b)|(\\\\bswell.*iris.*person\\\\b)|(\\\\bswelling.*eye.*employee\\\\b)|(\\\\bswelling.*eye.*ip\\\\b)|(\\\\bswelling.*eye.*worker\\\\b)|(\\\\bswelling.*eye.*man\\\\b)|(\\\\bswelling.*eye.*woman\\\\b)|(\\\\bswelling.*eye.*he\\\\b)|(\\\\bswelling.*eye.*she\\\\b)|(\\\\bswelling.*eye.*his\\\\b)|(\\\\bswelling.*eye.*her\\\\b)|(\\\\bswelling.*eye.*left\\\\b)|(\\\\bswelling.*eye.*right\\\\b)|(\\\\bswelling.*eye.*operator\\\\b)|(\\\\bswelling.*eye.*operative\\\\b)|(\\\\bswelling.*eye.*technician\\\\b)|(\\\\bswelling.*eye.*scaffolder\\\\b)|(\\\\bswelling.*eye.*team member\\\\b)|(\\\\bswelling.*eye.*person\\\\b)|(\\\\bswelling.*pupil.*employee\\\\b)|(\\\\bswelling.*pupil.*ip\\\\b)|(\\\\bswelling.*pupil.*worker\\\\b)|(\\\\bswelling.*pupil.*man\\\\b)|(\\\\bswelling.*pupil.*woman\\\\b)|(\\\\bswelling.*pupil.*he\\\\b)|(\\\\bswelling.*pupil.*she\\\\b)|(\\\\bswelling.*pupil.*his\\\\b)|(\\\\bswelling.*pupil.*her\\\\b)|(\\\\bswelling.*pupil.*left\\\\b)|(\\\\bswelling.*pupil.*right\\\\b)|(\\\\bswelling.*pupil.*operator\\\\b)|(\\\\bswelling.*pupil.*operative\\\\b)|(\\\\bswelling.*pupil.*technician\\\\b)|(\\\\bswelling.*pupil.*scaffolder\\\\b)|(\\\\bswelling.*pupil.*team member\\\\b)|(\\\\bswelling.*pupil.*person\\\\b)|(\\\\bswelling.*iris.*employee\\\\b)|(\\\\bswelling.*iris.*ip\\\\b)|(\\\\bswelling.*iris.*worker\\\\b)|(\\\\bswelling.*iris.*man\\\\b)|(\\\\bswelling.*iris.*woman\\\\b)|(\\\\bswelling.*iris.*he\\\\b)|(\\\\bswelling.*iris.*she\\\\b)|(\\\\bswelling.*iris.*his\\\\b)|(\\\\bswelling.*iris.*her\\\\b)|(\\\\bswelling.*iris.*left\\\\b)|(\\\\bswelling.*iris.*right\\\\b)|(\\\\bswelling.*iris.*operator\\\\b)|(\\\\bswelling.*iris.*operative\\\\b)|(\\\\bswelling.*iris.*technician\\\\b)|(\\\\bswelling.*iris.*scaffolder\\\\b)|(\\\\bswelling.*iris.*team member\\\\b)|(\\\\bswelling.*iris.*person\\\\b)|(\\\\bswollen.*eye.*employee\\\\b)|(\\\\bswollen.*eye.*ip\\\\b)|(\\\\bswollen.*eye.*worker\\\\b)|(\\\\bswollen.*eye.*man\\\\b)|(\\\\bswollen.*eye.*woman\\\\b)|(\\\\bswollen.*eye.*he\\\\b)|(\\\\bswollen.*eye.*she\\\\b)|(\\\\bswollen.*eye.*his\\\\b)|(\\\\bswollen.*eye.*her\\\\b)|(\\\\bswollen.*eye.*left\\\\b)|(\\\\bswollen.*eye.*right\\\\b)|(\\\\bswollen.*eye.*operator\\\\b)|(\\\\bswollen.*eye.*operative\\\\b)|(\\\\bswollen.*eye.*technician\\\\b)|(\\\\bswollen.*eye.*scaffolder\\\\b)|(\\\\bswollen.*eye.*team member\\\\b)|(\\\\bswollen.*eye.*person\\\\b)|(\\\\bswollen.*pupil.*employee\\\\b)|(\\\\bswollen.*pupil.*ip\\\\b)|(\\\\bswollen.*pupil.*worker\\\\b)|(\\\\bswollen.*pupil.*man\\\\b)|(\\\\bswollen.*pupil.*woman\\\\b)|(\\\\bswollen.*pupil.*he\\\\b)|(\\\\bswollen.*pupil.*she\\\\b)|(\\\\bswollen.*pupil.*his\\\\b)|(\\\\bswollen.*pupil.*her\\\\b)|(\\\\bswollen.*pupil.*left\\\\b)|(\\\\bswollen.*pupil.*right\\\\b)|(\\\\bswollen.*pupil.*operator\\\\b)|(\\\\bswollen.*pupil.*operative\\\\b)|(\\\\bswollen.*pupil.*technician\\\\b)|(\\\\bswollen.*pupil.*scaffolder\\\\b)|(\\\\bswollen.*pupil.*team member\\\\b)|(\\\\bswollen.*pupil.*person\\\\b)|(\\\\bswollen.*iris.*employee\\\\b)|(\\\\bswollen.*iris.*ip\\\\b)|(\\\\bswollen.*iris.*worker\\\\b)|(\\\\bswollen.*iris.*man\\\\b)|(\\\\bswollen.*iris.*woman\\\\b)|(\\\\bswollen.*iris.*he\\\\b)|(\\\\bswollen.*iris.*she\\\\b)|(\\\\bswollen.*iris.*his\\\\b)|(\\\\bswollen.*iris.*her\\\\b)|(\\\\bswollen.*iris.*left\\\\b)|(\\\\bswollen.*iris.*right\\\\b)|(\\\\bswollen.*iris.*operator\\\\b)|(\\\\bswollen.*iris.*operative\\\\b)|(\\\\bswollen.*iris.*technician\\\\b)|(\\\\bswollen.*iris.*scaffolder\\\\b)|(\\\\bswollen.*iris.*team member\\\\b)|(\\\\bswollen.*iris.*person\\\\b)'"
      ]
     },
     "execution_count": 356,
     "metadata": {},
     "output_type": "execute_result"
    }
   ],
   "source": [
    "chk = translate_to_regex(rules.rules_all[0], syns_db)\n",
    "chk"
   ]
  },
  {
   "cell_type": "code",
   "execution_count": 359,
   "id": "56e0f2cb",
   "metadata": {},
   "outputs": [
    {
     "data": {
      "text/plain": [
       "True"
      ]
     },
     "execution_count": 359,
     "metadata": {},
     "output_type": "execute_result"
    }
   ],
   "source": [
    "check_presence(chk, 'An fp was lodged in the left eye of the new technician.')"
   ]
  },
  {
   "cell_type": "code",
   "execution_count": 360,
   "id": "e87ad356",
   "metadata": {},
   "outputs": [
    {
     "data": {
      "text/plain": [
       "['hell.*me',\n",
       " 'hell.*you',\n",
       " 'hell.*them',\n",
       " 'butts.*me',\n",
       " 'butts.*you',\n",
       " 'butts.*them']"
      ]
     },
     "execution_count": 360,
     "metadata": {},
     "output_type": "execute_result"
    }
   ],
   "source": [
    "import itertools\n",
    "load_cases = []\n",
    "for r in itertools.product(['hell', 'butts'], ['me', 'you','them']): \n",
    "    lc = f'{r[0]}.*{r[1]}'\n",
    "    load_cases.append(lc)\n",
    "load_cases"
   ]
  },
  {
   "cell_type": "code",
   "execution_count": 361,
   "id": "02f30b9a",
   "metadata": {},
   "outputs": [
    {
     "ename": "TypeError",
     "evalue": "translate_to_regex() missing 1 required positional argument: 'syns_db'",
     "output_type": "error",
     "traceback": [
      "\u001b[0;31m---------------------------------------------------------------------------\u001b[0m",
      "\u001b[0;31mTypeError\u001b[0m                                 Traceback (most recent call last)",
      "Input \u001b[0;32mIn [361]\u001b[0m, in \u001b[0;36m<module>\u001b[0;34m\u001b[0m\n\u001b[0;32m----> 1\u001b[0m test_rule \u001b[38;5;241m=\u001b[39m \u001b[43mtranslate_to_regex\u001b[49m\u001b[43m(\u001b[49m\u001b[43msyn_rules\u001b[49m\u001b[43m)\u001b[49m\n",
      "\u001b[0;31mTypeError\u001b[0m: translate_to_regex() missing 1 required positional argument: 'syns_db'"
     ]
    }
   ],
   "source": [
    "test_rule = translate_to_regex(syn_rules)"
   ]
  },
  {
   "cell_type": "code",
   "execution_count": 215,
   "id": "b82397d6",
   "metadata": {},
   "outputs": [
    {
     "data": {
      "text/plain": [
       "True"
      ]
     },
     "execution_count": 215,
     "metadata": {},
     "output_type": "execute_result"
    }
   ],
   "source": [
    "check_presence(test_rule, 'hello fp in the eye of the operator of the ip my')"
   ]
  },
  {
   "cell_type": "code",
   "execution_count": 375,
   "id": "0c26fec8",
   "metadata": {},
   "outputs": [],
   "source": [
    "osha_incs = pd.read_csv(\"data/source/OSHA_January2015toJuly2021.csv\", dtype=str)"
   ]
  },
  {
   "cell_type": "code",
   "execution_count": 376,
   "id": "67f3d451",
   "metadata": {},
   "outputs": [
    {
     "data": {
      "text/plain": [
       "Index(['ID', 'UPA', 'EventDate', 'Employer', 'Address1', 'Address2', 'City',\n",
       "       'State', 'Zip', 'Latitude', 'Longitude', 'Primary NAICS',\n",
       "       'Hospitalized', 'Amputation', 'Inspection', 'Final Narrative', 'Nature',\n",
       "       'NatureTitle', 'Part of Body', 'Part of Body Title', 'Event',\n",
       "       'EventTitle', 'Source', 'SourceTitle', 'Secondary Source',\n",
       "       'Secondary Source Title'],\n",
       "      dtype='object')"
      ]
     },
     "execution_count": 376,
     "metadata": {},
     "output_type": "execute_result"
    }
   ],
   "source": [
    "osha_incs.columns"
   ]
  },
  {
   "cell_type": "code",
   "execution_count": 377,
   "id": "cddb53b8",
   "metadata": {},
   "outputs": [
    {
     "data": {
      "text/plain": [
       "0        Three correctional facility guards were escort...\n",
       "1        Employee in the Machine Shop received second d...\n",
       "2        A truck driver fell approximately 4 feet while...\n",
       "3        An employee's leg was pinned between a truck a...\n",
       "4        An employee working on the Line 6 Auto-Beller ...\n",
       "                               ...                        \n",
       "66694    An employee was using an extension ladder whil...\n",
       "66695    An employee was swinging a hammer while on a 6...\n",
       "66696    On July 31, 2021, at 11:30 a.m., an employee w...\n",
       "66697    An employee accessed an electrical panel to sw...\n",
       "66698    A nurse was sitting at a nurse's station. A pa...\n",
       "Name: Final Narrative, Length: 66699, dtype: object"
      ]
     },
     "execution_count": 377,
     "metadata": {},
     "output_type": "execute_result"
    }
   ],
   "source": [
    "osha_incs['Final Narrative']"
   ]
  },
  {
   "cell_type": "code",
   "execution_count": 378,
   "id": "32c443a4",
   "metadata": {},
   "outputs": [],
   "source": [
    "# Concatenate some of the fields to make the 'text' field for searching\n",
    "osha_incs.rename(columns={'ID': 'incident_id'}, inplace=True)\n",
    "osha_incs['text'] = (\n",
    "        osha_incs['EventTitle'].astype(str).fillna('') + ' ' + \n",
    "        osha_incs['Final Narrative'].astype(str).fillna('')\n",
    ").str.lower()\n",
    "osha_incs['dataset'] = 'OSHA'"
   ]
  },
  {
   "cell_type": "code",
   "execution_count": 379,
   "id": "b6174d32",
   "metadata": {},
   "outputs": [
    {
     "data": {
      "text/html": [
       "<div>\n",
       "<style scoped>\n",
       "    .dataframe tbody tr th:only-of-type {\n",
       "        vertical-align: middle;\n",
       "    }\n",
       "\n",
       "    .dataframe tbody tr th {\n",
       "        vertical-align: top;\n",
       "    }\n",
       "\n",
       "    .dataframe thead th {\n",
       "        text-align: right;\n",
       "    }\n",
       "</style>\n",
       "<table border=\"1\" class=\"dataframe\">\n",
       "  <thead>\n",
       "    <tr style=\"text-align: right;\">\n",
       "      <th></th>\n",
       "      <th>incident_id</th>\n",
       "      <th>dataset</th>\n",
       "      <th>text</th>\n",
       "    </tr>\n",
       "  </thead>\n",
       "  <tbody>\n",
       "    <tr>\n",
       "      <th>0</th>\n",
       "      <td>2015010015</td>\n",
       "      <td>OSHA</td>\n",
       "      <td>injured by physical contact with person while ...</td>\n",
       "    </tr>\n",
       "    <tr>\n",
       "      <th>1</th>\n",
       "      <td>2015010016</td>\n",
       "      <td>OSHA</td>\n",
       "      <td>ignition of vapors, gases, or liquids employee...</td>\n",
       "    </tr>\n",
       "    <tr>\n",
       "      <th>2</th>\n",
       "      <td>2015010018</td>\n",
       "      <td>OSHA</td>\n",
       "      <td>other fall to lower level less than 6 feet a t...</td>\n",
       "    </tr>\n",
       "    <tr>\n",
       "      <th>3</th>\n",
       "      <td>2015010019</td>\n",
       "      <td>OSHA</td>\n",
       "      <td>caught in or compressed by equipment or object...</td>\n",
       "    </tr>\n",
       "    <tr>\n",
       "      <th>4</th>\n",
       "      <td>2015010020</td>\n",
       "      <td>OSHA</td>\n",
       "      <td>caught in running equipment or machinery durin...</td>\n",
       "    </tr>\n",
       "    <tr>\n",
       "      <th>...</th>\n",
       "      <td>...</td>\n",
       "      <td>...</td>\n",
       "      <td>...</td>\n",
       "    </tr>\n",
       "    <tr>\n",
       "      <th>66694</th>\n",
       "      <td>2021076378</td>\n",
       "      <td>OSHA</td>\n",
       "      <td>fall on water vehicle an employee was using an...</td>\n",
       "    </tr>\n",
       "    <tr>\n",
       "      <th>66695</th>\n",
       "      <td>2021076379</td>\n",
       "      <td>OSHA</td>\n",
       "      <td>other fall to lower level, unspecified an empl...</td>\n",
       "    </tr>\n",
       "    <tr>\n",
       "      <th>66696</th>\n",
       "      <td>2021076380</td>\n",
       "      <td>OSHA</td>\n",
       "      <td>injured by slipping or swinging object held by...</td>\n",
       "    </tr>\n",
       "    <tr>\n",
       "      <th>66697</th>\n",
       "      <td>2021076384</td>\n",
       "      <td>OSHA</td>\n",
       "      <td>direct exposure to electricity, greater than 2...</td>\n",
       "    </tr>\n",
       "    <tr>\n",
       "      <th>66698</th>\n",
       "      <td>2021076402</td>\n",
       "      <td>OSHA</td>\n",
       "      <td>hitting, kicking, beating, shoving a nurse was...</td>\n",
       "    </tr>\n",
       "  </tbody>\n",
       "</table>\n",
       "<p>66699 rows × 3 columns</p>\n",
       "</div>"
      ],
      "text/plain": [
       "      incident_id dataset                                               text\n",
       "0      2015010015    OSHA  injured by physical contact with person while ...\n",
       "1      2015010016    OSHA  ignition of vapors, gases, or liquids employee...\n",
       "2      2015010018    OSHA  other fall to lower level less than 6 feet a t...\n",
       "3      2015010019    OSHA  caught in or compressed by equipment or object...\n",
       "4      2015010020    OSHA  caught in running equipment or machinery durin...\n",
       "...           ...     ...                                                ...\n",
       "66694  2021076378    OSHA  fall on water vehicle an employee was using an...\n",
       "66695  2021076379    OSHA  other fall to lower level, unspecified an empl...\n",
       "66696  2021076380    OSHA  injured by slipping or swinging object held by...\n",
       "66697  2021076384    OSHA  direct exposure to electricity, greater than 2...\n",
       "66698  2021076402    OSHA  hitting, kicking, beating, shoving a nurse was...\n",
       "\n",
       "[66699 rows x 3 columns]"
      ]
     },
     "execution_count": 379,
     "metadata": {},
     "output_type": "execute_result"
    }
   ],
   "source": [
    "osha_incs = osha_incs[['incident_id', 'dataset', 'text']]\n",
    "osha_incs"
   ]
  },
  {
   "cell_type": "code",
   "execution_count": 391,
   "id": "e1aabbad",
   "metadata": {},
   "outputs": [
    {
     "data": {
      "text/html": [
       "<div>\n",
       "<style scoped>\n",
       "    .dataframe tbody tr th:only-of-type {\n",
       "        vertical-align: middle;\n",
       "    }\n",
       "\n",
       "    .dataframe tbody tr th {\n",
       "        vertical-align: top;\n",
       "    }\n",
       "\n",
       "    .dataframe thead th {\n",
       "        text-align: right;\n",
       "    }\n",
       "</style>\n",
       "<table border=\"1\" class=\"dataframe\">\n",
       "  <thead>\n",
       "    <tr style=\"text-align: right;\">\n",
       "      <th></th>\n",
       "      <th>group</th>\n",
       "      <th>keyword</th>\n",
       "      <th>rules_pre</th>\n",
       "      <th>rules_post</th>\n",
       "      <th>rules_all</th>\n",
       "      <th>voids</th>\n",
       "    </tr>\n",
       "  </thead>\n",
       "  <tbody>\n",
       "    <tr>\n",
       "      <th>0</th>\n",
       "      <td>slips &amp; trips</td>\n",
       "      <td>slip*</td>\n",
       "      <td>walking (.*) snow_ walking (.*) ice_ walking (...</td>\n",
       "      <td>fall_ fell_ went over_ hurt.*_ and twist.*_ to...</td>\n",
       "      <td>fall_ fell_ trip_ tripped_ individual slipped_...</td>\n",
       "      <td>fell (.*) bike_ no slip_ no fall_ it slipped_ ...</td>\n",
       "    </tr>\n",
       "    <tr>\n",
       "      <th>1</th>\n",
       "      <td>slips &amp; trips</td>\n",
       "      <td>trip*</td>\n",
       "      <td>walking (.*) snow_ walking (.*) ice_ walking (...</td>\n",
       "      <td>fall_ fell_ went over_ frayed_ loose_ hazard__...</td>\n",
       "      <td>fall_ fell_ trip_ tripped_ individual slipped_...</td>\n",
       "      <td>fell (.*) bike_ no slip_ no fall_ it slipped_ ...</td>\n",
       "    </tr>\n",
       "    <tr>\n",
       "      <th>2</th>\n",
       "      <td>slips &amp; trips</td>\n",
       "      <td>stumble*</td>\n",
       "      <td>causing.*cleaner to_ causing.*ip to_ causing.*...</td>\n",
       "      <td>floor_ and twist.*</td>\n",
       "      <td>hurting foot</td>\n",
       "      <td>rung.*step.*</td>\n",
       "    </tr>\n",
       "    <tr>\n",
       "      <th>3</th>\n",
       "      <td>slips &amp; trips</td>\n",
       "      <td>uneven</td>\n",
       "      <td>causing.*cleaner to_ causing.*ip to_ causing.*...</td>\n",
       "      <td>_ and twist.*</td>\n",
       "      <td>employee.* uneven.* surface_ ip.* uneven.* sur...</td>\n",
       "      <td>rung.*step.*</td>\n",
       "    </tr>\n",
       "    <tr>\n",
       "      <th>4</th>\n",
       "      <td>slips &amp; trips</td>\n",
       "      <td>fell</td>\n",
       "      <td>causing.*cleaner to_ causing.*ip to_ causing.*...</td>\n",
       "      <td>_ and twist.*_ on.*floor_ on.*ground</td>\n",
       "      <td>employee fell back.*_ ip fell back.*_ worked f...</td>\n",
       "      <td>straps_ drop.*_ fell (.*) bike_ no slip_ no fa...</td>\n",
       "    </tr>\n",
       "    <tr>\n",
       "      <th>...</th>\n",
       "      <td>...</td>\n",
       "      <td>...</td>\n",
       "      <td>...</td>\n",
       "      <td>...</td>\n",
       "      <td>...</td>\n",
       "      <td>...</td>\n",
       "    </tr>\n",
       "    <tr>\n",
       "      <th>332</th>\n",
       "      <td>office or facilities incident or injury</td>\n",
       "      <td>toilet</td>\n",
       "      <td>flood.*</td>\n",
       "      <td>overflow_ flood.*_ leak.*</td>\n",
       "      <td>NaN</td>\n",
       "      <td>NaN</td>\n",
       "    </tr>\n",
       "    <tr>\n",
       "      <th>333</th>\n",
       "      <td>vandalism</td>\n",
       "      <td>sever*</td>\n",
       "      <td>NaN</td>\n",
       "      <td>NaN</td>\n",
       "      <td>intentionally.*sever.*others</td>\n",
       "      <td>NaN</td>\n",
       "    </tr>\n",
       "    <tr>\n",
       "      <th>334</th>\n",
       "      <td>line of fire</td>\n",
       "      <td>pressure</td>\n",
       "      <td>NaN</td>\n",
       "      <td>NaN</td>\n",
       "      <td>tight.*under.*pressure_tight.*while.*pressur.*...</td>\n",
       "      <td>NaN</td>\n",
       "    </tr>\n",
       "    <tr>\n",
       "      <th>335</th>\n",
       "      <td>line of fire</td>\n",
       "      <td>line</td>\n",
       "      <td>NaN</td>\n",
       "      <td>NaN</td>\n",
       "      <td>line of fire</td>\n",
       "      <td>NaN</td>\n",
       "    </tr>\n",
       "    <tr>\n",
       "      <th>336</th>\n",
       "      <td>line of fire</td>\n",
       "      <td>release</td>\n",
       "      <td>NaN</td>\n",
       "      <td>NaN</td>\n",
       "      <td>accidental.*release.*pressure</td>\n",
       "      <td>NaN</td>\n",
       "    </tr>\n",
       "  </tbody>\n",
       "</table>\n",
       "<p>337 rows × 6 columns</p>\n",
       "</div>"
      ],
      "text/plain": [
       "                                       group   keyword  \\\n",
       "0                              slips & trips     slip*   \n",
       "1                              slips & trips     trip*   \n",
       "2                              slips & trips  stumble*   \n",
       "3                              slips & trips    uneven   \n",
       "4                              slips & trips      fell   \n",
       "..                                       ...       ...   \n",
       "332  office or facilities incident or injury    toilet   \n",
       "333                                vandalism    sever*   \n",
       "334                             line of fire  pressure   \n",
       "335                             line of fire      line   \n",
       "336                             line of fire   release   \n",
       "\n",
       "                                             rules_pre  \\\n",
       "0    walking (.*) snow_ walking (.*) ice_ walking (...   \n",
       "1    walking (.*) snow_ walking (.*) ice_ walking (...   \n",
       "2    causing.*cleaner to_ causing.*ip to_ causing.*...   \n",
       "3    causing.*cleaner to_ causing.*ip to_ causing.*...   \n",
       "4    causing.*cleaner to_ causing.*ip to_ causing.*...   \n",
       "..                                                 ...   \n",
       "332                                            flood.*   \n",
       "333                                                NaN   \n",
       "334                                                NaN   \n",
       "335                                                NaN   \n",
       "336                                                NaN   \n",
       "\n",
       "                                            rules_post  \\\n",
       "0    fall_ fell_ went over_ hurt.*_ and twist.*_ to...   \n",
       "1    fall_ fell_ went over_ frayed_ loose_ hazard__...   \n",
       "2                                   floor_ and twist.*   \n",
       "3                                        _ and twist.*   \n",
       "4                 _ and twist.*_ on.*floor_ on.*ground   \n",
       "..                                                 ...   \n",
       "332                          overflow_ flood.*_ leak.*   \n",
       "333                                                NaN   \n",
       "334                                                NaN   \n",
       "335                                                NaN   \n",
       "336                                                NaN   \n",
       "\n",
       "                                             rules_all  \\\n",
       "0    fall_ fell_ trip_ tripped_ individual slipped_...   \n",
       "1    fall_ fell_ trip_ tripped_ individual slipped_...   \n",
       "2                                         hurting foot   \n",
       "3    employee.* uneven.* surface_ ip.* uneven.* sur...   \n",
       "4    employee fell back.*_ ip fell back.*_ worked f...   \n",
       "..                                                 ...   \n",
       "332                                                NaN   \n",
       "333                       intentionally.*sever.*others   \n",
       "334  tight.*under.*pressure_tight.*while.*pressur.*...   \n",
       "335                                       line of fire   \n",
       "336                      accidental.*release.*pressure   \n",
       "\n",
       "                                                 voids  \n",
       "0    fell (.*) bike_ no slip_ no fall_ it slipped_ ...  \n",
       "1    fell (.*) bike_ no slip_ no fall_ it slipped_ ...  \n",
       "2                                         rung.*step.*  \n",
       "3                                         rung.*step.*  \n",
       "4    straps_ drop.*_ fell (.*) bike_ no slip_ no fa...  \n",
       "..                                                 ...  \n",
       "332                                                NaN  \n",
       "333                                                NaN  \n",
       "334                                                NaN  \n",
       "335                                                NaN  \n",
       "336                                                NaN  \n",
       "\n",
       "[337 rows x 6 columns]"
      ]
     },
     "execution_count": 391,
     "metadata": {},
     "output_type": "execute_result"
    }
   ],
   "source": [
    "rules = pd.read_csv('data/rule_book_kwic.csv')\n",
    "focus_group = 'competency'\n",
    "rules"
   ]
  },
  {
   "cell_type": "code",
   "execution_count": 392,
   "id": "83fdea32",
   "metadata": {},
   "outputs": [
    {
     "data": {
      "text/html": [
       "<div>\n",
       "<style scoped>\n",
       "    .dataframe tbody tr th:only-of-type {\n",
       "        vertical-align: middle;\n",
       "    }\n",
       "\n",
       "    .dataframe tbody tr th {\n",
       "        vertical-align: top;\n",
       "    }\n",
       "\n",
       "    .dataframe thead th {\n",
       "        text-align: right;\n",
       "    }\n",
       "</style>\n",
       "<table border=\"1\" class=\"dataframe\">\n",
       "  <thead>\n",
       "    <tr style=\"text-align: right;\">\n",
       "      <th></th>\n",
       "      <th>group</th>\n",
       "      <th>keyword</th>\n",
       "      <th>rules_pre</th>\n",
       "      <th>rules_post</th>\n",
       "      <th>rules_all</th>\n",
       "      <th>voids</th>\n",
       "    </tr>\n",
       "  </thead>\n",
       "  <tbody>\n",
       "    <tr>\n",
       "      <th>21</th>\n",
       "      <td>competency</td>\n",
       "      <td>train*</td>\n",
       "      <td>NaN</td>\n",
       "      <td>NaN</td>\n",
       "      <td>lack (.*) training_ lack (.*) competency</td>\n",
       "      <td>NaN</td>\n",
       "    </tr>\n",
       "  </tbody>\n",
       "</table>\n",
       "</div>"
      ],
      "text/plain": [
       "         group keyword rules_pre rules_post  \\\n",
       "21  competency  train*       NaN        NaN   \n",
       "\n",
       "                                   rules_all voids  \n",
       "21  lack (.*) training_ lack (.*) competency   NaN  "
      ]
     },
     "execution_count": 392,
     "metadata": {},
     "output_type": "execute_result"
    }
   ],
   "source": [
    "filter_rules = rules.loc[(rules['group'] == focus_group)]\n",
    "filter_rules"
   ]
  },
  {
   "cell_type": "code",
   "execution_count": 61,
   "id": "873ea4d2",
   "metadata": {},
   "outputs": [
    {
     "data": {
      "text/plain": [
       "['this is a big bag', 'of shoes. big bag', 'a second huge back pack bag']"
      ]
     },
     "execution_count": 61,
     "metadata": {},
     "output_type": "execute_result"
    }
   ],
   "source": [
    "keyword = 'bag'\n",
    "window = 5\n",
    "doc = 'this is a big bag of shoes. big bags and a second huge back pack bag of rocks'\n",
    "pre_context = \"(?:[a-zA-Z'-]+[^a-zA-Z'-]+){0,<window>}<keyword>\".replace('<keyword>', str(keyword)).replace('<window>', str(window))      \n",
    "pre_match = re.findall(pre_context, doc)\n",
    "pre_match"
   ]
  },
  {
   "cell_type": "code",
   "execution_count": 62,
   "id": "598574f2",
   "metadata": {},
   "outputs": [],
   "source": [
    "sen_toks = sent_tokenize(doc)"
   ]
  },
  {
   "cell_type": "code",
   "execution_count": 64,
   "id": "f58a8429",
   "metadata": {},
   "outputs": [
    {
     "data": {
      "text/plain": [
       "['this is a big bag of shoes.',\n",
       " 'big bags and a second huge back pack bag of rocks']"
      ]
     },
     "execution_count": 64,
     "metadata": {},
     "output_type": "execute_result"
    }
   ],
   "source": [
    "tok_list = sent_tokenize(doc)\n",
    "tok_list"
   ]
  },
  {
   "cell_type": "code",
   "execution_count": 69,
   "id": "34b5e0c2",
   "metadata": {},
   "outputs": [
    {
     "data": {
      "text/plain": [
       "[['this is a big bag'], ['big bag', 'a second huge back pack bag']]"
      ]
     },
     "execution_count": 69,
     "metadata": {},
     "output_type": "execute_result"
    }
   ],
   "source": [
    "tmp = [re.findall(pre_context, t) for t in tok_list]\n",
    "tmp"
   ]
  },
  {
   "cell_type": "code",
   "execution_count": 71,
   "id": "4e62aaf4",
   "metadata": {},
   "outputs": [],
   "source": [
    "def flatten(list_of_lists):\n",
    "    return [x for xs in list_of_lists for x in xs]"
   ]
  },
  {
   "cell_type": "code",
   "execution_count": 72,
   "id": "7b8c60ea",
   "metadata": {},
   "outputs": [
    {
     "data": {
      "text/plain": [
       "['this is a big bag', 'big bag', 'a second huge back pack bag']"
      ]
     },
     "execution_count": 72,
     "metadata": {},
     "output_type": "execute_result"
    }
   ],
   "source": [
    "flatten(tmp)"
   ]
  },
  {
   "cell_type": "code",
   "execution_count": 74,
   "id": "28a9aa97",
   "metadata": {},
   "outputs": [
    {
     "data": {
      "text/plain": [
       "['this is a big bag', 'big bag', 'a second huge back pack bag']"
      ]
     },
     "execution_count": 74,
     "metadata": {},
     "output_type": "execute_result"
    }
   ],
   "source": [
    "flatten([re.findall(pre_context, t) for t in tok_list])"
   ]
  },
  {
   "cell_type": "code",
   "execution_count": null,
   "id": "9d0e8792",
   "metadata": {},
   "outputs": [],
   "source": []
  }
 ],
 "metadata": {
  "kernelspec": {
   "display_name": "Python 3 (ipykernel)",
   "language": "python",
   "name": "python3"
  },
  "language_info": {
   "codemirror_mode": {
    "name": "ipython",
    "version": 3
   },
   "file_extension": ".py",
   "mimetype": "text/x-python",
   "name": "python",
   "nbconvert_exporter": "python",
   "pygments_lexer": "ipython3",
   "version": "3.8.12"
  }
 },
 "nbformat": 4,
 "nbformat_minor": 5
}
