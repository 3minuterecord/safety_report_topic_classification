{
 "cells": [
  {
   "cell_type": "code",
   "execution_count": 1,
   "id": "a56ea427",
   "metadata": {
    "executionInfo": {
     "elapsed": 3436,
     "status": "ok",
     "timestamp": 1663186967739,
     "user": {
      "displayName": "Jason Payne",
      "userId": "02333409538928721620"
     },
     "user_tz": -60
    },
    "id": "a56ea427"
   },
   "outputs": [],
   "source": [
    "# Set random seeds\n",
    "from numpy.random import seed\n",
    "seed(156)\n",
    "import tensorflow as tf\n",
    "tf.random.set_seed(256)"
   ]
  },
  {
   "cell_type": "code",
   "execution_count": 2,
   "id": "V9RaD-LaNeuJ",
   "metadata": {
    "colab": {
     "base_uri": "https://localhost:8080/"
    },
    "executionInfo": {
     "elapsed": 18731,
     "status": "ok",
     "timestamp": 1663186986438,
     "user": {
      "displayName": "Jason Payne",
      "userId": "02333409538928721620"
     },
     "user_tz": -60
    },
    "id": "V9RaD-LaNeuJ",
    "outputId": "c62ee864-5047-4f5a-fdf6-489651ce7a89"
   },
   "outputs": [
    {
     "name": "stdout",
     "output_type": "stream",
     "text": [
      "Mounted at /content/drive\n"
     ]
    }
   ],
   "source": [
    "from google.colab import drive\n",
    "drive.mount('/content/drive')"
   ]
  },
  {
   "cell_type": "code",
   "execution_count": 3,
   "id": "Mzs4j7P5OUXE",
   "metadata": {
    "colab": {
     "base_uri": "https://localhost:8080/"
    },
    "executionInfo": {
     "elapsed": 304,
     "status": "ok",
     "timestamp": 1663186986735,
     "user": {
      "displayName": "Jason Payne",
      "userId": "02333409538928721620"
     },
     "user_tz": -60
    },
    "id": "Mzs4j7P5OUXE",
    "outputId": "bd8238a1-a982-4952-f602-8d5938b2ff16"
   },
   "outputs": [
    {
     "name": "stdout",
     "output_type": "stream",
     "text": [
      "/content/drive/MyDrive/Colab_Notebooks/safety_report_tc\n"
     ]
    }
   ],
   "source": [
    "%cd /content/drive/MyDrive/Colab_Notebooks/safety_report_tc"
   ]
  },
  {
   "cell_type": "code",
   "execution_count": 4,
   "id": "Q26BRcgeNe3P",
   "metadata": {
    "colab": {
     "base_uri": "https://localhost:8080/"
    },
    "executionInfo": {
     "elapsed": 5559,
     "status": "ok",
     "timestamp": 1663186992287,
     "user": {
      "displayName": "Jason Payne",
      "userId": "02333409538928721620"
     },
     "user_tz": -60
    },
    "id": "Q26BRcgeNe3P",
    "outputId": "94565ddc-4a6c-4bfa-ab14-898c42a6ffdc"
   },
   "outputs": [
    {
     "name": "stdout",
     "output_type": "stream",
     "text": [
      "Looking in indexes: https://pypi.org/simple, https://us-python.pkg.dev/colab-wheels/public/simple/\n",
      "Collecting contractions\n",
      "  Downloading contractions-0.1.72-py2.py3-none-any.whl (8.3 kB)\n",
      "Collecting textsearch>=0.0.21\n",
      "  Downloading textsearch-0.0.24-py2.py3-none-any.whl (7.6 kB)\n",
      "Collecting anyascii\n",
      "  Downloading anyascii-0.3.1-py3-none-any.whl (287 kB)\n",
      "\u001b[K     |████████████████████████████████| 287 kB 4.0 MB/s \n",
      "\u001b[?25hCollecting pyahocorasick\n",
      "  Downloading pyahocorasick-1.4.4-cp37-cp37m-manylinux_2_17_x86_64.manylinux2014_x86_64.whl (106 kB)\n",
      "\u001b[K     |████████████████████████████████| 106 kB 53.9 MB/s \n",
      "\u001b[?25hInstalling collected packages: pyahocorasick, anyascii, textsearch, contractions\n",
      "Successfully installed anyascii-0.3.1 contractions-0.1.72 pyahocorasick-1.4.4 textsearch-0.0.24\n"
     ]
    }
   ],
   "source": [
    "!pip install contractions"
   ]
  },
  {
   "cell_type": "code",
   "execution_count": 5,
   "id": "U6Pc4GYvNe_r",
   "metadata": {
    "executionInfo": {
     "elapsed": 1306,
     "status": "ok",
     "timestamp": 1663186993587,
     "user": {
      "displayName": "Jason Payne",
      "userId": "02333409538928721620"
     },
     "user_tz": -60
    },
    "id": "U6Pc4GYvNe_r"
   },
   "outputs": [],
   "source": [
    "# Importing required libraries\n",
    "import pandas as pd\n",
    "import re\n",
    "import requests\n",
    "import nltk\n",
    "import inflect\n",
    "import contractions\n",
    "from bs4 import BeautifulSoup\n",
    "import re, string, unicodedata\n",
    "from nltk import word_tokenize, sent_tokenize\n",
    "from nltk.corpus import stopwords\n",
    "from nltk.stem import LancasterStemmer, WordNetLemmatizer\n",
    "from sklearn.preprocessing import LabelEncoder\n",
    "from tqdm.std import tqdm\n",
    "from IPython.display import display, HTML\n",
    "import time\n",
    "import textwrap\n",
    "import requests\n",
    "import json"
   ]
  },
  {
   "cell_type": "code",
   "execution_count": 6,
   "id": "Nc7aftWdNfHV",
   "metadata": {
    "colab": {
     "base_uri": "https://localhost:8080/"
    },
    "executionInfo": {
     "elapsed": 1211,
     "status": "ok",
     "timestamp": 1663186994795,
     "user": {
      "displayName": "Jason Payne",
      "userId": "02333409538928721620"
     },
     "user_tz": -60
    },
    "id": "Nc7aftWdNfHV",
    "outputId": "800d0727-f928-498c-fa5a-6cbf7e485b8a"
   },
   "outputs": [
    {
     "name": "stderr",
     "output_type": "stream",
     "text": [
      "[nltk_data] Downloading package stopwords to /root/nltk_data...\n",
      "[nltk_data]   Unzipping corpora/stopwords.zip.\n",
      "[nltk_data] Downloading package wordnet to /root/nltk_data...\n",
      "[nltk_data] Downloading package omw-1.4 to /root/nltk_data...\n",
      "[nltk_data] Downloading package punkt to /root/nltk_data...\n",
      "[nltk_data]   Unzipping tokenizers/punkt.zip.\n"
     ]
    },
    {
     "data": {
      "text/plain": [
       "True"
      ]
     },
     "execution_count": 6,
     "metadata": {},
     "output_type": "execute_result"
    }
   ],
   "source": [
    "# Install required nltk resources\n",
    "nltk.download('stopwords')\n",
    "nltk.download('wordnet')\n",
    "nltk.download('omw-1.4')\n",
    "nltk.download('punkt')"
   ]
  },
  {
   "cell_type": "code",
   "execution_count": 7,
   "id": "pONhPCBeNi8j",
   "metadata": {
    "colab": {
     "base_uri": "https://localhost:8080/",
     "height": 419
    },
    "executionInfo": {
     "elapsed": 1560,
     "status": "ok",
     "timestamp": 1663186996350,
     "user": {
      "displayName": "Jason Payne",
      "userId": "02333409538928721620"
     },
     "user_tz": -60
    },
    "id": "pONhPCBeNi8j",
    "outputId": "611e1fcd-b6fd-44b1-93c4-b74e43199541"
   },
   "outputs": [
    {
     "data": {
      "text/html": [
       "\n",
       "  <div id=\"df-1dcc95ab-9634-4b60-a018-92aac4f837b6\">\n",
       "    <div class=\"colab-df-container\">\n",
       "      <div>\n",
       "<style scoped>\n",
       "    .dataframe tbody tr th:only-of-type {\n",
       "        vertical-align: middle;\n",
       "    }\n",
       "\n",
       "    .dataframe tbody tr th {\n",
       "        vertical-align: top;\n",
       "    }\n",
       "\n",
       "    .dataframe thead th {\n",
       "        text-align: right;\n",
       "    }\n",
       "</style>\n",
       "<table border=\"1\" class=\"dataframe\">\n",
       "  <thead>\n",
       "    <tr style=\"text-align: right;\">\n",
       "      <th></th>\n",
       "      <th>text</th>\n",
       "      <th>category</th>\n",
       "    </tr>\n",
       "  </thead>\n",
       "  <tbody>\n",
       "    <tr>\n",
       "      <th>0</th>\n",
       "      <td>foreign body entered employee's (l) eye while ...</td>\n",
       "      <td>0</td>\n",
       "    </tr>\n",
       "    <tr>\n",
       "      <th>1</th>\n",
       "      <td>drainage pipe damaged at ~2.2 m depth. see sup...</td>\n",
       "      <td>0</td>\n",
       "    </tr>\n",
       "    <tr>\n",
       "      <th>2</th>\n",
       "      <td>robodrill spider excavator being operated when...</td>\n",
       "      <td>1</td>\n",
       "    </tr>\n",
       "    <tr>\n",
       "      <th>3</th>\n",
       "      <td>pressure hose made contact with light fitting ...</td>\n",
       "      <td>0</td>\n",
       "    </tr>\n",
       "    <tr>\n",
       "      <th>4</th>\n",
       "      <td>nacap 30t hitachi hyd hose split resultong in ...</td>\n",
       "      <td>0</td>\n",
       "    </tr>\n",
       "    <tr>\n",
       "      <th>...</th>\n",
       "      <td>...</td>\n",
       "      <td>...</td>\n",
       "    </tr>\n",
       "    <tr>\n",
       "      <th>93852</th>\n",
       "      <td>fall on water vehicle an employee was using an...</td>\n",
       "      <td>0</td>\n",
       "    </tr>\n",
       "    <tr>\n",
       "      <th>93853</th>\n",
       "      <td>other fall to lower level, unspecified an empl...</td>\n",
       "      <td>0</td>\n",
       "    </tr>\n",
       "    <tr>\n",
       "      <th>93854</th>\n",
       "      <td>injured by slipping or swinging object held by...</td>\n",
       "      <td>0</td>\n",
       "    </tr>\n",
       "    <tr>\n",
       "      <th>93855</th>\n",
       "      <td>direct exposure to electricity, greater than 2...</td>\n",
       "      <td>0</td>\n",
       "    </tr>\n",
       "    <tr>\n",
       "      <th>93856</th>\n",
       "      <td>hitting, kicking, beating, shoving a nurse was...</td>\n",
       "      <td>0</td>\n",
       "    </tr>\n",
       "  </tbody>\n",
       "</table>\n",
       "<p>93857 rows × 2 columns</p>\n",
       "</div>\n",
       "      <button class=\"colab-df-convert\" onclick=\"convertToInteractive('df-1dcc95ab-9634-4b60-a018-92aac4f837b6')\"\n",
       "              title=\"Convert this dataframe to an interactive table.\"\n",
       "              style=\"display:none;\">\n",
       "        \n",
       "  <svg xmlns=\"http://www.w3.org/2000/svg\" height=\"24px\"viewBox=\"0 0 24 24\"\n",
       "       width=\"24px\">\n",
       "    <path d=\"M0 0h24v24H0V0z\" fill=\"none\"/>\n",
       "    <path d=\"M18.56 5.44l.94 2.06.94-2.06 2.06-.94-2.06-.94-.94-2.06-.94 2.06-2.06.94zm-11 1L8.5 8.5l.94-2.06 2.06-.94-2.06-.94L8.5 2.5l-.94 2.06-2.06.94zm10 10l.94 2.06.94-2.06 2.06-.94-2.06-.94-.94-2.06-.94 2.06-2.06.94z\"/><path d=\"M17.41 7.96l-1.37-1.37c-.4-.4-.92-.59-1.43-.59-.52 0-1.04.2-1.43.59L10.3 9.45l-7.72 7.72c-.78.78-.78 2.05 0 2.83L4 21.41c.39.39.9.59 1.41.59.51 0 1.02-.2 1.41-.59l7.78-7.78 2.81-2.81c.8-.78.8-2.07 0-2.86zM5.41 20L4 18.59l7.72-7.72 1.47 1.35L5.41 20z\"/>\n",
       "  </svg>\n",
       "      </button>\n",
       "      \n",
       "  <style>\n",
       "    .colab-df-container {\n",
       "      display:flex;\n",
       "      flex-wrap:wrap;\n",
       "      gap: 12px;\n",
       "    }\n",
       "\n",
       "    .colab-df-convert {\n",
       "      background-color: #E8F0FE;\n",
       "      border: none;\n",
       "      border-radius: 50%;\n",
       "      cursor: pointer;\n",
       "      display: none;\n",
       "      fill: #1967D2;\n",
       "      height: 32px;\n",
       "      padding: 0 0 0 0;\n",
       "      width: 32px;\n",
       "    }\n",
       "\n",
       "    .colab-df-convert:hover {\n",
       "      background-color: #E2EBFA;\n",
       "      box-shadow: 0px 1px 2px rgba(60, 64, 67, 0.3), 0px 1px 3px 1px rgba(60, 64, 67, 0.15);\n",
       "      fill: #174EA6;\n",
       "    }\n",
       "\n",
       "    [theme=dark] .colab-df-convert {\n",
       "      background-color: #3B4455;\n",
       "      fill: #D2E3FC;\n",
       "    }\n",
       "\n",
       "    [theme=dark] .colab-df-convert:hover {\n",
       "      background-color: #434B5C;\n",
       "      box-shadow: 0px 1px 3px 1px rgba(0, 0, 0, 0.15);\n",
       "      filter: drop-shadow(0px 1px 2px rgba(0, 0, 0, 0.3));\n",
       "      fill: #FFFFFF;\n",
       "    }\n",
       "  </style>\n",
       "\n",
       "      <script>\n",
       "        const buttonEl =\n",
       "          document.querySelector('#df-1dcc95ab-9634-4b60-a018-92aac4f837b6 button.colab-df-convert');\n",
       "        buttonEl.style.display =\n",
       "          google.colab.kernel.accessAllowed ? 'block' : 'none';\n",
       "\n",
       "        async function convertToInteractive(key) {\n",
       "          const element = document.querySelector('#df-1dcc95ab-9634-4b60-a018-92aac4f837b6');\n",
       "          const dataTable =\n",
       "            await google.colab.kernel.invokeFunction('convertToInteractive',\n",
       "                                                     [key], {});\n",
       "          if (!dataTable) return;\n",
       "\n",
       "          const docLinkHtml = 'Like what you see? Visit the ' +\n",
       "            '<a target=\"_blank\" href=https://colab.research.google.com/notebooks/data_table.ipynb>data table notebook</a>'\n",
       "            + ' to learn more about interactive tables.';\n",
       "          element.innerHTML = '';\n",
       "          dataTable['output_type'] = 'display_data';\n",
       "          await google.colab.output.renderOutput(dataTable, element);\n",
       "          const docLink = document.createElement('div');\n",
       "          docLink.innerHTML = docLinkHtml;\n",
       "          element.appendChild(docLink);\n",
       "        }\n",
       "      </script>\n",
       "    </div>\n",
       "  </div>\n",
       "  "
      ],
      "text/plain": [
       "                                                    text  category\n",
       "0      foreign body entered employee's (l) eye while ...         0\n",
       "1      drainage pipe damaged at ~2.2 m depth. see sup...         0\n",
       "2      robodrill spider excavator being operated when...         1\n",
       "3      pressure hose made contact with light fitting ...         0\n",
       "4      nacap 30t hitachi hyd hose split resultong in ...         0\n",
       "...                                                  ...       ...\n",
       "93852  fall on water vehicle an employee was using an...         0\n",
       "93853  other fall to lower level, unspecified an empl...         0\n",
       "93854  injured by slipping or swinging object held by...         0\n",
       "93855  direct exposure to electricity, greater than 2...         0\n",
       "93856  hitting, kicking, beating, shoving a nurse was...         0\n",
       "\n",
       "[93857 rows x 2 columns]"
      ]
     },
     "execution_count": 7,
     "metadata": {},
     "output_type": "execute_result"
    }
   ],
   "source": [
    "# Pick a minority category of interest\n",
    "focus_cat = 'hydraulic fluid or oil leak'\n",
    "fn = 'output/hydraulic fluid or oil leak_577_out_df_temp.csv'\n",
    "df = pd.read_csv(fn)\n",
    "df = df[['text', 'category']]\n",
    "\n",
    "# Convert category to binary 1/0\n",
    "# Remeber that 1 is a rule-book hit & not necessarily the 'truth'\n",
    "df['category'] = df['category'].apply(lambda x : x.replace(\"*** Not Classified\", \"0\"))\n",
    "df['category'] = df['category'].apply(lambda x : x.replace(focus_cat, \"1\"))\n",
    "df['category'] = df['category'].astype(int)\n",
    "df"
   ]
  },
  {
   "cell_type": "markdown",
   "id": "gUyNZLehNv0a",
   "metadata": {
    "id": "gUyNZLehNv0a"
   },
   "source": [
    "Inspired by\n",
    "https://github.com/pashupati98/text-classification"
   ]
  },
  {
   "cell_type": "markdown",
   "id": "HLXX3w8aObBF",
   "metadata": {
    "id": "HLXX3w8aObBF"
   },
   "source": [
    "## Data Preparation"
   ]
  },
  {
   "cell_type": "code",
   "execution_count": 8,
   "id": "gDT1rbEKNiyJ",
   "metadata": {
    "executionInfo": {
     "elapsed": 354,
     "status": "ok",
     "timestamp": 1663186996699,
     "user": {
      "displayName": "Jason Payne",
      "userId": "02333409538928721620"
     },
     "user_tz": -60
    },
    "id": "gDT1rbEKNiyJ"
   },
   "outputs": [],
   "source": [
    "STOP_SENTS = ['migrated from legacy cairs', 'migrated from cairs']\n",
    "\n",
    "f = open('data/us2gb.json')\n",
    "US2GB = json.load(f)\n",
    "f.close()\n",
    "\n",
    "def remove_stop_sentences(in_doc):\n",
    "    for i, sen in enumerate(STOP_SENTS):\n",
    "        if i==0:\n",
    "            rep_doc = in_doc\n",
    "        else:\n",
    "            rep_doc = out_doc\n",
    "        out_doc = rep_doc.replace(f'{sen}', '') \n",
    "    out_doc = re.sub(' +', ' ', out_doc)    \n",
    "    return(out_doc)\n",
    "\n",
    "def americanize(in_doc):\n",
    "    for american_spelling, british_spelling in US2GB.items(): \n",
    "        in_doc = re.sub(f'(?<![a-zA-Z]){british_spelling}(?![a-z-Z])', american_spelling, in_doc)\n",
    "    return(in_doc)\n",
    "\n",
    "# Main denoising function\n",
    "def denoise_text(txt):\n",
    "    # Strip html if any.\n",
    "    soup = BeautifulSoup(txt, \"html.parser\")\n",
    "    txt = soup.get_text()\n",
    "\n",
    "    # Replace contractions in string of text. For ex. didn't -> did not\n",
    "    txt = contractions.fix(txt)\n",
    "\n",
    "    # Change to lower case\n",
    "    txt = txt.lower()\n",
    "\n",
    "    # Remove any defined stop sentences\n",
    "    txt = remove_stop_sentences(txt)\n",
    "\n",
    "    # Convert British to American spelling\n",
    "    #txt = americanize(txt)\n",
    "    return txt"
   ]
  },
  {
   "cell_type": "code",
   "execution_count": 9,
   "id": "ihAtCnioNisN",
   "metadata": {
    "colab": {
     "base_uri": "https://localhost:8080/",
     "height": 37
    },
    "executionInfo": {
     "elapsed": 11,
     "status": "ok",
     "timestamp": 1663186996700,
     "user": {
      "displayName": "Jason Payne",
      "userId": "02333409538928721620"
     },
     "user_tz": -60
    },
    "id": "ihAtCnioNisN",
    "outputId": "c548cdbe-d352-468e-9010-9ecb04582a78"
   },
   "outputs": [
    {
     "data": {
      "application/vnd.google.colaboratory.intrinsic+json": {
       "type": "string"
      },
      "text/plain": [
       "'she did not tell me anything about what is going to happen in the end but did want to optimise the colours '"
      ]
     },
     "execution_count": 9,
     "metadata": {},
     "output_type": "execute_result"
    }
   ],
   "source": [
    "# Test the denoising function\n",
    "chk_text = \"<p>she didn't TELL me anything </br> about what's gonna <html> happen in the end but did want to optimise the colours migrated from cairs\"\n",
    "denoise_text(chk_text)"
   ]
  },
  {
   "cell_type": "code",
   "execution_count": 10,
   "id": "BJ38sct0N0Cd",
   "metadata": {
    "executionInfo": {
     "elapsed": 15,
     "status": "ok",
     "timestamp": 1663186998126,
     "user": {
      "displayName": "Jason Payne",
      "userId": "02333409538928721620"
     },
     "user_tz": -60
    },
    "id": "BJ38sct0N0Cd"
   },
   "outputs": [],
   "source": [
    "# Normalization may include everal step\n",
    "# Each function below fulfills a (potential) step in normalization\n",
    "\n",
    "def remove_non_ascii(words):\n",
    "    \"\"\"Remove non-ASCII characters from list of tokenized words\"\"\"\n",
    "    new_words = []\n",
    "    for word in words:\n",
    "        new_word = unicodedata.normalize('NFKD', word).encode('ascii', 'ignore').decode('utf-8', 'ignore')\n",
    "        new_words.append(new_word)\n",
    "    return new_words\n",
    "\n",
    "def to_lowercase(words):\n",
    "    \"\"\"Convert all characters to lowercase from list of tokenized words\"\"\"\n",
    "    new_words = []\n",
    "    for word in words:\n",
    "        new_word = word.lower()\n",
    "        new_words.append(new_word)\n",
    "    return new_words\n",
    "\n",
    "def remove_punctuation(words):\n",
    "    \"\"\"Remove punctuation from list of tokenized words\"\"\"\n",
    "    new_words = []\n",
    "    for word in words:\n",
    "        new_word = re.sub(r'[^\\w\\s]', '', word)\n",
    "        if new_word != '':\n",
    "            new_words.append(new_word)\n",
    "    return new_words\n",
    "\n",
    "def replace_numbers(words):\n",
    "    \"\"\"Replace all interger occurrences in list of tokenized words with textual representation\"\"\"\n",
    "    p = inflect.engine()\n",
    "    new_words = []\n",
    "    for word in words:\n",
    "        if word.isdigit():\n",
    "            new_word = p.number_to_words(word)\n",
    "            new_words.append(new_word)\n",
    "        else:\n",
    "            new_words.append(word)\n",
    "    return new_words\n",
    "\n",
    "def remove_stopwords(words):\n",
    "    \"\"\"Remove stop words from list of tokenized words\"\"\"\n",
    "    new_words = []\n",
    "    for word in words:\n",
    "        if word not in stopwords.words('english'):\n",
    "            new_words.append(word)\n",
    "    return new_words\n",
    "\n",
    "def stem_words(words):\n",
    "    \"\"\"Stem words in list of tokenized words\"\"\"\n",
    "    stemmer = LancasterStemmer()\n",
    "    stems = []\n",
    "    for word in words:\n",
    "        stem = stemmer.stem(word)\n",
    "        stems.append(stem)\n",
    "    return stems\n",
    "\n",
    "def lemmatize_verbs(words):\n",
    "    \"\"\"Lemmatize verbs in list of tokenized words\"\"\"\n",
    "    lemmatizer = WordNetLemmatizer()\n",
    "    lemmas = []\n",
    "    for word in words:\n",
    "        lemma = lemmatizer.lemmatize(word, pos='v')\n",
    "        lemmas.append(lemma)\n",
    "    return lemmas\n",
    "\n",
    "# Define the normalization pipeline\n",
    "# Comment out steps not used\n",
    "def normalize_text(words, lema=False, stem=False, stop=False):\n",
    "    words = remove_non_ascii(words)\n",
    "    words = to_lowercase(words)\n",
    "    words = remove_punctuation(words)\n",
    "    words = replace_numbers(words)\n",
    "    # TODO - Experiment with the below options\n",
    "    # Inuitively, stopwords should not be removed as they may impact\n",
    "    # semantic meaning.\n",
    "    if stop: words = remove_stopwords(words) \n",
    "    if stem: words = stem_words(words)\n",
    "    if lema: words = lemmatize_verbs(words)\n",
    "    \n",
    "    return words\n"
   ]
  },
  {
   "cell_type": "code",
   "execution_count": 11,
   "id": "4SdKlQKZNz-R",
   "metadata": {
    "colab": {
     "base_uri": "https://localhost:8080/"
    },
    "executionInfo": {
     "elapsed": 4551,
     "status": "ok",
     "timestamp": 1663187008524,
     "user": {
      "displayName": "Jason Payne",
      "userId": "02333409538928721620"
     },
     "user_tz": -60
    },
    "id": "4SdKlQKZNz-R",
    "outputId": "0c831af6-17bd-4c1f-a612-4acf8438f650"
   },
   "outputs": [
    {
     "name": "stdout",
     "output_type": "stream",
     "text": [
      "Remove non_ascii:  ['h', '', '', '1']\n",
      "To lowercase:  ['hello', 'hidden', 'want', 'going']\n",
      "Remove punctuation:  ['hello', 'how', 'done']\n",
      "Replace numbers:  ['one', 'two', 'three']\n",
      "Remove stopwords:  ['amazing', 'yes']\n",
      "Stem words:  ['beauty', 'fly', 'wait']\n",
      "Lemmatize verbs:  ['hide', 'walk', 'run']\n",
      "Normalize text:  ['hidden', 'in', 'the', 'almirah', 'he', 'waited', 'two', 'hours']\n"
     ]
    }
   ],
   "source": [
    "# Let's test the individual normalization functions\n",
    "print(\"Remove non_ascii: \", remove_non_ascii(['h', 'ॐ', '©', '1']))\n",
    "print(\"To lowercase: \", to_lowercase(['HELLO', 'hiDDen', 'wanT', 'GOING']))\n",
    "print(\"Remove punctuation: \", remove_punctuation(['hello!!', 'how?', 'done,']))\n",
    "print(\"Replace numbers: \", replace_numbers(['1', '2', '3']))\n",
    "print(\"Remove stopwords: \", remove_stopwords(['this', 'and', 'amazing', 'not', 'no', 'yes']))\n",
    "print(\"Stem words: \", stem_words(['beautiful', 'flying', 'waited']))\n",
    "print(\"Lemmatize verbs: \", lemmatize_verbs(['hidden', 'walking', 'ran']))\n",
    "\n",
    "# Now apply the pipeline (on a test)\n",
    "print(\"Normalize text: \", normalize_text(['hidden', 'in', 'the', 'ALMIRAH', 'he', 'WAited', '2', 'ॐ', 'hours!!']))"
   ]
  },
  {
   "cell_type": "code",
   "execution_count": 12,
   "id": "CQ-X5yVON5IY",
   "metadata": {
    "colab": {
     "base_uri": "https://localhost:8080/"
    },
    "executionInfo": {
     "elapsed": 9,
     "status": "ok",
     "timestamp": 1663187008524,
     "user": {
      "displayName": "Jason Payne",
      "userId": "02333409538928721620"
     },
     "user_tz": -60
    },
    "id": "CQ-X5yVON5IY",
    "outputId": "864cdde1-0644-4a53-f871-3c73fce0cf77"
   },
   "outputs": [
    {
     "name": "stdout",
     "output_type": "stream",
     "text": [
      "tokenize results : ['he', 'did', 'not', 'say', 'anything', 'about', 'what', 'is', 'going', 'to', 'happen']\n"
     ]
    }
   ],
   "source": [
    "# Tokenize text into words\n",
    "def simple_tokenize(text):\n",
    "    return nltk.word_tokenize(text)\n",
    "\n",
    "# Check the function\n",
    "sample_text = 'he did not say anything  about what is going to  happen'\n",
    "print(\"tokenize results :\", simple_tokenize(sample_text))"
   ]
  },
  {
   "cell_type": "code",
   "execution_count": 13,
   "id": "ZIYcY1g3N4_L",
   "metadata": {
    "executionInfo": {
     "elapsed": 5,
     "status": "ok",
     "timestamp": 1663187008524,
     "user": {
      "displayName": "Jason Payne",
      "userId": "02333409538928721620"
     },
     "user_tz": -60
    },
    "id": "ZIYcY1g3N4_L"
   },
   "outputs": [],
   "source": [
    "# Now create a simple function to denoise, normalize and apply simple tokeniser to text\n",
    "def text_prepare(text):\n",
    "    text = denoise_text(text)\n",
    "    text = ' '.join([x for x in normalize_text(simple_tokenize(text))])\n",
    "    return text"
   ]
  },
  {
   "cell_type": "code",
   "execution_count": 14,
   "id": "bKelUWN5N9Qm",
   "metadata": {
    "colab": {
     "base_uri": "https://localhost:8080/",
     "height": 37
    },
    "executionInfo": {
     "elapsed": 6,
     "status": "ok",
     "timestamp": 1663187008525,
     "user": {
      "displayName": "Jason Payne",
      "userId": "02333409538928721620"
     },
     "user_tz": -60
    },
    "id": "bKelUWN5N9Qm",
    "outputId": "a088c456-c78b-4b1a-9b13-3abb3728d6f0"
   },
   "outputs": [
    {
     "data": {
      "application/vnd.google.colaboratory.intrinsic+json": {
       "type": "string"
      },
      "text/plain": [
       "'i am not going to go to the shop to visualise'"
      ]
     },
     "execution_count": 14,
     "metadata": {},
     "output_type": "execute_result"
    }
   ],
   "source": [
    "re.sub(\" s \", \" \", text_prepare(\"I am not gonna go to the shop's to visualise\"))"
   ]
  },
  {
   "cell_type": "code",
   "execution_count": 15,
   "id": "bCgO7iCRN9Je",
   "metadata": {
    "colab": {
     "base_uri": "https://localhost:8080/",
     "height": 238
    },
    "executionInfo": {
     "elapsed": 115087,
     "status": "ok",
     "timestamp": 1663187148692,
     "user": {
      "displayName": "Jason Payne",
      "userId": "02333409538928721620"
     },
     "user_tz": -60
    },
    "id": "bCgO7iCRN9Je",
    "outputId": "16494242-f573-4157-d5fa-5f14b9ce6100"
   },
   "outputs": [
    {
     "name": "stderr",
     "output_type": "stream",
     "text": [
      "100%|██████████| 93857/93857 [01:54<00:00, 817.93it/s] "
     ]
    },
    {
     "name": "stdout",
     "output_type": "stream",
     "text": [
      "Done!\n"
     ]
    },
    {
     "name": "stderr",
     "output_type": "stream",
     "text": [
      "\n"
     ]
    },
    {
     "data": {
      "text/html": [
       "\n",
       "  <div id=\"df-5bb4c1dc-cb55-49bb-ae2e-9a4a6890dfd3\">\n",
       "    <div class=\"colab-df-container\">\n",
       "      <div>\n",
       "<style scoped>\n",
       "    .dataframe tbody tr th:only-of-type {\n",
       "        vertical-align: middle;\n",
       "    }\n",
       "\n",
       "    .dataframe tbody tr th {\n",
       "        vertical-align: top;\n",
       "    }\n",
       "\n",
       "    .dataframe thead th {\n",
       "        text-align: right;\n",
       "    }\n",
       "</style>\n",
       "<table border=\"1\" class=\"dataframe\">\n",
       "  <thead>\n",
       "    <tr style=\"text-align: right;\">\n",
       "      <th></th>\n",
       "      <th>text</th>\n",
       "      <th>category</th>\n",
       "    </tr>\n",
       "  </thead>\n",
       "  <tbody>\n",
       "    <tr>\n",
       "      <th>0</th>\n",
       "      <td>foreign body entered employee s l eye while gr...</td>\n",
       "      <td>0</td>\n",
       "    </tr>\n",
       "    <tr>\n",
       "      <th>1</th>\n",
       "      <td>drainage pipe damaged at twenty-two m depth se...</td>\n",
       "      <td>0</td>\n",
       "    </tr>\n",
       "    <tr>\n",
       "      <th>2</th>\n",
       "      <td>robodrill spider excavator being operated when...</td>\n",
       "      <td>1</td>\n",
       "    </tr>\n",
       "    <tr>\n",
       "      <th>3</th>\n",
       "      <td>pressure hose made contact with light fitting ...</td>\n",
       "      <td>0</td>\n",
       "    </tr>\n",
       "    <tr>\n",
       "      <th>4</th>\n",
       "      <td>nacap 30t hitachi hyd hose split resultong in ...</td>\n",
       "      <td>0</td>\n",
       "    </tr>\n",
       "  </tbody>\n",
       "</table>\n",
       "</div>\n",
       "      <button class=\"colab-df-convert\" onclick=\"convertToInteractive('df-5bb4c1dc-cb55-49bb-ae2e-9a4a6890dfd3')\"\n",
       "              title=\"Convert this dataframe to an interactive table.\"\n",
       "              style=\"display:none;\">\n",
       "        \n",
       "  <svg xmlns=\"http://www.w3.org/2000/svg\" height=\"24px\"viewBox=\"0 0 24 24\"\n",
       "       width=\"24px\">\n",
       "    <path d=\"M0 0h24v24H0V0z\" fill=\"none\"/>\n",
       "    <path d=\"M18.56 5.44l.94 2.06.94-2.06 2.06-.94-2.06-.94-.94-2.06-.94 2.06-2.06.94zm-11 1L8.5 8.5l.94-2.06 2.06-.94-2.06-.94L8.5 2.5l-.94 2.06-2.06.94zm10 10l.94 2.06.94-2.06 2.06-.94-2.06-.94-.94-2.06-.94 2.06-2.06.94z\"/><path d=\"M17.41 7.96l-1.37-1.37c-.4-.4-.92-.59-1.43-.59-.52 0-1.04.2-1.43.59L10.3 9.45l-7.72 7.72c-.78.78-.78 2.05 0 2.83L4 21.41c.39.39.9.59 1.41.59.51 0 1.02-.2 1.41-.59l7.78-7.78 2.81-2.81c.8-.78.8-2.07 0-2.86zM5.41 20L4 18.59l7.72-7.72 1.47 1.35L5.41 20z\"/>\n",
       "  </svg>\n",
       "      </button>\n",
       "      \n",
       "  <style>\n",
       "    .colab-df-container {\n",
       "      display:flex;\n",
       "      flex-wrap:wrap;\n",
       "      gap: 12px;\n",
       "    }\n",
       "\n",
       "    .colab-df-convert {\n",
       "      background-color: #E8F0FE;\n",
       "      border: none;\n",
       "      border-radius: 50%;\n",
       "      cursor: pointer;\n",
       "      display: none;\n",
       "      fill: #1967D2;\n",
       "      height: 32px;\n",
       "      padding: 0 0 0 0;\n",
       "      width: 32px;\n",
       "    }\n",
       "\n",
       "    .colab-df-convert:hover {\n",
       "      background-color: #E2EBFA;\n",
       "      box-shadow: 0px 1px 2px rgba(60, 64, 67, 0.3), 0px 1px 3px 1px rgba(60, 64, 67, 0.15);\n",
       "      fill: #174EA6;\n",
       "    }\n",
       "\n",
       "    [theme=dark] .colab-df-convert {\n",
       "      background-color: #3B4455;\n",
       "      fill: #D2E3FC;\n",
       "    }\n",
       "\n",
       "    [theme=dark] .colab-df-convert:hover {\n",
       "      background-color: #434B5C;\n",
       "      box-shadow: 0px 1px 3px 1px rgba(0, 0, 0, 0.15);\n",
       "      filter: drop-shadow(0px 1px 2px rgba(0, 0, 0, 0.3));\n",
       "      fill: #FFFFFF;\n",
       "    }\n",
       "  </style>\n",
       "\n",
       "      <script>\n",
       "        const buttonEl =\n",
       "          document.querySelector('#df-5bb4c1dc-cb55-49bb-ae2e-9a4a6890dfd3 button.colab-df-convert');\n",
       "        buttonEl.style.display =\n",
       "          google.colab.kernel.accessAllowed ? 'block' : 'none';\n",
       "\n",
       "        async function convertToInteractive(key) {\n",
       "          const element = document.querySelector('#df-5bb4c1dc-cb55-49bb-ae2e-9a4a6890dfd3');\n",
       "          const dataTable =\n",
       "            await google.colab.kernel.invokeFunction('convertToInteractive',\n",
       "                                                     [key], {});\n",
       "          if (!dataTable) return;\n",
       "\n",
       "          const docLinkHtml = 'Like what you see? Visit the ' +\n",
       "            '<a target=\"_blank\" href=https://colab.research.google.com/notebooks/data_table.ipynb>data table notebook</a>'\n",
       "            + ' to learn more about interactive tables.';\n",
       "          element.innerHTML = '';\n",
       "          dataTable['output_type'] = 'display_data';\n",
       "          await google.colab.output.renderOutput(dataTable, element);\n",
       "          const docLink = document.createElement('div');\n",
       "          docLink.innerHTML = docLinkHtml;\n",
       "          element.appendChild(docLink);\n",
       "        }\n",
       "      </script>\n",
       "    </div>\n",
       "  </div>\n",
       "  "
      ],
      "text/plain": [
       "                                                text  category\n",
       "0  foreign body entered employee s l eye while gr...         0\n",
       "1  drainage pipe damaged at twenty-two m depth se...         0\n",
       "2  robodrill spider excavator being operated when...         1\n",
       "3  pressure hose made contact with light fitting ...         0\n",
       "4  nacap 30t hitachi hyd hose split resultong in ...         0"
      ]
     },
     "execution_count": 15,
     "metadata": {},
     "output_type": "execute_result"
    }
   ],
   "source": [
    "# Now apply the main text prep pipeline to all text:\n",
    "# Takes about 5 mins to run on Google CoLab\n",
    "df['text'] = [text_prepare(x) for x in tqdm(df['text'])]\n",
    "\n",
    "# Clean up on category encoding\n",
    "le = LabelEncoder()\n",
    "df['category'] = le.fit_transform(df['category'])\n",
    "print('Done!')\n",
    "df.head()"
   ]
  },
  {
   "cell_type": "code",
   "execution_count": 16,
   "id": "Zu7qK7meN9BM",
   "metadata": {
    "colab": {
     "base_uri": "https://localhost:8080/",
     "height": 204
    },
    "executionInfo": {
     "elapsed": 403,
     "status": "ok",
     "timestamp": 1663187149077,
     "user": {
      "displayName": "Jason Payne",
      "userId": "02333409538928721620"
     },
     "user_tz": -60
    },
    "id": "Zu7qK7meN9BM",
    "outputId": "1d28f194-b9a3-4de3-b4bf-59b696c6e5ad"
   },
   "outputs": [
    {
     "data": {
      "text/html": [
       "\n",
       "  <div id=\"df-423d7335-1065-4c69-9631-ef0df11264df\">\n",
       "    <div class=\"colab-df-container\">\n",
       "      <div>\n",
       "<style scoped>\n",
       "    .dataframe tbody tr th:only-of-type {\n",
       "        vertical-align: middle;\n",
       "    }\n",
       "\n",
       "    .dataframe tbody tr th {\n",
       "        vertical-align: top;\n",
       "    }\n",
       "\n",
       "    .dataframe thead th {\n",
       "        text-align: right;\n",
       "    }\n",
       "</style>\n",
       "<table border=\"1\" class=\"dataframe\">\n",
       "  <thead>\n",
       "    <tr style=\"text-align: right;\">\n",
       "      <th></th>\n",
       "      <th>text</th>\n",
       "      <th>category</th>\n",
       "    </tr>\n",
       "  </thead>\n",
       "  <tbody>\n",
       "    <tr>\n",
       "      <th>0</th>\n",
       "      <td>foreign body entered employee l eye while grin...</td>\n",
       "      <td>0</td>\n",
       "    </tr>\n",
       "    <tr>\n",
       "      <th>1</th>\n",
       "      <td>drainage pipe damaged at twenty-two m depth se...</td>\n",
       "      <td>0</td>\n",
       "    </tr>\n",
       "    <tr>\n",
       "      <th>2</th>\n",
       "      <td>robodrill spider excavator being operated when...</td>\n",
       "      <td>1</td>\n",
       "    </tr>\n",
       "    <tr>\n",
       "      <th>3</th>\n",
       "      <td>pressure hose made contact with light fitting ...</td>\n",
       "      <td>0</td>\n",
       "    </tr>\n",
       "    <tr>\n",
       "      <th>4</th>\n",
       "      <td>nacap 30t hitachi hyd hose split resultong in ...</td>\n",
       "      <td>0</td>\n",
       "    </tr>\n",
       "  </tbody>\n",
       "</table>\n",
       "</div>\n",
       "      <button class=\"colab-df-convert\" onclick=\"convertToInteractive('df-423d7335-1065-4c69-9631-ef0df11264df')\"\n",
       "              title=\"Convert this dataframe to an interactive table.\"\n",
       "              style=\"display:none;\">\n",
       "        \n",
       "  <svg xmlns=\"http://www.w3.org/2000/svg\" height=\"24px\"viewBox=\"0 0 24 24\"\n",
       "       width=\"24px\">\n",
       "    <path d=\"M0 0h24v24H0V0z\" fill=\"none\"/>\n",
       "    <path d=\"M18.56 5.44l.94 2.06.94-2.06 2.06-.94-2.06-.94-.94-2.06-.94 2.06-2.06.94zm-11 1L8.5 8.5l.94-2.06 2.06-.94-2.06-.94L8.5 2.5l-.94 2.06-2.06.94zm10 10l.94 2.06.94-2.06 2.06-.94-2.06-.94-.94-2.06-.94 2.06-2.06.94z\"/><path d=\"M17.41 7.96l-1.37-1.37c-.4-.4-.92-.59-1.43-.59-.52 0-1.04.2-1.43.59L10.3 9.45l-7.72 7.72c-.78.78-.78 2.05 0 2.83L4 21.41c.39.39.9.59 1.41.59.51 0 1.02-.2 1.41-.59l7.78-7.78 2.81-2.81c.8-.78.8-2.07 0-2.86zM5.41 20L4 18.59l7.72-7.72 1.47 1.35L5.41 20z\"/>\n",
       "  </svg>\n",
       "      </button>\n",
       "      \n",
       "  <style>\n",
       "    .colab-df-container {\n",
       "      display:flex;\n",
       "      flex-wrap:wrap;\n",
       "      gap: 12px;\n",
       "    }\n",
       "\n",
       "    .colab-df-convert {\n",
       "      background-color: #E8F0FE;\n",
       "      border: none;\n",
       "      border-radius: 50%;\n",
       "      cursor: pointer;\n",
       "      display: none;\n",
       "      fill: #1967D2;\n",
       "      height: 32px;\n",
       "      padding: 0 0 0 0;\n",
       "      width: 32px;\n",
       "    }\n",
       "\n",
       "    .colab-df-convert:hover {\n",
       "      background-color: #E2EBFA;\n",
       "      box-shadow: 0px 1px 2px rgba(60, 64, 67, 0.3), 0px 1px 3px 1px rgba(60, 64, 67, 0.15);\n",
       "      fill: #174EA6;\n",
       "    }\n",
       "\n",
       "    [theme=dark] .colab-df-convert {\n",
       "      background-color: #3B4455;\n",
       "      fill: #D2E3FC;\n",
       "    }\n",
       "\n",
       "    [theme=dark] .colab-df-convert:hover {\n",
       "      background-color: #434B5C;\n",
       "      box-shadow: 0px 1px 3px 1px rgba(0, 0, 0, 0.15);\n",
       "      filter: drop-shadow(0px 1px 2px rgba(0, 0, 0, 0.3));\n",
       "      fill: #FFFFFF;\n",
       "    }\n",
       "  </style>\n",
       "\n",
       "      <script>\n",
       "        const buttonEl =\n",
       "          document.querySelector('#df-423d7335-1065-4c69-9631-ef0df11264df button.colab-df-convert');\n",
       "        buttonEl.style.display =\n",
       "          google.colab.kernel.accessAllowed ? 'block' : 'none';\n",
       "\n",
       "        async function convertToInteractive(key) {\n",
       "          const element = document.querySelector('#df-423d7335-1065-4c69-9631-ef0df11264df');\n",
       "          const dataTable =\n",
       "            await google.colab.kernel.invokeFunction('convertToInteractive',\n",
       "                                                     [key], {});\n",
       "          if (!dataTable) return;\n",
       "\n",
       "          const docLinkHtml = 'Like what you see? Visit the ' +\n",
       "            '<a target=\"_blank\" href=https://colab.research.google.com/notebooks/data_table.ipynb>data table notebook</a>'\n",
       "            + ' to learn more about interactive tables.';\n",
       "          element.innerHTML = '';\n",
       "          dataTable['output_type'] = 'display_data';\n",
       "          await google.colab.output.renderOutput(dataTable, element);\n",
       "          const docLink = document.createElement('div');\n",
       "          docLink.innerHTML = docLinkHtml;\n",
       "          element.appendChild(docLink);\n",
       "        }\n",
       "      </script>\n",
       "    </div>\n",
       "  </div>\n",
       "  "
      ],
      "text/plain": [
       "                                                text  category\n",
       "0  foreign body entered employee l eye while grin...         0\n",
       "1  drainage pipe damaged at twenty-two m depth se...         0\n",
       "2  robodrill spider excavator being operated when...         1\n",
       "3  pressure hose made contact with light fitting ...         0\n",
       "4  nacap 30t hitachi hyd hose split resultong in ...         0"
      ]
     },
     "execution_count": 16,
     "metadata": {},
     "output_type": "execute_result"
    }
   ],
   "source": [
    "df['text'] = df['text'].apply(lambda x: re.sub(' s ', ' ', x))\n",
    "df.head()"
   ]
  },
  {
   "cell_type": "code",
   "execution_count": null,
   "id": "p8RSo3aKNz4n",
   "metadata": {
    "id": "p8RSo3aKNz4n"
   },
   "outputs": [],
   "source": [
    "# Save the prepared dataset\n",
    "filename = f'data/prepared/{time.strftime(\"%y%m%d%H%M\")}_prepared_data.csv'\n",
    "df.to_csv(filename, index=False)"
   ]
  },
  {
   "cell_type": "markdown",
   "id": "wi1aq9FerFv2",
   "metadata": {
    "id": "wi1aq9FerFv2"
   },
   "source": [
    "### Fabricated Data Prep"
   ]
  },
  {
   "cell_type": "code",
   "execution_count": 17,
   "id": "YVIHciXPrFFu",
   "metadata": {
    "colab": {
     "base_uri": "https://localhost:8080/",
     "height": 419
    },
    "executionInfo": {
     "elapsed": 636,
     "status": "ok",
     "timestamp": 1663187149708,
     "user": {
      "displayName": "Jason Payne",
      "userId": "02333409538928721620"
     },
     "user_tz": -60
    },
    "id": "YVIHciXPrFFu",
    "outputId": "94c2ac0b-56e6-4580-e6f3-c77ef10f4109"
   },
   "outputs": [
    {
     "data": {
      "text/html": [
       "\n",
       "  <div id=\"df-10abd9fb-2542-443a-94d0-15477c1d2cac\">\n",
       "    <div class=\"colab-df-container\">\n",
       "      <div>\n",
       "<style scoped>\n",
       "    .dataframe tbody tr th:only-of-type {\n",
       "        vertical-align: middle;\n",
       "    }\n",
       "\n",
       "    .dataframe tbody tr th {\n",
       "        vertical-align: top;\n",
       "    }\n",
       "\n",
       "    .dataframe thead th {\n",
       "        text-align: right;\n",
       "    }\n",
       "</style>\n",
       "<table border=\"1\" class=\"dataframe\">\n",
       "  <thead>\n",
       "    <tr style=\"text-align: right;\">\n",
       "      <th></th>\n",
       "      <th>text</th>\n",
       "      <th>group</th>\n",
       "    </tr>\n",
       "  </thead>\n",
       "  <tbody>\n",
       "    <tr>\n",
       "      <th>0</th>\n",
       "      <td>there was a leak of oil when hydraulic fluid e...</td>\n",
       "      <td>hydraulic fluid or oil leak</td>\n",
       "    </tr>\n",
       "    <tr>\n",
       "      <th>1</th>\n",
       "      <td>there was a leak from a hose on a pump truck w...</td>\n",
       "      <td>hydraulic fluid or oil leak</td>\n",
       "    </tr>\n",
       "    <tr>\n",
       "      <th>2</th>\n",
       "      <td>there was a leak to grade one hundred and fift...</td>\n",
       "      <td>hydraulic fluid or oil leak</td>\n",
       "    </tr>\n",
       "    <tr>\n",
       "      <th>3</th>\n",
       "      <td>there was a leak of hydraulic fluid from a ren...</td>\n",
       "      <td>hydraulic fluid or oil leak</td>\n",
       "    </tr>\n",
       "    <tr>\n",
       "      <th>4</th>\n",
       "      <td>there was a leak from a jlg cat three thousand...</td>\n",
       "      <td>hydraulic fluid or oil leak</td>\n",
       "    </tr>\n",
       "    <tr>\n",
       "      <th>...</th>\n",
       "      <td>...</td>\n",
       "      <td>...</td>\n",
       "    </tr>\n",
       "    <tr>\n",
       "      <th>7915</th>\n",
       "      <td>oil fluid witnessed falling object resulting i...</td>\n",
       "      <td>hydraulic fluid or oil leak</td>\n",
       "    </tr>\n",
       "    <tr>\n",
       "      <th>7916</th>\n",
       "      <td>oil fluid witnessed on three out of four an em...</td>\n",
       "      <td>hydraulic fluid or oil leak</td>\n",
       "    </tr>\n",
       "    <tr>\n",
       "      <th>7917</th>\n",
       "      <td>oil fluid witnessed nearmisses at separation t...</td>\n",
       "      <td>hydraulic fluid or oil leak</td>\n",
       "    </tr>\n",
       "    <tr>\n",
       "      <th>7918</th>\n",
       "      <td>oil fluid witnessed a hydraulic leak from a na...</td>\n",
       "      <td>hydraulic fluid or oil leak</td>\n",
       "    </tr>\n",
       "    <tr>\n",
       "      <th>7919</th>\n",
       "      <td>oil fluid witnessed or leaked from a rented su...</td>\n",
       "      <td>hydraulic fluid or oil leak</td>\n",
       "    </tr>\n",
       "  </tbody>\n",
       "</table>\n",
       "<p>7920 rows × 2 columns</p>\n",
       "</div>\n",
       "      <button class=\"colab-df-convert\" onclick=\"convertToInteractive('df-10abd9fb-2542-443a-94d0-15477c1d2cac')\"\n",
       "              title=\"Convert this dataframe to an interactive table.\"\n",
       "              style=\"display:none;\">\n",
       "        \n",
       "  <svg xmlns=\"http://www.w3.org/2000/svg\" height=\"24px\"viewBox=\"0 0 24 24\"\n",
       "       width=\"24px\">\n",
       "    <path d=\"M0 0h24v24H0V0z\" fill=\"none\"/>\n",
       "    <path d=\"M18.56 5.44l.94 2.06.94-2.06 2.06-.94-2.06-.94-.94-2.06-.94 2.06-2.06.94zm-11 1L8.5 8.5l.94-2.06 2.06-.94-2.06-.94L8.5 2.5l-.94 2.06-2.06.94zm10 10l.94 2.06.94-2.06 2.06-.94-2.06-.94-.94-2.06-.94 2.06-2.06.94z\"/><path d=\"M17.41 7.96l-1.37-1.37c-.4-.4-.92-.59-1.43-.59-.52 0-1.04.2-1.43.59L10.3 9.45l-7.72 7.72c-.78.78-.78 2.05 0 2.83L4 21.41c.39.39.9.59 1.41.59.51 0 1.02-.2 1.41-.59l7.78-7.78 2.81-2.81c.8-.78.8-2.07 0-2.86zM5.41 20L4 18.59l7.72-7.72 1.47 1.35L5.41 20z\"/>\n",
       "  </svg>\n",
       "      </button>\n",
       "      \n",
       "  <style>\n",
       "    .colab-df-container {\n",
       "      display:flex;\n",
       "      flex-wrap:wrap;\n",
       "      gap: 12px;\n",
       "    }\n",
       "\n",
       "    .colab-df-convert {\n",
       "      background-color: #E8F0FE;\n",
       "      border: none;\n",
       "      border-radius: 50%;\n",
       "      cursor: pointer;\n",
       "      display: none;\n",
       "      fill: #1967D2;\n",
       "      height: 32px;\n",
       "      padding: 0 0 0 0;\n",
       "      width: 32px;\n",
       "    }\n",
       "\n",
       "    .colab-df-convert:hover {\n",
       "      background-color: #E2EBFA;\n",
       "      box-shadow: 0px 1px 2px rgba(60, 64, 67, 0.3), 0px 1px 3px 1px rgba(60, 64, 67, 0.15);\n",
       "      fill: #174EA6;\n",
       "    }\n",
       "\n",
       "    [theme=dark] .colab-df-convert {\n",
       "      background-color: #3B4455;\n",
       "      fill: #D2E3FC;\n",
       "    }\n",
       "\n",
       "    [theme=dark] .colab-df-convert:hover {\n",
       "      background-color: #434B5C;\n",
       "      box-shadow: 0px 1px 3px 1px rgba(0, 0, 0, 0.15);\n",
       "      filter: drop-shadow(0px 1px 2px rgba(0, 0, 0, 0.3));\n",
       "      fill: #FFFFFF;\n",
       "    }\n",
       "  </style>\n",
       "\n",
       "      <script>\n",
       "        const buttonEl =\n",
       "          document.querySelector('#df-10abd9fb-2542-443a-94d0-15477c1d2cac button.colab-df-convert');\n",
       "        buttonEl.style.display =\n",
       "          google.colab.kernel.accessAllowed ? 'block' : 'none';\n",
       "\n",
       "        async function convertToInteractive(key) {\n",
       "          const element = document.querySelector('#df-10abd9fb-2542-443a-94d0-15477c1d2cac');\n",
       "          const dataTable =\n",
       "            await google.colab.kernel.invokeFunction('convertToInteractive',\n",
       "                                                     [key], {});\n",
       "          if (!dataTable) return;\n",
       "\n",
       "          const docLinkHtml = 'Like what you see? Visit the ' +\n",
       "            '<a target=\"_blank\" href=https://colab.research.google.com/notebooks/data_table.ipynb>data table notebook</a>'\n",
       "            + ' to learn more about interactive tables.';\n",
       "          element.innerHTML = '';\n",
       "          dataTable['output_type'] = 'display_data';\n",
       "          await google.colab.output.renderOutput(dataTable, element);\n",
       "          const docLink = document.createElement('div');\n",
       "          docLink.innerHTML = docLinkHtml;\n",
       "          element.appendChild(docLink);\n",
       "        }\n",
       "      </script>\n",
       "    </div>\n",
       "  </div>\n",
       "  "
      ],
      "text/plain": [
       "                                                   text  \\\n",
       "0     there was a leak of oil when hydraulic fluid e...   \n",
       "1     there was a leak from a hose on a pump truck w...   \n",
       "2     there was a leak to grade one hundred and fift...   \n",
       "3     there was a leak of hydraulic fluid from a ren...   \n",
       "4     there was a leak from a jlg cat three thousand...   \n",
       "...                                                 ...   \n",
       "7915  oil fluid witnessed falling object resulting i...   \n",
       "7916  oil fluid witnessed on three out of four an em...   \n",
       "7917  oil fluid witnessed nearmisses at separation t...   \n",
       "7918  oil fluid witnessed a hydraulic leak from a na...   \n",
       "7919  oil fluid witnessed or leaked from a rented su...   \n",
       "\n",
       "                            group  \n",
       "0     hydraulic fluid or oil leak  \n",
       "1     hydraulic fluid or oil leak  \n",
       "2     hydraulic fluid or oil leak  \n",
       "3     hydraulic fluid or oil leak  \n",
       "4     hydraulic fluid or oil leak  \n",
       "...                           ...  \n",
       "7915  hydraulic fluid or oil leak  \n",
       "7916  hydraulic fluid or oil leak  \n",
       "7917  hydraulic fluid or oil leak  \n",
       "7918  hydraulic fluid or oil leak  \n",
       "7919  hydraulic fluid or oil leak  \n",
       "\n",
       "[7920 rows x 2 columns]"
      ]
     },
     "execution_count": 17,
     "metadata": {},
     "output_type": "execute_result"
    }
   ],
   "source": [
    "# Load fabricated reports\n",
    "df_fab = pd.read_csv('data/fabricated/hydraulic fluid or oil leak_7920.csv')\n",
    "df_fab"
   ]
  },
  {
   "cell_type": "code",
   "execution_count": 18,
   "id": "7vbrLDyzrX73",
   "metadata": {
    "colab": {
     "base_uri": "https://localhost:8080/"
    },
    "executionInfo": {
     "elapsed": 9473,
     "status": "ok",
     "timestamp": 1663187165843,
     "user": {
      "displayName": "Jason Payne",
      "userId": "02333409538928721620"
     },
     "user_tz": -60
    },
    "id": "7vbrLDyzrX73",
    "outputId": "f51feaa7-eb9b-48a1-edec-962069bc8abe"
   },
   "outputs": [
    {
     "name": "stderr",
     "output_type": "stream",
     "text": [
      "100%|██████████| 7920/7920 [00:09<00:00, 846.80it/s]\n"
     ]
    }
   ],
   "source": [
    "df_fab['text'] = [text_prepare(x) for x in tqdm(df_fab['text'])]"
   ]
  },
  {
   "cell_type": "code",
   "execution_count": 21,
   "id": "6T14OauLr5VJ",
   "metadata": {
    "colab": {
     "base_uri": "https://localhost:8080/",
     "height": 419
    },
    "executionInfo": {
     "elapsed": 275,
     "status": "ok",
     "timestamp": 1663187284397,
     "user": {
      "displayName": "Jason Payne",
      "userId": "02333409538928721620"
     },
     "user_tz": -60
    },
    "id": "6T14OauLr5VJ",
    "outputId": "5a761ba9-82c5-47dd-dcda-39c891b0fe9b"
   },
   "outputs": [
    {
     "data": {
      "text/html": [
       "\n",
       "  <div id=\"df-3e75f291-6829-46c9-972f-082fa477304e\">\n",
       "    <div class=\"colab-df-container\">\n",
       "      <div>\n",
       "<style scoped>\n",
       "    .dataframe tbody tr th:only-of-type {\n",
       "        vertical-align: middle;\n",
       "    }\n",
       "\n",
       "    .dataframe tbody tr th {\n",
       "        vertical-align: top;\n",
       "    }\n",
       "\n",
       "    .dataframe thead th {\n",
       "        text-align: right;\n",
       "    }\n",
       "</style>\n",
       "<table border=\"1\" class=\"dataframe\">\n",
       "  <thead>\n",
       "    <tr style=\"text-align: right;\">\n",
       "      <th></th>\n",
       "      <th>text</th>\n",
       "      <th>group</th>\n",
       "    </tr>\n",
       "  </thead>\n",
       "  <tbody>\n",
       "    <tr>\n",
       "      <th>0</th>\n",
       "      <td>crew noticed drip coming from hose fitting on ...</td>\n",
       "      <td>hydraulic fluid or oil leak</td>\n",
       "    </tr>\n",
       "    <tr>\n",
       "      <th>1</th>\n",
       "      <td>diesel failure on skid steer resulted in 1l of...</td>\n",
       "      <td>hydraulic fluid or oil leak</td>\n",
       "    </tr>\n",
       "    <tr>\n",
       "      <th>2</th>\n",
       "      <td>operative witnessed discharge of hydraulic flu...</td>\n",
       "      <td>hydraulic fluid or oil leak</td>\n",
       "    </tr>\n",
       "    <tr>\n",
       "      <th>3</th>\n",
       "      <td>subcontractor witnessed loss of hydraulic flui...</td>\n",
       "      <td>hydraulic fluid or oil leak</td>\n",
       "    </tr>\n",
       "    <tr>\n",
       "      <th>4</th>\n",
       "      <td>operative discovered leak in hose on roller dr...</td>\n",
       "      <td>hydraulic fluid or oil leak</td>\n",
       "    </tr>\n",
       "    <tr>\n",
       "      <th>...</th>\n",
       "      <td>...</td>\n",
       "      <td>...</td>\n",
       "    </tr>\n",
       "    <tr>\n",
       "      <th>7915</th>\n",
       "      <td>there was a flow of oil from the gully to the ...</td>\n",
       "      <td>hydraulic fluid or oil leak</td>\n",
       "    </tr>\n",
       "    <tr>\n",
       "      <th>7916</th>\n",
       "      <td>hyd fluid failure of excavator hydraulic fitti...</td>\n",
       "      <td>hydraulic fluid or oil leak</td>\n",
       "    </tr>\n",
       "    <tr>\n",
       "      <th>7917</th>\n",
       "      <td>apprentice noticed spillage of hydraulic fluid...</td>\n",
       "      <td>hydraulic fluid or oil leak</td>\n",
       "    </tr>\n",
       "    <tr>\n",
       "      <th>7918</th>\n",
       "      <td>apprentice witnessed drip from a bucket lift i...</td>\n",
       "      <td>hydraulic fluid or oil leak</td>\n",
       "    </tr>\n",
       "    <tr>\n",
       "      <th>7919</th>\n",
       "      <td>subcontractor discovered loss of hydraulic flu...</td>\n",
       "      <td>hydraulic fluid or oil leak</td>\n",
       "    </tr>\n",
       "  </tbody>\n",
       "</table>\n",
       "<p>7920 rows × 2 columns</p>\n",
       "</div>\n",
       "      <button class=\"colab-df-convert\" onclick=\"convertToInteractive('df-3e75f291-6829-46c9-972f-082fa477304e')\"\n",
       "              title=\"Convert this dataframe to an interactive table.\"\n",
       "              style=\"display:none;\">\n",
       "        \n",
       "  <svg xmlns=\"http://www.w3.org/2000/svg\" height=\"24px\"viewBox=\"0 0 24 24\"\n",
       "       width=\"24px\">\n",
       "    <path d=\"M0 0h24v24H0V0z\" fill=\"none\"/>\n",
       "    <path d=\"M18.56 5.44l.94 2.06.94-2.06 2.06-.94-2.06-.94-.94-2.06-.94 2.06-2.06.94zm-11 1L8.5 8.5l.94-2.06 2.06-.94-2.06-.94L8.5 2.5l-.94 2.06-2.06.94zm10 10l.94 2.06.94-2.06 2.06-.94-2.06-.94-.94-2.06-.94 2.06-2.06.94z\"/><path d=\"M17.41 7.96l-1.37-1.37c-.4-.4-.92-.59-1.43-.59-.52 0-1.04.2-1.43.59L10.3 9.45l-7.72 7.72c-.78.78-.78 2.05 0 2.83L4 21.41c.39.39.9.59 1.41.59.51 0 1.02-.2 1.41-.59l7.78-7.78 2.81-2.81c.8-.78.8-2.07 0-2.86zM5.41 20L4 18.59l7.72-7.72 1.47 1.35L5.41 20z\"/>\n",
       "  </svg>\n",
       "      </button>\n",
       "      \n",
       "  <style>\n",
       "    .colab-df-container {\n",
       "      display:flex;\n",
       "      flex-wrap:wrap;\n",
       "      gap: 12px;\n",
       "    }\n",
       "\n",
       "    .colab-df-convert {\n",
       "      background-color: #E8F0FE;\n",
       "      border: none;\n",
       "      border-radius: 50%;\n",
       "      cursor: pointer;\n",
       "      display: none;\n",
       "      fill: #1967D2;\n",
       "      height: 32px;\n",
       "      padding: 0 0 0 0;\n",
       "      width: 32px;\n",
       "    }\n",
       "\n",
       "    .colab-df-convert:hover {\n",
       "      background-color: #E2EBFA;\n",
       "      box-shadow: 0px 1px 2px rgba(60, 64, 67, 0.3), 0px 1px 3px 1px rgba(60, 64, 67, 0.15);\n",
       "      fill: #174EA6;\n",
       "    }\n",
       "\n",
       "    [theme=dark] .colab-df-convert {\n",
       "      background-color: #3B4455;\n",
       "      fill: #D2E3FC;\n",
       "    }\n",
       "\n",
       "    [theme=dark] .colab-df-convert:hover {\n",
       "      background-color: #434B5C;\n",
       "      box-shadow: 0px 1px 3px 1px rgba(0, 0, 0, 0.15);\n",
       "      filter: drop-shadow(0px 1px 2px rgba(0, 0, 0, 0.3));\n",
       "      fill: #FFFFFF;\n",
       "    }\n",
       "  </style>\n",
       "\n",
       "      <script>\n",
       "        const buttonEl =\n",
       "          document.querySelector('#df-3e75f291-6829-46c9-972f-082fa477304e button.colab-df-convert');\n",
       "        buttonEl.style.display =\n",
       "          google.colab.kernel.accessAllowed ? 'block' : 'none';\n",
       "\n",
       "        async function convertToInteractive(key) {\n",
       "          const element = document.querySelector('#df-3e75f291-6829-46c9-972f-082fa477304e');\n",
       "          const dataTable =\n",
       "            await google.colab.kernel.invokeFunction('convertToInteractive',\n",
       "                                                     [key], {});\n",
       "          if (!dataTable) return;\n",
       "\n",
       "          const docLinkHtml = 'Like what you see? Visit the ' +\n",
       "            '<a target=\"_blank\" href=https://colab.research.google.com/notebooks/data_table.ipynb>data table notebook</a>'\n",
       "            + ' to learn more about interactive tables.';\n",
       "          element.innerHTML = '';\n",
       "          dataTable['output_type'] = 'display_data';\n",
       "          await google.colab.output.renderOutput(dataTable, element);\n",
       "          const docLink = document.createElement('div');\n",
       "          docLink.innerHTML = docLinkHtml;\n",
       "          element.appendChild(docLink);\n",
       "        }\n",
       "      </script>\n",
       "    </div>\n",
       "  </div>\n",
       "  "
      ],
      "text/plain": [
       "                                                   text  \\\n",
       "0     crew noticed drip coming from hose fitting on ...   \n",
       "1     diesel failure on skid steer resulted in 1l of...   \n",
       "2     operative witnessed discharge of hydraulic flu...   \n",
       "3     subcontractor witnessed loss of hydraulic flui...   \n",
       "4     operative discovered leak in hose on roller dr...   \n",
       "...                                                 ...   \n",
       "7915  there was a flow of oil from the gully to the ...   \n",
       "7916  hyd fluid failure of excavator hydraulic fitti...   \n",
       "7917  apprentice noticed spillage of hydraulic fluid...   \n",
       "7918  apprentice witnessed drip from a bucket lift i...   \n",
       "7919  subcontractor discovered loss of hydraulic flu...   \n",
       "\n",
       "                            group  \n",
       "0     hydraulic fluid or oil leak  \n",
       "1     hydraulic fluid or oil leak  \n",
       "2     hydraulic fluid or oil leak  \n",
       "3     hydraulic fluid or oil leak  \n",
       "4     hydraulic fluid or oil leak  \n",
       "...                           ...  \n",
       "7915  hydraulic fluid or oil leak  \n",
       "7916  hydraulic fluid or oil leak  \n",
       "7917  hydraulic fluid or oil leak  \n",
       "7918  hydraulic fluid or oil leak  \n",
       "7919  hydraulic fluid or oil leak  \n",
       "\n",
       "[7920 rows x 2 columns]"
      ]
     },
     "execution_count": 21,
     "metadata": {},
     "output_type": "execute_result"
    }
   ],
   "source": [
    "df_fab = df_fab.sample(frac=1).reset_index(drop=True)\n",
    "df_fab"
   ]
  },
  {
   "cell_type": "code",
   "execution_count": 23,
   "id": "TNo_16BOsGSE",
   "metadata": {
    "executionInfo": {
     "elapsed": 247,
     "status": "ok",
     "timestamp": 1663187363655,
     "user": {
      "displayName": "Jason Payne",
      "userId": "02333409538928721620"
     },
     "user_tz": -60
    },
    "id": "TNo_16BOsGSE"
   },
   "outputs": [],
   "source": [
    "# Save the prepared fabricated dataset\n",
    "filename = f'data/prepared/{time.strftime(\"%y%m%d%H%M\")}_prepared_fabricated_{focus_cat}_data.csv'\n",
    "df_fab.to_csv(filename, index=False)"
   ]
  },
  {
   "cell_type": "markdown",
   "id": "4ef348fd",
   "metadata": {},
   "source": [
    "### Training and Test Split"
   ]
  },
  {
   "cell_type": "code",
   "execution_count": null,
   "id": "471bc60d",
   "metadata": {},
   "outputs": [],
   "source": [
    "# Now create the input to the model training stage\n",
    "X = df.text\n",
    "y = df.category # Remember, these are not necessarily the 'truth' but rule_book hits\n",
    "\n",
    "# Apply a simple 80/20 split\n",
    "# TODO - The dataset is heavily imbalanced. Treat this appropriately.\n",
    "X_train, X_test, y_train, y_test = train_test_split(X, y, test_size = 0.2, random_state = 1234)"
   ]
  },
  {
   "cell_type": "code",
   "execution_count": null,
   "id": "85b54401",
   "metadata": {},
   "outputs": [],
   "source": [
    "test_trues = list(y_test[y_test==1].index.values)\n",
    "test_trues.sort()\n",
    "print('Test:', len(test_trues), test_trues)\n",
    "\n",
    "train_trues = list(y_train[y_train==1].index.values)\n",
    "train_trues.sort()\n",
    "print('Train:', len(train_trues), train_trues)"
   ]
  },
  {
   "cell_type": "code",
   "execution_count": null,
   "id": "ea670746",
   "metadata": {},
   "outputs": [],
   "source": [
    "# Look at training 'trues', i.e., rule-book hits\n",
    "df_train_trues = df.iloc[train_trues]\n",
    "fn_trues = f'data/prepared/{time.strftime(\"%y%m%d%H%M\")}_df_train_trues_{focus_cat}.csv'\n",
    "df_train_trues.to_csv(fn_trues)\n",
    "df_train_trues"
   ]
  }
 ],
 "metadata": {
  "colab": {
   "collapsed_sections": [],
   "provenance": []
  },
  "kernelspec": {
   "display_name": "Python 3 (ipykernel)",
   "language": "python",
   "name": "python3"
  },
  "language_info": {
   "codemirror_mode": {
    "name": "ipython",
    "version": 3
   },
   "file_extension": ".py",
   "mimetype": "text/x-python",
   "name": "python",
   "nbconvert_exporter": "python",
   "pygments_lexer": "ipython3",
   "version": "3.8.12"
  }
 },
 "nbformat": 4,
 "nbformat_minor": 5
}
