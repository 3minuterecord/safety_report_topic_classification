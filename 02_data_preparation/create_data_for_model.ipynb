{
  "cells": [
    {
      "cell_type": "code",
      "execution_count": null,
      "metadata": {
        "id": "a56ea427"
      },
      "outputs": [],
      "source": [
        "# Set random seeds\n",
        "from IPython.display import display, HTML\n",
        "from numpy.random import seed\n",
        "seed(156)\n",
        "import tensorflow as tf\n",
        "tf.random.set_seed(256)"
      ],
      "id": "a56ea427"
    },
    {
      "cell_type": "code",
      "source": [
        "import sys\n",
        "print(sys.version)"
      ],
      "metadata": {
        "colab": {
          "base_uri": "https://localhost:8080/"
        },
        "id": "5FJW71r4pL4k",
        "outputId": "7cf719ba-cc2d-4d82-a63f-58a064700815"
      },
      "id": "5FJW71r4pL4k",
      "execution_count": null,
      "outputs": [
        {
          "output_type": "stream",
          "name": "stdout",
          "text": [
            "3.7.15 (default, Oct 12 2022, 19:14:55) \n",
            "[GCC 7.5.0]\n"
          ]
        }
      ]
    },
    {
      "cell_type": "code",
      "execution_count": null,
      "metadata": {
        "colab": {
          "base_uri": "https://localhost:8080/"
        },
        "id": "V9RaD-LaNeuJ",
        "outputId": "a7e67c56-c8fc-4cdb-8663-e5a603cb7d30"
      },
      "outputs": [
        {
          "output_type": "stream",
          "name": "stdout",
          "text": [
            "Mounted at /content/drive\n"
          ]
        }
      ],
      "source": [
        "from google.colab import drive\n",
        "drive.mount('/content/drive')"
      ],
      "id": "V9RaD-LaNeuJ"
    },
    {
      "cell_type": "code",
      "execution_count": null,
      "metadata": {
        "colab": {
          "base_uri": "https://localhost:8080/"
        },
        "id": "Mzs4j7P5OUXE",
        "outputId": "1eb810d4-2bd1-4c4c-dbf8-b34fe2793270"
      },
      "outputs": [
        {
          "output_type": "stream",
          "name": "stdout",
          "text": [
            "/content/drive/MyDrive/Colab_Notebooks/safety_report_tc\n"
          ]
        }
      ],
      "source": [
        "%cd /content/drive/MyDrive/Colab_Notebooks/safety_report_tc"
      ],
      "id": "Mzs4j7P5OUXE"
    },
    {
      "cell_type": "code",
      "execution_count": null,
      "metadata": {
        "colab": {
          "base_uri": "https://localhost:8080/"
        },
        "id": "Q26BRcgeNe3P",
        "outputId": "d9dfc7ab-8bc1-4de2-a212-a4b752c03a7d"
      },
      "outputs": [
        {
          "output_type": "stream",
          "name": "stdout",
          "text": [
            "Looking in indexes: https://pypi.org/simple, https://us-python.pkg.dev/colab-wheels/public/simple/\n",
            "Collecting contractions\n",
            "  Downloading contractions-0.1.72-py2.py3-none-any.whl (8.3 kB)\n",
            "Collecting textsearch>=0.0.21\n",
            "  Downloading textsearch-0.0.24-py2.py3-none-any.whl (7.6 kB)\n",
            "Collecting anyascii\n",
            "  Downloading anyascii-0.3.1-py3-none-any.whl (287 kB)\n",
            "\u001b[K     |████████████████████████████████| 287 kB 6.6 MB/s \n",
            "\u001b[?25hCollecting pyahocorasick\n",
            "  Downloading pyahocorasick-1.4.4-cp37-cp37m-manylinux_2_17_x86_64.manylinux2014_x86_64.whl (106 kB)\n",
            "\u001b[K     |████████████████████████████████| 106 kB 63.2 MB/s \n",
            "\u001b[?25hInstalling collected packages: pyahocorasick, anyascii, textsearch, contractions\n",
            "Successfully installed anyascii-0.3.1 contractions-0.1.72 pyahocorasick-1.4.4 textsearch-0.0.24\n"
          ]
        }
      ],
      "source": [
        "!pip install contractions"
      ],
      "id": "Q26BRcgeNe3P"
    },
    {
      "cell_type": "code",
      "execution_count": null,
      "metadata": {
        "id": "U6Pc4GYvNe_r"
      },
      "outputs": [],
      "source": [
        "# Importing required libraries\n",
        "import pandas as pd\n",
        "import re\n",
        "import requests\n",
        "import nltk\n",
        "import inflect\n",
        "import contractions\n",
        "from bs4 import BeautifulSoup\n",
        "import re, string, unicodedata\n",
        "from nltk import word_tokenize, sent_tokenize\n",
        "from nltk.corpus import stopwords\n",
        "from nltk.stem import LancasterStemmer, WordNetLemmatizer\n",
        "from sklearn.preprocessing import LabelEncoder\n",
        "from tqdm.std import tqdm\n",
        "from IPython.display import display, HTML\n",
        "import time\n",
        "import textwrap\n",
        "import requests\n",
        "import json"
      ],
      "id": "U6Pc4GYvNe_r"
    },
    {
      "cell_type": "code",
      "execution_count": null,
      "metadata": {
        "colab": {
          "base_uri": "https://localhost:8080/"
        },
        "id": "Nc7aftWdNfHV",
        "outputId": "b5d6839f-a39c-4aec-a3aa-18609627334d"
      },
      "outputs": [
        {
          "output_type": "stream",
          "name": "stderr",
          "text": [
            "[nltk_data] Downloading package stopwords to /root/nltk_data...\n",
            "[nltk_data]   Unzipping corpora/stopwords.zip.\n",
            "[nltk_data] Downloading package wordnet to /root/nltk_data...\n",
            "[nltk_data] Downloading package omw-1.4 to /root/nltk_data...\n",
            "[nltk_data] Downloading package punkt to /root/nltk_data...\n",
            "[nltk_data]   Unzipping tokenizers/punkt.zip.\n"
          ]
        },
        {
          "output_type": "execute_result",
          "data": {
            "text/plain": [
              "True"
            ]
          },
          "metadata": {},
          "execution_count": 7
        }
      ],
      "source": [
        "# Install required nltk resources\n",
        "nltk.download('stopwords')\n",
        "nltk.download('wordnet')\n",
        "nltk.download('omw-1.4')\n",
        "nltk.download('punkt')"
      ],
      "id": "Nc7aftWdNfHV"
    },
    {
      "cell_type": "code",
      "execution_count": null,
      "metadata": {
        "id": "pONhPCBeNi8j"
      },
      "outputs": [],
      "source": [
        "# Pick a minority category of interest (base data from source)\n",
        "focus_cats = [\n",
        "    'hydraulic fluid or oil leak',\n",
        "    'line strike',\n",
        "    'site compliance or practice issue',\n",
        "    'ppe non-compliance',\n",
        "    'mechanical or equipment issue'\n",
        "    ]\n",
        "\n",
        "# Base case data used for training, validation and testing\n",
        "fns = [\n",
        "    'hydraulic fluid or oil leak_577_out_df_temp',\n",
        "    'line strike_326_out_df_temp',\n",
        "    'site compliance or practice issue_400_out_df_temp',\n",
        "    'ppe non-compliance_144_out_df_temp',\n",
        "    'mechanical or equipment issue_471_out_df_temp'\n",
        "]\n",
        "\n",
        "# Additional data recieved after models were created and tested\n",
        "fnt = [\n",
        "    'hydraulic fluid or oil leak_31_out_df_temp',\n",
        "    'line strike_8_out_df_temp',\n",
        "    'site compliance or practice issue_6_out_df_temp',\n",
        "    'ppe non-compliance_7_out_df_temp',\n",
        "    'mechanical or equipment issue_11_out_df_temp'\n",
        "]\n",
        "\n",
        "# NOTE USED IN FINAL SOLUTION\n",
        "# Filename for fabricated data(by decoder) file\n",
        "# This is used at the end for denoising & normalising the fabricated data before\n",
        "# use in TC modelling.\n",
        "fnfs = 'hydraulic fluid or oil leak_7920'"
      ],
      "id": "pONhPCBeNi8j"
    },
    {
      "cell_type": "code",
      "execution_count": null,
      "metadata": {
        "colab": {
          "base_uri": "https://localhost:8080/",
          "height": 453
        },
        "id": "s6-FR0KPnJDG",
        "outputId": "73cf47cc-179c-4d8f-f959-72a8d8caa0dc"
      },
      "outputs": [
        {
          "name": "stdout",
          "output_type": "stream",
          "text": [
            "Pick a category: mechanical or equipment issue\n",
            "Original data (o) or new (n): n\n"
          ]
        },
        {
          "output_type": "execute_result",
          "data": {
            "text/plain": [
              "                                                   text  category\n",
              "0     person tested positive to covid 19 in camp per...         0\n",
              "1     scaffolder struck thumb with hammer causing mi...         0\n",
              "2     ip reported eye irritation whilst working on t...         0\n",
              "3     wood employee tested antigen rapid test (art) ...         0\n",
              "4     one (1) massy wood employee tested positive fo...         0\n",
              "...                                                 ...       ...\n",
              "2424  a managed contractor employee tested positive ...         0\n",
              "2425  cp-2022-0043 env nanjv; release of silt laden ...         0\n",
              "2426  cut to knee when ascending staircase individua...         0\n",
              "2427  one wood employee tested positive for covid-19...         0\n",
              "2428  stepped out of van onto uneven pavement and ro...         0\n",
              "\n",
              "[2429 rows x 2 columns]"
            ],
            "text/html": [
              "\n",
              "  <div id=\"df-2720e121-21e0-459d-8d0f-7ed5a6240282\">\n",
              "    <div class=\"colab-df-container\">\n",
              "      <div>\n",
              "<style scoped>\n",
              "    .dataframe tbody tr th:only-of-type {\n",
              "        vertical-align: middle;\n",
              "    }\n",
              "\n",
              "    .dataframe tbody tr th {\n",
              "        vertical-align: top;\n",
              "    }\n",
              "\n",
              "    .dataframe thead th {\n",
              "        text-align: right;\n",
              "    }\n",
              "</style>\n",
              "<table border=\"1\" class=\"dataframe\">\n",
              "  <thead>\n",
              "    <tr style=\"text-align: right;\">\n",
              "      <th></th>\n",
              "      <th>text</th>\n",
              "      <th>category</th>\n",
              "    </tr>\n",
              "  </thead>\n",
              "  <tbody>\n",
              "    <tr>\n",
              "      <th>0</th>\n",
              "      <td>person tested positive to covid 19 in camp per...</td>\n",
              "      <td>0</td>\n",
              "    </tr>\n",
              "    <tr>\n",
              "      <th>1</th>\n",
              "      <td>scaffolder struck thumb with hammer causing mi...</td>\n",
              "      <td>0</td>\n",
              "    </tr>\n",
              "    <tr>\n",
              "      <th>2</th>\n",
              "      <td>ip reported eye irritation whilst working on t...</td>\n",
              "      <td>0</td>\n",
              "    </tr>\n",
              "    <tr>\n",
              "      <th>3</th>\n",
              "      <td>wood employee tested antigen rapid test (art) ...</td>\n",
              "      <td>0</td>\n",
              "    </tr>\n",
              "    <tr>\n",
              "      <th>4</th>\n",
              "      <td>one (1) massy wood employee tested positive fo...</td>\n",
              "      <td>0</td>\n",
              "    </tr>\n",
              "    <tr>\n",
              "      <th>...</th>\n",
              "      <td>...</td>\n",
              "      <td>...</td>\n",
              "    </tr>\n",
              "    <tr>\n",
              "      <th>2424</th>\n",
              "      <td>a managed contractor employee tested positive ...</td>\n",
              "      <td>0</td>\n",
              "    </tr>\n",
              "    <tr>\n",
              "      <th>2425</th>\n",
              "      <td>cp-2022-0043 env nanjv; release of silt laden ...</td>\n",
              "      <td>0</td>\n",
              "    </tr>\n",
              "    <tr>\n",
              "      <th>2426</th>\n",
              "      <td>cut to knee when ascending staircase individua...</td>\n",
              "      <td>0</td>\n",
              "    </tr>\n",
              "    <tr>\n",
              "      <th>2427</th>\n",
              "      <td>one wood employee tested positive for covid-19...</td>\n",
              "      <td>0</td>\n",
              "    </tr>\n",
              "    <tr>\n",
              "      <th>2428</th>\n",
              "      <td>stepped out of van onto uneven pavement and ro...</td>\n",
              "      <td>0</td>\n",
              "    </tr>\n",
              "  </tbody>\n",
              "</table>\n",
              "<p>2429 rows × 2 columns</p>\n",
              "</div>\n",
              "      <button class=\"colab-df-convert\" onclick=\"convertToInteractive('df-2720e121-21e0-459d-8d0f-7ed5a6240282')\"\n",
              "              title=\"Convert this dataframe to an interactive table.\"\n",
              "              style=\"display:none;\">\n",
              "        \n",
              "  <svg xmlns=\"http://www.w3.org/2000/svg\" height=\"24px\"viewBox=\"0 0 24 24\"\n",
              "       width=\"24px\">\n",
              "    <path d=\"M0 0h24v24H0V0z\" fill=\"none\"/>\n",
              "    <path d=\"M18.56 5.44l.94 2.06.94-2.06 2.06-.94-2.06-.94-.94-2.06-.94 2.06-2.06.94zm-11 1L8.5 8.5l.94-2.06 2.06-.94-2.06-.94L8.5 2.5l-.94 2.06-2.06.94zm10 10l.94 2.06.94-2.06 2.06-.94-2.06-.94-.94-2.06-.94 2.06-2.06.94z\"/><path d=\"M17.41 7.96l-1.37-1.37c-.4-.4-.92-.59-1.43-.59-.52 0-1.04.2-1.43.59L10.3 9.45l-7.72 7.72c-.78.78-.78 2.05 0 2.83L4 21.41c.39.39.9.59 1.41.59.51 0 1.02-.2 1.41-.59l7.78-7.78 2.81-2.81c.8-.78.8-2.07 0-2.86zM5.41 20L4 18.59l7.72-7.72 1.47 1.35L5.41 20z\"/>\n",
              "  </svg>\n",
              "      </button>\n",
              "      \n",
              "  <style>\n",
              "    .colab-df-container {\n",
              "      display:flex;\n",
              "      flex-wrap:wrap;\n",
              "      gap: 12px;\n",
              "    }\n",
              "\n",
              "    .colab-df-convert {\n",
              "      background-color: #E8F0FE;\n",
              "      border: none;\n",
              "      border-radius: 50%;\n",
              "      cursor: pointer;\n",
              "      display: none;\n",
              "      fill: #1967D2;\n",
              "      height: 32px;\n",
              "      padding: 0 0 0 0;\n",
              "      width: 32px;\n",
              "    }\n",
              "\n",
              "    .colab-df-convert:hover {\n",
              "      background-color: #E2EBFA;\n",
              "      box-shadow: 0px 1px 2px rgba(60, 64, 67, 0.3), 0px 1px 3px 1px rgba(60, 64, 67, 0.15);\n",
              "      fill: #174EA6;\n",
              "    }\n",
              "\n",
              "    [theme=dark] .colab-df-convert {\n",
              "      background-color: #3B4455;\n",
              "      fill: #D2E3FC;\n",
              "    }\n",
              "\n",
              "    [theme=dark] .colab-df-convert:hover {\n",
              "      background-color: #434B5C;\n",
              "      box-shadow: 0px 1px 3px 1px rgba(0, 0, 0, 0.15);\n",
              "      filter: drop-shadow(0px 1px 2px rgba(0, 0, 0, 0.3));\n",
              "      fill: #FFFFFF;\n",
              "    }\n",
              "  </style>\n",
              "\n",
              "      <script>\n",
              "        const buttonEl =\n",
              "          document.querySelector('#df-2720e121-21e0-459d-8d0f-7ed5a6240282 button.colab-df-convert');\n",
              "        buttonEl.style.display =\n",
              "          google.colab.kernel.accessAllowed ? 'block' : 'none';\n",
              "\n",
              "        async function convertToInteractive(key) {\n",
              "          const element = document.querySelector('#df-2720e121-21e0-459d-8d0f-7ed5a6240282');\n",
              "          const dataTable =\n",
              "            await google.colab.kernel.invokeFunction('convertToInteractive',\n",
              "                                                     [key], {});\n",
              "          if (!dataTable) return;\n",
              "\n",
              "          const docLinkHtml = 'Like what you see? Visit the ' +\n",
              "            '<a target=\"_blank\" href=https://colab.research.google.com/notebooks/data_table.ipynb>data table notebook</a>'\n",
              "            + ' to learn more about interactive tables.';\n",
              "          element.innerHTML = '';\n",
              "          dataTable['output_type'] = 'display_data';\n",
              "          await google.colab.output.renderOutput(dataTable, element);\n",
              "          const docLink = document.createElement('div');\n",
              "          docLink.innerHTML = docLinkHtml;\n",
              "          element.appendChild(docLink);\n",
              "        }\n",
              "      </script>\n",
              "    </div>\n",
              "  </div>\n",
              "  "
            ]
          },
          "metadata": {},
          "execution_count": 22
        }
      ],
      "source": [
        "# Select a category to load\n",
        "pick = input('Pick a category: ')\n",
        "data = input('Original data (o) or new (n): ')\n",
        "index = focus_cats.index(pick)\n",
        "focus_cat = focus_cats[index]\n",
        "\n",
        "if data == 'o':\n",
        "    fn = fns[index]\n",
        "elif data == 'n':\n",
        "    fn = fnt[index]\n",
        "\n",
        "fnf = fnfs[index]\n",
        "\n",
        "# Load the base data\n",
        "df = pd.read_csv(f'08_output/{fn}.csv')\n",
        "df = df[['text', 'category']]\n",
        "\n",
        "# Convert category to binary 1/0\n",
        "# Remeber that 1 is a rule-book hit & not necessarily the 'truth'\n",
        "df['category'] = df['category'].apply(lambda x : x.replace(\"*** Not Classified\", \"0\"))\n",
        "df['category'] = df['category'].apply(lambda x : x.replace(focus_cat, \"1\"))\n",
        "df['category'] = df['category'].astype(int)\n",
        "df"
      ],
      "id": "s6-FR0KPnJDG"
    },
    {
      "cell_type": "markdown",
      "metadata": {
        "id": "gUyNZLehNv0a"
      },
      "source": [
        "Inspired by\n",
        "https://github.com/pashupati98/text-classification"
      ],
      "id": "gUyNZLehNv0a"
    },
    {
      "cell_type": "markdown",
      "metadata": {
        "id": "HLXX3w8aObBF"
      },
      "source": [
        "## Data Preparation"
      ],
      "id": "HLXX3w8aObBF"
    },
    {
      "cell_type": "code",
      "execution_count": null,
      "metadata": {
        "id": "gDT1rbEKNiyJ"
      },
      "outputs": [],
      "source": [
        "STOP_SENTS = ['migrated from legacy cairs', 'migrated from cairs']\n",
        "\n",
        "f = open('01_data/us2gb.json')\n",
        "US2GB = json.load(f)\n",
        "f.close()\n",
        "\n",
        "def remove_stop_sentences(in_doc):\n",
        "    for i, sen in enumerate(STOP_SENTS):\n",
        "        if i==0:\n",
        "            rep_doc = in_doc\n",
        "        else:\n",
        "            rep_doc = out_doc\n",
        "        out_doc = rep_doc.replace(f'{sen}', '') \n",
        "    out_doc = re.sub(' +', ' ', out_doc)    \n",
        "    return(out_doc)\n",
        "\n",
        "def americanize(in_doc):\n",
        "    for american_spelling, british_spelling in US2GB.items(): \n",
        "        in_doc = re.sub(f'(?<![a-zA-Z]){british_spelling}(?![a-z-Z])', american_spelling, in_doc)\n",
        "    return(in_doc)\n",
        "\n",
        "# Main denoising function\n",
        "def denoise_text(txt):\n",
        "    # Strip html if any.\n",
        "    soup = BeautifulSoup(txt, \"html.parser\")\n",
        "    txt = soup.get_text()\n",
        "\n",
        "    # Replace contractions in string of text. For ex. didn't -> did not\n",
        "    txt = contractions.fix(txt)\n",
        "\n",
        "    # Change to lower case\n",
        "    txt = txt.lower()\n",
        "\n",
        "    # Remove any defined stop sentences\n",
        "    txt = remove_stop_sentences(txt)\n",
        "\n",
        "    # Convert British to American spelling\n",
        "    #txt = americanize(txt)\n",
        "    return txt"
      ],
      "id": "gDT1rbEKNiyJ"
    },
    {
      "cell_type": "code",
      "execution_count": null,
      "metadata": {
        "colab": {
          "base_uri": "https://localhost:8080/",
          "height": 37
        },
        "id": "ihAtCnioNisN",
        "outputId": "37c06436-0db0-4a51-c8bb-d80fb17b4357"
      },
      "outputs": [
        {
          "output_type": "execute_result",
          "data": {
            "text/plain": [
              "'she did not tell me anything about what is going to happen in the end but did want to optimise the colours '"
            ],
            "application/vnd.google.colaboratory.intrinsic+json": {
              "type": "string"
            }
          },
          "metadata": {},
          "execution_count": 11
        }
      ],
      "source": [
        "# Test the denoising function\n",
        "chk_text = \"<p>she didn't TELL me anything </br> about what's gonna <html> happen in the end but did want to optimise the colours migrated from cairs\"\n",
        "denoise_text(chk_text)"
      ],
      "id": "ihAtCnioNisN"
    },
    {
      "cell_type": "code",
      "execution_count": null,
      "metadata": {
        "id": "BJ38sct0N0Cd"
      },
      "outputs": [],
      "source": [
        "# Normalization may include everal step\n",
        "# Each function below fulfills a (potential) step in normalization\n",
        "\n",
        "def remove_non_ascii(words):\n",
        "    \"\"\"Remove non-ASCII characters from list of tokenized words\"\"\"\n",
        "    new_words = []\n",
        "    for word in words:\n",
        "        new_word = unicodedata.normalize('NFKD', word).encode('ascii', 'ignore').decode('utf-8', 'ignore')\n",
        "        new_words.append(new_word)\n",
        "    return new_words\n",
        "\n",
        "def to_lowercase(words):\n",
        "    \"\"\"Convert all characters to lowercase from list of tokenized words\"\"\"\n",
        "    new_words = []\n",
        "    for word in words:\n",
        "        new_word = word.lower()\n",
        "        new_words.append(new_word)\n",
        "    return new_words\n",
        "\n",
        "def remove_punctuation(words):\n",
        "    \"\"\"Remove punctuation from list of tokenized words\"\"\"\n",
        "    new_words = []\n",
        "    for word in words:\n",
        "        split_words = word.split('.')\n",
        "        for word in split_words:\n",
        "            new_word = re.sub(r'[^\\w\\s]', '', word)\n",
        "            if new_word != '':\n",
        "                new_words.append(new_word)\n",
        "    return new_words\n",
        "\n",
        "def replace_numbers(words):\n",
        "    \"\"\"Replace all interger occurrences in list of tokenized words with textual representation\"\"\"\n",
        "    p = inflect.engine()\n",
        "    new_words = []\n",
        "    for word in words:\n",
        "        if word.isdigit():\n",
        "            new_word = p.number_to_words(word)\n",
        "            new_words.append(new_word)\n",
        "        else:\n",
        "            new_words.append(word)\n",
        "    return new_words\n",
        "\n",
        "def remove_stopwords(words):\n",
        "    \"\"\"Remove stop words from list of tokenized words\"\"\"\n",
        "    new_words = []\n",
        "    for word in words:\n",
        "        if word not in stopwords.words('english'):\n",
        "            new_words.append(word)\n",
        "    return new_words\n",
        "\n",
        "def stem_words(words):\n",
        "    \"\"\"Stem words in list of tokenized words\"\"\"\n",
        "    stemmer = LancasterStemmer()\n",
        "    stems = []\n",
        "    for word in words:\n",
        "        stem = stemmer.stem(word)\n",
        "        stems.append(stem)\n",
        "    return stems\n",
        "\n",
        "def lemmatize_verbs(words):\n",
        "    \"\"\"Lemmatize verbs in list of tokenized words\"\"\"\n",
        "    lemmatizer = WordNetLemmatizer()\n",
        "    lemmas = []\n",
        "    for word in words:\n",
        "        lemma = lemmatizer.lemmatize(word, pos='v')\n",
        "        lemmas.append(lemma)\n",
        "    return lemmas\n",
        "\n",
        "# Define the normalization pipeline\n",
        "# Comment out steps not used\n",
        "def normalize_text(words, lema=False, stem=False, stop=False):\n",
        "    words = remove_non_ascii(words)\n",
        "    words = to_lowercase(words)\n",
        "    words = remove_punctuation(words)\n",
        "    words = replace_numbers(words)\n",
        "    # TODO - Experiment with the below options\n",
        "    # Inuitively, stopwords should not be removed as they may impact\n",
        "    # semantic meaning.\n",
        "    if stop: words = remove_stopwords(words) \n",
        "    if stem: words = stem_words(words)\n",
        "    if lema: words = lemmatize_verbs(words)\n",
        "    \n",
        "    return words\n"
      ],
      "id": "BJ38sct0N0Cd"
    },
    {
      "cell_type": "code",
      "execution_count": null,
      "metadata": {
        "colab": {
          "base_uri": "https://localhost:8080/"
        },
        "id": "4SdKlQKZNz-R",
        "outputId": "b6855500-de94-4e5d-9736-16abeb768db2"
      },
      "outputs": [
        {
          "output_type": "stream",
          "name": "stdout",
          "text": [
            "Remove non_ascii:  ['h', '', '', '1']\n",
            "To lowercase:  ['hello', 'hidden', 'want', 'going']\n",
            "Remove punctuation:  ['hello', 'how', 'done', 'hello', 'you', 'You my friend', 'Are a fool']\n",
            "Replace numbers:  ['one', 'two', 'three']\n",
            "Remove stopwords:  ['amazing', 'yes']\n",
            "Stem words:  ['beauty', 'fly', 'wait']\n",
            "Lemmatize verbs:  ['hide', 'walk', 'run']\n",
            "Normalize text:  ['hidden', 'in', 'the', 'almirah', 'he', 'waited', 'two', 'hours']\n"
          ]
        }
      ],
      "source": [
        "# Let's test the individual normalization functions\n",
        "print(\"Remove non_ascii: \", remove_non_ascii(['h', 'ॐ', '©', '1']))\n",
        "print(\"To lowercase: \", to_lowercase(['HELLO', 'hiDDen', 'wanT', 'GOING']))\n",
        "print(\"Remove punctuation: \", remove_punctuation(['hello!!', 'how?', 'done,', 'hello.you', 'You my friend.Are a fool.']))\n",
        "print(\"Replace numbers: \", replace_numbers(['1', '2', '3']))\n",
        "print(\"Remove stopwords: \", remove_stopwords(['this', 'and', 'amazing', 'not', 'no', 'yes']))\n",
        "print(\"Stem words: \", stem_words(['beautiful', 'flying', 'waited']))\n",
        "print(\"Lemmatize verbs: \", lemmatize_verbs(['hidden', 'walking', 'ran']))\n",
        "\n",
        "# Now apply the pipeline (on a test)\n",
        "print(\"Normalize text: \", normalize_text(['hidden', 'in', 'the', 'ALMIRAH', 'he', 'WAited', '2', 'ॐ', 'hours!!']))"
      ],
      "id": "4SdKlQKZNz-R"
    },
    {
      "cell_type": "code",
      "execution_count": null,
      "metadata": {
        "colab": {
          "base_uri": "https://localhost:8080/"
        },
        "id": "CQ-X5yVON5IY",
        "outputId": "a8a28813-407e-431d-9d14-157e589ee0b4"
      },
      "outputs": [
        {
          "output_type": "stream",
          "name": "stdout",
          "text": [
            "tokenize results : ['he', 'did', 'not', 'say', 'anything', 'about', 'what', 'is', 'going', 'to', 'happen']\n"
          ]
        }
      ],
      "source": [
        "# Tokenize text into words\n",
        "def simple_tokenize(text):\n",
        "    return nltk.word_tokenize(text)\n",
        "\n",
        "# Check the function\n",
        "sample_text = 'he did not say anything  about what is going to  happen'\n",
        "print(\"tokenize results :\", simple_tokenize(sample_text))"
      ],
      "id": "CQ-X5yVON5IY"
    },
    {
      "cell_type": "code",
      "execution_count": null,
      "metadata": {
        "id": "ZIYcY1g3N4_L"
      },
      "outputs": [],
      "source": [
        "# Now create a simple function to denoise, normalize and apply simple tokeniser to text\n",
        "def text_prepare(text):\n",
        "    text = denoise_text(text)\n",
        "    text = ' '.join([x for x in normalize_text(simple_tokenize(text))])\n",
        "    return text"
      ],
      "id": "ZIYcY1g3N4_L"
    },
    {
      "cell_type": "code",
      "execution_count": null,
      "metadata": {
        "colab": {
          "base_uri": "https://localhost:8080/",
          "height": 37
        },
        "id": "bKelUWN5N9Qm",
        "outputId": "92395872-3deb-4b4e-abd2-fe560473b4d3"
      },
      "outputs": [
        {
          "output_type": "execute_result",
          "data": {
            "text/plain": [
              "'i am not going to go to the shop to visualise'"
            ],
            "application/vnd.google.colaboratory.intrinsic+json": {
              "type": "string"
            }
          },
          "metadata": {},
          "execution_count": 16
        }
      ],
      "source": [
        "re.sub(\" s \", \" \", text_prepare(\"I am not gonna go to the shop's to visualise\"))"
      ],
      "id": "bKelUWN5N9Qm"
    },
    {
      "cell_type": "code",
      "execution_count": null,
      "metadata": {
        "colab": {
          "base_uri": "https://localhost:8080/",
          "height": 238
        },
        "id": "bCgO7iCRN9Je",
        "outputId": "e9069352-2b79-4ba7-bddf-fab46fb8977d"
      },
      "outputs": [
        {
          "output_type": "stream",
          "name": "stderr",
          "text": [
            "100%|██████████| 2429/2429 [00:03<00:00, 809.25it/s]"
          ]
        },
        {
          "output_type": "stream",
          "name": "stdout",
          "text": [
            "Done!\n"
          ]
        },
        {
          "output_type": "stream",
          "name": "stderr",
          "text": [
            "\n"
          ]
        },
        {
          "output_type": "execute_result",
          "data": {
            "text/plain": [
              "                                                text  category\n",
              "0  person tested positive to covid nineteen in ca...         0\n",
              "1  scaffolder struck thumb with hammer causing mi...         0\n",
              "2  ip reported eye irritation whilst working on t...         0\n",
              "3  wood employee tested antigen rapid test art po...         0\n",
              "4  one one massy wood employee tested positive fo...         0"
            ],
            "text/html": [
              "\n",
              "  <div id=\"df-60782d28-00ca-45cb-8b8b-afb587ba99c4\">\n",
              "    <div class=\"colab-df-container\">\n",
              "      <div>\n",
              "<style scoped>\n",
              "    .dataframe tbody tr th:only-of-type {\n",
              "        vertical-align: middle;\n",
              "    }\n",
              "\n",
              "    .dataframe tbody tr th {\n",
              "        vertical-align: top;\n",
              "    }\n",
              "\n",
              "    .dataframe thead th {\n",
              "        text-align: right;\n",
              "    }\n",
              "</style>\n",
              "<table border=\"1\" class=\"dataframe\">\n",
              "  <thead>\n",
              "    <tr style=\"text-align: right;\">\n",
              "      <th></th>\n",
              "      <th>text</th>\n",
              "      <th>category</th>\n",
              "    </tr>\n",
              "  </thead>\n",
              "  <tbody>\n",
              "    <tr>\n",
              "      <th>0</th>\n",
              "      <td>person tested positive to covid nineteen in ca...</td>\n",
              "      <td>0</td>\n",
              "    </tr>\n",
              "    <tr>\n",
              "      <th>1</th>\n",
              "      <td>scaffolder struck thumb with hammer causing mi...</td>\n",
              "      <td>0</td>\n",
              "    </tr>\n",
              "    <tr>\n",
              "      <th>2</th>\n",
              "      <td>ip reported eye irritation whilst working on t...</td>\n",
              "      <td>0</td>\n",
              "    </tr>\n",
              "    <tr>\n",
              "      <th>3</th>\n",
              "      <td>wood employee tested antigen rapid test art po...</td>\n",
              "      <td>0</td>\n",
              "    </tr>\n",
              "    <tr>\n",
              "      <th>4</th>\n",
              "      <td>one one massy wood employee tested positive fo...</td>\n",
              "      <td>0</td>\n",
              "    </tr>\n",
              "  </tbody>\n",
              "</table>\n",
              "</div>\n",
              "      <button class=\"colab-df-convert\" onclick=\"convertToInteractive('df-60782d28-00ca-45cb-8b8b-afb587ba99c4')\"\n",
              "              title=\"Convert this dataframe to an interactive table.\"\n",
              "              style=\"display:none;\">\n",
              "        \n",
              "  <svg xmlns=\"http://www.w3.org/2000/svg\" height=\"24px\"viewBox=\"0 0 24 24\"\n",
              "       width=\"24px\">\n",
              "    <path d=\"M0 0h24v24H0V0z\" fill=\"none\"/>\n",
              "    <path d=\"M18.56 5.44l.94 2.06.94-2.06 2.06-.94-2.06-.94-.94-2.06-.94 2.06-2.06.94zm-11 1L8.5 8.5l.94-2.06 2.06-.94-2.06-.94L8.5 2.5l-.94 2.06-2.06.94zm10 10l.94 2.06.94-2.06 2.06-.94-2.06-.94-.94-2.06-.94 2.06-2.06.94z\"/><path d=\"M17.41 7.96l-1.37-1.37c-.4-.4-.92-.59-1.43-.59-.52 0-1.04.2-1.43.59L10.3 9.45l-7.72 7.72c-.78.78-.78 2.05 0 2.83L4 21.41c.39.39.9.59 1.41.59.51 0 1.02-.2 1.41-.59l7.78-7.78 2.81-2.81c.8-.78.8-2.07 0-2.86zM5.41 20L4 18.59l7.72-7.72 1.47 1.35L5.41 20z\"/>\n",
              "  </svg>\n",
              "      </button>\n",
              "      \n",
              "  <style>\n",
              "    .colab-df-container {\n",
              "      display:flex;\n",
              "      flex-wrap:wrap;\n",
              "      gap: 12px;\n",
              "    }\n",
              "\n",
              "    .colab-df-convert {\n",
              "      background-color: #E8F0FE;\n",
              "      border: none;\n",
              "      border-radius: 50%;\n",
              "      cursor: pointer;\n",
              "      display: none;\n",
              "      fill: #1967D2;\n",
              "      height: 32px;\n",
              "      padding: 0 0 0 0;\n",
              "      width: 32px;\n",
              "    }\n",
              "\n",
              "    .colab-df-convert:hover {\n",
              "      background-color: #E2EBFA;\n",
              "      box-shadow: 0px 1px 2px rgba(60, 64, 67, 0.3), 0px 1px 3px 1px rgba(60, 64, 67, 0.15);\n",
              "      fill: #174EA6;\n",
              "    }\n",
              "\n",
              "    [theme=dark] .colab-df-convert {\n",
              "      background-color: #3B4455;\n",
              "      fill: #D2E3FC;\n",
              "    }\n",
              "\n",
              "    [theme=dark] .colab-df-convert:hover {\n",
              "      background-color: #434B5C;\n",
              "      box-shadow: 0px 1px 3px 1px rgba(0, 0, 0, 0.15);\n",
              "      filter: drop-shadow(0px 1px 2px rgba(0, 0, 0, 0.3));\n",
              "      fill: #FFFFFF;\n",
              "    }\n",
              "  </style>\n",
              "\n",
              "      <script>\n",
              "        const buttonEl =\n",
              "          document.querySelector('#df-60782d28-00ca-45cb-8b8b-afb587ba99c4 button.colab-df-convert');\n",
              "        buttonEl.style.display =\n",
              "          google.colab.kernel.accessAllowed ? 'block' : 'none';\n",
              "\n",
              "        async function convertToInteractive(key) {\n",
              "          const element = document.querySelector('#df-60782d28-00ca-45cb-8b8b-afb587ba99c4');\n",
              "          const dataTable =\n",
              "            await google.colab.kernel.invokeFunction('convertToInteractive',\n",
              "                                                     [key], {});\n",
              "          if (!dataTable) return;\n",
              "\n",
              "          const docLinkHtml = 'Like what you see? Visit the ' +\n",
              "            '<a target=\"_blank\" href=https://colab.research.google.com/notebooks/data_table.ipynb>data table notebook</a>'\n",
              "            + ' to learn more about interactive tables.';\n",
              "          element.innerHTML = '';\n",
              "          dataTable['output_type'] = 'display_data';\n",
              "          await google.colab.output.renderOutput(dataTable, element);\n",
              "          const docLink = document.createElement('div');\n",
              "          docLink.innerHTML = docLinkHtml;\n",
              "          element.appendChild(docLink);\n",
              "        }\n",
              "      </script>\n",
              "    </div>\n",
              "  </div>\n",
              "  "
            ]
          },
          "metadata": {},
          "execution_count": 24
        }
      ],
      "source": [
        "# Now apply the main text prep pipeline to all text:\n",
        "# Takes about 5 mins to run on Google CoLab\n",
        "df['text'] = [text_prepare(x) for x in tqdm(df['text'])]\n",
        "\n",
        "# Clean up on category encoding\n",
        "le = LabelEncoder()\n",
        "df['category'] = le.fit_transform(df['category'])\n",
        "print('Done!')\n",
        "df.head()"
      ],
      "id": "bCgO7iCRN9Je"
    },
    {
      "cell_type": "code",
      "execution_count": null,
      "metadata": {
        "colab": {
          "base_uri": "https://localhost:8080/",
          "height": 204
        },
        "id": "Zu7qK7meN9BM",
        "outputId": "987e3c12-59c5-4e71-b82d-4c698c649a01"
      },
      "outputs": [
        {
          "output_type": "execute_result",
          "data": {
            "text/plain": [
              "                                                text  category\n",
              "0  person tested positive to covid nineteen in ca...         0\n",
              "1  scaffolder struck thumb with hammer causing mi...         0\n",
              "2  ip reported eye irritation whilst working on t...         0\n",
              "3  wood employee tested antigen rapid test art po...         0\n",
              "4  one one massy wood employee tested positive fo...         0"
            ],
            "text/html": [
              "\n",
              "  <div id=\"df-d28614b1-d0ae-4b17-a9bb-72b16978ee87\">\n",
              "    <div class=\"colab-df-container\">\n",
              "      <div>\n",
              "<style scoped>\n",
              "    .dataframe tbody tr th:only-of-type {\n",
              "        vertical-align: middle;\n",
              "    }\n",
              "\n",
              "    .dataframe tbody tr th {\n",
              "        vertical-align: top;\n",
              "    }\n",
              "\n",
              "    .dataframe thead th {\n",
              "        text-align: right;\n",
              "    }\n",
              "</style>\n",
              "<table border=\"1\" class=\"dataframe\">\n",
              "  <thead>\n",
              "    <tr style=\"text-align: right;\">\n",
              "      <th></th>\n",
              "      <th>text</th>\n",
              "      <th>category</th>\n",
              "    </tr>\n",
              "  </thead>\n",
              "  <tbody>\n",
              "    <tr>\n",
              "      <th>0</th>\n",
              "      <td>person tested positive to covid nineteen in ca...</td>\n",
              "      <td>0</td>\n",
              "    </tr>\n",
              "    <tr>\n",
              "      <th>1</th>\n",
              "      <td>scaffolder struck thumb with hammer causing mi...</td>\n",
              "      <td>0</td>\n",
              "    </tr>\n",
              "    <tr>\n",
              "      <th>2</th>\n",
              "      <td>ip reported eye irritation whilst working on t...</td>\n",
              "      <td>0</td>\n",
              "    </tr>\n",
              "    <tr>\n",
              "      <th>3</th>\n",
              "      <td>wood employee tested antigen rapid test art po...</td>\n",
              "      <td>0</td>\n",
              "    </tr>\n",
              "    <tr>\n",
              "      <th>4</th>\n",
              "      <td>one one massy wood employee tested positive fo...</td>\n",
              "      <td>0</td>\n",
              "    </tr>\n",
              "  </tbody>\n",
              "</table>\n",
              "</div>\n",
              "      <button class=\"colab-df-convert\" onclick=\"convertToInteractive('df-d28614b1-d0ae-4b17-a9bb-72b16978ee87')\"\n",
              "              title=\"Convert this dataframe to an interactive table.\"\n",
              "              style=\"display:none;\">\n",
              "        \n",
              "  <svg xmlns=\"http://www.w3.org/2000/svg\" height=\"24px\"viewBox=\"0 0 24 24\"\n",
              "       width=\"24px\">\n",
              "    <path d=\"M0 0h24v24H0V0z\" fill=\"none\"/>\n",
              "    <path d=\"M18.56 5.44l.94 2.06.94-2.06 2.06-.94-2.06-.94-.94-2.06-.94 2.06-2.06.94zm-11 1L8.5 8.5l.94-2.06 2.06-.94-2.06-.94L8.5 2.5l-.94 2.06-2.06.94zm10 10l.94 2.06.94-2.06 2.06-.94-2.06-.94-.94-2.06-.94 2.06-2.06.94z\"/><path d=\"M17.41 7.96l-1.37-1.37c-.4-.4-.92-.59-1.43-.59-.52 0-1.04.2-1.43.59L10.3 9.45l-7.72 7.72c-.78.78-.78 2.05 0 2.83L4 21.41c.39.39.9.59 1.41.59.51 0 1.02-.2 1.41-.59l7.78-7.78 2.81-2.81c.8-.78.8-2.07 0-2.86zM5.41 20L4 18.59l7.72-7.72 1.47 1.35L5.41 20z\"/>\n",
              "  </svg>\n",
              "      </button>\n",
              "      \n",
              "  <style>\n",
              "    .colab-df-container {\n",
              "      display:flex;\n",
              "      flex-wrap:wrap;\n",
              "      gap: 12px;\n",
              "    }\n",
              "\n",
              "    .colab-df-convert {\n",
              "      background-color: #E8F0FE;\n",
              "      border: none;\n",
              "      border-radius: 50%;\n",
              "      cursor: pointer;\n",
              "      display: none;\n",
              "      fill: #1967D2;\n",
              "      height: 32px;\n",
              "      padding: 0 0 0 0;\n",
              "      width: 32px;\n",
              "    }\n",
              "\n",
              "    .colab-df-convert:hover {\n",
              "      background-color: #E2EBFA;\n",
              "      box-shadow: 0px 1px 2px rgba(60, 64, 67, 0.3), 0px 1px 3px 1px rgba(60, 64, 67, 0.15);\n",
              "      fill: #174EA6;\n",
              "    }\n",
              "\n",
              "    [theme=dark] .colab-df-convert {\n",
              "      background-color: #3B4455;\n",
              "      fill: #D2E3FC;\n",
              "    }\n",
              "\n",
              "    [theme=dark] .colab-df-convert:hover {\n",
              "      background-color: #434B5C;\n",
              "      box-shadow: 0px 1px 3px 1px rgba(0, 0, 0, 0.15);\n",
              "      filter: drop-shadow(0px 1px 2px rgba(0, 0, 0, 0.3));\n",
              "      fill: #FFFFFF;\n",
              "    }\n",
              "  </style>\n",
              "\n",
              "      <script>\n",
              "        const buttonEl =\n",
              "          document.querySelector('#df-d28614b1-d0ae-4b17-a9bb-72b16978ee87 button.colab-df-convert');\n",
              "        buttonEl.style.display =\n",
              "          google.colab.kernel.accessAllowed ? 'block' : 'none';\n",
              "\n",
              "        async function convertToInteractive(key) {\n",
              "          const element = document.querySelector('#df-d28614b1-d0ae-4b17-a9bb-72b16978ee87');\n",
              "          const dataTable =\n",
              "            await google.colab.kernel.invokeFunction('convertToInteractive',\n",
              "                                                     [key], {});\n",
              "          if (!dataTable) return;\n",
              "\n",
              "          const docLinkHtml = 'Like what you see? Visit the ' +\n",
              "            '<a target=\"_blank\" href=https://colab.research.google.com/notebooks/data_table.ipynb>data table notebook</a>'\n",
              "            + ' to learn more about interactive tables.';\n",
              "          element.innerHTML = '';\n",
              "          dataTable['output_type'] = 'display_data';\n",
              "          await google.colab.output.renderOutput(dataTable, element);\n",
              "          const docLink = document.createElement('div');\n",
              "          docLink.innerHTML = docLinkHtml;\n",
              "          element.appendChild(docLink);\n",
              "        }\n",
              "      </script>\n",
              "    </div>\n",
              "  </div>\n",
              "  "
            ]
          },
          "metadata": {},
          "execution_count": 25
        }
      ],
      "source": [
        "df['text'] = df['text'].apply(lambda x: re.sub(' s ', ' ', x))\n",
        "df.head()"
      ],
      "id": "Zu7qK7meN9BM"
    },
    {
      "cell_type": "code",
      "execution_count": null,
      "metadata": {
        "colab": {
          "base_uri": "https://localhost:8080/",
          "height": 832
        },
        "id": "T2hPCTnar036",
        "outputId": "f43d7103-0c6f-4074-99d8-cfd670969e94"
      },
      "outputs": [
        {
          "output_type": "display_data",
          "data": {
            "text/plain": [
              "<IPython.core.display.HTML object>"
            ],
            "text/html": [
              "<table border=\"1\" class=\"dataframe\">\n",
              "  <thead>\n",
              "    <tr style=\"text-align: right;\">\n",
              "      <th></th>\n",
              "      <th>text</th>\n",
              "      <th>category</th>\n",
              "    </tr>\n",
              "  </thead>\n",
              "  <tbody>\n",
              "    <tr>\n",
              "      <th>100</th>\n",
              "      <td>during mechanical excavation for the installation of the vdrain at the igf area the skid steer damaged the plastic cover of a cable on the day of the incident a skid steer was busy with mechanical excavation for the vdrain in the cpf igf area the area had been cleared for mechanical excavation and an excavation permit was available the cable in question is for an old street light circuit and was identified by the work crew the work crew assumed that the cable was running all the way along the pipe rack and proceeded with the excavation as planned the cable was exposed for about two meters and then deviated in the area where it was damaged to the inside path of the excavation the operator of the skid steer placed the bucket and was stopped by the spotter when he saw the cable the plastic cover was damaged but no damage occurred to the armoring of the cable the area was made safe damage was assessed by the client electrical team the following day and classified as minorlight circuit was disconnected as it is no longer in use and part of an old installation client and wood project teams were notifiedincident investigation planned for the 01st november two thousand and twenty-two</td>\n",
              "      <td>1</td>\n",
              "    </tr>\n",
              "    <tr>\n",
              "      <th>149</th>\n",
              "      <td>cat seven hundred and seventy-seven haul truck turned front right bumper into rock wall while backing up resulting in bending bumper on october ten two thousand and twenty-two a cat seven hundred and seventy-seven was driving into the dpit dump area to unload the truck entered the pit on the left roadway turned right up a small ramp stopped and backed to the left into the dumping area while negotiating the backward left turn the operator got too close to the wall with the right blind side of the truck the right bumper contacted the wall knocking a large rock out and bending the bumper up the operator did not realize they had struck the wall until the next driver asked about the rock in the roadway they stopped the truck to do an inspection and found the damaged bumper a stop work in the dpit was called and the haul truck was parked to conduct an investigation</td>\n",
              "      <td>1</td>\n",
              "    </tr>\n",
              "    <tr>\n",
              "      <th>190</th>\n",
              "      <td>employees were predrilling holes for piles when a hydraulic hose ruptured causing a fluid spill subcontract employees were predrilling holes for piles when a hydraulic hose ruptured causing a spill the equipment being operated was a comacchio hitech mch drill rig the hydraulic hose had been rubbing on a piece of the equipment frame which caused the rupture the hydraulic leak occurred twenty feet away from personnel working in the area approximately four gallons fifteen fourteen liters of hydraulic fluid leaked onto the ground and was contained with a spill kit both the potential and the actual were selected as a1 as there was no personnel at risk in the incident a spill kit was immediately utilized to prevent the spread of the fluid all contaminated ground was removed and bagged for environmental disposal a service technician onsite removed the damaged hose and capped the connections to prevent further fluid loss an investigation was initiated</td>\n",
              "      <td>1</td>\n",
              "    </tr>\n",
              "    <tr>\n",
              "      <th>291</th>\n",
              "      <td>wood parked vehicle on site was bumped into causing damage to the break light qc inspector had parked near t4228 to complete an inspection with the client the van was parked on a road which is not a through road as one end was blocked off with a barrier there was three other vehicles parked on the same road one was another wood vehicle driven by a wood site supervisor and was parked behind the damaged vehicle one was the standby mans vehicle which was not parked anywhere near the damaged vehicle and the last vehicle was another business partner of essar the qc inspector entered the tank and on return approx twenty minutes later he found the damage on the vehicle reported to the hhse advisor and vehicle returned to workshop to be inspected statement taken from qc inspector</td>\n",
              "      <td>1</td>\n",
              "    </tr>\n",
              "    <tr>\n",
              "      <th>417</th>\n",
              "      <td>worker cut energized electrical cable workers were tasked with identifying and removing obsolete cable from xlr between columns g5 and g6 ground floor workers identified electrical cable to be cut and removed a 3foot section worker one was in the process of identifying the electrical cable intended for additional removal when worker two started cutting into a electrical cable that was not identified for removal and this resulted in cutting into a live six hundred volt electrical cable damage to electrical cable was identified no injuries sustained energized cable isolated area was secured supervision notified cable demolition crew stood down pending investigation statements were obtained and investigation commencedpost incident testing protocol was initiated</td>\n",
              "      <td>1</td>\n",
              "    </tr>\n",
              "    <tr>\n",
              "      <th>448</th>\n",
              "      <td>ampol vehicle found with bonnet damage by dayshift ampol vehicle seven hundred and eighty-six gen was found by dayshift on the morning of the 23rd august with damage to the front of the bonnet investigation has commenced further details provided in due course</td>\n",
              "      <td>1</td>\n",
              "    </tr>\n",
              "    <tr>\n",
              "      <th>752</th>\n",
              "      <td>eispill of approx 150ml of diesel to ground spill of 150ml diesel to ground during breakdown maintenance of a marooka parked on the row electrician was tightening the belt on the alternator when his screwdriver slipped and penetrated the diesel fuel hose spill was cleaned up and contaminated material soil spill mats pads etc was bagged and taken to the designated disposal area at wpa spill kit stock was replenished on site the damaged section of hose was cut away and the hose was refitted with a clamp</td>\n",
              "      <td>1</td>\n",
              "    </tr>\n",
              "    <tr>\n",
              "      <th>1682</th>\n",
              "      <td>scaffolding hit a cable during crane operation during a scaffold dismantling activity above the dcp crane cab the scaffolders noticed one of the planks erected as access for painting activity was slightly damaged due to the crane operation after further investigation it was found that the scaffold planks attached to the hand rails hit the slip ring when the crane rotated slightly damaging the plank and snapping the speaker cable the crane was temporarily placed out of service the crane was temporarily put out of service until the damaged cable was returned back to service</td>\n",
              "      <td>1</td>\n",
              "    </tr>\n",
              "    <tr>\n",
              "      <th>2106</th>\n",
              "      <td>whilst placing an electrical conduit onto gluts the tynes made contact with an electrical cable tray resulting to minor damage while maneuvering the load into position and attempting to land onto a set of gluts the machine tynes have made contact with a length of cable tray installed behind where the bundle was being landed resulting to minor damage into the cable tray a spotter was engaged at the time of the event scene preserved incident reported to supervisor wood hsse representative notified investigation commenced</td>\n",
              "      <td>1</td>\n",
              "    </tr>\n",
              "    <tr>\n",
              "      <th>2196</th>\n",
              "      <td>electrical grid failure which affected the thoroughbred building for nearly two hours prompting evacuation of the building power failed at the thoroughbred building when maintenance looked for the because it was determined that it was a full grid failure from centerpoint in the area centerpoint web site mentioned that power could be restored at around three hundred and forty-five pm following houston campus emergency procedure after forty-five minutes of no power the decision to evacuate the building was taken emergency lights and generator did activate however batteries started to fail after fifteen minutes of use elevators where checked for occupants maintenance staff was posted on staircases to support staff leaving the building as emergency lights started to fail security guards stopped the entrance of visitors and wood personnel where only allowed to enter returning from lunch to pick up there laptops hsse walked each floor requesting personnel to leave verifying that their was no issue</td>\n",
              "      <td>1</td>\n",
              "    </tr>\n",
              "    <tr>\n",
              "      <th>2268</th>\n",
              "      <td>port side crane boom handrail damaged the crane driver was parking the port side crane boom into its rest when the boom handrail came into contact with the wooden rest cushion resulting in damage to the handrail the parking method for the boom is to slew until the limit is reached and then lower the boom into the rest the procedure was carried out as normal but unfortunately the handrail which is bolted onto the side of the boom caught on the wooden rest cushion crane boom secured in cradle incident reported pictures and witness statements taken oie inspected handrail damage and reported findings lead electrical technician inspected crane boom for cable damage no damage reported to the cables for lighting camera and limit switched however cable trays were found to be needing replaced damaged handrail and cable trays safely removed</td>\n",
              "      <td>1</td>\n",
              "    </tr>\n",
              "  </tbody>\n",
              "</table>"
            ]
          },
          "metadata": {}
        }
      ],
      "source": [
        "table = df[df['category']==1]\n",
        "display(HTML(table.to_html()))"
      ],
      "id": "T2hPCTnar036"
    },
    {
      "cell_type": "code",
      "execution_count": null,
      "metadata": {
        "id": "p8RSo3aKNz4n"
      },
      "outputs": [],
      "source": [
        "# Save the prepared dataset\n",
        "filename = f'01_data/prepared/{time.strftime(\"%y%m%d%H%M\")}_prepared_{focus_cat}_data.csv'\n",
        "df.to_csv(filename, index=False)"
      ],
      "id": "p8RSo3aKNz4n"
    },
    {
      "cell_type": "markdown",
      "metadata": {
        "id": "wi1aq9FerFv2"
      },
      "source": [
        "### Fabricated Data Prep - NOTE USED IN FINAL SOLUTION"
      ],
      "id": "wi1aq9FerFv2"
    },
    {
      "cell_type": "code",
      "execution_count": null,
      "metadata": {
        "colab": {
          "base_uri": "https://localhost:8080/",
          "height": 419
        },
        "id": "YVIHciXPrFFu",
        "outputId": "94c2ac0b-56e6-4580-e6f3-c77ef10f4109"
      },
      "outputs": [
        {
          "data": {
            "text/html": [
              "\n",
              "  <div id=\"df-10abd9fb-2542-443a-94d0-15477c1d2cac\">\n",
              "    <div class=\"colab-df-container\">\n",
              "      <div>\n",
              "<style scoped>\n",
              "    .dataframe tbody tr th:only-of-type {\n",
              "        vertical-align: middle;\n",
              "    }\n",
              "\n",
              "    .dataframe tbody tr th {\n",
              "        vertical-align: top;\n",
              "    }\n",
              "\n",
              "    .dataframe thead th {\n",
              "        text-align: right;\n",
              "    }\n",
              "</style>\n",
              "<table border=\"1\" class=\"dataframe\">\n",
              "  <thead>\n",
              "    <tr style=\"text-align: right;\">\n",
              "      <th></th>\n",
              "      <th>text</th>\n",
              "      <th>group</th>\n",
              "    </tr>\n",
              "  </thead>\n",
              "  <tbody>\n",
              "    <tr>\n",
              "      <th>0</th>\n",
              "      <td>there was a leak of oil when hydraulic fluid e...</td>\n",
              "      <td>hydraulic fluid or oil leak</td>\n",
              "    </tr>\n",
              "    <tr>\n",
              "      <th>1</th>\n",
              "      <td>there was a leak from a hose on a pump truck w...</td>\n",
              "      <td>hydraulic fluid or oil leak</td>\n",
              "    </tr>\n",
              "    <tr>\n",
              "      <th>2</th>\n",
              "      <td>there was a leak to grade one hundred and fift...</td>\n",
              "      <td>hydraulic fluid or oil leak</td>\n",
              "    </tr>\n",
              "    <tr>\n",
              "      <th>3</th>\n",
              "      <td>there was a leak of hydraulic fluid from a ren...</td>\n",
              "      <td>hydraulic fluid or oil leak</td>\n",
              "    </tr>\n",
              "    <tr>\n",
              "      <th>4</th>\n",
              "      <td>there was a leak from a jlg cat three thousand...</td>\n",
              "      <td>hydraulic fluid or oil leak</td>\n",
              "    </tr>\n",
              "    <tr>\n",
              "      <th>...</th>\n",
              "      <td>...</td>\n",
              "      <td>...</td>\n",
              "    </tr>\n",
              "    <tr>\n",
              "      <th>7915</th>\n",
              "      <td>oil fluid witnessed falling object resulting i...</td>\n",
              "      <td>hydraulic fluid or oil leak</td>\n",
              "    </tr>\n",
              "    <tr>\n",
              "      <th>7916</th>\n",
              "      <td>oil fluid witnessed on three out of four an em...</td>\n",
              "      <td>hydraulic fluid or oil leak</td>\n",
              "    </tr>\n",
              "    <tr>\n",
              "      <th>7917</th>\n",
              "      <td>oil fluid witnessed nearmisses at separation t...</td>\n",
              "      <td>hydraulic fluid or oil leak</td>\n",
              "    </tr>\n",
              "    <tr>\n",
              "      <th>7918</th>\n",
              "      <td>oil fluid witnessed a hydraulic leak from a na...</td>\n",
              "      <td>hydraulic fluid or oil leak</td>\n",
              "    </tr>\n",
              "    <tr>\n",
              "      <th>7919</th>\n",
              "      <td>oil fluid witnessed or leaked from a rented su...</td>\n",
              "      <td>hydraulic fluid or oil leak</td>\n",
              "    </tr>\n",
              "  </tbody>\n",
              "</table>\n",
              "<p>7920 rows × 2 columns</p>\n",
              "</div>\n",
              "      <button class=\"colab-df-convert\" onclick=\"convertToInteractive('df-10abd9fb-2542-443a-94d0-15477c1d2cac')\"\n",
              "              title=\"Convert this dataframe to an interactive table.\"\n",
              "              style=\"display:none;\">\n",
              "        \n",
              "  <svg xmlns=\"http://www.w3.org/2000/svg\" height=\"24px\"viewBox=\"0 0 24 24\"\n",
              "       width=\"24px\">\n",
              "    <path d=\"M0 0h24v24H0V0z\" fill=\"none\"/>\n",
              "    <path d=\"M18.56 5.44l.94 2.06.94-2.06 2.06-.94-2.06-.94-.94-2.06-.94 2.06-2.06.94zm-11 1L8.5 8.5l.94-2.06 2.06-.94-2.06-.94L8.5 2.5l-.94 2.06-2.06.94zm10 10l.94 2.06.94-2.06 2.06-.94-2.06-.94-.94-2.06-.94 2.06-2.06.94z\"/><path d=\"M17.41 7.96l-1.37-1.37c-.4-.4-.92-.59-1.43-.59-.52 0-1.04.2-1.43.59L10.3 9.45l-7.72 7.72c-.78.78-.78 2.05 0 2.83L4 21.41c.39.39.9.59 1.41.59.51 0 1.02-.2 1.41-.59l7.78-7.78 2.81-2.81c.8-.78.8-2.07 0-2.86zM5.41 20L4 18.59l7.72-7.72 1.47 1.35L5.41 20z\"/>\n",
              "  </svg>\n",
              "      </button>\n",
              "      \n",
              "  <style>\n",
              "    .colab-df-container {\n",
              "      display:flex;\n",
              "      flex-wrap:wrap;\n",
              "      gap: 12px;\n",
              "    }\n",
              "\n",
              "    .colab-df-convert {\n",
              "      background-color: #E8F0FE;\n",
              "      border: none;\n",
              "      border-radius: 50%;\n",
              "      cursor: pointer;\n",
              "      display: none;\n",
              "      fill: #1967D2;\n",
              "      height: 32px;\n",
              "      padding: 0 0 0 0;\n",
              "      width: 32px;\n",
              "    }\n",
              "\n",
              "    .colab-df-convert:hover {\n",
              "      background-color: #E2EBFA;\n",
              "      box-shadow: 0px 1px 2px rgba(60, 64, 67, 0.3), 0px 1px 3px 1px rgba(60, 64, 67, 0.15);\n",
              "      fill: #174EA6;\n",
              "    }\n",
              "\n",
              "    [theme=dark] .colab-df-convert {\n",
              "      background-color: #3B4455;\n",
              "      fill: #D2E3FC;\n",
              "    }\n",
              "\n",
              "    [theme=dark] .colab-df-convert:hover {\n",
              "      background-color: #434B5C;\n",
              "      box-shadow: 0px 1px 3px 1px rgba(0, 0, 0, 0.15);\n",
              "      filter: drop-shadow(0px 1px 2px rgba(0, 0, 0, 0.3));\n",
              "      fill: #FFFFFF;\n",
              "    }\n",
              "  </style>\n",
              "\n",
              "      <script>\n",
              "        const buttonEl =\n",
              "          document.querySelector('#df-10abd9fb-2542-443a-94d0-15477c1d2cac button.colab-df-convert');\n",
              "        buttonEl.style.display =\n",
              "          google.colab.kernel.accessAllowed ? 'block' : 'none';\n",
              "\n",
              "        async function convertToInteractive(key) {\n",
              "          const element = document.querySelector('#df-10abd9fb-2542-443a-94d0-15477c1d2cac');\n",
              "          const dataTable =\n",
              "            await google.colab.kernel.invokeFunction('convertToInteractive',\n",
              "                                                     [key], {});\n",
              "          if (!dataTable) return;\n",
              "\n",
              "          const docLinkHtml = 'Like what you see? Visit the ' +\n",
              "            '<a target=\"_blank\" href=https://colab.research.google.com/notebooks/data_table.ipynb>data table notebook</a>'\n",
              "            + ' to learn more about interactive tables.';\n",
              "          element.innerHTML = '';\n",
              "          dataTable['output_type'] = 'display_data';\n",
              "          await google.colab.output.renderOutput(dataTable, element);\n",
              "          const docLink = document.createElement('div');\n",
              "          docLink.innerHTML = docLinkHtml;\n",
              "          element.appendChild(docLink);\n",
              "        }\n",
              "      </script>\n",
              "    </div>\n",
              "  </div>\n",
              "  "
            ],
            "text/plain": [
              "                                                   text  \\\n",
              "0     there was a leak of oil when hydraulic fluid e...   \n",
              "1     there was a leak from a hose on a pump truck w...   \n",
              "2     there was a leak to grade one hundred and fift...   \n",
              "3     there was a leak of hydraulic fluid from a ren...   \n",
              "4     there was a leak from a jlg cat three thousand...   \n",
              "...                                                 ...   \n",
              "7915  oil fluid witnessed falling object resulting i...   \n",
              "7916  oil fluid witnessed on three out of four an em...   \n",
              "7917  oil fluid witnessed nearmisses at separation t...   \n",
              "7918  oil fluid witnessed a hydraulic leak from a na...   \n",
              "7919  oil fluid witnessed or leaked from a rented su...   \n",
              "\n",
              "                            group  \n",
              "0     hydraulic fluid or oil leak  \n",
              "1     hydraulic fluid or oil leak  \n",
              "2     hydraulic fluid or oil leak  \n",
              "3     hydraulic fluid or oil leak  \n",
              "4     hydraulic fluid or oil leak  \n",
              "...                           ...  \n",
              "7915  hydraulic fluid or oil leak  \n",
              "7916  hydraulic fluid or oil leak  \n",
              "7917  hydraulic fluid or oil leak  \n",
              "7918  hydraulic fluid or oil leak  \n",
              "7919  hydraulic fluid or oil leak  \n",
              "\n",
              "[7920 rows x 2 columns]"
            ]
          },
          "execution_count": 17,
          "metadata": {},
          "output_type": "execute_result"
        }
      ],
      "source": [
        "# Load fabricated reports\n",
        "df_fab = pd.read_csv(f'01_data/fabricated/{fnf}.csv')\n",
        "df_fab"
      ],
      "id": "YVIHciXPrFFu"
    },
    {
      "cell_type": "code",
      "execution_count": null,
      "metadata": {
        "colab": {
          "base_uri": "https://localhost:8080/"
        },
        "id": "7vbrLDyzrX73",
        "outputId": "f51feaa7-eb9b-48a1-edec-962069bc8abe"
      },
      "outputs": [
        {
          "name": "stderr",
          "output_type": "stream",
          "text": [
            "100%|██████████| 7920/7920 [00:09<00:00, 846.80it/s]\n"
          ]
        }
      ],
      "source": [
        "df_fab['text'] = [text_prepare(x) for x in tqdm(df_fab['text'])]"
      ],
      "id": "7vbrLDyzrX73"
    },
    {
      "cell_type": "code",
      "execution_count": null,
      "metadata": {
        "colab": {
          "base_uri": "https://localhost:8080/",
          "height": 419
        },
        "id": "6T14OauLr5VJ",
        "outputId": "5a761ba9-82c5-47dd-dcda-39c891b0fe9b"
      },
      "outputs": [
        {
          "data": {
            "text/html": [
              "\n",
              "  <div id=\"df-3e75f291-6829-46c9-972f-082fa477304e\">\n",
              "    <div class=\"colab-df-container\">\n",
              "      <div>\n",
              "<style scoped>\n",
              "    .dataframe tbody tr th:only-of-type {\n",
              "        vertical-align: middle;\n",
              "    }\n",
              "\n",
              "    .dataframe tbody tr th {\n",
              "        vertical-align: top;\n",
              "    }\n",
              "\n",
              "    .dataframe thead th {\n",
              "        text-align: right;\n",
              "    }\n",
              "</style>\n",
              "<table border=\"1\" class=\"dataframe\">\n",
              "  <thead>\n",
              "    <tr style=\"text-align: right;\">\n",
              "      <th></th>\n",
              "      <th>text</th>\n",
              "      <th>group</th>\n",
              "    </tr>\n",
              "  </thead>\n",
              "  <tbody>\n",
              "    <tr>\n",
              "      <th>0</th>\n",
              "      <td>crew noticed drip coming from hose fitting on ...</td>\n",
              "      <td>hydraulic fluid or oil leak</td>\n",
              "    </tr>\n",
              "    <tr>\n",
              "      <th>1</th>\n",
              "      <td>diesel failure on skid steer resulted in 1l of...</td>\n",
              "      <td>hydraulic fluid or oil leak</td>\n",
              "    </tr>\n",
              "    <tr>\n",
              "      <th>2</th>\n",
              "      <td>operative witnessed discharge of hydraulic flu...</td>\n",
              "      <td>hydraulic fluid or oil leak</td>\n",
              "    </tr>\n",
              "    <tr>\n",
              "      <th>3</th>\n",
              "      <td>subcontractor witnessed loss of hydraulic flui...</td>\n",
              "      <td>hydraulic fluid or oil leak</td>\n",
              "    </tr>\n",
              "    <tr>\n",
              "      <th>4</th>\n",
              "      <td>operative discovered leak in hose on roller dr...</td>\n",
              "      <td>hydraulic fluid or oil leak</td>\n",
              "    </tr>\n",
              "    <tr>\n",
              "      <th>...</th>\n",
              "      <td>...</td>\n",
              "      <td>...</td>\n",
              "    </tr>\n",
              "    <tr>\n",
              "      <th>7915</th>\n",
              "      <td>there was a flow of oil from the gully to the ...</td>\n",
              "      <td>hydraulic fluid or oil leak</td>\n",
              "    </tr>\n",
              "    <tr>\n",
              "      <th>7916</th>\n",
              "      <td>hyd fluid failure of excavator hydraulic fitti...</td>\n",
              "      <td>hydraulic fluid or oil leak</td>\n",
              "    </tr>\n",
              "    <tr>\n",
              "      <th>7917</th>\n",
              "      <td>apprentice noticed spillage of hydraulic fluid...</td>\n",
              "      <td>hydraulic fluid or oil leak</td>\n",
              "    </tr>\n",
              "    <tr>\n",
              "      <th>7918</th>\n",
              "      <td>apprentice witnessed drip from a bucket lift i...</td>\n",
              "      <td>hydraulic fluid or oil leak</td>\n",
              "    </tr>\n",
              "    <tr>\n",
              "      <th>7919</th>\n",
              "      <td>subcontractor discovered loss of hydraulic flu...</td>\n",
              "      <td>hydraulic fluid or oil leak</td>\n",
              "    </tr>\n",
              "  </tbody>\n",
              "</table>\n",
              "<p>7920 rows × 2 columns</p>\n",
              "</div>\n",
              "      <button class=\"colab-df-convert\" onclick=\"convertToInteractive('df-3e75f291-6829-46c9-972f-082fa477304e')\"\n",
              "              title=\"Convert this dataframe to an interactive table.\"\n",
              "              style=\"display:none;\">\n",
              "        \n",
              "  <svg xmlns=\"http://www.w3.org/2000/svg\" height=\"24px\"viewBox=\"0 0 24 24\"\n",
              "       width=\"24px\">\n",
              "    <path d=\"M0 0h24v24H0V0z\" fill=\"none\"/>\n",
              "    <path d=\"M18.56 5.44l.94 2.06.94-2.06 2.06-.94-2.06-.94-.94-2.06-.94 2.06-2.06.94zm-11 1L8.5 8.5l.94-2.06 2.06-.94-2.06-.94L8.5 2.5l-.94 2.06-2.06.94zm10 10l.94 2.06.94-2.06 2.06-.94-2.06-.94-.94-2.06-.94 2.06-2.06.94z\"/><path d=\"M17.41 7.96l-1.37-1.37c-.4-.4-.92-.59-1.43-.59-.52 0-1.04.2-1.43.59L10.3 9.45l-7.72 7.72c-.78.78-.78 2.05 0 2.83L4 21.41c.39.39.9.59 1.41.59.51 0 1.02-.2 1.41-.59l7.78-7.78 2.81-2.81c.8-.78.8-2.07 0-2.86zM5.41 20L4 18.59l7.72-7.72 1.47 1.35L5.41 20z\"/>\n",
              "  </svg>\n",
              "      </button>\n",
              "      \n",
              "  <style>\n",
              "    .colab-df-container {\n",
              "      display:flex;\n",
              "      flex-wrap:wrap;\n",
              "      gap: 12px;\n",
              "    }\n",
              "\n",
              "    .colab-df-convert {\n",
              "      background-color: #E8F0FE;\n",
              "      border: none;\n",
              "      border-radius: 50%;\n",
              "      cursor: pointer;\n",
              "      display: none;\n",
              "      fill: #1967D2;\n",
              "      height: 32px;\n",
              "      padding: 0 0 0 0;\n",
              "      width: 32px;\n",
              "    }\n",
              "\n",
              "    .colab-df-convert:hover {\n",
              "      background-color: #E2EBFA;\n",
              "      box-shadow: 0px 1px 2px rgba(60, 64, 67, 0.3), 0px 1px 3px 1px rgba(60, 64, 67, 0.15);\n",
              "      fill: #174EA6;\n",
              "    }\n",
              "\n",
              "    [theme=dark] .colab-df-convert {\n",
              "      background-color: #3B4455;\n",
              "      fill: #D2E3FC;\n",
              "    }\n",
              "\n",
              "    [theme=dark] .colab-df-convert:hover {\n",
              "      background-color: #434B5C;\n",
              "      box-shadow: 0px 1px 3px 1px rgba(0, 0, 0, 0.15);\n",
              "      filter: drop-shadow(0px 1px 2px rgba(0, 0, 0, 0.3));\n",
              "      fill: #FFFFFF;\n",
              "    }\n",
              "  </style>\n",
              "\n",
              "      <script>\n",
              "        const buttonEl =\n",
              "          document.querySelector('#df-3e75f291-6829-46c9-972f-082fa477304e button.colab-df-convert');\n",
              "        buttonEl.style.display =\n",
              "          google.colab.kernel.accessAllowed ? 'block' : 'none';\n",
              "\n",
              "        async function convertToInteractive(key) {\n",
              "          const element = document.querySelector('#df-3e75f291-6829-46c9-972f-082fa477304e');\n",
              "          const dataTable =\n",
              "            await google.colab.kernel.invokeFunction('convertToInteractive',\n",
              "                                                     [key], {});\n",
              "          if (!dataTable) return;\n",
              "\n",
              "          const docLinkHtml = 'Like what you see? Visit the ' +\n",
              "            '<a target=\"_blank\" href=https://colab.research.google.com/notebooks/data_table.ipynb>data table notebook</a>'\n",
              "            + ' to learn more about interactive tables.';\n",
              "          element.innerHTML = '';\n",
              "          dataTable['output_type'] = 'display_data';\n",
              "          await google.colab.output.renderOutput(dataTable, element);\n",
              "          const docLink = document.createElement('div');\n",
              "          docLink.innerHTML = docLinkHtml;\n",
              "          element.appendChild(docLink);\n",
              "        }\n",
              "      </script>\n",
              "    </div>\n",
              "  </div>\n",
              "  "
            ],
            "text/plain": [
              "                                                   text  \\\n",
              "0     crew noticed drip coming from hose fitting on ...   \n",
              "1     diesel failure on skid steer resulted in 1l of...   \n",
              "2     operative witnessed discharge of hydraulic flu...   \n",
              "3     subcontractor witnessed loss of hydraulic flui...   \n",
              "4     operative discovered leak in hose on roller dr...   \n",
              "...                                                 ...   \n",
              "7915  there was a flow of oil from the gully to the ...   \n",
              "7916  hyd fluid failure of excavator hydraulic fitti...   \n",
              "7917  apprentice noticed spillage of hydraulic fluid...   \n",
              "7918  apprentice witnessed drip from a bucket lift i...   \n",
              "7919  subcontractor discovered loss of hydraulic flu...   \n",
              "\n",
              "                            group  \n",
              "0     hydraulic fluid or oil leak  \n",
              "1     hydraulic fluid or oil leak  \n",
              "2     hydraulic fluid or oil leak  \n",
              "3     hydraulic fluid or oil leak  \n",
              "4     hydraulic fluid or oil leak  \n",
              "...                           ...  \n",
              "7915  hydraulic fluid or oil leak  \n",
              "7916  hydraulic fluid or oil leak  \n",
              "7917  hydraulic fluid or oil leak  \n",
              "7918  hydraulic fluid or oil leak  \n",
              "7919  hydraulic fluid or oil leak  \n",
              "\n",
              "[7920 rows x 2 columns]"
            ]
          },
          "execution_count": 21,
          "metadata": {},
          "output_type": "execute_result"
        }
      ],
      "source": [
        "df_fab = df_fab.sample(frac=1).reset_index(drop=True)\n",
        "df_fab"
      ],
      "id": "6T14OauLr5VJ"
    },
    {
      "cell_type": "code",
      "execution_count": null,
      "metadata": {
        "id": "TNo_16BOsGSE"
      },
      "outputs": [],
      "source": [
        "# Save the prepared fabricated dataset\n",
        "filename = f'01_data/prepared/{time.strftime(\"%y%m%d%H%M\")}_prepared_fabricated_{focus_cat}_data.csv'\n",
        "df_fab.to_csv(filename, index=False)"
      ],
      "id": "TNo_16BOsGSE"
    }
  ],
  "metadata": {
    "colab": {
      "provenance": []
    },
    "kernelspec": {
      "display_name": "Python 3 (ipykernel)",
      "language": "python",
      "name": "python3"
    },
    "language_info": {
      "codemirror_mode": {
        "name": "ipython",
        "version": 3
      },
      "file_extension": ".py",
      "mimetype": "text/x-python",
      "name": "python",
      "nbconvert_exporter": "python",
      "pygments_lexer": "ipython3",
      "version": "3.8.12"
    }
  },
  "nbformat": 4,
  "nbformat_minor": 5
}